{
 "cells": [
  {
   "cell_type": "code",
   "execution_count": 1,
   "id": "foster-writer",
   "metadata": {},
   "outputs": [
    {
     "name": "stdout",
     "output_type": "stream",
     "text": [
      "Using tensorflow: 2.4.1\n"
     ]
    }
   ],
   "source": [
    "import numpy as np\n",
    "import tensorflow as tf\n",
    "from tensorflow import keras\n",
    "import pandas as pd\n",
    "from sklearn.model_selection import train_test_split\n",
    "import numpy as np\n",
    "import datetime\n",
    "from keras.preprocessing.text import Tokenizer\n",
    "from keras.preprocessing.sequence import pad_sequences\n",
    "from keras.layers import Dense, Embedding, LSTM, GRU, SimpleRNN\n",
    "from keras.models import Sequential\n",
    "from IPython.display import Image, display\n",
    "print(\"Using tensorflow:\",tf.__version__)"
   ]
  },
  {
   "cell_type": "code",
   "execution_count": 2,
   "id": "numeric-colon",
   "metadata": {},
   "outputs": [],
   "source": [
    "import wandb\n",
    "from wandb.keras import WandbCallback"
   ]
  },
  {
   "cell_type": "code",
   "execution_count": null,
   "id": "sacred-george",
   "metadata": {},
   "outputs": [],
   "source": [
    "wandb.init(project='Assignment 3', entity='iitm-cs6910-jan-may-2021-cs20m059-cs20m007')\n",
    "wandb.run.name = \"LSTM-Transliteration-\" + datetime.datetime.now().isoformat()\n",
    "wandb.run.save()"
   ]
  },
  {
   "cell_type": "code",
   "execution_count": 3,
   "id": "comparable-arthritis",
   "metadata": {},
   "outputs": [
    {
     "name": "stdout",
     "output_type": "stream",
     "text": [
      "Data Loaded to Dataframes!\n"
     ]
    }
   ],
   "source": [
    "val_df = pd.read_csv(\"./lexicons/hi.translit.sampled.dev.tsv\", sep='\\t', header=None)\n",
    "train_df = pd.read_csv(\"./lexicons/hi.translit.sampled.train.tsv\", sep='\\t', header=None)\n",
    "test_df = pd.read_csv(\"./lexicons/hi.translit.sampled.test.tsv\", sep='\\t', header=None)\n",
    "print(\"Data Loaded to Dataframes!\")"
   ]
  },
  {
   "cell_type": "code",
   "execution_count": 4,
   "id": "collect-flesh",
   "metadata": {},
   "outputs": [],
   "source": [
    "# Process the dataframe to \n",
    "def create_dataset(data_frame):\n",
    "    input_words = []\n",
    "    target_words = []\n",
    "    for x, y in zip(data_frame[1], data_frame[0]):\n",
    "        # Add words to respective lists\n",
    "        input_words.append(\"@\"+str(x)+\"#\")\n",
    "        target_words.append(\"@\"+str(y)+\"#\")\n",
    "    return input_words, target_words"
   ]
  },
  {
   "cell_type": "code",
   "execution_count": 5,
   "id": "respected-average",
   "metadata": {},
   "outputs": [],
   "source": [
    "def tokenize(words):\n",
    "    # Initialize the tokenizer\n",
    "    tokenizer = Tokenizer(num_words=None, char_level=True)\n",
    "    \n",
    "    # Fit on the set of words\n",
    "    tokenizer.fit_on_texts(words)\n",
    "    tensor = tokenizer.texts_to_sequences(words)\n",
    "    \n",
    "    #Pad the smaller words\n",
    "    tensor = pad_sequences(tensor, padding='post')\n",
    "    \n",
    "    # Return the tensor and the tokenizer\n",
    "    return tensor, tokenizer"
   ]
  },
  {
   "cell_type": "code",
   "execution_count": 6,
   "id": "atomic-interface",
   "metadata": {},
   "outputs": [],
   "source": [
    "def load_dataset(data_frame):\n",
    "    input_words, target_words = create_dataset(data_frame)\n",
    "\n",
    "    input_tensor, inp_word_tokenizer = tokenize(input_words)\n",
    "    target_tensor, targ_word_tokenizer = tokenize(target_words)\n",
    "\n",
    "    return input_tensor, target_tensor, inp_word_tokenizer, targ_word_tokenizer"
   ]
  },
  {
   "cell_type": "code",
   "execution_count": 22,
   "id": "brilliant-relaxation",
   "metadata": {},
   "outputs": [
    {
     "name": "stdout",
     "output_type": "stream",
     "text": [
      "Shape of Val input tensor: (4358, 20) | Shape of Val target tensor: (4358, 16)\n",
      "Shape of Train input tensor: (44204, 22) | Shape of Train target tensor: (44204, 21)\n",
      "Shape of Test input tensor: (4502, 18) | Shape of Test target tensor: (4502, 17)\n"
     ]
    }
   ],
   "source": [
    "val_input_tensor, val_target_tensor, val_inp_tk, val_targ_tk = load_dataset(val_df)\n",
    "train_input_tensor, train_target_tensor, train_inp_tk, train_targ_tk = load_dataset(train_df)\n",
    "test_input_tensor, test_target_tensor, test_inp_tk, test_targ_tk = load_dataset(test_df)\n",
    "\n",
    "print(f'Shape of Val input tensor: {np.shape(val_input_tensor)} | Shape of Val target tensor: {np.shape(val_target_tensor)}')\n",
    "print(f'Shape of Train input tensor: {np.shape(train_input_tensor)} | Shape of Train target tensor: {np.shape(train_target_tensor)}')\n",
    "print(f'Shape of Test input tensor: {np.shape(test_input_tensor)} | Shape of Test target tensor: {np.shape(test_target_tensor)}')"
   ]
  },
  {
   "cell_type": "code",
   "execution_count": 26,
   "id": "intended-russian",
   "metadata": {},
   "outputs": [],
   "source": [
    "def convert(tk, tensor):\n",
    "    for t in tensor:\n",
    "        if t != 0:\n",
    "            print(f'{t} ----> {tk.index_word[t]}')"
   ]
  },
  {
   "cell_type": "code",
   "execution_count": null,
   "id": "greatest-switzerland",
   "metadata": {},
   "outputs": [],
   "source": []
  },
  {
   "cell_type": "code",
   "execution_count": null,
   "id": "macro-blues",
   "metadata": {},
   "outputs": [],
   "source": []
  }
 ],
 "metadata": {
  "kernelspec": {
   "display_name": "Python 3",
   "language": "python",
   "name": "python3"
  },
  "language_info": {
   "codemirror_mode": {
    "name": "ipython",
    "version": 3
   },
   "file_extension": ".py",
   "mimetype": "text/x-python",
   "name": "python",
   "nbconvert_exporter": "python",
   "pygments_lexer": "ipython3",
   "version": "3.8.8"
  }
 },
 "nbformat": 4,
 "nbformat_minor": 5
}
