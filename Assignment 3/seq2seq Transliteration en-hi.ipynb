{
 "cells": [
  {
   "cell_type": "code",
   "execution_count": 50,
   "id": "specified-housing",
   "metadata": {},
   "outputs": [
    {
     "name": "stdout",
     "output_type": "stream",
     "text": [
      "Using tensorflow: 2.4.1\n"
     ]
    }
   ],
   "source": [
    "import numpy as np\n",
    "import tensorflow as tf\n",
    "from tensorflow import keras\n",
    "import pandas as pd\n",
    "import numpy as np\n",
    "import datetime\n",
    "from keras.preprocessing.text import Tokenizer\n",
    "from keras.preprocessing.sequence import pad_sequences\n",
    "from keras.layers import Dense, Embedding, LSTM, GRU, SimpleRNN\n",
    "from keras.models import Sequential\n",
    "print(\"Using tensorflow:\",tf.__version__)"
   ]
  },
  {
   "cell_type": "code",
   "execution_count": 2,
   "id": "transparent-excerpt",
   "metadata": {},
   "outputs": [],
   "source": [
    "# import wandb\n",
    "# from wandb.keras import WandbCallback"
   ]
  },
  {
   "cell_type": "code",
   "execution_count": 3,
   "id": "appreciated-hammer",
   "metadata": {},
   "outputs": [],
   "source": [
    "# wandb.init(project='Assignment 3', entity='iitm-cs6910-jan-may-2021-cs20m059-cs20m007')\n",
    "# wandb.run.name = \"LSTM-Transliteration-\" + datetime.datetime.now().isoformat()\n",
    "# wandb.run.save()"
   ]
  },
  {
   "cell_type": "markdown",
   "id": "endangered-sitting",
   "metadata": {},
   "source": [
    "## Prepare and load Data"
   ]
  },
  {
   "cell_type": "code",
   "execution_count": 4,
   "id": "primary-romania",
   "metadata": {},
   "outputs": [
    {
     "name": "stdout",
     "output_type": "stream",
     "text": [
      "Data Loaded to Dataframes!\n"
     ]
    }
   ],
   "source": [
    "val_df = pd.read_csv(\"./lexicons/hi.translit.sampled.dev.tsv\", sep='\\t', header=None)\n",
    "train_df = pd.read_csv(\"./lexicons/hi.translit.sampled.train.tsv\", sep='\\t', header=None)\n",
    "test_df = pd.read_csv(\"./lexicons/hi.translit.sampled.test.tsv\", sep='\\t', header=None)\n",
    "print(\"Data Loaded to Dataframes!\")"
   ]
  },
  {
   "cell_type": "code",
   "execution_count": 12,
   "id": "liberal-drain",
   "metadata": {},
   "outputs": [],
   "source": [
    "class LexDataset:\n",
    "    def __init__(self, input_tensor, target_tensor, inp_word_tokenizer, targ_word_tokenizer):\n",
    "        self.input_tensor = input_tensor\n",
    "        self.target_tensor = target_tensor\n",
    "        self.inp_word_tokenizer = inp_word_tokenizer\n",
    "        self.targ_word_tokenizer = targ_word_tokenizer"
   ]
  },
  {
   "cell_type": "code",
   "execution_count": 5,
   "id": "diverse-washer",
   "metadata": {},
   "outputs": [],
   "source": [
    "# Process the dataframe to \n",
    "def create_dataset(data_frame):\n",
    "    input_words = []\n",
    "    target_words = []\n",
    "    for x, y in zip(data_frame[1], data_frame[0]):\n",
    "        # Add words to respective lists\n",
    "        input_words.append(\"@\"+str(x)+\"#\")\n",
    "        target_words.append(\"@\"+str(y)+\"#\")\n",
    "    return input_words, target_words"
   ]
  },
  {
   "cell_type": "code",
   "execution_count": 6,
   "id": "rubber-spiritual",
   "metadata": {},
   "outputs": [],
   "source": [
    "def tokenize(words, tokenizer):\n",
    "    tensor = tokenizer.texts_to_sequences(words)\n",
    "    \n",
    "    #Pad the smaller words\n",
    "    tensor = pad_sequences(tensor, padding='post')\n",
    "    \n",
    "    # Return the tensor and the tokenizer\n",
    "    return tensor, tokenizer"
   ]
  },
  {
   "cell_type": "code",
   "execution_count": 13,
   "id": "later-classification",
   "metadata": {},
   "outputs": [],
   "source": [
    "def load_dataset(data_frame_list):\n",
    "    # Initialize the tokenizer\n",
    "    input_tokenizer = Tokenizer(num_words = None, char_level = True)\n",
    "    target_tokenizer = Tokenizer(num_words = None, char_level = True)\n",
    "    \n",
    "    dataset_list = []\n",
    "    \n",
    "    for df in data_frame_list:\n",
    "        # Get the words list\n",
    "        input_words, target_words = create_dataset(df)\n",
    "        # Fit on the set of words\n",
    "        input_tokenizer.fit_on_texts(input_words)\n",
    "        target_tokenizer.fit_on_texts(target_words)\n",
    "        dataset_list.append((input_words, target_words))\n",
    "    \n",
    "    words_data = []\n",
    "    \n",
    "    for (input_words, target_words) in dataset_list:\n",
    "        # Tokenize the words\n",
    "        input_tensor, inp_word_tokenizer = tokenize(input_words, input_tokenizer)\n",
    "        target_tensor, targ_word_tokenizer = tokenize(target_words, target_tokenizer)\n",
    "        words_data.append(LexDataset(input_tensor, target_tensor, inp_word_tokenizer, targ_word_tokenizer))\n",
    "\n",
    "    return words_data"
   ]
  },
  {
   "cell_type": "code",
   "execution_count": 18,
   "id": "adolescent-calculation",
   "metadata": {},
   "outputs": [
    {
     "name": "stdout",
     "output_type": "stream",
     "text": [
      "Shape of Val input tensor: (4358, 20) | Shape of Val target tensor: (4358, 16)\n",
      "Shape of Train input tensor: (44204, 22) | Shape of Train target tensor: (44204, 21)\n",
      "Shape of Test input tensor: (4502, 18) | Shape of Test target tensor: (4502, 17)\n"
     ]
    }
   ],
   "source": [
    "dataset = load_dataset([val_df, train_df, test_df])\n",
    "\n",
    "print(f'Shape of Val input tensor: {np.shape(dataset[0].input_tensor)} | Shape of Val target tensor: {np.shape(dataset[0].target_tensor)}')\n",
    "print(f'Shape of Train input tensor: {np.shape(dataset[1].input_tensor)} | Shape of Train target tensor: {np.shape(dataset[1].target_tensor)}')\n",
    "print(f'Shape of Test input tensor: {np.shape(dataset[2].input_tensor)} | Shape of Test target tensor: {np.shape(dataset[2].target_tensor)}')"
   ]
  },
  {
   "cell_type": "code",
   "execution_count": 23,
   "id": "dependent-reduction",
   "metadata": {},
   "outputs": [],
   "source": [
    "def convert(tk, tensor):\n",
    "    for t in tensor:\n",
    "        if t != 0:\n",
    "            print(f'{t} ----> {tk.index_word[t]}')"
   ]
  },
  {
   "cell_type": "code",
   "execution_count": 24,
   "id": "severe-cornwall",
   "metadata": {},
   "outputs": [
    {
     "name": "stdout",
     "output_type": "stream",
     "text": [
      "Val Input Word; index to character mapping\n",
      "2 ----> @\n",
      "1 ----> a\n",
      "4 ----> n\n",
      "13 ----> k\n",
      "1 ----> a\n",
      "4 ----> n\n",
      "3 ----> #\n",
      "\n",
      "Val Target Word; index to character mapping\n",
      "1 ----> @\n",
      "31 ----> अ\n",
      "10 ----> ं\n",
      "8 ----> क\n",
      "6 ----> न\n",
      "2 ----> #\n"
     ]
    }
   ],
   "source": [
    "print(\"Val Input Word; index to character mapping\")\n",
    "convert(dataset[0].inp_word_tokenizer, dataset[0].input_tensor[0])\n",
    "print()\n",
    "print(\"Val Target Word; index to character mapping\")\n",
    "convert(dataset[0].targ_word_tokenizer, dataset[0].target_tensor[0])"
   ]
  },
  {
   "cell_type": "code",
   "execution_count": 28,
   "id": "accessible-brook",
   "metadata": {},
   "outputs": [],
   "source": [
    "num_encoder_tokens = len(dataset[0].inp_word_tokenizer.index_word)+1\n",
    "num_decoder_tokens = len(dataset[0].targ_word_tokenizer.index_word)+1"
   ]
  },
  {
   "cell_type": "code",
   "execution_count": 33,
   "id": "designed-circulation",
   "metadata": {},
   "outputs": [],
   "source": [
    "max_encoder_seq_length = max([np.shape(dataset[i].input_tensor)[1] for i in range(len(dataset))])\n",
    "max_decoder_seq_length = max([np.shape(dataset[1].target_tensor)[1] for i in range(len(dataset))])"
   ]
  },
  {
   "cell_type": "markdown",
   "id": "recent-problem",
   "metadata": {},
   "source": [
    "## Build Model"
   ]
  },
  {
   "cell_type": "code",
   "execution_count": 54,
   "id": "dressed-radius",
   "metadata": {},
   "outputs": [],
   "source": [
    "def get_model(embedding_size, num_encoder_layers, num_decoder_layers, hidden_layer_size, layer_type, dropout, num_encoder_tokens, num_decoder_tokens):\n",
    "    \n",
    "    encoder_inputs = keras.Input(shape=(None,))\n",
    "    encoder = Embedding(input_dim = num_encoder_tokens, output_dim = embedding_size)(encoder_inputs)\n",
    "    \n",
    "    decoder_inputs = keras.Input(shape=(None,))\n",
    "    decoder = Embedding(input_dim = num_decoder_tokens, output_dim = embedding_size)(decoder_inputs)\n",
    "    \n",
    "    # Add Memory Layers\n",
    "    if layer_type == LSTM_LAYER:\n",
    "        # ENCODER ================================================================================================\n",
    "\n",
    "        # Add LSTM layers\n",
    "        for i in range(num_encoder_layers-1):\n",
    "            encoder = LSTM(hidden_layer_size, return_state = True, return_sequences = True, dropout = dropout, name = 'encoder_'+str(i+1))(encoder)\n",
    "        \n",
    "        # Last LSTM Layer, Encoder outputs will act as decoder initial states    \n",
    "        encoder_outputs, state_h, state_c = LSTM(hidden_layer_size, return_state = True, return_sequences = False, dropout = dropout, name = 'encoder_'+str(num_encoder_layers))(encoder)\n",
    "        \n",
    "        # We discard `encoder_outputs` and only keep the states.\n",
    "        encoder_states = [state_h, state_c]\n",
    "        \n",
    "        # ========================================================================================================\n",
    "\n",
    "        # DECODER ================================================================================================\n",
    "        \n",
    "        # First LSTM Layer, Encoder final state will act as decoder initial state    \n",
    "        decoder = LSTM(hidden_layer_size, return_state = True, return_sequences = True, dropout = dropout, name = 'decoder_1')(decoder, initial_state = encoder_states)\n",
    "        \n",
    "        # Add LSTM layers\n",
    "        for i in range(num_decoder_layers-1):\n",
    "            decoder = LSTM(hidden_layer_size, return_state = True, return_sequences = True, dropout = dropout, name = 'decoder_'+str(i+2))(decoder)\n",
    "        \n",
    "        decoder_outputs, _, _ = decoder\n",
    "        \n",
    "        # ========================================================================================================\n",
    "        \n",
    "    elif layer_type == GRU_LAYER:\n",
    "        # ENCODER ================================================================================================\n",
    "        \n",
    "        # Add GRU Layers\n",
    "        for i in range(num_encoder_layers - 1):\n",
    "            encoder = GRU(hidden_layer_size, return_state = True, return_sequences = True, dropout = dropout, name = 'encoder_'+str(i+1))(encoder)\n",
    "\n",
    "        # Last GRU Layer, Encoder outputs will act as decoder initial states\n",
    "        encoder_outputs, state_c = GRU(hidden_layer_size, return_state = True, dropout = dropout, name = 'encoder_'+str(num_encoder_layers))(encoder)\n",
    "\n",
    "        # We discard `encoder_outputs` and only keep the state.\n",
    "        encoder_states = [state_c]\n",
    "        \n",
    "        # ========================================================================================================\n",
    "        \n",
    "        # DECODER ================================================================================================\n",
    "\n",
    "        # First GRU Layer, Encoder final state will act as decoder initial state   \n",
    "        decoder = GRU(hidden_layer_size, return_sequences=True, return_state=True,dropout=dropout, name = 'decoder_1')(decoder, initial_state = encoder_states)\n",
    "        \n",
    "        # Add GRU layers\n",
    "        for i in range(num_decoder_layers-1):\n",
    "            decoder = GRU(hidden_layer_size, return_sequences=True, return_state=True,dropout=dropout, name = 'decoder_'+str(i+2))(decoder)\n",
    "\n",
    "        decoder_outputs, _ = decoder\n",
    "        \n",
    "        # ========================================================================================================\n",
    "        \n",
    "    else:\n",
    "        # ENCODER ================================================================================================\n",
    "        \n",
    "        # Add SimpleRNN Layers\n",
    "        for i in range(num_encoder_layers-1):\n",
    "            encoder = SimpleRNN(hidden_layer_size, return_state = True, return_sequences = True, dropout = dropout, name = 'encoder_'+str(i+1))(encoder)\n",
    "\n",
    "        # Last SimpleRNN Layer, Encoder outputs will act as decoder initial states\n",
    "        encoder_outputs, state_c = SimpleRNN(hidden_layer_size, return_state = True, dropout = dropout, name = 'encoder_'+str(num_encoder_layers))(encoder)\n",
    "\n",
    "        # We discard `encoder_outputs` and only keep the state.\n",
    "        encoder_states = [state_c]\n",
    "\n",
    "        # ========================================================================================================\n",
    "        \n",
    "        # DECODER ================================================================================================\n",
    "\n",
    "        # First GRU Layer, Encoder final state will act as decoder initial state   \n",
    "        decoder = SimpleRNN(hidden_layer_size, return_sequences = True, return_state = True, dropout = dropout, name = 'decoder_1')(decoder, initial_state = encoder_states)\n",
    "        \n",
    "        # Add SimpleRNN Layers\n",
    "        for i in range(num_decoder_layers-1):\n",
    "            decoder = SimpleRNN(hidden_layer_size, return_sequences=True, return_state=True,dropout=dropout, name = 'decoder_'+str(i+2))(decoder)\n",
    "\n",
    "        decoder_outputs, _ = decoder\n",
    "        \n",
    "        # ========================================================================================================\n",
    "        \n",
    "    decoder_dense = keras.layers.Dense(num_decoder_tokens, activation=\"softmax\")\n",
    "    decoder_outputs = decoder_dense(decoder_outputs)\n",
    "    \n",
    "    # Define the model that will turn\n",
    "    # `encoder_input_data` & `decoder_input_data` into `decoder_target_data`\n",
    "    model = keras.Model([encoder_inputs, decoder_inputs], decoder_outputs)\n",
    "    \n",
    "    return model"
   ]
  },
  {
   "cell_type": "code",
   "execution_count": 47,
   "id": "minute-happiness",
   "metadata": {},
   "outputs": [],
   "source": [
    "LSTM_LAYER = \"LSTM\"\n",
    "GRU_LAYER = \"GRU\"\n",
    "SIMPLE_RNN_LAYER = \"SIMPLE_RNN\""
   ]
  },
  {
   "cell_type": "code",
   "execution_count": null,
   "id": "hungry-occupation",
   "metadata": {},
   "outputs": [],
   "source": []
  }
 ],
 "metadata": {
  "kernelspec": {
   "display_name": "Python 3",
   "language": "python",
   "name": "python3"
  },
  "language_info": {
   "codemirror_mode": {
    "name": "ipython",
    "version": 3
   },
   "file_extension": ".py",
   "mimetype": "text/x-python",
   "name": "python",
   "nbconvert_exporter": "python",
   "pygments_lexer": "ipython3",
   "version": "3.8.8"
  }
 },
 "nbformat": 4,
 "nbformat_minor": 5
}
