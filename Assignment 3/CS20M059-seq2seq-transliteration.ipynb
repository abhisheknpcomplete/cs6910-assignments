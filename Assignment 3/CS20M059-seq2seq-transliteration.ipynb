{
 "cells": [
  {
   "cell_type": "code",
   "execution_count": 2,
   "id": "certain-siemens",
   "metadata": {},
   "outputs": [
    {
     "name": "stdout",
     "output_type": "stream",
     "text": [
      "Using numpy: 1.19.5\n",
      "Using tensorflow: 2.4.1\n",
      "Using tensorflow Addons: 0.12.1\n",
      "Using keras: 2.4.0\n",
      "Using pandas: 1.2.3\n"
     ]
    }
   ],
   "source": [
    "import numpy as np\n",
    "import tensorflow as tf\n",
    "import tensorflow_addons as tfa\n",
    "from tensorflow import keras\n",
    "import pandas as pd\n",
    "import datetime\n",
    "from keras.preprocessing.text import Tokenizer\n",
    "from keras.preprocessing.sequence import pad_sequences\n",
    "from keras.layers import Dense, Embedding, LSTM, GRU, SimpleRNN\n",
    "from keras.models import Sequential\n",
    "print(\"Using numpy:\",np.__version__)\n",
    "print(\"Using tensorflow:\",tf.__version__)\n",
    "print(\"Using tensorflow Addons:\",tfa.__version__)\n",
    "print(\"Using keras:\",keras.__version__)\n",
    "print(\"Using pandas:\",pd.__version__)"
   ]
  },
  {
   "cell_type": "code",
   "execution_count": 3,
   "id": "abandoned-consideration",
   "metadata": {},
   "outputs": [
    {
     "data": {
      "text/plain": [
       "[PhysicalDevice(name='/physical_device:CPU:0', device_type='CPU'),\n",
       " PhysicalDevice(name='/physical_device:GPU:0', device_type='GPU')]"
      ]
     },
     "execution_count": 3,
     "metadata": {},
     "output_type": "execute_result"
    }
   ],
   "source": [
    "tf.config.list_physical_devices()"
   ]
  },
  {
   "cell_type": "markdown",
   "id": "accurate-michael",
   "metadata": {},
   "source": [
    "## Load and Pre-process Data"
   ]
  },
  {
   "cell_type": "code",
   "execution_count": 4,
   "id": "latin-steel",
   "metadata": {},
   "outputs": [
    {
     "name": "stdout",
     "output_type": "stream",
     "text": [
      "Data Loaded to Dataframes!\n"
     ]
    }
   ],
   "source": [
    "val_df = pd.read_csv(\"./lexicons/hi.translit.sampled.dev.tsv\", sep='\\t', header=None)\n",
    "train_df = pd.read_csv(\"./lexicons/hi.translit.sampled.train.tsv\", sep='\\t', header=None)\n",
    "test_df = pd.read_csv(\"./lexicons/hi.translit.sampled.test.tsv\", sep='\\t', header=None)\n",
    "print(\"Data Loaded to Dataframes!\")"
   ]
  },
  {
   "cell_type": "code",
   "execution_count": 5,
   "id": "jewish-catch",
   "metadata": {},
   "outputs": [],
   "source": [
    "class LexDataset:\n",
    "    def __init__(self, input_tensor, target_tensor, inp_word_tokenizer, targ_word_tokenizer):\n",
    "        self.input_tensor = input_tensor\n",
    "        self.target_tensor = target_tensor\n",
    "        self.inp_word_tokenizer = inp_word_tokenizer\n",
    "        self.targ_word_tokenizer = targ_word_tokenizer"
   ]
  },
  {
   "cell_type": "code",
   "execution_count": 6,
   "id": "determined-battle",
   "metadata": {},
   "outputs": [],
   "source": [
    "def tokenize(words, tokenizer):\n",
    "    tensor = tokenizer.texts_to_sequences(words)\n",
    "    \n",
    "    #Pad the smaller words\n",
    "    tensor = pad_sequences(tensor, padding='post')\n",
    "    \n",
    "    # Return the tensor and the tokenizer\n",
    "    return tensor, tokenizer"
   ]
  },
  {
   "cell_type": "code",
   "execution_count": 7,
   "id": "final-society",
   "metadata": {},
   "outputs": [],
   "source": [
    "# Process the dataframe to \n",
    "def create_dataset(data_frame):\n",
    "    input_words = []\n",
    "    target_words = []\n",
    "    for x, y in zip(data_frame[1], data_frame[0]):\n",
    "        # Add words to respective lists\n",
    "        input_words.append(\"@\"+str(x)+\"#\")\n",
    "        target_words.append(\"@\"+str(y)+\"#\")\n",
    "    return input_words, target_words"
   ]
  },
  {
   "cell_type": "code",
   "execution_count": 8,
   "id": "union-tomorrow",
   "metadata": {},
   "outputs": [],
   "source": [
    "def load_dataset(data_frame_list):\n",
    "    # Initialize the tokenizer\n",
    "    input_tokenizer = Tokenizer(num_words = None, char_level = True)\n",
    "    target_tokenizer = Tokenizer(num_words = None, char_level = True)\n",
    "    \n",
    "    dataset_list = []\n",
    "    \n",
    "    for df in data_frame_list:\n",
    "        # Get the words list\n",
    "        input_words, target_words = create_dataset(df)\n",
    "        # Fit on the set of words\n",
    "        input_tokenizer.fit_on_texts(input_words)\n",
    "        target_tokenizer.fit_on_texts(target_words)\n",
    "        dataset_list.append((input_words, target_words))\n",
    "    \n",
    "    words_data = []\n",
    "    \n",
    "    target_tokenizer.index_word.update({0:\" \"})\n",
    "    input_tokenizer.index_word.update({0:\" \"})\n",
    "    \n",
    "    for (input_words, target_words) in dataset_list:\n",
    "        # Tokenize the words\n",
    "        input_tensor, inp_word_tokenizer = tokenize(input_words, input_tokenizer)\n",
    "        target_tensor, targ_word_tokenizer = tokenize(target_words, target_tokenizer)\n",
    "        words_data.append(LexDataset(input_tensor, target_tensor, inp_word_tokenizer, targ_word_tokenizer))\n",
    "\n",
    "    return words_data"
   ]
  },
  {
   "cell_type": "code",
   "execution_count": 9,
   "id": "interior-stereo",
   "metadata": {},
   "outputs": [
    {
     "name": "stdout",
     "output_type": "stream",
     "text": [
      "Shape of Val input tensor: (4358, 20) | Shape of Val target tensor: (4358, 16)\n",
      "Shape of Train input tensor: (44204, 22) | Shape of Train target tensor: (44204, 21)\n",
      "Shape of Test input tensor: (4502, 18) | Shape of Test target tensor: (4502, 17)\n"
     ]
    }
   ],
   "source": [
    "dataset = load_dataset([val_df, train_df, test_df])\n",
    "\n",
    "print(f'Shape of Val input tensor: {np.shape(dataset[0].input_tensor)} | Shape of Val target tensor: {np.shape(dataset[0].target_tensor)}')\n",
    "print(f'Shape of Train input tensor: {np.shape(dataset[1].input_tensor)} | Shape of Train target tensor: {np.shape(dataset[1].target_tensor)}')\n",
    "print(f'Shape of Test input tensor: {np.shape(dataset[2].input_tensor)} | Shape of Test target tensor: {np.shape(dataset[2].target_tensor)}')"
   ]
  },
  {
   "cell_type": "code",
   "execution_count": 10,
   "id": "defined-fisher",
   "metadata": {},
   "outputs": [],
   "source": [
    "def convert(tk, tensor):\n",
    "    for t in tensor:\n",
    "        if t != 0:\n",
    "            print(f'{t} ----> {tk.index_word[t]}')"
   ]
  },
  {
   "cell_type": "code",
   "execution_count": 11,
   "id": "honest-violin",
   "metadata": {},
   "outputs": [
    {
     "name": "stdout",
     "output_type": "stream",
     "text": [
      "Val Input Word; index to character mapping\n",
      "2 ----> @\n",
      "1 ----> a\n",
      "4 ----> n\n",
      "13 ----> k\n",
      "1 ----> a\n",
      "4 ----> n\n",
      "3 ----> #\n",
      "\n",
      "Val Target Word; index to character mapping\n",
      "1 ----> @\n",
      "31 ----> अ\n",
      "10 ----> ं\n",
      "8 ----> क\n",
      "6 ----> न\n",
      "2 ----> #\n"
     ]
    }
   ],
   "source": [
    "print(\"Val Input Word; index to character mapping\")\n",
    "convert(dataset[0].inp_word_tokenizer, dataset[0].input_tensor[0])\n",
    "print()\n",
    "print(\"Val Target Word; index to character mapping\")\n",
    "convert(dataset[0].targ_word_tokenizer, dataset[0].target_tensor[0])"
   ]
  },
  {
   "cell_type": "code",
   "execution_count": 12,
   "id": "absolute-forwarding",
   "metadata": {},
   "outputs": [
    {
     "data": {
      "text/plain": [
       "(30, 67)"
      ]
     },
     "execution_count": 12,
     "metadata": {},
     "output_type": "execute_result"
    }
   ],
   "source": [
    "num_encoder_tokens = len(dataset[0].inp_word_tokenizer.index_word)+1\n",
    "num_decoder_tokens = len(dataset[0].targ_word_tokenizer.index_word)+1\n",
    "num_encoder_tokens, num_decoder_tokens"
   ]
  },
  {
   "cell_type": "code",
   "execution_count": 13,
   "id": "curious-illustration",
   "metadata": {},
   "outputs": [],
   "source": [
    "max_encoder_seq_length = max([np.shape(dataset[i].input_tensor)[1] for i in range(len(dataset))])\n",
    "max_decoder_seq_length = max([np.shape(dataset[i].target_tensor)[1] for i in range(len(dataset))])"
   ]
  },
  {
   "cell_type": "code",
   "execution_count": 14,
   "id": "swiss-payday",
   "metadata": {},
   "outputs": [],
   "source": [
    "# dataset[0].targ_word_tokenizer.index_word"
   ]
  },
  {
   "cell_type": "markdown",
   "id": "front-blake",
   "metadata": {},
   "source": [
    "## Tensorflow Dataset from the data"
   ]
  },
  {
   "cell_type": "code",
   "execution_count": 15,
   "id": "fundamental-dayton",
   "metadata": {},
   "outputs": [],
   "source": [
    "BATCH_SIZE = 32\n",
    "embedding_dim = 32\n",
    "units = 128"
   ]
  },
  {
   "cell_type": "markdown",
   "id": "helpful-baker",
   "metadata": {},
   "source": [
    "#### Training Dataset"
   ]
  },
  {
   "cell_type": "code",
   "execution_count": 16,
   "id": "lucky-contemporary",
   "metadata": {},
   "outputs": [],
   "source": [
    "train_dataset = tf.data.Dataset.from_tensor_slices((dataset[1].input_tensor, dataset[1].target_tensor)).shuffle(len(dataset[1].input_tensor))\n",
    "train_dataset = train_dataset.batch(BATCH_SIZE, drop_remainder=True)"
   ]
  },
  {
   "cell_type": "markdown",
   "id": "alleged-fabric",
   "metadata": {},
   "source": [
    "#### Validation Dataset"
   ]
  },
  {
   "cell_type": "code",
   "execution_count": 17,
   "id": "conceptual-diversity",
   "metadata": {},
   "outputs": [],
   "source": [
    "val_dataset = tf.data.Dataset.from_tensor_slices((dataset[0].input_tensor, dataset[0].target_tensor)).shuffle(len(dataset[0].input_tensor))\n",
    "val_dataset = val_dataset.batch(BATCH_SIZE, drop_remainder=True)"
   ]
  },
  {
   "cell_type": "markdown",
   "id": "thousand-parallel",
   "metadata": {},
   "source": [
    "#### Test Dataset"
   ]
  },
  {
   "cell_type": "code",
   "execution_count": 18,
   "id": "patient-individual",
   "metadata": {},
   "outputs": [],
   "source": [
    "test_dataset = tf.data.Dataset.from_tensor_slices((dataset[2].input_tensor, dataset[2].target_tensor)).shuffle(len(dataset[2].input_tensor))\n",
    "test_dataset = test_dataset.batch(BATCH_SIZE, drop_remainder=True)"
   ]
  },
  {
   "cell_type": "code",
   "execution_count": 19,
   "id": "concerned-joseph",
   "metadata": {},
   "outputs": [
    {
     "data": {
      "text/plain": [
       "(TensorShape([32, 22]), TensorShape([32, 21]))"
      ]
     },
     "execution_count": 19,
     "metadata": {},
     "output_type": "execute_result"
    }
   ],
   "source": [
    "example_input_batch, example_target_batch = next(iter(train_dataset))\n",
    "example_input_batch.shape, example_target_batch.shape"
   ]
  },
  {
   "cell_type": "markdown",
   "id": "pediatric-investigation",
   "metadata": {},
   "source": [
    "## Encoder"
   ]
  },
  {
   "cell_type": "code",
   "execution_count": 30,
   "id": "pretty-principle",
   "metadata": {},
   "outputs": [],
   "source": [
    "class Encoder(tf.keras.Model):\n",
    "    def __init__(self, vocab_size, embedding_dim, encoder_units, batch_size, dropout=0.2, layer_type=\"GRU\", num_layers=1):\n",
    "        super(Encoder, self).__init__()\n",
    "        self.encoder_units = encoder_units\n",
    "        self.batch_size = batch_size\n",
    "        self.layer_type = layer_type\n",
    "        self.num_layers = num_layers\n",
    "        \n",
    "        # Embedding Layer\n",
    "        self.embedding = Embedding(vocab_size, embedding_dim)\n",
    "        \n",
    "        # RNN Layer(s)\n",
    "        if self.layer_type == \"LSTM\":\n",
    "            self.layer = LSTM(self.encoder_units, return_state = True, return_sequences=True, dropout = dropout, name = 'LSTM_encoder_1')\n",
    "            for i in range(num_layers - 1):\n",
    "                self.layer = LSTM(self.encoder_units, return_state = True, return_sequences=True, dropout = dropout, \n",
    "                                  name = 'LSTM_encoder_'+str(i+2))(self.layer)\n",
    "        elif self.layer_type == \"GRU\":\n",
    "            self.layer = GRU(self.encoder_units, return_state = True, return_sequences=True, dropout = dropout, name = 'GRU_encoder_1')\n",
    "            for i in range(num_layers - 1):\n",
    "                self.layer = GRU(self.encoder_units, return_state = True, return_sequences=True, dropout = dropout, \n",
    "                                 name = 'GRU_encoder_'+str(i+2))(self.layer)\n",
    "        else:\n",
    "            self.layer = SimpleRNN(self.encoder_units, return_state = True, return_sequences=True, dropout = dropout, name = 'SimpleRNN_encoder_1')\n",
    "            for i in range(num_layers - 1):\n",
    "                self.layer = SimpleRNN(self.encoder_units, return_state = True, return_sequences=True, dropout = dropout, \n",
    "                                       name = 'SimpleRNN_encoder_'+str(i+2))(self.layer)\n",
    "    \n",
    "    def call(self, x, hidden):\n",
    "        x = self.embedding(x)\n",
    "        if self.layer_type == \"LSTM\":\n",
    "            output, state_h, state_c = self.layer(x, initial_state = hidden)\n",
    "            return output, state_h, state_c\n",
    "        else:\n",
    "            output, state = self.layer(x, initial_state=hidden)\n",
    "            return output, state, None\n",
    "\n",
    "    def initialize_hidden_state(self):\n",
    "        if self.layer_type == \"LSTM\":\n",
    "            return [tf.zeros((self.batch_size, self.encoder_units)), tf.zeros((self.batch_size, self.encoder_units))] \n",
    "        else:\n",
    "            return tf.zeros((self.batch_size, self.encoder_units))\n"
   ]
  },
  {
   "cell_type": "code",
   "execution_count": 31,
   "id": "material-height",
   "metadata": {},
   "outputs": [
    {
     "name": "stdout",
     "output_type": "stream",
     "text": [
      "Encoder output shape: (batch size, sequence length, units) (32, 22, 128)\n",
      "Encoder Hidden state shape: (batch size, units) (32, 128)\n",
      "Encoder Cell state shape: (batch size, units) (32, 128)\n"
     ]
    }
   ],
   "source": [
    "encoder = Encoder(num_encoder_tokens, embedding_dim, units, BATCH_SIZE, 0.2, \"LSTM\", 1)\n",
    "\n",
    "# sample input\n",
    "sample_hidden = encoder.initialize_hidden_state()\n",
    "sample_output, sample_hidden, sample_cell = encoder(example_input_batch, sample_hidden)\n",
    "print('Encoder output shape: (batch size, sequence length, units)', sample_output.shape)\n",
    "print('Encoder Hidden state shape: (batch size, units)', sample_hidden.shape)\n",
    "if encoder.layer_type == \"LSTM\":\n",
    "    print('Encoder Cell state shape: (batch size, units)', sample_cell.shape)"
   ]
  },
  {
   "cell_type": "markdown",
   "id": "wanted-insurance",
   "metadata": {},
   "source": [
    "## Decoder"
   ]
  },
  {
   "cell_type": "code",
   "execution_count": null,
   "id": "advanced-principle",
   "metadata": {},
   "outputs": [],
   "source": [
    "class Decoder(tf.keras.Model):\n",
    "    def __init__(self, vocab_size, embedding_dim, decoder_units, batch_size, dropout=0.2, layer_type=\"GRU\", num_layers=1, attention_type='luong'):\n",
    "        super(Encoder, self).__init__()\n",
    "        self.decoder_units = decoder_units\n",
    "        self.batch_size = batch_size\n",
    "        self.layer_type = layer_type\n",
    "        self.num_layers = num_layers\n",
    "        self.attention_type = attention_type\n",
    "        \n",
    "        # Embedding Layer\n",
    "        self.embedding = Embedding(vocab_size, embedding_dim)\n",
    "        \n",
    "        "
   ]
  },
  {
   "cell_type": "code",
   "execution_count": null,
   "id": "animal-conservation",
   "metadata": {},
   "outputs": [],
   "source": []
  },
  {
   "cell_type": "code",
   "execution_count": null,
   "id": "documented-citizenship",
   "metadata": {},
   "outputs": [],
   "source": []
  }
 ],
 "metadata": {
  "kernelspec": {
   "display_name": "Python 3",
   "language": "python",
   "name": "python3"
  },
  "language_info": {
   "codemirror_mode": {
    "name": "ipython",
    "version": 3
   },
   "file_extension": ".py",
   "mimetype": "text/x-python",
   "name": "python",
   "nbconvert_exporter": "python",
   "pygments_lexer": "ipython3",
   "version": "3.8.8"
  }
 },
 "nbformat": 4,
 "nbformat_minor": 5
}
