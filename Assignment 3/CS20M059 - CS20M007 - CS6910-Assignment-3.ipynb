{
 "cells": [
  {
   "cell_type": "code",
   "execution_count": 1,
   "id": "better-midnight",
   "metadata": {},
   "outputs": [],
   "source": [
    "import numpy as np\n",
    "import tensorflow as tf\n",
    "from tensorflow import keras\n",
    "import pandas as pd\n",
    "from sklearn.model_selection import train_test_split\n",
    "import numpy as np"
   ]
  },
  {
   "cell_type": "code",
   "execution_count": 3,
   "id": "treated-checkout",
   "metadata": {},
   "outputs": [],
   "source": [
    "# from google.colab import drive\n",
    "# drive.mount('/content/drive')\n",
    "# %cd '/content/drive/MyDrive/DL-A3 Dataset'\n",
    "# %%capture\n",
    "# !curl -SL https://storage.googleapis.com/gresearch/dakshina/dakshina_dataset_v1.0.tar > dataset.tar\n",
    "# !tar -xvf dataset.tar\n",
    "# !rm dataset.tar\n",
    "# %cd 'dakshina_dataset_v1.0/hi/lexicons'"
   ]
  },
  {
   "cell_type": "code",
   "execution_count": 10,
   "id": "located-coffee",
   "metadata": {},
   "outputs": [
    {
     "data": {
      "text/plain": [
       "[PhysicalDevice(name='/physical_device:GPU:0', device_type='GPU')]"
      ]
     },
     "execution_count": 10,
     "metadata": {},
     "output_type": "execute_result"
    }
   ],
   "source": [
    "tf.config.list_physical_devices('GPU')"
   ]
  },
  {
   "cell_type": "code",
   "execution_count": 5,
   "id": "falling-joseph",
   "metadata": {},
   "outputs": [
    {
     "name": "stdout",
     "output_type": "stream",
     "text": [
      "D:\\Deep Learning\\cs6910-assignments\\Assignment 3\\lexicons\n"
     ]
    }
   ],
   "source": [
    "%cd lexicons"
   ]
  },
  {
   "cell_type": "markdown",
   "id": "challenging-kennedy",
   "metadata": {},
   "source": [
    "## Prepare the data"
   ]
  },
  {
   "cell_type": "code",
   "execution_count": 61,
   "id": "alert-ladder",
   "metadata": {},
   "outputs": [],
   "source": [
    "val_data = pd.read_csv(\"hi.translit.sampled.dev.tsv\", sep='\\t', header=None)\n",
    "train_data = pd.read_csv(\"hi.translit.sampled.train.tsv\", sep='\\t', header=None)\n",
    "test_data = pd.read_csv(\"hi.translit.sampled.test.tsv\", sep='\\t', header=None)"
   ]
  },
  {
   "cell_type": "code",
   "execution_count": 62,
   "id": "cross-watts",
   "metadata": {},
   "outputs": [],
   "source": [
    "def prepare_data(data):\n",
    "    input_words = []\n",
    "    target_words = []\n",
    "    input_characters = set()\n",
    "    target_characters = set()\n",
    "    for x, y in zip(data[1], data[0]):\n",
    "        x = str(x)\n",
    "        y = str(y)\n",
    "        # Add words to respective lists\n",
    "        input_words.append(x)\n",
    "        target_words.append(\"\\t\" + y + \"\\n\")\n",
    "        # Add characters to set\n",
    "        for ch in x:\n",
    "            if ch not in input_characters:\n",
    "                input_characters.add(ch)\n",
    "        for ch in y:\n",
    "            if ch not in target_characters:\n",
    "                target_characters.add(ch)\n",
    "    return input_words, target_words, input_characters, target_characters"
   ]
  },
  {
   "cell_type": "code",
   "execution_count": 63,
   "id": "charitable-reasoning",
   "metadata": {},
   "outputs": [],
   "source": [
    "def get_all_words(data_list: list):\n",
    "    words = set()\n",
    "    for data in data_list:\n",
    "        words.update(data)\n",
    "    return words"
   ]
  },
  {
   "cell_type": "code",
   "execution_count": 64,
   "id": "efficient-creation",
   "metadata": {},
   "outputs": [],
   "source": [
    "val_input_words, val_target_words, val_input_characters, val_target_characters = prepare_data(val_data)\n",
    "train_input_words, train_target_words, train_input_characters, train_target_characters = prepare_data(train_data)    \n",
    "test_input_words, test_target_words, test_input_characters, test_target_characters = prepare_data(test_data)    "
   ]
  },
  {
   "cell_type": "code",
   "execution_count": 65,
   "id": "pursuant-burton",
   "metadata": {},
   "outputs": [],
   "source": [
    "input_characters = val_input_characters.union(train_input_characters, test_input_characters)\n",
    "target_characters = val_target_characters.union(train_target_characters, test_target_characters)"
   ]
  },
  {
   "cell_type": "code",
   "execution_count": 66,
   "id": "vanilla-watson",
   "metadata": {},
   "outputs": [],
   "source": [
    "num_encoder_tokens = len(input_characters)\n",
    "num_decoder_tokens = len(target_characters)\n",
    "\n",
    "all_input_words = get_all_words([val_input_words, train_input_words, test_input_words])\n",
    "all_target_words = get_all_words([val_target_words, train_target_words, test_target_words])\n",
    "\n",
    "max_encoder_seq_length = max([len(txt) for txt in all_input_words])\n",
    "max_decoder_seq_length = max([len(txt) for txt in all_target_words])"
   ]
  },
  {
   "cell_type": "code",
   "execution_count": 67,
   "id": "atomic-respect",
   "metadata": {},
   "outputs": [
    {
     "name": "stdout",
     "output_type": "stream",
     "text": [
      "Number of Training samples: 44204 | Number of Validation samples: 4358 | Number of Test samples: 4502\n",
      "Number of unique input tokens: 26\n",
      "Number of unique output tokens: 63\n",
      "Max sequence length for inputs: 20\n",
      "Max sequence length for outputs: 21\n"
     ]
    }
   ],
   "source": [
    "print(f\"Number of Training samples: {len(train_input_words)} | Number of Validation samples: {len(val_input_words)} | Number of Test samples: {len(test_input_words)}\")\n",
    "print(\"Number of unique input tokens:\", num_encoder_tokens)\n",
    "print(\"Number of unique output tokens:\", num_decoder_tokens)\n",
    "print(\"Max sequence length for inputs:\", max_encoder_seq_length)\n",
    "print(\"Max sequence length for outputs:\", max_decoder_seq_length)"
   ]
  },
  {
   "cell_type": "code",
   "execution_count": null,
   "id": "polish-arcade",
   "metadata": {},
   "outputs": [],
   "source": []
  },
  {
   "cell_type": "code",
   "execution_count": null,
   "id": "neutral-colombia",
   "metadata": {},
   "outputs": [],
   "source": []
  }
 ],
 "metadata": {
  "kernelspec": {
   "display_name": "Python 3",
   "language": "python",
   "name": "python3"
  },
  "language_info": {
   "codemirror_mode": {
    "name": "ipython",
    "version": 3
   },
   "file_extension": ".py",
   "mimetype": "text/x-python",
   "name": "python",
   "nbconvert_exporter": "python",
   "pygments_lexer": "ipython3",
   "version": "3.8.8"
  }
 },
 "nbformat": 4,
 "nbformat_minor": 5
}
