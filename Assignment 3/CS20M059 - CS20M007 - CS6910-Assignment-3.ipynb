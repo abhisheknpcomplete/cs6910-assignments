{
 "cells": [
  {
   "cell_type": "code",
   "execution_count": 37,
   "id": "silent-gibraltar",
   "metadata": {},
   "outputs": [
    {
     "name": "stdout",
     "output_type": "stream",
     "text": [
      "Using tensorflow: 2.4.1\n"
     ]
    }
   ],
   "source": [
    "import numpy as np\n",
    "import tensorflow as tf\n",
    "from tensorflow import keras\n",
    "import pandas as pd\n",
    "from sklearn.model_selection import train_test_split\n",
    "import numpy as np\n",
    "import ipdb\n",
    "import wandb\n",
    "import datetime\n",
    "from wandb.keras import WandbCallback\n",
    "from keras.preprocessing.text import Tokenizer\n",
    "from keras.preprocessing.sequence import pad_sequences\n",
    "from keras.layers import Dense, Embedding, LSTM, GRU, SimpleRNN\n",
    "from keras.models import Sequential\n",
    "from IPython.display import Image, display\n",
    "print(\"Using tensorflow:\",tf.__version__)"
   ]
  },
  {
   "cell_type": "code",
   "execution_count": 33,
   "id": "horizontal-draft",
   "metadata": {},
   "outputs": [
    {
     "data": {
      "text/html": [
       "Finishing last run (ID:33ifciyq) before initializing another..."
      ],
      "text/plain": [
       "<IPython.core.display.HTML object>"
      ]
     },
     "metadata": {},
     "output_type": "display_data"
    },
    {
     "data": {
      "text/html": [
       "<br/>Waiting for W&B process to finish, PID 2184<br/>Program ended successfully."
      ],
      "text/plain": [
       "<IPython.core.display.HTML object>"
      ]
     },
     "metadata": {},
     "output_type": "display_data"
    },
    {
     "data": {
      "application/vnd.jupyter.widget-view+json": {
       "model_id": "",
       "version_major": 2,
       "version_minor": 0
      },
      "text/plain": [
       "VBox(children=(Label(value=' 7.35MB of 7.35MB uploaded (0.00MB deduped)\\r'), FloatProgress(value=1.0, max=1.0)…"
      ]
     },
     "metadata": {},
     "output_type": "display_data"
    },
    {
     "data": {
      "text/html": [
       "Find user logs for this run at: <code>D:\\Deep Learning\\cs6910-assignments\\Assignment 3\\wandb\\run-20210430_210926-33ifciyq\\logs\\debug.log</code>"
      ],
      "text/plain": [
       "<IPython.core.display.HTML object>"
      ]
     },
     "metadata": {},
     "output_type": "display_data"
    },
    {
     "data": {
      "text/html": [
       "Find internal logs for this run at: <code>D:\\Deep Learning\\cs6910-assignments\\Assignment 3\\wandb\\run-20210430_210926-33ifciyq\\logs\\debug-internal.log</code>"
      ],
      "text/plain": [
       "<IPython.core.display.HTML object>"
      ]
     },
     "metadata": {},
     "output_type": "display_data"
    },
    {
     "data": {
      "text/html": [
       "<h3>Run summary:</h3><br/><style>\n",
       "    table.wandb td:nth-child(1) { padding: 0 10px; text-align: right }\n",
       "    </style><table class=\"wandb\">\n",
       "<tr><td>epoch</td><td>49</td></tr><tr><td>loss</td><td>0.01997</td></tr><tr><td>accuracy</td><td>0.99371</td></tr><tr><td>val_loss</td><td>0.2916</td></tr><tr><td>val_accuracy</td><td>0.93998</td></tr><tr><td>_runtime</td><td>578</td></tr><tr><td>_timestamp</td><td>1619797744</td></tr><tr><td>_step</td><td>49</td></tr><tr><td>best_val_loss</td><td>0.19149</td></tr><tr><td>best_epoch</td><td>11</td></tr></table>"
      ],
      "text/plain": [
       "<IPython.core.display.HTML object>"
      ]
     },
     "metadata": {},
     "output_type": "display_data"
    },
    {
     "data": {
      "text/html": [
       "<h3>Run history:</h3><br/><style>\n",
       "    table.wandb td:nth-child(1) { padding: 0 10px; text-align: right }\n",
       "    </style><table class=\"wandb\">\n",
       "<tr><td>epoch</td><td>▁▁▁▁▂▂▂▂▂▃▃▃▃▃▃▄▄▄▄▄▅▅▅▅▅▅▆▆▆▆▆▆▇▇▇▇▇███</td></tr><tr><td>loss</td><td>█▅▄▃▂▂▂▂▂▂▂▁▁▁▁▁▁▁▁▁▁▁▁▁▁▁▁▁▁▁▁▁▁▁▁▁▁▁▁▁</td></tr><tr><td>accuracy</td><td>▁▃▅▆▆▇▇▇▇▇▇▇████████████████████████████</td></tr><tr><td>val_loss</td><td>█▅▃▂▁▁▁▁▁▁▁▁▁▁▁▁▁▁▁▁▂▂▂▂▂▂▂▂▂▂▂▂▂▂▂▂▂▂▂▂</td></tr><tr><td>val_accuracy</td><td>▁▄▆▇▇███████████████████████████████████</td></tr><tr><td>_runtime</td><td>▁▁▁▁▂▂▂▂▂▃▃▃▃▃▃▃▄▄▄▄▄▅▅▅▅▅▅▆▆▆▆▆▇▇▇▇▇███</td></tr><tr><td>_timestamp</td><td>▁▁▁▁▂▂▂▂▂▃▃▃▃▃▃▃▄▄▄▄▄▅▅▅▅▅▅▆▆▆▆▆▇▇▇▇▇███</td></tr><tr><td>_step</td><td>▁▁▁▁▂▂▂▂▂▃▃▃▃▃▃▄▄▄▄▄▅▅▅▅▅▅▆▆▆▆▆▆▇▇▇▇▇███</td></tr></table><br/>"
      ],
      "text/plain": [
       "<IPython.core.display.HTML object>"
      ]
     },
     "metadata": {},
     "output_type": "display_data"
    },
    {
     "data": {
      "text/html": [
       "Synced 5 W&B file(s), 1 media file(s), 0 artifact file(s) and 1 other file(s)"
      ],
      "text/plain": [
       "<IPython.core.display.HTML object>"
      ]
     },
     "metadata": {},
     "output_type": "display_data"
    },
    {
     "data": {
      "text/html": [
       "\n",
       "                    <br/>Synced <strong style=\"color:#cdcd00\">spring-sun-4</strong>: <a href=\"https://wandb.ai/iitm-cs6910-jan-may-2021-cs20m059-cs20m007/Assignment%203/runs/33ifciyq\" target=\"_blank\">https://wandb.ai/iitm-cs6910-jan-may-2021-cs20m059-cs20m007/Assignment%203/runs/33ifciyq</a><br/>\n",
       "                "
      ],
      "text/plain": [
       "<IPython.core.display.HTML object>"
      ]
     },
     "metadata": {},
     "output_type": "display_data"
    },
    {
     "data": {
      "text/html": [
       "...Successfully finished last run (ID:33ifciyq). Initializing new run:<br/><br/>"
      ],
      "text/plain": [
       "<IPython.core.display.HTML object>"
      ]
     },
     "metadata": {},
     "output_type": "display_data"
    },
    {
     "data": {
      "text/html": [
       "\n",
       "                Tracking run with wandb version 0.10.28<br/>\n",
       "                Syncing run <strong style=\"color:#cdcd00\">faithful-cosmos-5</strong> to <a href=\"https://wandb.ai\" target=\"_blank\">Weights & Biases</a> <a href=\"https://docs.wandb.com/integrations/jupyter.html\" target=\"_blank\">(Documentation)</a>.<br/>\n",
       "                Project page: <a href=\"https://wandb.ai/iitm-cs6910-jan-may-2021-cs20m059-cs20m007/Assignment%203\" target=\"_blank\">https://wandb.ai/iitm-cs6910-jan-may-2021-cs20m059-cs20m007/Assignment%203</a><br/>\n",
       "                Run page: <a href=\"https://wandb.ai/iitm-cs6910-jan-may-2021-cs20m059-cs20m007/Assignment%203/runs/2j4zkd3t\" target=\"_blank\">https://wandb.ai/iitm-cs6910-jan-may-2021-cs20m059-cs20m007/Assignment%203/runs/2j4zkd3t</a><br/>\n",
       "                Run data is saved locally in <code>D:\\Deep Learning\\cs6910-assignments\\Assignment 3\\wandb\\run-20210430_213539-2j4zkd3t</code><br/><br/>\n",
       "            "
      ],
      "text/plain": [
       "<IPython.core.display.HTML object>"
      ]
     },
     "metadata": {},
     "output_type": "display_data"
    },
    {
     "name": "stderr",
     "output_type": "stream",
     "text": [
      "wandb: WARNING Calling run.save without any arguments is deprecated.Changes to attributes are automatically persisted.\n"
     ]
    },
    {
     "data": {
      "text/plain": [
       "True"
      ]
     },
     "execution_count": 33,
     "metadata": {},
     "output_type": "execute_result"
    }
   ],
   "source": [
    "wandb.init(project='Assignment 3', entity='iitm-cs6910-jan-may-2021-cs20m059-cs20m007')\n",
    "wandb.run.name = \"LSTM-Transliteration-\" + datetime.datetime.now().isoformat()\n",
    "wandb.run.save()"
   ]
  },
  {
   "cell_type": "code",
   "execution_count": 3,
   "id": "rocky-audio",
   "metadata": {},
   "outputs": [],
   "source": [
    "# from google.colab import drive\n",
    "# drive.mount('/content/drive')\n",
    "# %cd '/content/drive/MyDrive/DL-A3 Dataset'\n",
    "# %%capture\n",
    "# !curl -SL https://storage.googleapis.com/gresearch/dakshina/dakshina_dataset_v1.0.tar > dataset.tar\n",
    "# !tar -xvf dataset.tar\n",
    "# !rm dataset.tar\n",
    "# %cd 'dakshina_dataset_v1.0/hi/lexicons'"
   ]
  },
  {
   "cell_type": "code",
   "execution_count": 7,
   "id": "functioning-cocktail",
   "metadata": {},
   "outputs": [
    {
     "data": {
      "text/plain": [
       "[PhysicalDevice(name='/physical_device:CPU:0', device_type='CPU'),\n",
       " PhysicalDevice(name='/physical_device:GPU:0', device_type='GPU')]"
      ]
     },
     "execution_count": 7,
     "metadata": {},
     "output_type": "execute_result"
    }
   ],
   "source": [
    "tf.config.list_physical_devices()"
   ]
  },
  {
   "cell_type": "markdown",
   "id": "wicked-device",
   "metadata": {},
   "source": [
    "## Preparing the data"
   ]
  },
  {
   "cell_type": "code",
   "execution_count": 30,
   "id": "finnish-homeless",
   "metadata": {},
   "outputs": [],
   "source": [
    "val_df = pd.read_csv(\"./lexicons/hi.translit.sampled.dev.tsv\", sep='\\t', header=None)\n",
    "train_df = pd.read_csv(\"./lexicons/hi.translit.sampled.train.tsv\", sep='\\t', header=None)\n",
    "test_df = pd.read_csv(\"./lexicons/hi.translit.sampled.test.tsv\", sep='\\t', header=None)"
   ]
  },
  {
   "cell_type": "code",
   "execution_count": 31,
   "id": "wireless-mambo",
   "metadata": {},
   "outputs": [],
   "source": [
    "def process_dataframe(data):\n",
    "    input_words = []\n",
    "    target_words = []\n",
    "    input_characters = set()\n",
    "    target_characters = set()\n",
    "    for x, y in zip(data[1], data[0]):\n",
    "        x = str(x)\n",
    "        y = str(y)\n",
    "        # Add words to respective lists\n",
    "        input_words.append(x)\n",
    "        target_words.append(\"\\t\" + y + \"\\n\")\n",
    "        # Add characters to set\n",
    "        for ch in x:\n",
    "            if ch not in input_characters:\n",
    "                input_characters.add(ch)\n",
    "        for ch in y:\n",
    "            if ch not in target_characters:\n",
    "                target_characters.add(ch)\n",
    "    return input_words, target_words, input_characters, target_characters"
   ]
  },
  {
   "cell_type": "code",
   "execution_count": 32,
   "id": "motivated-italian",
   "metadata": {},
   "outputs": [],
   "source": [
    "def get_all_words(data_list: list):\n",
    "    words = set()\n",
    "    for data in data_list:\n",
    "        words.update(data)\n",
    "    return words"
   ]
  },
  {
   "cell_type": "code",
   "execution_count": 33,
   "id": "associate-meeting",
   "metadata": {},
   "outputs": [],
   "source": [
    "val_input_words, val_target_words, val_input_characters, val_target_characters = process_dataframe(val_df)\n",
    "train_input_words, train_target_words, train_input_characters, train_target_characters = process_dataframe(train_df)    \n",
    "test_input_words, test_target_words, test_input_characters, test_target_characters = process_dataframe(test_df)    "
   ]
  },
  {
   "cell_type": "code",
   "execution_count": 34,
   "id": "raised-machine",
   "metadata": {},
   "outputs": [],
   "source": [
    "input_characters = val_input_characters.union(train_input_characters, test_input_characters, [\" \"])\n",
    "target_characters = val_target_characters.union(train_target_characters, test_target_characters, [\" \",\"\\t\", \"\\n\"])"
   ]
  },
  {
   "cell_type": "code",
   "execution_count": 9,
   "id": "unauthorized-arizona",
   "metadata": {},
   "outputs": [],
   "source": [
    "num_encoder_tokens = len(input_characters)\n",
    "num_decoder_tokens = len(target_characters)\n",
    "\n",
    "all_input_words = get_all_words([val_input_words, train_input_words, test_input_words])\n",
    "all_target_words = get_all_words([val_target_words, train_target_words, test_target_words])\n",
    "\n",
    "max_encoder_seq_length = max([len(txt) for txt in all_input_words])\n",
    "max_decoder_seq_length = max([len(txt) for txt in all_target_words])"
   ]
  },
  {
   "cell_type": "code",
   "execution_count": 10,
   "id": "incoming-yellow",
   "metadata": {},
   "outputs": [
    {
     "name": "stdout",
     "output_type": "stream",
     "text": [
      "Number of Training samples: 44204 | Number of Validation samples: 4358 | Number of Test samples: 4502\n",
      "Number of unique input tokens: 27\n",
      "Number of unique output tokens: 66\n",
      "Max sequence length for inputs: 20\n",
      "Max sequence length for outputs: 21\n"
     ]
    }
   ],
   "source": [
    "print(f\"Number of Training samples: {len(train_input_words)} | Number of Validation samples: {len(val_input_words)} | Number of Test samples: {len(test_input_words)}\")\n",
    "print(\"Number of unique input tokens:\", num_encoder_tokens)\n",
    "print(\"Number of unique output tokens:\", num_decoder_tokens)\n",
    "print(\"Max sequence length for inputs:\", max_encoder_seq_length)\n",
    "print(\"Max sequence length for outputs:\", max_decoder_seq_length)"
   ]
  },
  {
   "cell_type": "code",
   "execution_count": 11,
   "id": "acoustic-plane",
   "metadata": {},
   "outputs": [],
   "source": [
    "input_token_index = dict([(char, i) for i, char in enumerate(input_characters)])\n",
    "target_token_index = dict([(char, i) for i, char in enumerate(target_characters)])"
   ]
  },
  {
   "cell_type": "code",
   "execution_count": 12,
   "id": "numeric-occasions",
   "metadata": {},
   "outputs": [],
   "source": [
    "def prepare_data(input_words, target_words, num_encoder_tokens, num_decoder_tokens, max_encoder_seq_length, max_decoder_seq_length):\n",
    "    encoder_input_data = np.zeros((len(input_words), max_encoder_seq_length, num_encoder_tokens), dtype=\"float32\")\n",
    "    decoder_input_data = np.zeros((len(input_words), max_decoder_seq_length, num_decoder_tokens), dtype=\"float32\")\n",
    "    decoder_target_data = np.zeros((len(input_words), max_decoder_seq_length, num_decoder_tokens), dtype=\"float32\")\n",
    "\n",
    "    for i, (input_text, target_text) in enumerate(zip(input_words, target_words)):\n",
    "        # Input Data\n",
    "        for t, char in enumerate(input_text):\n",
    "            encoder_input_data[i, t, input_token_index[char]] = 1.0\n",
    "        encoder_input_data[i, t + 1 :, input_token_index[\" \"]] = 1.0\n",
    "        # Target Data\n",
    "        for t, char in enumerate(target_text):\n",
    "            # decoder_target_data is ahead of decoder_input_data by one timestep\n",
    "            decoder_input_data[i, t, target_token_index[char]] = 1.0\n",
    "            if t > 0:\n",
    "                # decoder_target_data will be ahead by one timestep\n",
    "                # and will not include the start character.\n",
    "                decoder_target_data[i, t - 1, target_token_index[char]] = 1.0\n",
    "        decoder_input_data[i, t + 1 :, target_token_index[\" \"]] = 1.0\n",
    "        decoder_target_data[i, t:, target_token_index[\" \"]] = 1.0\n",
    "        \n",
    "    # Return Data\n",
    "    return encoder_input_data, decoder_input_data, decoder_target_data"
   ]
  },
  {
   "cell_type": "code",
   "execution_count": 13,
   "id": "median-hepatitis",
   "metadata": {},
   "outputs": [],
   "source": [
    "# Validation Data\n",
    "val_encoder_input_data, val_decoder_input_data, val_decoder_target_data = prepare_data(val_input_words, val_target_words, num_encoder_tokens, num_decoder_tokens, max_encoder_seq_length, max_decoder_seq_length)\n",
    "# Training Data\n",
    "train_encoder_input_data, train_decoder_input_data, train_decoder_target_data = prepare_data(train_input_words, train_target_words, num_encoder_tokens, num_decoder_tokens, max_encoder_seq_length, max_decoder_seq_length)\n",
    "# Test Data\n",
    "test_encoder_input_data, test_decoder_input_data, test_decoder_target_data = prepare_data(test_input_words, test_target_words, num_encoder_tokens, num_decoder_tokens, max_encoder_seq_length, max_decoder_seq_length)"
   ]
  },
  {
   "cell_type": "markdown",
   "id": "lined-blackjack",
   "metadata": {},
   "source": [
    "## Configuration"
   ]
  },
  {
   "cell_type": "code",
   "execution_count": 14,
   "id": "collected-receiver",
   "metadata": {},
   "outputs": [],
   "source": [
    "batch_size = 64  # Batch size for training.\n",
    "epochs = 1  # Number of epochs to train for.\n",
    "latent_dim = 256  # Latent dimensionality of the encoding space."
   ]
  },
  {
   "cell_type": "markdown",
   "id": "entire-password",
   "metadata": {},
   "source": [
    "## Building the model"
   ]
  },
  {
   "cell_type": "code",
   "execution_count": 15,
   "id": "mobile-apparel",
   "metadata": {},
   "outputs": [],
   "source": [
    "# Define an input sequence and process it.\n",
    "encoder_inputs = keras.Input(shape=(None, num_encoder_tokens))\n",
    "encoder = keras.layers.LSTM(latent_dim, return_state=True)\n",
    "encoder_outputs, state_h, state_c = encoder(encoder_inputs)\n",
    "\n",
    "# We discard `encoder_outputs` and only keep the states.\n",
    "encoder_states = [state_h, state_c]\n",
    "\n",
    "# Set up the decoder, using `encoder_states` as initial state.\n",
    "decoder_inputs = keras.Input(shape=(None, num_decoder_tokens))\n",
    "\n",
    "# We set up our decoder to return full output sequences,\n",
    "# and to return internal states as well. We don't use the\n",
    "# return states in the training model, but we will use them in inference.\n",
    "decoder_lstm = keras.layers.LSTM(latent_dim, return_sequences=True, return_state=True)\n",
    "decoder_outputs, _, _ = decoder_lstm(decoder_inputs, initial_state=encoder_states)\n",
    "decoder_dropout = keras.layers.Dropout(0.1)\n",
    "decoder_dropout = decoder_dropout(decoder_outputs)\n",
    "decoder_dense = keras.layers.Dense(num_decoder_tokens, activation=\"softmax\")\n",
    "decoder_outputs = decoder_dense(decoder_dropout)\n",
    "\n",
    "# Define the model that will turn\n",
    "# `encoder_input_data` & `decoder_input_data` into `decoder_target_data`\n",
    "model = keras.Model([encoder_inputs, decoder_inputs], decoder_outputs)"
   ]
  },
  {
   "cell_type": "markdown",
   "id": "horizontal-stereo",
   "metadata": {},
   "source": [
    "## Training the model"
   ]
  },
  {
   "cell_type": "code",
   "execution_count": 16,
   "id": "fitting-competition",
   "metadata": {},
   "outputs": [
    {
     "name": "stdout",
     "output_type": "stream",
     "text": [
      "Model: \"model\"\n",
      "__________________________________________________________________________________________________\n",
      "Layer (type)                    Output Shape         Param #     Connected to                     \n",
      "==================================================================================================\n",
      "input_1 (InputLayer)            [(None, None, 27)]   0                                            \n",
      "__________________________________________________________________________________________________\n",
      "input_2 (InputLayer)            [(None, None, 66)]   0                                            \n",
      "__________________________________________________________________________________________________\n",
      "lstm (LSTM)                     [(None, 256), (None, 290816      input_1[0][0]                    \n",
      "__________________________________________________________________________________________________\n",
      "lstm_1 (LSTM)                   [(None, None, 256),  330752      input_2[0][0]                    \n",
      "                                                                 lstm[0][1]                       \n",
      "                                                                 lstm[0][2]                       \n",
      "__________________________________________________________________________________________________\n",
      "dropout (Dropout)               (None, None, 256)    0           lstm_1[0][0]                     \n",
      "__________________________________________________________________________________________________\n",
      "dense (Dense)                   (None, None, 66)     16962       dropout[0][0]                    \n",
      "==================================================================================================\n",
      "Total params: 638,530\n",
      "Trainable params: 638,530\n",
      "Non-trainable params: 0\n",
      "__________________________________________________________________________________________________\n",
      "691/691 [==============================] - 19s 19ms/step - loss: 1.2618 - accuracy: 0.7029 - val_loss: 0.7813 - val_accuracy: 0.7814\n",
      "D:\\Deep Learning\\cs6910-assignments\\Assignment 3\n"
     ]
    },
    {
     "name": "stderr",
     "output_type": "stream",
     "text": [
      "A subdirectory or file -p already exists.\n",
      "Error occurred while processing: -p.\n",
      "A subdirectory or file saved_model already exists.\n",
      "Error occurred while processing: saved_model.\n",
      "WARNING:absl:Found untraced functions such as lstm_cell_layer_call_fn, lstm_cell_layer_call_and_return_conditional_losses, lstm_cell_1_layer_call_fn, lstm_cell_1_layer_call_and_return_conditional_losses, lstm_cell_layer_call_fn while saving (showing 5 of 10). These functions will not be directly callable after loading.\n",
      "WARNING:absl:Found untraced functions such as lstm_cell_layer_call_fn, lstm_cell_layer_call_and_return_conditional_losses, lstm_cell_1_layer_call_fn, lstm_cell_1_layer_call_and_return_conditional_losses, lstm_cell_layer_call_fn while saving (showing 5 of 10). These functions will not be directly callable after loading.\n"
     ]
    },
    {
     "name": "stdout",
     "output_type": "stream",
     "text": [
      "INFO:tensorflow:Assets written to: saved_model\\s2s\\assets\n"
     ]
    },
    {
     "name": "stderr",
     "output_type": "stream",
     "text": [
      "INFO:tensorflow:Assets written to: saved_model\\s2s\\assets\n"
     ]
    }
   ],
   "source": [
    "model.compile(optimizer=\"nadam\", loss=\"categorical_crossentropy\", metrics=[\"accuracy\"])\n",
    "model.summary()\n",
    "model.fit(\n",
    "    [train_encoder_input_data, train_decoder_input_data],\n",
    "    train_decoder_target_data,\n",
    "    batch_size=batch_size,\n",
    "    epochs=epochs,\n",
    "    validation_data=([val_encoder_input_data, val_decoder_input_data], val_decoder_target_data,),\n",
    "#     callbacks=[WandbCallback()]\n",
    ")\n",
    "# Save the entire model\n",
    "model.save('s2s')\n",
    "model.save('s2s.h5',save_format='h5')"
   ]
  },
  {
   "cell_type": "code",
   "execution_count": 25,
   "id": "bridal-mechanism",
   "metadata": {},
   "outputs": [
    {
     "data": {
      "image/png": "[encoded data removed]",
      "text/plain": [
       "<IPython.core.display.Image object>"
      ]
     },
     "execution_count": 25,
     "metadata": {},
     "output_type": "execute_result"
    }
   ],
   "source": [
    "keras.utils.plot_model(\n",
    "    model, \n",
    "    to_file=\"model.png\",\n",
    "    show_shapes=True,\n",
    "    show_dtype=True,\n",
    "    show_layer_names=True,\n",
    "    expand_nested=True\n",
    ")"
   ]
  },
  {
   "cell_type": "markdown",
   "id": "enabling-gravity",
   "metadata": {},
   "source": [
    "## Running inference"
   ]
  },
  {
   "cell_type": "code",
   "execution_count": 20,
   "id": "loving-diamond",
   "metadata": {},
   "outputs": [
    {
     "name": "stdout",
     "output_type": "stream",
     "text": [
      "Model: \"model\"\n",
      "__________________________________________________________________________________________________\n",
      "Layer (type)                    Output Shape         Param #     Connected to                     \n",
      "==================================================================================================\n",
      "input_1 (InputLayer)            [(None, None, 27)]   0                                            \n",
      "__________________________________________________________________________________________________\n",
      "input_2 (InputLayer)            [(None, None, 66)]   0                                            \n",
      "__________________________________________________________________________________________________\n",
      "lstm (LSTM)                     [(None, 256), (None, 290816      input_1[0][0]                    \n",
      "__________________________________________________________________________________________________\n",
      "lstm_1 (LSTM)                   [(None, None, 256),  330752      input_2[0][0]                    \n",
      "                                                                 lstm[0][1]                       \n",
      "                                                                 lstm[0][2]                       \n",
      "__________________________________________________________________________________________________\n",
      "dense (Dense)                   (None, None, 66)     16962       lstm_1[0][0]                     \n",
      "==================================================================================================\n",
      "Total params: 638,530\n",
      "Trainable params: 638,530\n",
      "Non-trainable params: 0\n",
      "__________________________________________________________________________________________________\n"
     ]
    }
   ],
   "source": [
    "# Define sampling models\n",
    "# Restore the model and construct the encoder and decoder.\n",
    "saved_model = keras.models.load_model(\"saved_model\\s2s\")\n",
    "saved_model.summary()\n",
    "\n",
    "saved_encoder_inputs = saved_model.input[0]  # input_1\n",
    "saved_encoder_outputs, state_h_enc, state_c_enc = saved_model.layers[2].output  # lstm_1\n",
    "saved_encoder_states = [state_h_enc, state_c_enc]\n",
    "saved_encoder_model = keras.Model(saved_encoder_inputs, saved_encoder_states)\n",
    "\n",
    "saved_decoder_inputs = saved_model.input[1]  # input_2\n",
    "saved_decoder_state_input_h = keras.Input(shape=(latent_dim,), name=\"input_3\")\n",
    "saved_decoder_state_input_c = keras.Input(shape=(latent_dim,), name=\"input_4\")\n",
    "saved_decoder_states_inputs = [saved_decoder_state_input_h, saved_decoder_state_input_c]\n",
    "saved_decoder_lstm = saved_model.layers[3]\n",
    "\n",
    "saved_decoder_outputs, saved_state_h_dec, saved_state_c_dec = saved_decoder_lstm(saved_decoder_inputs, initial_state=saved_decoder_states_inputs)\n",
    "saved_decoder_states = [saved_state_h_dec, saved_state_c_dec]\n",
    "saved_decoder_dense = saved_model.layers[4]\n",
    "saved_decoder_outputs = saved_decoder_dense(saved_decoder_outputs)\n",
    "saved_decoder_model = keras.Model([saved_decoder_inputs] + saved_decoder_states_inputs, [saved_decoder_outputs] + saved_decoder_states)"
   ]
  },
  {
   "cell_type": "code",
   "execution_count": 21,
   "id": "satisfactory-freedom",
   "metadata": {},
   "outputs": [],
   "source": [
    "# Reverse-lookup token index to decode sequences back to\n",
    "# something readable.\n",
    "reverse_input_char_index = dict((i, char) for char, i in input_token_index.items())\n",
    "reverse_target_char_index = dict((i, char) for char, i in target_token_index.items())"
   ]
  },
  {
   "cell_type": "code",
   "execution_count": 22,
   "id": "stable-produce",
   "metadata": {},
   "outputs": [],
   "source": [
    "def decode_sequence(input_seq):\n",
    "    # Encode the input as state vectors.\n",
    "    states_value = saved_encoder_model.predict(input_seq)\n",
    "\n",
    "    # Generate empty target sequence of length 1.\n",
    "    target_seq = np.zeros((1, 1, num_decoder_tokens))\n",
    "    \n",
    "    # Populate the first character of target sequence with the start character.\n",
    "    target_seq[0, 0, target_token_index[\"\\t\"]] = 1.0\n",
    "\n",
    "    # Sampling loop for a batch of sequences\n",
    "    # (to simplify, here we assume a batch of size 1).\n",
    "    stop_condition = False\n",
    "    decoded_sentence = \"\"\n",
    "    \n",
    "    while not stop_condition:\n",
    "        output_tokens, h, c = saved_decoder_model.predict([target_seq] + states_value)\n",
    "\n",
    "        # Sample a token\n",
    "        sampled_token_index = np.argmax(output_tokens[0, -1, :])\n",
    "        sampled_char = reverse_target_char_index[sampled_token_index]\n",
    "        decoded_sentence += sampled_char\n",
    "\n",
    "        # Exit condition: either hit max length\n",
    "        # or find stop character.\n",
    "        if sampled_char == \"\\n\" or len(decoded_sentence) > max_decoder_seq_length:\n",
    "            stop_condition = True\n",
    "\n",
    "        # Update the target sequence (of length 1).\n",
    "        target_seq = np.zeros((1, 1, num_decoder_tokens))\n",
    "        target_seq[0, 0, sampled_token_index] = 1.0\n",
    "\n",
    "        # Update states\n",
    "        states_value = [h, c]\n",
    "    return decoded_sentence"
   ]
  },
  {
   "cell_type": "code",
   "execution_count": 31,
   "id": "entire-volunteer",
   "metadata": {},
   "outputs": [
    {
     "name": "stdout",
     "output_type": "stream",
     "text": [
      "--------------------------------------------------------------------------------\n",
      "Input sentence: ank\n",
      "Decoded sentence: अंक\n",
      "\n",
      "--------------------------------------------------------------------------------\n",
      "Input sentence: anka\n",
      "Decoded sentence: अंका\n",
      "\n",
      "--------------------------------------------------------------------------------\n",
      "Input sentence: ankit\n",
      "Decoded sentence: अनकित\n",
      "\n",
      "--------------------------------------------------------------------------------\n",
      "Input sentence: anakon\n",
      "Decoded sentence: आंकों\n",
      "\n",
      "--------------------------------------------------------------------------------\n",
      "Input sentence: ankhon\n",
      "Decoded sentence: अंखों\n",
      "\n",
      "--------------------------------------------------------------------------------\n",
      "Input sentence: ankon\n",
      "Decoded sentence: अंकों\n",
      "\n",
      "--------------------------------------------------------------------------------\n",
      "Input sentence: angkor\n",
      "Decoded sentence: अंगकर\n",
      "\n",
      "--------------------------------------------------------------------------------\n",
      "Input sentence: ankor\n",
      "Decoded sentence: एंकर\n",
      "\n",
      "--------------------------------------------------------------------------------\n",
      "Input sentence: angaarak\n",
      "Decoded sentence: अंगरक\n",
      "\n",
      "--------------------------------------------------------------------------------\n",
      "Input sentence: angarak\n",
      "Decoded sentence: अंगरक\n",
      "\n",
      "--------------------------------------------------------------------------------\n",
      "Input sentence: angraji\n",
      "Decoded sentence: अंग्रजी\n",
      "\n",
      "--------------------------------------------------------------------------------\n",
      "Input sentence: angreji\n",
      "Decoded sentence: अग्रेंजी\n",
      "\n",
      "--------------------------------------------------------------------------------\n",
      "Input sentence: angrzi\n",
      "Decoded sentence: अंग्रजी\n",
      "\n",
      "--------------------------------------------------------------------------------\n",
      "Input sentence: antah\n",
      "Decoded sentence: अंठा\n",
      "\n",
      "--------------------------------------------------------------------------------\n",
      "Input sentence: antaha\n",
      "Decoded sentence: अंथा\n",
      "\n",
      "--------------------------------------------------------------------------------\n",
      "Input sentence: antarmukh\n",
      "Decoded sentence: अंतरार्भु\n",
      "\n",
      "--------------------------------------------------------------------------------\n",
      "Input sentence: antmurkh\n",
      "Decoded sentence: अंतमृंख\n",
      "\n",
      "--------------------------------------------------------------------------------\n",
      "Input sentence: antrmukh\n",
      "Decoded sentence: अंतरृंभ\n",
      "\n",
      "--------------------------------------------------------------------------------\n",
      "Input sentence: andrabee\n",
      "Decoded sentence: अंदराबी\n",
      "\n",
      "--------------------------------------------------------------------------------\n",
      "Input sentence: andrabi\n",
      "Decoded sentence: अंद्रबी\n",
      "\n"
     ]
    }
   ],
   "source": [
    "for seq_index in range(20):\n",
    "    # Take one sequence (part of the training set)\n",
    "    # for trying out decoding.\n",
    "    input_seq = test_encoder_input_data[seq_index : seq_index + 1]\n",
    "    decoded_sentence = decode_sequence(input_seq)\n",
    "    print(\"-\"*80)\n",
    "    print(\"Input sentence:\", test_input_words[seq_index])\n",
    "    print(\"Decoded sentence:\", decoded_sentence)"
   ]
  },
  {
   "cell_type": "code",
   "execution_count": null,
   "id": "individual-shuttle",
   "metadata": {},
   "outputs": [],
   "source": []
  }
 ],
 "metadata": {
  "kernelspec": {
   "display_name": "Python 3",
   "language": "python",
   "name": "python3"
  },
  "language_info": {
   "codemirror_mode": {
    "name": "ipython",
    "version": 3
   },
   "file_extension": ".py",
   "mimetype": "text/x-python",
   "name": "python",
   "nbconvert_exporter": "python",
   "pygments_lexer": "ipython3",
   "version": "3.8.8"
  }
 },
 "nbformat": 4,
 "nbformat_minor": 5
}
