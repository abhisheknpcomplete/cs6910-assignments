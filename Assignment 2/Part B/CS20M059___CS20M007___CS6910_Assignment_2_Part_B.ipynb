{
  "nbformat": 4,
  "nbformat_minor": 0,
  "metadata": {
    "colab": {
      "name": "CS20M059 | CS20M007 | CS6910-Assignment-2 Part B.ipynb",
      "provenance": []
    },
    "kernelspec": {
      "name": "python3",
      "display_name": "Python 3"
    },
    "language_info": {
      "name": "python"
    },
    "accelerator": "GPU",
    "widgets": {
      "application/vnd.jupyter.widget-state+json": {
        "09a8dea446b94fe78caf0a66213f7228": {
          "model_module": "@jupyter-widgets/controls",
          "model_name": "VBoxModel",
          "state": {
            "_view_name": "VBoxView",
            "_dom_classes": [],
            "_model_name": "VBoxModel",
            "_view_module": "@jupyter-widgets/controls",
            "_model_module_version": "1.5.0",
            "_view_count": null,
            "_view_module_version": "1.5.0",
            "box_style": "",
            "layout": "IPY_MODEL_037dd382a9c24be48fe48055f76cb010",
            "_model_module": "@jupyter-widgets/controls",
            "children": [
              "IPY_MODEL_c9c68156160847f9ac2ab13edbf4b3e6",
              "IPY_MODEL_153bb3888f284245941a125681d5d8b8"
            ]
          }
        },
        "037dd382a9c24be48fe48055f76cb010": {
          "model_module": "@jupyter-widgets/base",
          "model_name": "LayoutModel",
          "state": {
            "_view_name": "LayoutView",
            "grid_template_rows": null,
            "right": null,
            "justify_content": null,
            "_view_module": "@jupyter-widgets/base",
            "overflow": null,
            "_model_module_version": "1.2.0",
            "_view_count": null,
            "flex_flow": null,
            "width": null,
            "min_width": null,
            "border": null,
            "align_items": null,
            "bottom": null,
            "_model_module": "@jupyter-widgets/base",
            "top": null,
            "grid_column": null,
            "overflow_y": null,
            "overflow_x": null,
            "grid_auto_flow": null,
            "grid_area": null,
            "grid_template_columns": null,
            "flex": null,
            "_model_name": "LayoutModel",
            "justify_items": null,
            "grid_row": null,
            "max_height": null,
            "align_content": null,
            "visibility": null,
            "align_self": null,
            "height": null,
            "min_height": null,
            "padding": null,
            "grid_auto_rows": null,
            "grid_gap": null,
            "max_width": null,
            "order": null,
            "_view_module_version": "1.2.0",
            "grid_template_areas": null,
            "object_position": null,
            "object_fit": null,
            "grid_auto_columns": null,
            "margin": null,
            "display": null,
            "left": null
          }
        },
        "c9c68156160847f9ac2ab13edbf4b3e6": {
          "model_module": "@jupyter-widgets/controls",
          "model_name": "LabelModel",
          "state": {
            "_view_name": "LabelView",
            "style": "IPY_MODEL_664014ca10154f8cae9494e4fc43edb1",
            "_dom_classes": [],
            "description": "",
            "_model_name": "LabelModel",
            "placeholder": "​",
            "_view_module": "@jupyter-widgets/controls",
            "_model_module_version": "1.5.0",
            "value": " 83.60MB of 83.60MB uploaded (0.00MB deduped)\r",
            "_view_count": null,
            "_view_module_version": "1.5.0",
            "description_tooltip": null,
            "_model_module": "@jupyter-widgets/controls",
            "layout": "IPY_MODEL_369e5785d27b416dbdbae0a0edaab2de"
          }
        },
        "153bb3888f284245941a125681d5d8b8": {
          "model_module": "@jupyter-widgets/controls",
          "model_name": "FloatProgressModel",
          "state": {
            "_view_name": "ProgressView",
            "style": "IPY_MODEL_982c443084974cad83ca219fe599de17",
            "_dom_classes": [],
            "description": "",
            "_model_name": "FloatProgressModel",
            "bar_style": "",
            "max": 1,
            "_view_module": "@jupyter-widgets/controls",
            "_model_module_version": "1.5.0",
            "value": 1,
            "_view_count": null,
            "_view_module_version": "1.5.0",
            "orientation": "horizontal",
            "min": 0,
            "description_tooltip": null,
            "_model_module": "@jupyter-widgets/controls",
            "layout": "IPY_MODEL_55eb3d2cbcaa46dabd3bdde5e20c8844"
          }
        },
        "664014ca10154f8cae9494e4fc43edb1": {
          "model_module": "@jupyter-widgets/controls",
          "model_name": "DescriptionStyleModel",
          "state": {
            "_view_name": "StyleView",
            "_model_name": "DescriptionStyleModel",
            "description_width": "",
            "_view_module": "@jupyter-widgets/base",
            "_model_module_version": "1.5.0",
            "_view_count": null,
            "_view_module_version": "1.2.0",
            "_model_module": "@jupyter-widgets/controls"
          }
        },
        "369e5785d27b416dbdbae0a0edaab2de": {
          "model_module": "@jupyter-widgets/base",
          "model_name": "LayoutModel",
          "state": {
            "_view_name": "LayoutView",
            "grid_template_rows": null,
            "right": null,
            "justify_content": null,
            "_view_module": "@jupyter-widgets/base",
            "overflow": null,
            "_model_module_version": "1.2.0",
            "_view_count": null,
            "flex_flow": null,
            "width": null,
            "min_width": null,
            "border": null,
            "align_items": null,
            "bottom": null,
            "_model_module": "@jupyter-widgets/base",
            "top": null,
            "grid_column": null,
            "overflow_y": null,
            "overflow_x": null,
            "grid_auto_flow": null,
            "grid_area": null,
            "grid_template_columns": null,
            "flex": null,
            "_model_name": "LayoutModel",
            "justify_items": null,
            "grid_row": null,
            "max_height": null,
            "align_content": null,
            "visibility": null,
            "align_self": null,
            "height": null,
            "min_height": null,
            "padding": null,
            "grid_auto_rows": null,
            "grid_gap": null,
            "max_width": null,
            "order": null,
            "_view_module_version": "1.2.0",
            "grid_template_areas": null,
            "object_position": null,
            "object_fit": null,
            "grid_auto_columns": null,
            "margin": null,
            "display": null,
            "left": null
          }
        },
        "982c443084974cad83ca219fe599de17": {
          "model_module": "@jupyter-widgets/controls",
          "model_name": "ProgressStyleModel",
          "state": {
            "_view_name": "StyleView",
            "_model_name": "ProgressStyleModel",
            "description_width": "",
            "_view_module": "@jupyter-widgets/base",
            "_model_module_version": "1.5.0",
            "_view_count": null,
            "_view_module_version": "1.2.0",
            "bar_color": null,
            "_model_module": "@jupyter-widgets/controls"
          }
        },
        "55eb3d2cbcaa46dabd3bdde5e20c8844": {
          "model_module": "@jupyter-widgets/base",
          "model_name": "LayoutModel",
          "state": {
            "_view_name": "LayoutView",
            "grid_template_rows": null,
            "right": null,
            "justify_content": null,
            "_view_module": "@jupyter-widgets/base",
            "overflow": null,
            "_model_module_version": "1.2.0",
            "_view_count": null,
            "flex_flow": null,
            "width": null,
            "min_width": null,
            "border": null,
            "align_items": null,
            "bottom": null,
            "_model_module": "@jupyter-widgets/base",
            "top": null,
            "grid_column": null,
            "overflow_y": null,
            "overflow_x": null,
            "grid_auto_flow": null,
            "grid_area": null,
            "grid_template_columns": null,
            "flex": null,
            "_model_name": "LayoutModel",
            "justify_items": null,
            "grid_row": null,
            "max_height": null,
            "align_content": null,
            "visibility": null,
            "align_self": null,
            "height": null,
            "min_height": null,
            "padding": null,
            "grid_auto_rows": null,
            "grid_gap": null,
            "max_width": null,
            "order": null,
            "_view_module_version": "1.2.0",
            "grid_template_areas": null,
            "object_position": null,
            "object_fit": null,
            "grid_auto_columns": null,
            "margin": null,
            "display": null,
            "left": null
          }
        }
      }
    }
  },
  "cells": [
    {
      "cell_type": "code",
      "metadata": {
        "id": "hF46BbB2GM87"
      },
      "source": [
        "%%capture\n",
        "!curl -SL https://storage.googleapis.com/wandb_datasets/nature_12K.zip > dataset.zip\n",
        "!unzip dataset.zip"
      ],
      "execution_count": 1,
      "outputs": []
    },
    {
      "cell_type": "code",
      "metadata": {
        "id": "yTrrpj3IHaAa"
      },
      "source": [
        "!rm dataset.zip"
      ],
      "execution_count": 2,
      "outputs": []
    },
    {
      "cell_type": "code",
      "metadata": {
        "id": "O3GhqEI_HCK5"
      },
      "source": [
        "import tensorflow as tf\n",
        "from tensorflow import keras\n",
        "from keras.models import Sequential, Model\n",
        "from tensorflow.keras import  models, optimizers, layers, activations\n",
        "from keras.preprocessing.image import ImageDataGenerator\n",
        "from keras.utils import plot_model\n",
        "from keras.callbacks import History\n",
        "import numpy as np\n",
        "import matplotlib.pyplot as plt\n",
        "from PIL import Image\n",
        "import os"
      ],
      "execution_count": 3,
      "outputs": []
    },
    {
      "cell_type": "code",
      "metadata": {
        "id": "Q1mSqJgtKZKM"
      },
      "source": [
        "from keras.applications.inception_v3 import InceptionV3\n",
        "from keras.applications.inception_resnet_v2 import InceptionResNetV2\n",
        "from keras.applications.resnet50 import ResNet50\n",
        "from keras.applications.xception import Xception"
      ],
      "execution_count": 4,
      "outputs": []
    },
    {
      "cell_type": "code",
      "metadata": {
        "colab": {
          "base_uri": "https://localhost:8080/"
        },
        "id": "Fymb6amqHEkG",
        "outputId": "ad62b1c9-bf47-4dc0-b334-3b6dcfacc057"
      },
      "source": [
        "!pip install wandb -qqq\n",
        "import wandb\n",
        "from wandb.keras import WandbCallback"
      ],
      "execution_count": 5,
      "outputs": [
        {
          "output_type": "stream",
          "text": [
            "\u001b[K     |████████████████████████████████| 2.1MB 5.2MB/s \n",
            "\u001b[K     |████████████████████████████████| 102kB 12.0MB/s \n",
            "\u001b[K     |████████████████████████████████| 133kB 37.3MB/s \n",
            "\u001b[K     |████████████████████████████████| 163kB 41.9MB/s \n",
            "\u001b[K     |████████████████████████████████| 71kB 10.8MB/s \n",
            "\u001b[?25h  Building wheel for subprocess32 (setup.py) ... \u001b[?25l\u001b[?25hdone\n",
            "  Building wheel for pathtools (setup.py) ... \u001b[?25l\u001b[?25hdone\n"
          ],
          "name": "stdout"
        }
      ]
    },
    {
      "cell_type": "code",
      "metadata": {
        "id": "x60QDZMNHHCf"
      },
      "source": [
        "wandb.init(project=\"Assignment 2\", entity='iitm-cs6910-jan-may-2021-cs20m059-cs20m007')"
      ],
      "execution_count": null,
      "outputs": []
    },
    {
      "cell_type": "code",
      "metadata": {
        "id": "27t2ShQMHJhu"
      },
      "source": [
        "#Constants\n",
        "path_train_data = os.getcwd()+\"/inaturalist_12K/train\"\n",
        "path_test_data = os.getcwd()+\"/inaturalist_12K/val\"\n",
        "width, height = 200, 200\n",
        "batch_size = 128\n",
        "input_shape = (200, 200, 3)"
      ],
      "execution_count": 6,
      "outputs": []
    },
    {
      "cell_type": "code",
      "metadata": {
        "id": "OeYGyZHxMbJd"
      },
      "source": [
        "def get_dataset_generators(train_data_aug=False):\n",
        "    if train_data_aug:\n",
        "        train_idg = ImageDataGenerator(\n",
        "            rescale=1. /255,\n",
        "            validation_split=0.1,               #10% is to be kept aside\n",
        "            horizontal_flip=True,\n",
        "            vertical_flip=False,\n",
        "            rotation_range=15,\n",
        "            shear_range=0.1,\n",
        "            zoom_range=0.1,\n",
        "            width_shift_range=0.2,\n",
        "            height_shift_range=0.2\n",
        "        )\n",
        "    else:\n",
        "        train_idg = ImageDataGenerator(\n",
        "            rescale=1. /255,\n",
        "            validation_split=0.1                 #10% is to be kept aside\n",
        "        )\n",
        "    \n",
        "    test_idg = ImageDataGenerator(\n",
        "            rescale=1. /255\n",
        "        )\n",
        "    \n",
        "    print(f\"{path_train_data}\")\n",
        "    train_generator = train_idg.flow_from_directory(\n",
        "        path_train_data,\n",
        "        batch_size=batch_size,\n",
        "        target_size=(width, height),\n",
        "        subset='training',\n",
        "        class_mode='categorical'\n",
        "    )\n",
        "\n",
        "    val_generator = train_idg.flow_from_directory(\n",
        "        path_train_data,\n",
        "        batch_size=batch_size,\n",
        "        target_size=(width, height),\n",
        "        subset='validation',\n",
        "        class_mode='categorical'\n",
        "    )\n",
        "\n",
        "    print(f\"{path_test_data}\")\n",
        "    test_generator = test_idg.flow_from_directory(\n",
        "        path_test_data,\n",
        "        batch_size=batch_size, \n",
        "        target_size=(width, height)\n",
        "    )\n",
        "    \n",
        "    return train_generator, val_generator, test_generator"
      ],
      "execution_count": 7,
      "outputs": []
    },
    {
      "cell_type": "code",
      "metadata": {
        "id": "r70BS5z8Hrvj"
      },
      "source": [
        "inception_v3 = \"InceptionV3\"\n",
        "inception_resnet_v2 = \"InceptionResNetV2\"\n",
        "resnet50 = \"ResNet50\"\n",
        "xception = \"Xception\"\n",
        "\n",
        "def get_model(model_name=xception, dropout=0.2):\n",
        "    global base_model\n",
        "\n",
        "    if model_name == xception:\n",
        "        base_model = Xception(\n",
        "            weights=\"imagenet\",  # Load weights pre-trained on ImageNet.\n",
        "            input_shape=input_shape,\n",
        "            include_top=False,\n",
        "        )  # Do not include the ImageNet classifier at the top.\n",
        "    elif model_name == inception_v3:\n",
        "        base_model = InceptionV3(\n",
        "            weights=\"imagenet\",  # Load weights pre-trained on ImageNet.\n",
        "            input_shape=input_shape,\n",
        "            include_top=False,\n",
        "        )  # Do not include the ImageNet classifier at the top.\n",
        "    elif model_name == inception_resnet_v2:\n",
        "        base_model = InceptionResNetV2(\n",
        "            weights=\"imagenet\",  # Load weights pre-trained on ImageNet.\n",
        "            input_shape=input_shape,\n",
        "            include_top=False,\n",
        "        )  # Do not include the ImageNet classifier at the top.\n",
        "    else:\n",
        "        base_model = ResNet50(\n",
        "            weights=\"imagenet\",  # Load weights pre-trained on ImageNet.\n",
        "            input_shape=input_shape,\n",
        "            include_top=False,\n",
        "        )  # Do not include the ImageNet classifier at the top.\n",
        "\n",
        "    # Freeze the base_model\n",
        "    base_model.trainable = False\n",
        "\n",
        "    # Create new model on top\n",
        "    inputs = keras.Input(shape=input_shape)\n",
        "\n",
        "    x = base_model(inputs, training=False)\n",
        "    x = keras.layers.GlobalAveragePooling2D()(x)\n",
        "    x = keras.layers.Dropout(dropout)(x)\n",
        "\n",
        "    model = Sequential()\n",
        "    model.add(Model(inputs, x))\n",
        "    model.add(layers.Dense(10))\n",
        "    model.add(layers.Activation('softmax'))\n",
        "\n",
        "    return model"
      ],
      "execution_count": 8,
      "outputs": []
    },
    {
      "cell_type": "code",
      "metadata": {
        "id": "vyUkVJ9vfJzM"
      },
      "source": [
        "# # Create a MirroredStrategy.\n",
        "# if tf.config.list_physical_devices('GPU'):\n",
        "#     strategy = tf.distribute.MirroredStrategy()\n",
        "# else:  # use default strategy\n",
        "#     strategy = tf.distribute.get_strategy()\n",
        "# print('Number of devices: {}'.format(strategy.num_replicas_in_sync))\n",
        "\n",
        "# # Open a strategy scope and create the model\n",
        "# with strategy.scope():\n",
        "#     model = get_model(inception_v3, 0.3)"
      ],
      "execution_count": 9,
      "outputs": []
    },
    {
      "cell_type": "code",
      "metadata": {
        "id": "uUbsdyKGfYdi"
      },
      "source": [
        "# model.summary()"
      ],
      "execution_count": 10,
      "outputs": []
    },
    {
      "cell_type": "code",
      "metadata": {
        "id": "63sbMIglftJX"
      },
      "source": [
        "# plot_model(model)"
      ],
      "execution_count": 11,
      "outputs": []
    },
    {
      "cell_type": "code",
      "metadata": {
        "id": "HsAz1vRvgJZH"
      },
      "source": [
        "# model.compile(loss=\"categorical_crossentropy\", optimizer=optimizers.Adam(), metrics=\"categorical_accuracy\")"
      ],
      "execution_count": 12,
      "outputs": []
    },
    {
      "cell_type": "code",
      "metadata": {
        "id": "ZqTNHUT5nDHI"
      },
      "source": [
        "# history = History()"
      ],
      "execution_count": 13,
      "outputs": []
    },
    {
      "cell_type": "code",
      "metadata": {
        "id": "qPBYfwxlnqc9"
      },
      "source": [
        "# train_generator, val_generator, test_generator = get_dataset_generators(True)"
      ],
      "execution_count": 14,
      "outputs": []
    },
    {
      "cell_type": "code",
      "metadata": {
        "id": "PiRx_JV8ne6V"
      },
      "source": [
        "# model.fit(train_generator ,epochs=10, validation_data=val_generator, callbacks=[history, WandbCallback()])"
      ],
      "execution_count": 15,
      "outputs": []
    },
    {
      "cell_type": "code",
      "metadata": {
        "id": "AhtO_Wwnytnd"
      },
      "source": [
        "sweep_config = {\n",
        "  'name': 'Assignment 2 - gamma',  \n",
        "  'method': 'grid',\n",
        "  'parameters': {\n",
        "        'dataset_aug':{\n",
        "            'values':[True]   \n",
        "        },\n",
        "        'dropout':{\n",
        "            'values':[0.2, 0.5]\n",
        "        },\n",
        "        'model_name':{\n",
        "            'values':[inception_v3, inception_resnet_v2, resnet50, xception]\n",
        "        },\n",
        "        'epochs':{\n",
        "            'values':[7]\n",
        "        },\n",
        "        'lr':{\n",
        "            'values':[0.0001, 0.00001]\n",
        "        }\n",
        "    }\n",
        "}"
      ],
      "execution_count": 16,
      "outputs": []
    },
    {
      "cell_type": "code",
      "metadata": {
        "id": "DxypnAUPz6It"
      },
      "source": [
        "default_config={\n",
        "    'dataset_aug':True,\n",
        "    'dropout':0.2,\n",
        "    'model_name':inception_v3,\n",
        "    'epochs':7,\n",
        "    'lr':0.00001\n",
        "}"
      ],
      "execution_count": 17,
      "outputs": []
    },
    {
      "cell_type": "code",
      "metadata": {
        "id": "VRqdhndcn1KH"
      },
      "source": [
        "def run():\n",
        "    # Create a MirroredStrategy.\n",
        "    if tf.config.list_physical_devices('GPU'):\n",
        "        strategy = tf.distribute.MirroredStrategy()\n",
        "    else:  # use default strategy\n",
        "        strategy = tf.distribute.get_strategy()\n",
        "    print('Number of devices: {}'.format(strategy.num_replicas_in_sync))\n",
        "\n",
        "    wandb.init(config=default_config, magic=True, project='Assignment 2', entity='iitm-cs6910-jan-may-2021-cs20m059-cs20m007')\n",
        "    config = wandb.config\n",
        "    run_name = str(config).replace(\"{\", \"\").replace(\"}\",\"\").replace(\":\",\"-\").replace(\",\",\"-\")\n",
        "    wandb.run.name = run_name\n",
        "\n",
        "    # Open a strategy scope and create the model\n",
        "    with strategy.scope():\n",
        "        model = get_model(config.model_name, config.dropout)\n",
        "    \n",
        "    model.summary()\n",
        "\n",
        "    plot_model(model)\n",
        "\n",
        "    model.compile(loss=\"categorical_crossentropy\", optimizer=optimizers.Adam(), metrics=\"categorical_accuracy\")\n",
        "\n",
        "    history_callback = History()\n",
        "\n",
        "    train_generator, val_generator, test_generator = get_dataset_generators(True)\n",
        "\n",
        "    model.fit(train_generator ,epochs=config.epochs, validation_data=val_generator, callbacks=[WandbCallback()])\n",
        "\n",
        "    base_model.trainable = True\n",
        "\n",
        "    model.summary()\n",
        "\n",
        "    model.compile(loss=\"categorical_crossentropy\", optimizer=optimizers.Adam(config.lr), metrics=\"accuracy\")\n",
        "\n",
        "    model.fit(train_generator ,epochs=config.epochs, validation_data=test_generator, callbacks=[WandbCallback()])\n",
        "\n",
        "    model.save(f'{run_name}.h5')  # creates a HDF5 file 'my_model.h5'"
      ],
      "execution_count": 24,
      "outputs": []
    },
    {
      "cell_type": "code",
      "metadata": {
        "colab": {
          "base_uri": "https://localhost:8080/",
          "height": 118
        },
        "id": "8l1USgMhyskX",
        "outputId": "054b0bfc-5091-4602-ce0d-dc4bcacc442c"
      },
      "source": [
        "sweep_id = wandb.sweep(sweep_config, project='Assignment 2', entity='iitm-cs6910-jan-may-2021-cs20m059-cs20m007')"
      ],
      "execution_count": 19,
      "outputs": [
        {
          "output_type": "display_data",
          "data": {
            "application/javascript": [
              "\n",
              "        window._wandbApiKey = new Promise((resolve, reject) => {\n",
              "            function loadScript(url) {\n",
              "            return new Promise(function(resolve, reject) {\n",
              "                let newScript = document.createElement(\"script\");\n",
              "                newScript.onerror = reject;\n",
              "                newScript.onload = resolve;\n",
              "                document.body.appendChild(newScript);\n",
              "                newScript.src = url;\n",
              "            });\n",
              "            }\n",
              "            loadScript(\"https://cdn.jsdelivr.net/npm/postmate/build/postmate.min.js\").then(() => {\n",
              "            const iframe = document.createElement('iframe')\n",
              "            iframe.style.cssText = \"width:0;height:0;border:none\"\n",
              "            document.body.appendChild(iframe)\n",
              "            const handshake = new Postmate({\n",
              "                container: iframe,\n",
              "                url: 'https://wandb.ai/authorize'\n",
              "            });\n",
              "            const timeout = setTimeout(() => reject(\"Couldn't auto authenticate\"), 5000)\n",
              "            handshake.then(function(child) {\n",
              "                child.on('authorize', data => {\n",
              "                    clearTimeout(timeout)\n",
              "                    resolve(data)\n",
              "                });\n",
              "            });\n",
              "            })\n",
              "        });\n",
              "    "
            ],
            "text/plain": [
              "<IPython.core.display.Javascript object>"
            ]
          },
          "metadata": {
            "tags": []
          }
        },
        {
          "output_type": "stream",
          "text": [
            "\u001b[34m\u001b[1mwandb\u001b[0m: You can find your API key in your browser here: https://wandb.ai/authorize\n"
          ],
          "name": "stderr"
        },
        {
          "output_type": "stream",
          "text": [
            "wandb: Paste an API key from your profile and hit enter: ··········\n"
          ],
          "name": "stdout"
        },
        {
          "output_type": "stream",
          "text": [
            "\u001b[34m\u001b[1mwandb\u001b[0m: Appending key for api.wandb.ai to your netrc file: /root/.netrc\n"
          ],
          "name": "stderr"
        },
        {
          "output_type": "stream",
          "text": [
            "Create sweep with ID: 80zjp4yg\n",
            "Sweep URL: https://wandb.ai/iitm-cs6910-jan-may-2021-cs20m059-cs20m007/Assignment%202/sweeps/80zjp4yg\n"
          ],
          "name": "stdout"
        }
      ]
    },
    {
      "cell_type": "code",
      "metadata": {
        "colab": {
          "base_uri": "https://localhost:8080/",
          "height": 1000,
          "referenced_widgets": [
            "09a8dea446b94fe78caf0a66213f7228",
            "037dd382a9c24be48fe48055f76cb010",
            "c9c68156160847f9ac2ab13edbf4b3e6",
            "153bb3888f284245941a125681d5d8b8",
            "664014ca10154f8cae9494e4fc43edb1",
            "369e5785d27b416dbdbae0a0edaab2de",
            "982c443084974cad83ca219fe599de17",
            "55eb3d2cbcaa46dabd3bdde5e20c8844"
          ]
        },
        "id": "6niR723J33P8",
        "outputId": "91e6f100-f5cc-4489-a1b7-422a4854a6c8"
      },
      "source": [
        "wandb.agent(\"80zjp4yg\", function=run, project='Assignment 2', entity='iitm-cs6910-jan-may-2021-cs20m059-cs20m007')"
      ],
      "execution_count": 23,
      "outputs": [
        {
          "output_type": "stream",
          "text": [
            "\u001b[34m\u001b[1mwandb\u001b[0m: Agent Starting Run: 10owtf3f with config:\n",
            "\u001b[34m\u001b[1mwandb\u001b[0m: \tdataset_aug: True\n",
            "\u001b[34m\u001b[1mwandb\u001b[0m: \tdropout: 0.2\n",
            "\u001b[34m\u001b[1mwandb\u001b[0m: \tepochs: 7\n",
            "\u001b[34m\u001b[1mwandb\u001b[0m: \tlr: 0.0001\n",
            "\u001b[34m\u001b[1mwandb\u001b[0m: \tmodel_name: Xception\n"
          ],
          "name": "stderr"
        },
        {
          "output_type": "stream",
          "text": [
            "INFO:tensorflow:Using MirroredStrategy with devices ('/job:localhost/replica:0/task:0/device:GPU:0',)\n",
            "Number of devices: 1\n"
          ],
          "name": "stdout"
        },
        {
          "output_type": "stream",
          "text": [
            "\u001b[34m\u001b[1mwandb\u001b[0m: \u001b[33mWARNING\u001b[0m Ignored wandb.init() arg project when running a sweep\n",
            "\u001b[34m\u001b[1mwandb\u001b[0m: \u001b[33mWARNING\u001b[0m Ignored wandb.init() arg entity when running a sweep\n"
          ],
          "name": "stderr"
        },
        {
          "output_type": "display_data",
          "data": {
            "text/html": [
              "\n",
              "                Tracking run with wandb version 0.10.25<br/>\n",
              "                Syncing run <strong style=\"color:#cdcd00\">worldly-sweep-13</strong> to <a href=\"https://wandb.ai\" target=\"_blank\">Weights & Biases</a> <a href=\"https://docs.wandb.com/integrations/jupyter.html\" target=\"_blank\">(Documentation)</a>.<br/>\n",
              "                Project page: <a href=\"https://wandb.ai/iitm-cs6910-jan-may-2021-cs20m059-cs20m007/Assignment%202\" target=\"_blank\">https://wandb.ai/iitm-cs6910-jan-may-2021-cs20m059-cs20m007/Assignment%202</a><br/>\n",
              "                Sweep page: <a href=\"https://wandb.ai/iitm-cs6910-jan-may-2021-cs20m059-cs20m007/Assignment%202/sweeps/80zjp4yg\" target=\"_blank\">https://wandb.ai/iitm-cs6910-jan-may-2021-cs20m059-cs20m007/Assignment%202/sweeps/80zjp4yg</a><br/>\n",
              "Run page: <a href=\"https://wandb.ai/iitm-cs6910-jan-may-2021-cs20m059-cs20m007/Assignment%202/runs/10owtf3f\" target=\"_blank\">https://wandb.ai/iitm-cs6910-jan-may-2021-cs20m059-cs20m007/Assignment%202/runs/10owtf3f</a><br/>\n",
              "                Run data is saved locally in <code>/content/wandb/run-20210412_153711-10owtf3f</code><br/><br/>\n",
              "            "
            ],
            "text/plain": [
              "<IPython.core.display.HTML object>"
            ]
          },
          "metadata": {
            "tags": []
          }
        },
        {
          "output_type": "stream",
          "text": [
            "Model: \"sequential\"\n",
            "_________________________________________________________________\n",
            "Layer (type)                 Output Shape              Param #   \n",
            "=================================================================\n",
            "model (Functional)           (None, 2048)              20861480  \n",
            "_________________________________________________________________\n",
            "dense (Dense)                (None, 10)                20490     \n",
            "_________________________________________________________________\n",
            "activation (Activation)      (None, 10)                0         \n",
            "=================================================================\n",
            "Total params: 20,881,970\n",
            "Trainable params: 20,490\n",
            "Non-trainable params: 20,861,480\n",
            "_________________________________________________________________\n",
            "/content/inaturalist_12K/train\n",
            "Found 9000 images belonging to 10 classes.\n",
            "Found 999 images belonging to 10 classes.\n",
            "/content/inaturalist_12K/val\n",
            "Found 2000 images belonging to 10 classes.\n",
            "Epoch 1/7\n",
            "71/71 [==============================] - 230s 3s/step - loss: 1.8286 - categorical_accuracy: 0.3815 - val_loss: 1.1092 - val_categorical_accuracy: 0.6476\n",
            "Epoch 2/7\n",
            "71/71 [==============================] - 228s 3s/step - loss: 1.0928 - categorical_accuracy: 0.6470 - val_loss: 1.0053 - val_categorical_accuracy: 0.6647\n",
            "Epoch 3/7\n",
            "71/71 [==============================] - 232s 3s/step - loss: 1.0087 - categorical_accuracy: 0.6680 - val_loss: 0.9838 - val_categorical_accuracy: 0.6657\n",
            "Epoch 4/7\n",
            "71/71 [==============================] - 225s 3s/step - loss: 0.9480 - categorical_accuracy: 0.6846 - val_loss: 0.9025 - val_categorical_accuracy: 0.7007\n",
            "Epoch 5/7\n",
            "71/71 [==============================] - 230s 3s/step - loss: 0.9376 - categorical_accuracy: 0.6874 - val_loss: 0.9246 - val_categorical_accuracy: 0.6977\n",
            "Epoch 6/7\n",
            "71/71 [==============================] - 224s 3s/step - loss: 0.9142 - categorical_accuracy: 0.6900 - val_loss: 0.9469 - val_categorical_accuracy: 0.6747\n",
            "Epoch 7/7\n",
            "71/71 [==============================] - 222s 3s/step - loss: 0.8858 - categorical_accuracy: 0.7004 - val_loss: 0.9265 - val_categorical_accuracy: 0.6937\n",
            "Model: \"sequential\"\n",
            "_________________________________________________________________\n",
            "Layer (type)                 Output Shape              Param #   \n",
            "=================================================================\n",
            "model (Functional)           (None, 2048)              20861480  \n",
            "_________________________________________________________________\n",
            "dense (Dense)                (None, 10)                20490     \n",
            "_________________________________________________________________\n",
            "activation (Activation)      (None, 10)                0         \n",
            "=================================================================\n",
            "Total params: 20,881,970\n",
            "Trainable params: 20,827,442\n",
            "Non-trainable params: 54,528\n",
            "_________________________________________________________________\n",
            "Epoch 1/7\n"
          ],
          "name": "stdout"
        },
        {
          "output_type": "display_data",
          "data": {
            "text/html": [
              "<br/>Waiting for W&B process to finish, PID 1622<br/>Program failed with code 1.  Press ctrl-c to abort syncing."
            ],
            "text/plain": [
              "<IPython.core.display.HTML object>"
            ]
          },
          "metadata": {
            "tags": []
          }
        },
        {
          "output_type": "stream",
          "text": [
            "429 response executing GraphQL.\n",
            "{\"error\":\"rate limit exceeded\"}\n",
            "\n"
          ],
          "name": "stderr"
        },
        {
          "output_type": "display_data",
          "data": {
            "application/vnd.jupyter.widget-view+json": {
              "model_id": "09a8dea446b94fe78caf0a66213f7228",
              "version_minor": 0,
              "version_major": 2
            },
            "text/plain": [
              "VBox(children=(Label(value=' 83.10MB of 83.10MB uploaded (0.00MB deduped)\\r'), FloatProgress(value=1.0, max=1.…"
            ]
          },
          "metadata": {
            "tags": []
          }
        },
        {
          "output_type": "display_data",
          "data": {
            "text/html": [
              "Find user logs for this run at: <code>/content/wandb/run-20210412_153711-10owtf3f/logs/debug.log</code>"
            ],
            "text/plain": [
              "<IPython.core.display.HTML object>"
            ]
          },
          "metadata": {
            "tags": []
          }
        },
        {
          "output_type": "display_data",
          "data": {
            "text/html": [
              "Find internal logs for this run at: <code>/content/wandb/run-20210412_153711-10owtf3f/logs/debug-internal.log</code>"
            ],
            "text/plain": [
              "<IPython.core.display.HTML object>"
            ]
          },
          "metadata": {
            "tags": []
          }
        },
        {
          "output_type": "display_data",
          "data": {
            "text/html": [
              "<h3>Run summary:</h3><br/><style>\n",
              "    table.wandb td:nth-child(1) { padding: 0 10px; text-align: right }\n",
              "    </style><table class=\"wandb\">\n",
              "<tr><td>epoch</td><td>6</td></tr><tr><td>loss</td><td>0.90414</td></tr><tr><td>categorical_accuracy</td><td>0.69733</td></tr><tr><td>val_loss</td><td>0.92652</td></tr><tr><td>val_categorical_accuracy</td><td>0.69369</td></tr><tr><td>_runtime</td><td>1604</td></tr><tr><td>_timestamp</td><td>1618243435</td></tr><tr><td>_step</td><td>6</td></tr><tr><td>best_val_loss</td><td>0.90253</td></tr><tr><td>best_epoch</td><td>3</td></tr></table>"
            ],
            "text/plain": [
              "<IPython.core.display.HTML object>"
            ]
          },
          "metadata": {
            "tags": []
          }
        },
        {
          "output_type": "display_data",
          "data": {
            "text/html": [
              "<h3>Run history:</h3><br/><style>\n",
              "    table.wandb td:nth-child(1) { padding: 0 10px; text-align: right }\n",
              "    </style><table class=\"wandb\">\n",
              "<tr><td>epoch</td><td>▁▂▃▅▆▇█</td></tr><tr><td>loss</td><td>█▃▂▂▁▁▁</td></tr><tr><td>categorical_accuracy</td><td>▁▆▇████</td></tr><tr><td>val_loss</td><td>█▄▄▁▂▃▂</td></tr><tr><td>val_categorical_accuracy</td><td>▁▃▃██▅▇</td></tr><tr><td>_runtime</td><td>▁▂▃▅▆▇█</td></tr><tr><td>_timestamp</td><td>▁▂▃▅▆▇█</td></tr><tr><td>_step</td><td>▁▂▃▅▆▇█</td></tr></table><br/>"
            ],
            "text/plain": [
              "<IPython.core.display.HTML object>"
            ]
          },
          "metadata": {
            "tags": []
          }
        },
        {
          "output_type": "display_data",
          "data": {
            "text/html": [
              "Synced 5 W&B file(s), 1 media file(s), 0 artifact file(s) and 12 other file(s)"
            ],
            "text/plain": [
              "<IPython.core.display.HTML object>"
            ]
          },
          "metadata": {
            "tags": []
          }
        },
        {
          "output_type": "display_data",
          "data": {
            "text/html": [
              "\n",
              "                    <br/>Synced <strong style=\"color:#cdcd00\">worldly-sweep-13</strong>: <a href=\"https://wandb.ai/iitm-cs6910-jan-may-2021-cs20m059-cs20m007/Assignment%202/runs/10owtf3f\" target=\"_blank\">https://wandb.ai/iitm-cs6910-jan-may-2021-cs20m059-cs20m007/Assignment%202/runs/10owtf3f</a><br/>\n",
              "                "
            ],
            "text/plain": [
              "<IPython.core.display.HTML object>"
            ]
          },
          "metadata": {
            "tags": []
          }
        },
        {
          "output_type": "stream",
          "text": [
            "Run 10owtf3f errored: ResourceExhaustedError()\n",
            "\u001b[34m\u001b[1mwandb\u001b[0m: \u001b[32m\u001b[41mERROR\u001b[0m Run 10owtf3f errored: ResourceExhaustedError()\n",
            "\u001b[34m\u001b[1mwandb\u001b[0m: Sweep Agent: Waiting for job.\n",
            "\u001b[34m\u001b[1mwandb\u001b[0m: Sweep Agent: Exiting.\n"
          ],
          "name": "stderr"
        }
      ]
    },
    {
      "cell_type": "code",
      "metadata": {
        "id": "JzpQHWBTpWZx"
      },
      "source": [
        ""
      ],
      "execution_count": null,
      "outputs": []
    }
  ]
}