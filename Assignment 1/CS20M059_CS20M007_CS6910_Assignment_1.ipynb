{
  "nbformat": 4,
  "nbformat_minor": 0,
  "metadata": {
    "colab": {
      "name": "CS20M059_CS20M007_CS6910_Assignment_1.ipynb",
      "provenance": [],
      "collapsed_sections": []
    },
    "kernelspec": {
      "name": "python3",
      "display_name": "Python 3.8.8 64-bit",
      "metadata": {
        "interpreter": {
          "hash": "c893e015675f7e258763faa9ddb971e743cc33eb31fe99fe98fc47132504a4a3"
        }
      }
    },
    "language_info": {
      "name": "python",
      "version": "3.8.8-final"
    },
    "widgets": {
      "application/vnd.jupyter.widget-state+json": {
        "40e957c04bb94c1a9109134c24cf6553": {
          "model_module": "@jupyter-widgets/controls",
          "model_name": "VBoxModel",
          "state": {
            "_view_name": "VBoxView",
            "_dom_classes": [],
            "_model_name": "VBoxModel",
            "_view_module": "@jupyter-widgets/controls",
            "_model_module_version": "1.5.0",
            "_view_count": null,
            "_view_module_version": "1.5.0",
            "box_style": "",
            "layout": "IPY_MODEL_636396432ae548949554d231a1cd4be1",
            "_model_module": "@jupyter-widgets/controls",
            "children": [
              "IPY_MODEL_6c5f0cf599d0498baa2df53a44742b9b",
              "IPY_MODEL_39f8b581c7e74da2ac76b0bb0da1a31d"
            ]
          }
        },
        "636396432ae548949554d231a1cd4be1": {
          "model_module": "@jupyter-widgets/base",
          "model_name": "LayoutModel",
          "state": {
            "_view_name": "LayoutView",
            "grid_template_rows": null,
            "right": null,
            "justify_content": null,
            "_view_module": "@jupyter-widgets/base",
            "overflow": null,
            "_model_module_version": "1.2.0",
            "_view_count": null,
            "flex_flow": null,
            "width": null,
            "min_width": null,
            "border": null,
            "align_items": null,
            "bottom": null,
            "_model_module": "@jupyter-widgets/base",
            "top": null,
            "grid_column": null,
            "overflow_y": null,
            "overflow_x": null,
            "grid_auto_flow": null,
            "grid_area": null,
            "grid_template_columns": null,
            "flex": null,
            "_model_name": "LayoutModel",
            "justify_items": null,
            "grid_row": null,
            "max_height": null,
            "align_content": null,
            "visibility": null,
            "align_self": null,
            "height": null,
            "min_height": null,
            "padding": null,
            "grid_auto_rows": null,
            "grid_gap": null,
            "max_width": null,
            "order": null,
            "_view_module_version": "1.2.0",
            "grid_template_areas": null,
            "object_position": null,
            "object_fit": null,
            "grid_auto_columns": null,
            "margin": null,
            "display": null,
            "left": null
          }
        },
        "6c5f0cf599d0498baa2df53a44742b9b": {
          "model_module": "@jupyter-widgets/controls",
          "model_name": "LabelModel",
          "state": {
            "_view_name": "LabelView",
            "style": "IPY_MODEL_baad4420b070448ea7b2a94da39581cd",
            "_dom_classes": [],
            "description": "",
            "_model_name": "LabelModel",
            "placeholder": "​",
            "_view_module": "@jupyter-widgets/controls",
            "_model_module_version": "1.5.0",
            "value": " 0.01MB of 0.01MB uploaded (0.00MB deduped)\r",
            "_view_count": null,
            "_view_module_version": "1.5.0",
            "description_tooltip": null,
            "_model_module": "@jupyter-widgets/controls",
            "layout": "IPY_MODEL_de8436ec212b4819a5e47f8025c30de0"
          }
        },
        "39f8b581c7e74da2ac76b0bb0da1a31d": {
          "model_module": "@jupyter-widgets/controls",
          "model_name": "FloatProgressModel",
          "state": {
            "_view_name": "ProgressView",
            "style": "IPY_MODEL_91bcfa29cc4242aaae58d1fd631770b2",
            "_dom_classes": [],
            "description": "",
            "_model_name": "FloatProgressModel",
            "bar_style": "",
            "max": 1,
            "_view_module": "@jupyter-widgets/controls",
            "_model_module_version": "1.5.0",
            "value": 1,
            "_view_count": null,
            "_view_module_version": "1.5.0",
            "orientation": "horizontal",
            "min": 0,
            "description_tooltip": null,
            "_model_module": "@jupyter-widgets/controls",
            "layout": "IPY_MODEL_eee5ae42838d4faa869a158db51b7007"
          }
        },
        "baad4420b070448ea7b2a94da39581cd": {
          "model_module": "@jupyter-widgets/controls",
          "model_name": "DescriptionStyleModel",
          "state": {
            "_view_name": "StyleView",
            "_model_name": "DescriptionStyleModel",
            "description_width": "",
            "_view_module": "@jupyter-widgets/base",
            "_model_module_version": "1.5.0",
            "_view_count": null,
            "_view_module_version": "1.2.0",
            "_model_module": "@jupyter-widgets/controls"
          }
        },
        "de8436ec212b4819a5e47f8025c30de0": {
          "model_module": "@jupyter-widgets/base",
          "model_name": "LayoutModel",
          "state": {
            "_view_name": "LayoutView",
            "grid_template_rows": null,
            "right": null,
            "justify_content": null,
            "_view_module": "@jupyter-widgets/base",
            "overflow": null,
            "_model_module_version": "1.2.0",
            "_view_count": null,
            "flex_flow": null,
            "width": null,
            "min_width": null,
            "border": null,
            "align_items": null,
            "bottom": null,
            "_model_module": "@jupyter-widgets/base",
            "top": null,
            "grid_column": null,
            "overflow_y": null,
            "overflow_x": null,
            "grid_auto_flow": null,
            "grid_area": null,
            "grid_template_columns": null,
            "flex": null,
            "_model_name": "LayoutModel",
            "justify_items": null,
            "grid_row": null,
            "max_height": null,
            "align_content": null,
            "visibility": null,
            "align_self": null,
            "height": null,
            "min_height": null,
            "padding": null,
            "grid_auto_rows": null,
            "grid_gap": null,
            "max_width": null,
            "order": null,
            "_view_module_version": "1.2.0",
            "grid_template_areas": null,
            "object_position": null,
            "object_fit": null,
            "grid_auto_columns": null,
            "margin": null,
            "display": null,
            "left": null
          }
        },
        "91bcfa29cc4242aaae58d1fd631770b2": {
          "model_module": "@jupyter-widgets/controls",
          "model_name": "ProgressStyleModel",
          "state": {
            "_view_name": "StyleView",
            "_model_name": "ProgressStyleModel",
            "description_width": "",
            "_view_module": "@jupyter-widgets/base",
            "_model_module_version": "1.5.0",
            "_view_count": null,
            "_view_module_version": "1.2.0",
            "bar_color": null,
            "_model_module": "@jupyter-widgets/controls"
          }
        },
        "eee5ae42838d4faa869a158db51b7007": {
          "model_module": "@jupyter-widgets/base",
          "model_name": "LayoutModel",
          "state": {
            "_view_name": "LayoutView",
            "grid_template_rows": null,
            "right": null,
            "justify_content": null,
            "_view_module": "@jupyter-widgets/base",
            "overflow": null,
            "_model_module_version": "1.2.0",
            "_view_count": null,
            "flex_flow": null,
            "width": null,
            "min_width": null,
            "border": null,
            "align_items": null,
            "bottom": null,
            "_model_module": "@jupyter-widgets/base",
            "top": null,
            "grid_column": null,
            "overflow_y": null,
            "overflow_x": null,
            "grid_auto_flow": null,
            "grid_area": null,
            "grid_template_columns": null,
            "flex": null,
            "_model_name": "LayoutModel",
            "justify_items": null,
            "grid_row": null,
            "max_height": null,
            "align_content": null,
            "visibility": null,
            "align_self": null,
            "height": null,
            "min_height": null,
            "padding": null,
            "grid_auto_rows": null,
            "grid_gap": null,
            "max_width": null,
            "order": null,
            "_view_module_version": "1.2.0",
            "grid_template_areas": null,
            "object_position": null,
            "object_fit": null,
            "grid_auto_columns": null,
            "margin": null,
            "display": null,
            "left": null
          }
        },
        "0ab443c0c2a94d1daaced539c85bc707": {
          "model_module": "@jupyter-widgets/controls",
          "model_name": "VBoxModel",
          "state": {
            "_view_name": "VBoxView",
            "_dom_classes": [],
            "_model_name": "VBoxModel",
            "_view_module": "@jupyter-widgets/controls",
            "_model_module_version": "1.5.0",
            "_view_count": null,
            "_view_module_version": "1.5.0",
            "box_style": "",
            "layout": "IPY_MODEL_f9f54447b47349e9a7306cc70fd7c23a",
            "_model_module": "@jupyter-widgets/controls",
            "children": [
              "IPY_MODEL_a6dbfc8f3a8f45de98b0980e5609b80b",
              "IPY_MODEL_9fdb8669a54c4576bc8de58c64fdd1b8"
            ]
          }
        },
        "f9f54447b47349e9a7306cc70fd7c23a": {
          "model_module": "@jupyter-widgets/base",
          "model_name": "LayoutModel",
          "state": {
            "_view_name": "LayoutView",
            "grid_template_rows": null,
            "right": null,
            "justify_content": null,
            "_view_module": "@jupyter-widgets/base",
            "overflow": null,
            "_model_module_version": "1.2.0",
            "_view_count": null,
            "flex_flow": null,
            "width": null,
            "min_width": null,
            "border": null,
            "align_items": null,
            "bottom": null,
            "_model_module": "@jupyter-widgets/base",
            "top": null,
            "grid_column": null,
            "overflow_y": null,
            "overflow_x": null,
            "grid_auto_flow": null,
            "grid_area": null,
            "grid_template_columns": null,
            "flex": null,
            "_model_name": "LayoutModel",
            "justify_items": null,
            "grid_row": null,
            "max_height": null,
            "align_content": null,
            "visibility": null,
            "align_self": null,
            "height": null,
            "min_height": null,
            "padding": null,
            "grid_auto_rows": null,
            "grid_gap": null,
            "max_width": null,
            "order": null,
            "_view_module_version": "1.2.0",
            "grid_template_areas": null,
            "object_position": null,
            "object_fit": null,
            "grid_auto_columns": null,
            "margin": null,
            "display": null,
            "left": null
          }
        },
        "a6dbfc8f3a8f45de98b0980e5609b80b": {
          "model_module": "@jupyter-widgets/controls",
          "model_name": "LabelModel",
          "state": {
            "_view_name": "LabelView",
            "style": "IPY_MODEL_213a9a2d698e4413ac3bd7cbbef86928",
            "_dom_classes": [],
            "description": "",
            "_model_name": "LabelModel",
            "placeholder": "​",
            "_view_module": "@jupyter-widgets/controls",
            "_model_module_version": "1.5.0",
            "value": " 0.01MB of 0.01MB uploaded (0.00MB deduped)\r",
            "_view_count": null,
            "_view_module_version": "1.5.0",
            "description_tooltip": null,
            "_model_module": "@jupyter-widgets/controls",
            "layout": "IPY_MODEL_ea89adf938604ce583ac7710ddf1f54a"
          }
        },
        "9fdb8669a54c4576bc8de58c64fdd1b8": {
          "model_module": "@jupyter-widgets/controls",
          "model_name": "FloatProgressModel",
          "state": {
            "_view_name": "ProgressView",
            "style": "IPY_MODEL_2260bec0aa904eda9d9ef3be8a671061",
            "_dom_classes": [],
            "description": "",
            "_model_name": "FloatProgressModel",
            "bar_style": "",
            "max": 1,
            "_view_module": "@jupyter-widgets/controls",
            "_model_module_version": "1.5.0",
            "value": 1,
            "_view_count": null,
            "_view_module_version": "1.5.0",
            "orientation": "horizontal",
            "min": 0,
            "description_tooltip": null,
            "_model_module": "@jupyter-widgets/controls",
            "layout": "IPY_MODEL_a363111297aa4dd9a2ada21f478e574b"
          }
        },
        "213a9a2d698e4413ac3bd7cbbef86928": {
          "model_module": "@jupyter-widgets/controls",
          "model_name": "DescriptionStyleModel",
          "state": {
            "_view_name": "StyleView",
            "_model_name": "DescriptionStyleModel",
            "description_width": "",
            "_view_module": "@jupyter-widgets/base",
            "_model_module_version": "1.5.0",
            "_view_count": null,
            "_view_module_version": "1.2.0",
            "_model_module": "@jupyter-widgets/controls"
          }
        },
        "ea89adf938604ce583ac7710ddf1f54a": {
          "model_module": "@jupyter-widgets/base",
          "model_name": "LayoutModel",
          "state": {
            "_view_name": "LayoutView",
            "grid_template_rows": null,
            "right": null,
            "justify_content": null,
            "_view_module": "@jupyter-widgets/base",
            "overflow": null,
            "_model_module_version": "1.2.0",
            "_view_count": null,
            "flex_flow": null,
            "width": null,
            "min_width": null,
            "border": null,
            "align_items": null,
            "bottom": null,
            "_model_module": "@jupyter-widgets/base",
            "top": null,
            "grid_column": null,
            "overflow_y": null,
            "overflow_x": null,
            "grid_auto_flow": null,
            "grid_area": null,
            "grid_template_columns": null,
            "flex": null,
            "_model_name": "LayoutModel",
            "justify_items": null,
            "grid_row": null,
            "max_height": null,
            "align_content": null,
            "visibility": null,
            "align_self": null,
            "height": null,
            "min_height": null,
            "padding": null,
            "grid_auto_rows": null,
            "grid_gap": null,
            "max_width": null,
            "order": null,
            "_view_module_version": "1.2.0",
            "grid_template_areas": null,
            "object_position": null,
            "object_fit": null,
            "grid_auto_columns": null,
            "margin": null,
            "display": null,
            "left": null
          }
        },
        "2260bec0aa904eda9d9ef3be8a671061": {
          "model_module": "@jupyter-widgets/controls",
          "model_name": "ProgressStyleModel",
          "state": {
            "_view_name": "StyleView",
            "_model_name": "ProgressStyleModel",
            "description_width": "",
            "_view_module": "@jupyter-widgets/base",
            "_model_module_version": "1.5.0",
            "_view_count": null,
            "_view_module_version": "1.2.0",
            "bar_color": null,
            "_model_module": "@jupyter-widgets/controls"
          }
        },
        "a363111297aa4dd9a2ada21f478e574b": {
          "model_module": "@jupyter-widgets/base",
          "model_name": "LayoutModel",
          "state": {
            "_view_name": "LayoutView",
            "grid_template_rows": null,
            "right": null,
            "justify_content": null,
            "_view_module": "@jupyter-widgets/base",
            "overflow": null,
            "_model_module_version": "1.2.0",
            "_view_count": null,
            "flex_flow": null,
            "width": null,
            "min_width": null,
            "border": null,
            "align_items": null,
            "bottom": null,
            "_model_module": "@jupyter-widgets/base",
            "top": null,
            "grid_column": null,
            "overflow_y": null,
            "overflow_x": null,
            "grid_auto_flow": null,
            "grid_area": null,
            "grid_template_columns": null,
            "flex": null,
            "_model_name": "LayoutModel",
            "justify_items": null,
            "grid_row": null,
            "max_height": null,
            "align_content": null,
            "visibility": null,
            "align_self": null,
            "height": null,
            "min_height": null,
            "padding": null,
            "grid_auto_rows": null,
            "grid_gap": null,
            "max_width": null,
            "order": null,
            "_view_module_version": "1.2.0",
            "grid_template_areas": null,
            "object_position": null,
            "object_fit": null,
            "grid_auto_columns": null,
            "margin": null,
            "display": null,
            "left": null
          }
        },
        "d911c720c0c64ee38aba83009822091a": {
          "model_module": "@jupyter-widgets/controls",
          "model_name": "VBoxModel",
          "state": {
            "_view_name": "VBoxView",
            "_dom_classes": [],
            "_model_name": "VBoxModel",
            "_view_module": "@jupyter-widgets/controls",
            "_model_module_version": "1.5.0",
            "_view_count": null,
            "_view_module_version": "1.5.0",
            "box_style": "",
            "layout": "IPY_MODEL_776666a1802c4f5abdee2d617b9b032e",
            "_model_module": "@jupyter-widgets/controls",
            "children": [
              "IPY_MODEL_3391137b1f0348529c3b0fdfa3e2a9c9",
              "IPY_MODEL_2ba39e0a004a4cbcb081ca227d6cde96"
            ]
          }
        },
        "776666a1802c4f5abdee2d617b9b032e": {
          "model_module": "@jupyter-widgets/base",
          "model_name": "LayoutModel",
          "state": {
            "_view_name": "LayoutView",
            "grid_template_rows": null,
            "right": null,
            "justify_content": null,
            "_view_module": "@jupyter-widgets/base",
            "overflow": null,
            "_model_module_version": "1.2.0",
            "_view_count": null,
            "flex_flow": null,
            "width": null,
            "min_width": null,
            "border": null,
            "align_items": null,
            "bottom": null,
            "_model_module": "@jupyter-widgets/base",
            "top": null,
            "grid_column": null,
            "overflow_y": null,
            "overflow_x": null,
            "grid_auto_flow": null,
            "grid_area": null,
            "grid_template_columns": null,
            "flex": null,
            "_model_name": "LayoutModel",
            "justify_items": null,
            "grid_row": null,
            "max_height": null,
            "align_content": null,
            "visibility": null,
            "align_self": null,
            "height": null,
            "min_height": null,
            "padding": null,
            "grid_auto_rows": null,
            "grid_gap": null,
            "max_width": null,
            "order": null,
            "_view_module_version": "1.2.0",
            "grid_template_areas": null,
            "object_position": null,
            "object_fit": null,
            "grid_auto_columns": null,
            "margin": null,
            "display": null,
            "left": null
          }
        },
        "3391137b1f0348529c3b0fdfa3e2a9c9": {
          "model_module": "@jupyter-widgets/controls",
          "model_name": "LabelModel",
          "state": {
            "_view_name": "LabelView",
            "style": "IPY_MODEL_783eb4e3410748d99b3b7363fae011cb",
            "_dom_classes": [],
            "description": "",
            "_model_name": "LabelModel",
            "placeholder": "​",
            "_view_module": "@jupyter-widgets/controls",
            "_model_module_version": "1.5.0",
            "value": " 0.01MB of 0.01MB uploaded (0.00MB deduped)\r",
            "_view_count": null,
            "_view_module_version": "1.5.0",
            "description_tooltip": null,
            "_model_module": "@jupyter-widgets/controls",
            "layout": "IPY_MODEL_1f1ea9f6333144ffae5410f5f743a91b"
          }
        },
        "2ba39e0a004a4cbcb081ca227d6cde96": {
          "model_module": "@jupyter-widgets/controls",
          "model_name": "FloatProgressModel",
          "state": {
            "_view_name": "ProgressView",
            "style": "IPY_MODEL_a6790a1210404df8a9d23bfe2b890d21",
            "_dom_classes": [],
            "description": "",
            "_model_name": "FloatProgressModel",
            "bar_style": "",
            "max": 1,
            "_view_module": "@jupyter-widgets/controls",
            "_model_module_version": "1.5.0",
            "value": 1,
            "_view_count": null,
            "_view_module_version": "1.5.0",
            "orientation": "horizontal",
            "min": 0,
            "description_tooltip": null,
            "_model_module": "@jupyter-widgets/controls",
            "layout": "IPY_MODEL_e92d3d25410c4f189580a5183fc73725"
          }
        },
        "783eb4e3410748d99b3b7363fae011cb": {
          "model_module": "@jupyter-widgets/controls",
          "model_name": "DescriptionStyleModel",
          "state": {
            "_view_name": "StyleView",
            "_model_name": "DescriptionStyleModel",
            "description_width": "",
            "_view_module": "@jupyter-widgets/base",
            "_model_module_version": "1.5.0",
            "_view_count": null,
            "_view_module_version": "1.2.0",
            "_model_module": "@jupyter-widgets/controls"
          }
        },
        "1f1ea9f6333144ffae5410f5f743a91b": {
          "model_module": "@jupyter-widgets/base",
          "model_name": "LayoutModel",
          "state": {
            "_view_name": "LayoutView",
            "grid_template_rows": null,
            "right": null,
            "justify_content": null,
            "_view_module": "@jupyter-widgets/base",
            "overflow": null,
            "_model_module_version": "1.2.0",
            "_view_count": null,
            "flex_flow": null,
            "width": null,
            "min_width": null,
            "border": null,
            "align_items": null,
            "bottom": null,
            "_model_module": "@jupyter-widgets/base",
            "top": null,
            "grid_column": null,
            "overflow_y": null,
            "overflow_x": null,
            "grid_auto_flow": null,
            "grid_area": null,
            "grid_template_columns": null,
            "flex": null,
            "_model_name": "LayoutModel",
            "justify_items": null,
            "grid_row": null,
            "max_height": null,
            "align_content": null,
            "visibility": null,
            "align_self": null,
            "height": null,
            "min_height": null,
            "padding": null,
            "grid_auto_rows": null,
            "grid_gap": null,
            "max_width": null,
            "order": null,
            "_view_module_version": "1.2.0",
            "grid_template_areas": null,
            "object_position": null,
            "object_fit": null,
            "grid_auto_columns": null,
            "margin": null,
            "display": null,
            "left": null
          }
        },
        "a6790a1210404df8a9d23bfe2b890d21": {
          "model_module": "@jupyter-widgets/controls",
          "model_name": "ProgressStyleModel",
          "state": {
            "_view_name": "StyleView",
            "_model_name": "ProgressStyleModel",
            "description_width": "",
            "_view_module": "@jupyter-widgets/base",
            "_model_module_version": "1.5.0",
            "_view_count": null,
            "_view_module_version": "1.2.0",
            "bar_color": null,
            "_model_module": "@jupyter-widgets/controls"
          }
        },
        "e92d3d25410c4f189580a5183fc73725": {
          "model_module": "@jupyter-widgets/base",
          "model_name": "LayoutModel",
          "state": {
            "_view_name": "LayoutView",
            "grid_template_rows": null,
            "right": null,
            "justify_content": null,
            "_view_module": "@jupyter-widgets/base",
            "overflow": null,
            "_model_module_version": "1.2.0",
            "_view_count": null,
            "flex_flow": null,
            "width": null,
            "min_width": null,
            "border": null,
            "align_items": null,
            "bottom": null,
            "_model_module": "@jupyter-widgets/base",
            "top": null,
            "grid_column": null,
            "overflow_y": null,
            "overflow_x": null,
            "grid_auto_flow": null,
            "grid_area": null,
            "grid_template_columns": null,
            "flex": null,
            "_model_name": "LayoutModel",
            "justify_items": null,
            "grid_row": null,
            "max_height": null,
            "align_content": null,
            "visibility": null,
            "align_self": null,
            "height": null,
            "min_height": null,
            "padding": null,
            "grid_auto_rows": null,
            "grid_gap": null,
            "max_width": null,
            "order": null,
            "_view_module_version": "1.2.0",
            "grid_template_areas": null,
            "object_position": null,
            "object_fit": null,
            "grid_auto_columns": null,
            "margin": null,
            "display": null,
            "left": null
          }
        },
        "d685db2e07d049a9bb7981f4ced795b1": {
          "model_module": "@jupyter-widgets/controls",
          "model_name": "VBoxModel",
          "state": {
            "_view_name": "VBoxView",
            "_dom_classes": [],
            "_model_name": "VBoxModel",
            "_view_module": "@jupyter-widgets/controls",
            "_model_module_version": "1.5.0",
            "_view_count": null,
            "_view_module_version": "1.5.0",
            "box_style": "",
            "layout": "IPY_MODEL_310551d38cbc493db6563e0e3d9420eb",
            "_model_module": "@jupyter-widgets/controls",
            "children": [
              "IPY_MODEL_311997da1a2b4501b6df0cf0c8c490c0",
              "IPY_MODEL_ef517d59ced64a6c93f3959ff0fd6d11"
            ]
          }
        },
        "310551d38cbc493db6563e0e3d9420eb": {
          "model_module": "@jupyter-widgets/base",
          "model_name": "LayoutModel",
          "state": {
            "_view_name": "LayoutView",
            "grid_template_rows": null,
            "right": null,
            "justify_content": null,
            "_view_module": "@jupyter-widgets/base",
            "overflow": null,
            "_model_module_version": "1.2.0",
            "_view_count": null,
            "flex_flow": null,
            "width": null,
            "min_width": null,
            "border": null,
            "align_items": null,
            "bottom": null,
            "_model_module": "@jupyter-widgets/base",
            "top": null,
            "grid_column": null,
            "overflow_y": null,
            "overflow_x": null,
            "grid_auto_flow": null,
            "grid_area": null,
            "grid_template_columns": null,
            "flex": null,
            "_model_name": "LayoutModel",
            "justify_items": null,
            "grid_row": null,
            "max_height": null,
            "align_content": null,
            "visibility": null,
            "align_self": null,
            "height": null,
            "min_height": null,
            "padding": null,
            "grid_auto_rows": null,
            "grid_gap": null,
            "max_width": null,
            "order": null,
            "_view_module_version": "1.2.0",
            "grid_template_areas": null,
            "object_position": null,
            "object_fit": null,
            "grid_auto_columns": null,
            "margin": null,
            "display": null,
            "left": null
          }
        },
        "311997da1a2b4501b6df0cf0c8c490c0": {
          "model_module": "@jupyter-widgets/controls",
          "model_name": "LabelModel",
          "state": {
            "_view_name": "LabelView",
            "style": "IPY_MODEL_0b1e137eff9b4ec1ab20d1620c26e81d",
            "_dom_classes": [],
            "description": "",
            "_model_name": "LabelModel",
            "placeholder": "​",
            "_view_module": "@jupyter-widgets/controls",
            "_model_module_version": "1.5.0",
            "value": " 0.01MB of 0.01MB uploaded (0.00MB deduped)\r",
            "_view_count": null,
            "_view_module_version": "1.5.0",
            "description_tooltip": null,
            "_model_module": "@jupyter-widgets/controls",
            "layout": "IPY_MODEL_37c43d2e618c495e8c7a0ee3515cc6c1"
          }
        },
        "ef517d59ced64a6c93f3959ff0fd6d11": {
          "model_module": "@jupyter-widgets/controls",
          "model_name": "FloatProgressModel",
          "state": {
            "_view_name": "ProgressView",
            "style": "IPY_MODEL_251fcfc3192f49aaa8c53835418e8ea5",
            "_dom_classes": [],
            "description": "",
            "_model_name": "FloatProgressModel",
            "bar_style": "",
            "max": 1,
            "_view_module": "@jupyter-widgets/controls",
            "_model_module_version": "1.5.0",
            "value": 1,
            "_view_count": null,
            "_view_module_version": "1.5.0",
            "orientation": "horizontal",
            "min": 0,
            "description_tooltip": null,
            "_model_module": "@jupyter-widgets/controls",
            "layout": "IPY_MODEL_825313576c944a46bfbd37fcd4f81d9f"
          }
        },
        "0b1e137eff9b4ec1ab20d1620c26e81d": {
          "model_module": "@jupyter-widgets/controls",
          "model_name": "DescriptionStyleModel",
          "state": {
            "_view_name": "StyleView",
            "_model_name": "DescriptionStyleModel",
            "description_width": "",
            "_view_module": "@jupyter-widgets/base",
            "_model_module_version": "1.5.0",
            "_view_count": null,
            "_view_module_version": "1.2.0",
            "_model_module": "@jupyter-widgets/controls"
          }
        },
        "37c43d2e618c495e8c7a0ee3515cc6c1": {
          "model_module": "@jupyter-widgets/base",
          "model_name": "LayoutModel",
          "state": {
            "_view_name": "LayoutView",
            "grid_template_rows": null,
            "right": null,
            "justify_content": null,
            "_view_module": "@jupyter-widgets/base",
            "overflow": null,
            "_model_module_version": "1.2.0",
            "_view_count": null,
            "flex_flow": null,
            "width": null,
            "min_width": null,
            "border": null,
            "align_items": null,
            "bottom": null,
            "_model_module": "@jupyter-widgets/base",
            "top": null,
            "grid_column": null,
            "overflow_y": null,
            "overflow_x": null,
            "grid_auto_flow": null,
            "grid_area": null,
            "grid_template_columns": null,
            "flex": null,
            "_model_name": "LayoutModel",
            "justify_items": null,
            "grid_row": null,
            "max_height": null,
            "align_content": null,
            "visibility": null,
            "align_self": null,
            "height": null,
            "min_height": null,
            "padding": null,
            "grid_auto_rows": null,
            "grid_gap": null,
            "max_width": null,
            "order": null,
            "_view_module_version": "1.2.0",
            "grid_template_areas": null,
            "object_position": null,
            "object_fit": null,
            "grid_auto_columns": null,
            "margin": null,
            "display": null,
            "left": null
          }
        },
        "251fcfc3192f49aaa8c53835418e8ea5": {
          "model_module": "@jupyter-widgets/controls",
          "model_name": "ProgressStyleModel",
          "state": {
            "_view_name": "StyleView",
            "_model_name": "ProgressStyleModel",
            "description_width": "",
            "_view_module": "@jupyter-widgets/base",
            "_model_module_version": "1.5.0",
            "_view_count": null,
            "_view_module_version": "1.2.0",
            "bar_color": null,
            "_model_module": "@jupyter-widgets/controls"
          }
        },
        "825313576c944a46bfbd37fcd4f81d9f": {
          "model_module": "@jupyter-widgets/base",
          "model_name": "LayoutModel",
          "state": {
            "_view_name": "LayoutView",
            "grid_template_rows": null,
            "right": null,
            "justify_content": null,
            "_view_module": "@jupyter-widgets/base",
            "overflow": null,
            "_model_module_version": "1.2.0",
            "_view_count": null,
            "flex_flow": null,
            "width": null,
            "min_width": null,
            "border": null,
            "align_items": null,
            "bottom": null,
            "_model_module": "@jupyter-widgets/base",
            "top": null,
            "grid_column": null,
            "overflow_y": null,
            "overflow_x": null,
            "grid_auto_flow": null,
            "grid_area": null,
            "grid_template_columns": null,
            "flex": null,
            "_model_name": "LayoutModel",
            "justify_items": null,
            "grid_row": null,
            "max_height": null,
            "align_content": null,
            "visibility": null,
            "align_self": null,
            "height": null,
            "min_height": null,
            "padding": null,
            "grid_auto_rows": null,
            "grid_gap": null,
            "max_width": null,
            "order": null,
            "_view_module_version": "1.2.0",
            "grid_template_areas": null,
            "object_position": null,
            "object_fit": null,
            "grid_auto_columns": null,
            "margin": null,
            "display": null,
            "left": null
          }
        }
      }
    }
  },
  "cells": [
    {
      "cell_type": "markdown",
      "metadata": {
        "id": "KSVPpA6IGAB0"
      },
      "source": [
        "#CS6910: Deep Learning - Assignment 1"
      ]
    },
    {
      "cell_type": "markdown",
      "metadata": {
        "id": "wZOKIoxZGeou"
      },
      "source": [
        "Shibobrota Das (CS20M059) | Abhishek Kumar (CS20M007)"
      ]
    },
    {
      "cell_type": "code",
      "metadata": {
        "colab": {
          "base_uri": "https://localhost:8080/",
          "height": 764
        },
        "id": "Euissg86FpZq",
        "outputId": "5fa7651d-ac78-4d45-bdcc-afeeda54000f"
      },
      "source": [
        "!pip install wandb -qqq\n",
        "import wandb\n",
        "wandb.init(project='Assignment 1', entity='iitm-cs6910-jan-may-2021-cs20m059-cs20m007')"
      ],
      "execution_count": null,
      "outputs": [
        {
          "output_type": "stream",
          "text": [
            "Failed to detect the name of this notebook, you can set it manually with the WANDB_NOTEBOOK_NAME environment variable to enable code saving.\n",
            "wandb: Currently logged in as: cs20m059 (use `wandb login --relogin` to force relogin)\n"
          ],
          "name": "stderr"
        },
        {
          "output_type": "display_data",
          "data": {
            "text/plain": [
              "<IPython.core.display.HTML object>"
            ],
            "text/html": [
              "\n",
              "                Tracking run with wandb version 0.10.23<br/>\n",
              "                Syncing run <strong style=\"color:#cdcd00\">lucky-monkey-102</strong> to <a href=\"https://wandb.ai\" target=\"_blank\">Weights & Biases</a> <a href=\"https://docs.wandb.com/integrations/jupyter.html\" target=\"_blank\">(Documentation)</a>.<br/>\n",
              "                Project page: <a href=\"https://wandb.ai/iitm-cs6910-jan-may-2021-cs20m059-cs20m007/Assignment%201\" target=\"_blank\">https://wandb.ai/iitm-cs6910-jan-may-2021-cs20m059-cs20m007/Assignment%201</a><br/>\n",
              "                Run page: <a href=\"https://wandb.ai/iitm-cs6910-jan-may-2021-cs20m059-cs20m007/Assignment%201/runs/2gzq8th0\" target=\"_blank\">https://wandb.ai/iitm-cs6910-jan-may-2021-cs20m059-cs20m007/Assignment%201/runs/2gzq8th0</a><br/>\n",
              "                Run data is saved locally in <code>d:\\Deep Learning\\cs6910-assignments\\Assignment 1\\wandb\\run-20210327_151837-2gzq8th0</code><br/><br/>\n",
              "            "
            ]
          },
          "metadata": {
            "tags": []
          }
        },
        {
          "output_type": "execute_result",
          "data": {
            "text/html": [
              "<h1>Run(2gzq8th0)</h1><iframe src=\"https://wandb.ai/iitm-cs6910-jan-may-2021-cs20m059-cs20m007/Assignment%201/runs/2gzq8th0\" style=\"border:none;width:100%;height:400px\"></iframe>"
            ],
            "text/plain": [
              "<wandb.sdk.wandb_run.Run at 0x217b4476d30>"
            ]
          },
          "metadata": {
            "tags": []
          },
          "execution_count": 11
        }
      ]
    },
    {
      "cell_type": "code",
      "metadata": {
        "id": "AbwpAisDFuic"
      },
      "source": [
        "import numpy as np\n",
        "import matplotlib.pyplot as plt\n",
        "from keras.datasets import fashion_mnist\n",
        "from scipy.special import expit, softmax\n",
        "from sklearn.model_selection import train_test_split\n",
        "from sklearn.utils import shuffle"
      ],
      "execution_count": null,
      "outputs": []
    },
    {
      "cell_type": "code",
      "metadata": {
        "id": "Ygu1i2MBF5Vn"
      },
      "source": [
        "(train_x, train_y), (test_x, test_y)= fashion_mnist.load_data()\n",
        "classes = ['T-shirt/top', 'Trouser', 'Pullover', 'Dress', 'Coat','Sandal', 'Shirt', 'Sneaker', 'Bag', 'Ankle boot']"
      ],
      "execution_count": null,
      "outputs": []
    },
    {
      "cell_type": "markdown",
      "metadata": {
        "id": "0mYNKgCbGvFA"
      },
      "source": [
        "#Load Dataset from fashion_mnist and log one sample from each set"
      ]
    },
    {
      "cell_type": "code",
      "metadata": {
        "id": "ZfKh_Ju1F7f1",
        "outputId": "20791c10-7407-4791-b095-a1d9aa73a43d"
      },
      "source": [
        "class_values, unique_indices = np.unique(train_y, return_index=True)\n",
        "plt.figure(figsize=(10,10))\n",
        "labelled_images = {}\n",
        "for d in range(10):\n",
        "  plt.subplot(3, 4, d+1)\n",
        "  plt.imshow(train_x[unique_indices[d]], cmap=plt.get_cmap('gray'))\n",
        "  plt.xlabel(classes[class_values[d]])\n",
        "  labelled_images[classes[class_values[d]]] = train_x[unique_indices[d]]\n",
        "plt.show()"
      ],
      "execution_count": null,
      "outputs": [
        {
          "output_type": "display_data",
          "data": {
            "text/plain": [
              "<Figure size 720x720 with 10 Axes>"
            ],
            "image/svg+xml": "<?xml version=\"1.0\" encoding=\"utf-8\" standalone=\"no\"?>\r\n<!DOCTYPE svg PUBLIC \"-//W3C//DTD SVG 1.1//EN\"\r\n  \"http://www.w3.org/Graphics/SVG/1.1/DTD/svg11.dtd\">\r\n<!-- Created with matplotlib (https://matplotlib.org/) -->\r\n<svg height=\"551.411315pt\" version=\"1.1\" viewBox=\"0 0 592.125 551.411315\" width=\"592.125pt\" xmlns=\"http://www.w3.org/2000/svg\" xmlns:xlink=\"http://www.w3.org/1999/xlink\">\r\n <metadata>\r\n  <rdf:RDF xmlns:cc=\"http://creativecommons.org/ns#\" xmlns:dc=\"http://purl.org/dc/elements/1.1/\" xmlns:rdf=\"http://www.w3.org/1999/02/22-rdf-syntax-ns#\">\r\n   <cc:Work>\r\n    <dc:type rdf:resource=\"http://purl.org/dc/dcmitype/StillImage\"/>\r\n    <dc:date>2021-03-27T15:18:20.288833</dc:date>\r\n    <dc:format>image/svg+xml</dc:format>\r\n    <dc:creator>\r\n     <cc:Agent>\r\n      <dc:title>Matplotlib v3.3.4, https://matplotlib.org/</dc:title>\r\n     </cc:Agent>\r\n    </dc:creator>\r\n   </cc:Work>\r\n  </rdf:RDF>\r\n </metadata>\r\n <defs>\r\n  <style type=\"text/css\">*{stroke-linecap:butt;stroke-linejoin:round;}</style>\r\n </defs>\r\n <g id=\"figure_1\">\r\n  <g id=\"patch_1\">\r\n   <path d=\"M 0 551.411315 \r\nL 592.125 551.411315 \r\nL 592.125 0 \r\nL 0 0 \r\nz\r\n\" style=\"fill:none;\"/>\r\n  </g>\r\n  <g id=\"axes_1\">\r\n   <g id=\"patch_2\">\r\n    <path d=\"M 26.925 130.137418 \r\nL 148.229348 130.137418 \r\nL 148.229348 8.83307 \r\nL 26.925 8.83307 \r\nz\r\n\" style=\"fill:#ffffff;\"/>\r\n   </g>\r\n   <g clip-path=\"url(#pe7936b6a1b)\">\r\n    <image height=\"122\" id=\"imageff3f5f317a\" transform=\"scale(1 -1)translate(0 -122)\" width=\"122\" x=\"26.925\" xlink:href=\"data:image/png;base64,\r\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\" y=\"-8.137418\"/>\r\n   </g>\r\n   <g id=\"matplotlib.axis_1\">\r\n    <g id=\"xtick_1\">\r\n     <g id=\"line2d_1\">\r\n      <defs>\r\n       <path d=\"M 0 0 \r\nL 0 3.5 \r\n\" id=\"m5030bfa666\" style=\"stroke:#000000;stroke-width:0.8;\"/>\r\n      </defs>\r\n      <g>\r\n       <use style=\"stroke:#000000;stroke-width:0.8;\" x=\"29.091149\" xlink:href=\"#m5030bfa666\" y=\"130.137418\"/>\r\n      </g>\r\n     </g>\r\n     <g id=\"text_1\">\r\n      <!-- 0 -->\r\n      <g transform=\"translate(25.909899 144.735855)scale(0.1 -0.1)\">\r\n       <defs>\r\n        <path d=\"M 31.78125 66.40625 \r\nQ 24.171875 66.40625 20.328125 58.90625 \r\nQ 16.5 51.421875 16.5 36.375 \r\nQ 16.5 21.390625 20.328125 13.890625 \r\nQ 24.171875 6.390625 31.78125 6.390625 \r\nQ 39.453125 6.390625 43.28125 13.890625 \r\nQ 47.125 21.390625 47.125 36.375 \r\nQ 47.125 51.421875 43.28125 58.90625 \r\nQ 39.453125 66.40625 31.78125 66.40625 \r\nz\r\nM 31.78125 74.21875 \r\nQ 44.046875 74.21875 50.515625 64.515625 \r\nQ 56.984375 54.828125 56.984375 36.375 \r\nQ 56.984375 17.96875 50.515625 8.265625 \r\nQ 44.046875 -1.421875 31.78125 -1.421875 \r\nQ 19.53125 -1.421875 13.0625 8.265625 \r\nQ 6.59375 17.96875 6.59375 36.375 \r\nQ 6.59375 54.828125 13.0625 64.515625 \r\nQ 19.53125 74.21875 31.78125 74.21875 \r\nz\r\n\" id=\"DejaVuSans-48\"/>\r\n       </defs>\r\n       <use xlink:href=\"#DejaVuSans-48\"/>\r\n      </g>\r\n     </g>\r\n    </g>\r\n    <g id=\"xtick_2\">\r\n     <g id=\"line2d_2\">\r\n      <g>\r\n       <use style=\"stroke:#000000;stroke-width:0.8;\" x=\"72.41413\" xlink:href=\"#m5030bfa666\" y=\"130.137418\"/>\r\n      </g>\r\n     </g>\r\n     <g id=\"text_2\">\r\n      <!-- 10 -->\r\n      <g transform=\"translate(66.05163 144.735855)scale(0.1 -0.1)\">\r\n       <defs>\r\n        <path d=\"M 12.40625 8.296875 \r\nL 28.515625 8.296875 \r\nL 28.515625 63.921875 \r\nL 10.984375 60.40625 \r\nL 10.984375 69.390625 \r\nL 28.421875 72.90625 \r\nL 38.28125 72.90625 \r\nL 38.28125 8.296875 \r\nL 54.390625 8.296875 \r\nL 54.390625 0 \r\nL 12.40625 0 \r\nz\r\n\" id=\"DejaVuSans-49\"/>\r\n       </defs>\r\n       <use xlink:href=\"#DejaVuSans-49\"/>\r\n       <use x=\"63.623047\" xlink:href=\"#DejaVuSans-48\"/>\r\n      </g>\r\n     </g>\r\n    </g>\r\n    <g id=\"xtick_3\">\r\n     <g id=\"line2d_3\">\r\n      <g>\r\n       <use style=\"stroke:#000000;stroke-width:0.8;\" x=\"115.737112\" xlink:href=\"#m5030bfa666\" y=\"130.137418\"/>\r\n      </g>\r\n     </g>\r\n     <g id=\"text_3\">\r\n      <!-- 20 -->\r\n      <g transform=\"translate(109.374612 144.735855)scale(0.1 -0.1)\">\r\n       <defs>\r\n        <path d=\"M 19.1875 8.296875 \r\nL 53.609375 8.296875 \r\nL 53.609375 0 \r\nL 7.328125 0 \r\nL 7.328125 8.296875 \r\nQ 12.9375 14.109375 22.625 23.890625 \r\nQ 32.328125 33.6875 34.8125 36.53125 \r\nQ 39.546875 41.84375 41.421875 45.53125 \r\nQ 43.3125 49.21875 43.3125 52.78125 \r\nQ 43.3125 58.59375 39.234375 62.25 \r\nQ 35.15625 65.921875 28.609375 65.921875 \r\nQ 23.96875 65.921875 18.8125 64.3125 \r\nQ 13.671875 62.703125 7.8125 59.421875 \r\nL 7.8125 69.390625 \r\nQ 13.765625 71.78125 18.9375 73 \r\nQ 24.125 74.21875 28.421875 74.21875 \r\nQ 39.75 74.21875 46.484375 68.546875 \r\nQ 53.21875 62.890625 53.21875 53.421875 \r\nQ 53.21875 48.921875 51.53125 44.890625 \r\nQ 49.859375 40.875 45.40625 35.40625 \r\nQ 44.1875 33.984375 37.640625 27.21875 \r\nQ 31.109375 20.453125 19.1875 8.296875 \r\nz\r\n\" id=\"DejaVuSans-50\"/>\r\n       </defs>\r\n       <use xlink:href=\"#DejaVuSans-50\"/>\r\n       <use x=\"63.623047\" xlink:href=\"#DejaVuSans-48\"/>\r\n      </g>\r\n     </g>\r\n    </g>\r\n    <g id=\"text_4\">\r\n     <!-- T-shirt/top -->\r\n     <g transform=\"translate(62.119361 158.41398)scale(0.1 -0.1)\">\r\n      <defs>\r\n       <path d=\"M -0.296875 72.90625 \r\nL 61.375 72.90625 \r\nL 61.375 64.59375 \r\nL 35.5 64.59375 \r\nL 35.5 0 \r\nL 25.59375 0 \r\nL 25.59375 64.59375 \r\nL -0.296875 64.59375 \r\nz\r\n\" id=\"DejaVuSans-84\"/>\r\n       <path d=\"M 4.890625 31.390625 \r\nL 31.203125 31.390625 \r\nL 31.203125 23.390625 \r\nL 4.890625 23.390625 \r\nz\r\n\" id=\"DejaVuSans-45\"/>\r\n       <path d=\"M 44.28125 53.078125 \r\nL 44.28125 44.578125 \r\nQ 40.484375 46.53125 36.375 47.5 \r\nQ 32.28125 48.484375 27.875 48.484375 \r\nQ 21.1875 48.484375 17.84375 46.4375 \r\nQ 14.5 44.390625 14.5 40.28125 \r\nQ 14.5 37.15625 16.890625 35.375 \r\nQ 19.28125 33.59375 26.515625 31.984375 \r\nL 29.59375 31.296875 \r\nQ 39.15625 29.25 43.1875 25.515625 \r\nQ 47.21875 21.78125 47.21875 15.09375 \r\nQ 47.21875 7.46875 41.1875 3.015625 \r\nQ 35.15625 -1.421875 24.609375 -1.421875 \r\nQ 20.21875 -1.421875 15.453125 -0.5625 \r\nQ 10.6875 0.296875 5.421875 2 \r\nL 5.421875 11.28125 \r\nQ 10.40625 8.6875 15.234375 7.390625 \r\nQ 20.0625 6.109375 24.8125 6.109375 \r\nQ 31.15625 6.109375 34.5625 8.28125 \r\nQ 37.984375 10.453125 37.984375 14.40625 \r\nQ 37.984375 18.0625 35.515625 20.015625 \r\nQ 33.0625 21.96875 24.703125 23.78125 \r\nL 21.578125 24.515625 \r\nQ 13.234375 26.265625 9.515625 29.90625 \r\nQ 5.8125 33.546875 5.8125 39.890625 \r\nQ 5.8125 47.609375 11.28125 51.796875 \r\nQ 16.75 56 26.8125 56 \r\nQ 31.78125 56 36.171875 55.265625 \r\nQ 40.578125 54.546875 44.28125 53.078125 \r\nz\r\n\" id=\"DejaVuSans-115\"/>\r\n       <path d=\"M 54.890625 33.015625 \r\nL 54.890625 0 \r\nL 45.90625 0 \r\nL 45.90625 32.71875 \r\nQ 45.90625 40.484375 42.875 44.328125 \r\nQ 39.84375 48.1875 33.796875 48.1875 \r\nQ 26.515625 48.1875 22.3125 43.546875 \r\nQ 18.109375 38.921875 18.109375 30.90625 \r\nL 18.109375 0 \r\nL 9.078125 0 \r\nL 9.078125 75.984375 \r\nL 18.109375 75.984375 \r\nL 18.109375 46.1875 \r\nQ 21.34375 51.125 25.703125 53.5625 \r\nQ 30.078125 56 35.796875 56 \r\nQ 45.21875 56 50.046875 50.171875 \r\nQ 54.890625 44.34375 54.890625 33.015625 \r\nz\r\n\" id=\"DejaVuSans-104\"/>\r\n       <path d=\"M 9.421875 54.6875 \r\nL 18.40625 54.6875 \r\nL 18.40625 0 \r\nL 9.421875 0 \r\nz\r\nM 9.421875 75.984375 \r\nL 18.40625 75.984375 \r\nL 18.40625 64.59375 \r\nL 9.421875 64.59375 \r\nz\r\n\" id=\"DejaVuSans-105\"/>\r\n       <path d=\"M 41.109375 46.296875 \r\nQ 39.59375 47.171875 37.8125 47.578125 \r\nQ 36.03125 48 33.890625 48 \r\nQ 26.265625 48 22.1875 43.046875 \r\nQ 18.109375 38.09375 18.109375 28.8125 \r\nL 18.109375 0 \r\nL 9.078125 0 \r\nL 9.078125 54.6875 \r\nL 18.109375 54.6875 \r\nL 18.109375 46.1875 \r\nQ 20.953125 51.171875 25.484375 53.578125 \r\nQ 30.03125 56 36.53125 56 \r\nQ 37.453125 56 38.578125 55.875 \r\nQ 39.703125 55.765625 41.0625 55.515625 \r\nz\r\n\" id=\"DejaVuSans-114\"/>\r\n       <path d=\"M 18.3125 70.21875 \r\nL 18.3125 54.6875 \r\nL 36.8125 54.6875 \r\nL 36.8125 47.703125 \r\nL 18.3125 47.703125 \r\nL 18.3125 18.015625 \r\nQ 18.3125 11.328125 20.140625 9.421875 \r\nQ 21.96875 7.515625 27.59375 7.515625 \r\nL 36.8125 7.515625 \r\nL 36.8125 0 \r\nL 27.59375 0 \r\nQ 17.1875 0 13.234375 3.875 \r\nQ 9.28125 7.765625 9.28125 18.015625 \r\nL 9.28125 47.703125 \r\nL 2.6875 47.703125 \r\nL 2.6875 54.6875 \r\nL 9.28125 54.6875 \r\nL 9.28125 70.21875 \r\nz\r\n\" id=\"DejaVuSans-116\"/>\r\n       <path d=\"M 25.390625 72.90625 \r\nL 33.6875 72.90625 \r\nL 8.296875 -9.28125 \r\nL 0 -9.28125 \r\nz\r\n\" id=\"DejaVuSans-47\"/>\r\n       <path d=\"M 30.609375 48.390625 \r\nQ 23.390625 48.390625 19.1875 42.75 \r\nQ 14.984375 37.109375 14.984375 27.296875 \r\nQ 14.984375 17.484375 19.15625 11.84375 \r\nQ 23.34375 6.203125 30.609375 6.203125 \r\nQ 37.796875 6.203125 41.984375 11.859375 \r\nQ 46.1875 17.53125 46.1875 27.296875 \r\nQ 46.1875 37.015625 41.984375 42.703125 \r\nQ 37.796875 48.390625 30.609375 48.390625 \r\nz\r\nM 30.609375 56 \r\nQ 42.328125 56 49.015625 48.375 \r\nQ 55.71875 40.765625 55.71875 27.296875 \r\nQ 55.71875 13.875 49.015625 6.21875 \r\nQ 42.328125 -1.421875 30.609375 -1.421875 \r\nQ 18.84375 -1.421875 12.171875 6.21875 \r\nQ 5.515625 13.875 5.515625 27.296875 \r\nQ 5.515625 40.765625 12.171875 48.375 \r\nQ 18.84375 56 30.609375 56 \r\nz\r\n\" id=\"DejaVuSans-111\"/>\r\n       <path d=\"M 18.109375 8.203125 \r\nL 18.109375 -20.796875 \r\nL 9.078125 -20.796875 \r\nL 9.078125 54.6875 \r\nL 18.109375 54.6875 \r\nL 18.109375 46.390625 \r\nQ 20.953125 51.265625 25.265625 53.625 \r\nQ 29.59375 56 35.59375 56 \r\nQ 45.5625 56 51.78125 48.09375 \r\nQ 58.015625 40.1875 58.015625 27.296875 \r\nQ 58.015625 14.40625 51.78125 6.484375 \r\nQ 45.5625 -1.421875 35.59375 -1.421875 \r\nQ 29.59375 -1.421875 25.265625 0.953125 \r\nQ 20.953125 3.328125 18.109375 8.203125 \r\nz\r\nM 48.6875 27.296875 \r\nQ 48.6875 37.203125 44.609375 42.84375 \r\nQ 40.53125 48.484375 33.40625 48.484375 \r\nQ 26.265625 48.484375 22.1875 42.84375 \r\nQ 18.109375 37.203125 18.109375 27.296875 \r\nQ 18.109375 17.390625 22.1875 11.75 \r\nQ 26.265625 6.109375 33.40625 6.109375 \r\nQ 40.53125 6.109375 44.609375 11.75 \r\nQ 48.6875 17.390625 48.6875 27.296875 \r\nz\r\n\" id=\"DejaVuSans-112\"/>\r\n      </defs>\r\n      <use xlink:href=\"#DejaVuSans-84\"/>\r\n      <use x=\"51.958984\" xlink:href=\"#DejaVuSans-45\"/>\r\n      <use x=\"88.042969\" xlink:href=\"#DejaVuSans-115\"/>\r\n      <use x=\"140.142578\" xlink:href=\"#DejaVuSans-104\"/>\r\n      <use x=\"203.521484\" xlink:href=\"#DejaVuSans-105\"/>\r\n      <use x=\"231.304688\" xlink:href=\"#DejaVuSans-114\"/>\r\n      <use x=\"272.417969\" xlink:href=\"#DejaVuSans-116\"/>\r\n      <use x=\"311.626953\" xlink:href=\"#DejaVuSans-47\"/>\r\n      <use x=\"345.318359\" xlink:href=\"#DejaVuSans-116\"/>\r\n      <use x=\"384.527344\" xlink:href=\"#DejaVuSans-111\"/>\r\n      <use x=\"445.708984\" xlink:href=\"#DejaVuSans-112\"/>\r\n     </g>\r\n    </g>\r\n   </g>\r\n   <g id=\"matplotlib.axis_2\">\r\n    <g id=\"ytick_1\">\r\n     <g id=\"line2d_4\">\r\n      <defs>\r\n       <path d=\"M 0 0 \r\nL -3.5 0 \r\n\" id=\"m943523593e\" style=\"stroke:#000000;stroke-width:0.8;\"/>\r\n      </defs>\r\n      <g>\r\n       <use style=\"stroke:#000000;stroke-width:0.8;\" x=\"26.925\" xlink:href=\"#m943523593e\" y=\"10.999219\"/>\r\n      </g>\r\n     </g>\r\n     <g id=\"text_5\">\r\n      <!-- 0 -->\r\n      <g transform=\"translate(13.5625 14.798437)scale(0.1 -0.1)\">\r\n       <use xlink:href=\"#DejaVuSans-48\"/>\r\n      </g>\r\n     </g>\r\n    </g>\r\n    <g id=\"ytick_2\">\r\n     <g id=\"line2d_5\">\r\n      <g>\r\n       <use style=\"stroke:#000000;stroke-width:0.8;\" x=\"26.925\" xlink:href=\"#m943523593e\" y=\"32.660709\"/>\r\n      </g>\r\n     </g>\r\n     <g id=\"text_6\">\r\n      <!-- 5 -->\r\n      <g transform=\"translate(13.5625 36.459928)scale(0.1 -0.1)\">\r\n       <defs>\r\n        <path d=\"M 10.796875 72.90625 \r\nL 49.515625 72.90625 \r\nL 49.515625 64.59375 \r\nL 19.828125 64.59375 \r\nL 19.828125 46.734375 \r\nQ 21.96875 47.46875 24.109375 47.828125 \r\nQ 26.265625 48.1875 28.421875 48.1875 \r\nQ 40.625 48.1875 47.75 41.5 \r\nQ 54.890625 34.8125 54.890625 23.390625 \r\nQ 54.890625 11.625 47.5625 5.09375 \r\nQ 40.234375 -1.421875 26.90625 -1.421875 \r\nQ 22.3125 -1.421875 17.546875 -0.640625 \r\nQ 12.796875 0.140625 7.71875 1.703125 \r\nL 7.71875 11.625 \r\nQ 12.109375 9.234375 16.796875 8.0625 \r\nQ 21.484375 6.890625 26.703125 6.890625 \r\nQ 35.15625 6.890625 40.078125 11.328125 \r\nQ 45.015625 15.765625 45.015625 23.390625 \r\nQ 45.015625 31 40.078125 35.4375 \r\nQ 35.15625 39.890625 26.703125 39.890625 \r\nQ 22.75 39.890625 18.8125 39.015625 \r\nQ 14.890625 38.140625 10.796875 36.28125 \r\nz\r\n\" id=\"DejaVuSans-53\"/>\r\n       </defs>\r\n       <use xlink:href=\"#DejaVuSans-53\"/>\r\n      </g>\r\n     </g>\r\n    </g>\r\n    <g id=\"ytick_3\">\r\n     <g id=\"line2d_6\">\r\n      <g>\r\n       <use style=\"stroke:#000000;stroke-width:0.8;\" x=\"26.925\" xlink:href=\"#m943523593e\" y=\"54.3222\"/>\r\n      </g>\r\n     </g>\r\n     <g id=\"text_7\">\r\n      <!-- 10 -->\r\n      <g transform=\"translate(7.2 58.121419)scale(0.1 -0.1)\">\r\n       <use xlink:href=\"#DejaVuSans-49\"/>\r\n       <use x=\"63.623047\" xlink:href=\"#DejaVuSans-48\"/>\r\n      </g>\r\n     </g>\r\n    </g>\r\n    <g id=\"ytick_4\">\r\n     <g id=\"line2d_7\">\r\n      <g>\r\n       <use style=\"stroke:#000000;stroke-width:0.8;\" x=\"26.925\" xlink:href=\"#m943523593e\" y=\"75.983691\"/>\r\n      </g>\r\n     </g>\r\n     <g id=\"text_8\">\r\n      <!-- 15 -->\r\n      <g transform=\"translate(7.2 79.78291)scale(0.1 -0.1)\">\r\n       <use xlink:href=\"#DejaVuSans-49\"/>\r\n       <use x=\"63.623047\" xlink:href=\"#DejaVuSans-53\"/>\r\n      </g>\r\n     </g>\r\n    </g>\r\n    <g id=\"ytick_5\">\r\n     <g id=\"line2d_8\">\r\n      <g>\r\n       <use style=\"stroke:#000000;stroke-width:0.8;\" x=\"26.925\" xlink:href=\"#m943523593e\" y=\"97.645181\"/>\r\n      </g>\r\n     </g>\r\n     <g id=\"text_9\">\r\n      <!-- 20 -->\r\n      <g transform=\"translate(7.2 101.4444)scale(0.1 -0.1)\">\r\n       <use xlink:href=\"#DejaVuSans-50\"/>\r\n       <use x=\"63.623047\" xlink:href=\"#DejaVuSans-48\"/>\r\n      </g>\r\n     </g>\r\n    </g>\r\n    <g id=\"ytick_6\">\r\n     <g id=\"line2d_9\">\r\n      <g>\r\n       <use style=\"stroke:#000000;stroke-width:0.8;\" x=\"26.925\" xlink:href=\"#m943523593e\" y=\"119.306672\"/>\r\n      </g>\r\n     </g>\r\n     <g id=\"text_10\">\r\n      <!-- 25 -->\r\n      <g transform=\"translate(7.2 123.105891)scale(0.1 -0.1)\">\r\n       <use xlink:href=\"#DejaVuSans-50\"/>\r\n       <use x=\"63.623047\" xlink:href=\"#DejaVuSans-53\"/>\r\n      </g>\r\n     </g>\r\n    </g>\r\n   </g>\r\n   <g id=\"patch_3\">\r\n    <path d=\"M 26.925 130.137418 \r\nL 26.925 8.83307 \r\n\" style=\"fill:none;stroke:#000000;stroke-linecap:square;stroke-linejoin:miter;stroke-width:0.8;\"/>\r\n   </g>\r\n   <g id=\"patch_4\">\r\n    <path d=\"M 148.229348 130.137418 \r\nL 148.229348 8.83307 \r\n\" style=\"fill:none;stroke:#000000;stroke-linecap:square;stroke-linejoin:miter;stroke-width:0.8;\"/>\r\n   </g>\r\n   <g id=\"patch_5\">\r\n    <path d=\"M 26.925 130.137418 \r\nL 148.229348 130.137418 \r\n\" style=\"fill:none;stroke:#000000;stroke-linecap:square;stroke-linejoin:miter;stroke-width:0.8;\"/>\r\n   </g>\r\n   <g id=\"patch_6\">\r\n    <path d=\"M 26.925 8.83307 \r\nL 148.229348 8.83307 \r\n\" style=\"fill:none;stroke:#000000;stroke-linecap:square;stroke-linejoin:miter;stroke-width:0.8;\"/>\r\n   </g>\r\n  </g>\r\n  <g id=\"axes_2\">\r\n   <g id=\"patch_7\">\r\n    <path d=\"M 172.490217 130.137418 \r\nL 293.794565 130.137418 \r\nL 293.794565 8.83307 \r\nL 172.490217 8.83307 \r\nz\r\n\" style=\"fill:#ffffff;\"/>\r\n   </g>\r\n   <g clip-path=\"url(#pd52a5944d7)\">\r\n    <image height=\"122\" id=\"image6d4ca21160\" transform=\"scale(1 -1)translate(0 -122)\" width=\"122\" x=\"172.490217\" xlink:href=\"data:image/png;base64,\r\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\" y=\"-8.137418\"/>\r\n   </g>\r\n   <g id=\"matplotlib.axis_3\">\r\n    <g id=\"xtick_4\">\r\n     <g id=\"line2d_10\">\r\n      <g>\r\n       <use style=\"stroke:#000000;stroke-width:0.8;\" x=\"174.656366\" xlink:href=\"#m5030bfa666\" y=\"130.137418\"/>\r\n      </g>\r\n     </g>\r\n     <g id=\"text_11\">\r\n      <!-- 0 -->\r\n      <g transform=\"translate(171.475116 144.735855)scale(0.1 -0.1)\">\r\n       <use xlink:href=\"#DejaVuSans-48\"/>\r\n      </g>\r\n     </g>\r\n    </g>\r\n    <g id=\"xtick_5\">\r\n     <g id=\"line2d_11\">\r\n      <g>\r\n       <use style=\"stroke:#000000;stroke-width:0.8;\" x=\"217.979348\" xlink:href=\"#m5030bfa666\" y=\"130.137418\"/>\r\n      </g>\r\n     </g>\r\n     <g id=\"text_12\">\r\n      <!-- 10 -->\r\n      <g transform=\"translate(211.616848 144.735855)scale(0.1 -0.1)\">\r\n       <use xlink:href=\"#DejaVuSans-49\"/>\r\n       <use x=\"63.623047\" xlink:href=\"#DejaVuSans-48\"/>\r\n      </g>\r\n     </g>\r\n    </g>\r\n    <g id=\"xtick_6\">\r\n     <g id=\"line2d_12\">\r\n      <g>\r\n       <use style=\"stroke:#000000;stroke-width:0.8;\" x=\"261.302329\" xlink:href=\"#m5030bfa666\" y=\"130.137418\"/>\r\n      </g>\r\n     </g>\r\n     <g id=\"text_13\">\r\n      <!-- 20 -->\r\n      <g transform=\"translate(254.939829 144.735855)scale(0.1 -0.1)\">\r\n       <use xlink:href=\"#DejaVuSans-50\"/>\r\n       <use x=\"63.623047\" xlink:href=\"#DejaVuSans-48\"/>\r\n      </g>\r\n     </g>\r\n    </g>\r\n    <g id=\"text_14\">\r\n     <!-- Trouser -->\r\n     <g transform=\"translate(214.918173 158.41398)scale(0.1 -0.1)\">\r\n      <defs>\r\n       <path d=\"M 8.5 21.578125 \r\nL 8.5 54.6875 \r\nL 17.484375 54.6875 \r\nL 17.484375 21.921875 \r\nQ 17.484375 14.15625 20.5 10.265625 \r\nQ 23.53125 6.390625 29.59375 6.390625 \r\nQ 36.859375 6.390625 41.078125 11.03125 \r\nQ 45.3125 15.671875 45.3125 23.6875 \r\nL 45.3125 54.6875 \r\nL 54.296875 54.6875 \r\nL 54.296875 0 \r\nL 45.3125 0 \r\nL 45.3125 8.40625 \r\nQ 42.046875 3.421875 37.71875 1 \r\nQ 33.40625 -1.421875 27.6875 -1.421875 \r\nQ 18.265625 -1.421875 13.375 4.4375 \r\nQ 8.5 10.296875 8.5 21.578125 \r\nz\r\nM 31.109375 56 \r\nz\r\n\" id=\"DejaVuSans-117\"/>\r\n       <path d=\"M 56.203125 29.59375 \r\nL 56.203125 25.203125 \r\nL 14.890625 25.203125 \r\nQ 15.484375 15.921875 20.484375 11.0625 \r\nQ 25.484375 6.203125 34.421875 6.203125 \r\nQ 39.59375 6.203125 44.453125 7.46875 \r\nQ 49.3125 8.734375 54.109375 11.28125 \r\nL 54.109375 2.78125 \r\nQ 49.265625 0.734375 44.1875 -0.34375 \r\nQ 39.109375 -1.421875 33.890625 -1.421875 \r\nQ 20.796875 -1.421875 13.15625 6.1875 \r\nQ 5.515625 13.8125 5.515625 26.8125 \r\nQ 5.515625 40.234375 12.765625 48.109375 \r\nQ 20.015625 56 32.328125 56 \r\nQ 43.359375 56 49.78125 48.890625 \r\nQ 56.203125 41.796875 56.203125 29.59375 \r\nz\r\nM 47.21875 32.234375 \r\nQ 47.125 39.59375 43.09375 43.984375 \r\nQ 39.0625 48.390625 32.421875 48.390625 \r\nQ 24.90625 48.390625 20.390625 44.140625 \r\nQ 15.875 39.890625 15.1875 32.171875 \r\nz\r\n\" id=\"DejaVuSans-101\"/>\r\n      </defs>\r\n      <use xlink:href=\"#DejaVuSans-84\"/>\r\n      <use x=\"46.333984\" xlink:href=\"#DejaVuSans-114\"/>\r\n      <use x=\"85.197266\" xlink:href=\"#DejaVuSans-111\"/>\r\n      <use x=\"146.378906\" xlink:href=\"#DejaVuSans-117\"/>\r\n      <use x=\"209.757812\" xlink:href=\"#DejaVuSans-115\"/>\r\n      <use x=\"261.857422\" xlink:href=\"#DejaVuSans-101\"/>\r\n      <use x=\"323.380859\" xlink:href=\"#DejaVuSans-114\"/>\r\n     </g>\r\n    </g>\r\n   </g>\r\n   <g id=\"matplotlib.axis_4\">\r\n    <g id=\"ytick_7\">\r\n     <g id=\"line2d_13\">\r\n      <g>\r\n       <use style=\"stroke:#000000;stroke-width:0.8;\" x=\"172.490217\" xlink:href=\"#m943523593e\" y=\"10.999219\"/>\r\n      </g>\r\n     </g>\r\n     <g id=\"text_15\">\r\n      <!-- 0 -->\r\n      <g transform=\"translate(159.127717 14.798437)scale(0.1 -0.1)\">\r\n       <use xlink:href=\"#DejaVuSans-48\"/>\r\n      </g>\r\n     </g>\r\n    </g>\r\n    <g id=\"ytick_8\">\r\n     <g id=\"line2d_14\">\r\n      <g>\r\n       <use style=\"stroke:#000000;stroke-width:0.8;\" x=\"172.490217\" xlink:href=\"#m943523593e\" y=\"32.660709\"/>\r\n      </g>\r\n     </g>\r\n     <g id=\"text_16\">\r\n      <!-- 5 -->\r\n      <g transform=\"translate(159.127717 36.459928)scale(0.1 -0.1)\">\r\n       <use xlink:href=\"#DejaVuSans-53\"/>\r\n      </g>\r\n     </g>\r\n    </g>\r\n    <g id=\"ytick_9\">\r\n     <g id=\"line2d_15\">\r\n      <g>\r\n       <use style=\"stroke:#000000;stroke-width:0.8;\" x=\"172.490217\" xlink:href=\"#m943523593e\" y=\"54.3222\"/>\r\n      </g>\r\n     </g>\r\n     <g id=\"text_17\">\r\n      <!-- 10 -->\r\n      <g transform=\"translate(152.765217 58.121419)scale(0.1 -0.1)\">\r\n       <use xlink:href=\"#DejaVuSans-49\"/>\r\n       <use x=\"63.623047\" xlink:href=\"#DejaVuSans-48\"/>\r\n      </g>\r\n     </g>\r\n    </g>\r\n    <g id=\"ytick_10\">\r\n     <g id=\"line2d_16\">\r\n      <g>\r\n       <use style=\"stroke:#000000;stroke-width:0.8;\" x=\"172.490217\" xlink:href=\"#m943523593e\" y=\"75.983691\"/>\r\n      </g>\r\n     </g>\r\n     <g id=\"text_18\">\r\n      <!-- 15 -->\r\n      <g transform=\"translate(152.765217 79.78291)scale(0.1 -0.1)\">\r\n       <use xlink:href=\"#DejaVuSans-49\"/>\r\n       <use x=\"63.623047\" xlink:href=\"#DejaVuSans-53\"/>\r\n      </g>\r\n     </g>\r\n    </g>\r\n    <g id=\"ytick_11\">\r\n     <g id=\"line2d_17\">\r\n      <g>\r\n       <use style=\"stroke:#000000;stroke-width:0.8;\" x=\"172.490217\" xlink:href=\"#m943523593e\" y=\"97.645181\"/>\r\n      </g>\r\n     </g>\r\n     <g id=\"text_19\">\r\n      <!-- 20 -->\r\n      <g transform=\"translate(152.765217 101.4444)scale(0.1 -0.1)\">\r\n       <use xlink:href=\"#DejaVuSans-50\"/>\r\n       <use x=\"63.623047\" xlink:href=\"#DejaVuSans-48\"/>\r\n      </g>\r\n     </g>\r\n    </g>\r\n    <g id=\"ytick_12\">\r\n     <g id=\"line2d_18\">\r\n      <g>\r\n       <use style=\"stroke:#000000;stroke-width:0.8;\" x=\"172.490217\" xlink:href=\"#m943523593e\" y=\"119.306672\"/>\r\n      </g>\r\n     </g>\r\n     <g id=\"text_20\">\r\n      <!-- 25 -->\r\n      <g transform=\"translate(152.765217 123.105891)scale(0.1 -0.1)\">\r\n       <use xlink:href=\"#DejaVuSans-50\"/>\r\n       <use x=\"63.623047\" xlink:href=\"#DejaVuSans-53\"/>\r\n      </g>\r\n     </g>\r\n    </g>\r\n   </g>\r\n   <g id=\"patch_8\">\r\n    <path d=\"M 172.490217 130.137418 \r\nL 172.490217 8.83307 \r\n\" style=\"fill:none;stroke:#000000;stroke-linecap:square;stroke-linejoin:miter;stroke-width:0.8;\"/>\r\n   </g>\r\n   <g id=\"patch_9\">\r\n    <path d=\"M 293.794565 130.137418 \r\nL 293.794565 8.83307 \r\n\" style=\"fill:none;stroke:#000000;stroke-linecap:square;stroke-linejoin:miter;stroke-width:0.8;\"/>\r\n   </g>\r\n   <g id=\"patch_10\">\r\n    <path d=\"M 172.490217 130.137418 \r\nL 293.794565 130.137418 \r\n\" style=\"fill:none;stroke:#000000;stroke-linecap:square;stroke-linejoin:miter;stroke-width:0.8;\"/>\r\n   </g>\r\n   <g id=\"patch_11\">\r\n    <path d=\"M 172.490217 8.83307 \r\nL 293.794565 8.83307 \r\n\" style=\"fill:none;stroke:#000000;stroke-linecap:square;stroke-linejoin:miter;stroke-width:0.8;\"/>\r\n   </g>\r\n  </g>\r\n  <g id=\"axes_3\">\r\n   <g id=\"patch_12\">\r\n    <path d=\"M 318.055435 130.137418 \r\nL 439.359783 130.137418 \r\nL 439.359783 8.83307 \r\nL 318.055435 8.83307 \r\nz\r\n\" style=\"fill:#ffffff;\"/>\r\n   </g>\r\n   <g clip-path=\"url(#pb270b9db74)\">\r\n    <image height=\"122\" id=\"imagee2f8f30b1a\" transform=\"scale(1 -1)translate(0 -122)\" width=\"122\" x=\"318.055435\" xlink:href=\"data:image/png;base64,\r\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\" y=\"-8.137418\"/>\r\n   </g>\r\n   <g id=\"matplotlib.axis_5\">\r\n    <g id=\"xtick_7\">\r\n     <g id=\"line2d_19\">\r\n      <g>\r\n       <use style=\"stroke:#000000;stroke-width:0.8;\" x=\"320.221584\" xlink:href=\"#m5030bfa666\" y=\"130.137418\"/>\r\n      </g>\r\n     </g>\r\n     <g id=\"text_21\">\r\n      <!-- 0 -->\r\n      <g transform=\"translate(317.040334 144.735855)scale(0.1 -0.1)\">\r\n       <use xlink:href=\"#DejaVuSans-48\"/>\r\n      </g>\r\n     </g>\r\n    </g>\r\n    <g id=\"xtick_8\">\r\n     <g id=\"line2d_20\">\r\n      <g>\r\n       <use style=\"stroke:#000000;stroke-width:0.8;\" x=\"363.544565\" xlink:href=\"#m5030bfa666\" y=\"130.137418\"/>\r\n      </g>\r\n     </g>\r\n     <g id=\"text_22\">\r\n      <!-- 10 -->\r\n      <g transform=\"translate(357.182065 144.735855)scale(0.1 -0.1)\">\r\n       <use xlink:href=\"#DejaVuSans-49\"/>\r\n       <use x=\"63.623047\" xlink:href=\"#DejaVuSans-48\"/>\r\n      </g>\r\n     </g>\r\n    </g>\r\n    <g id=\"xtick_9\">\r\n     <g id=\"line2d_21\">\r\n      <g>\r\n       <use style=\"stroke:#000000;stroke-width:0.8;\" x=\"406.867547\" xlink:href=\"#m5030bfa666\" y=\"130.137418\"/>\r\n      </g>\r\n     </g>\r\n     <g id=\"text_23\">\r\n      <!-- 20 -->\r\n      <g transform=\"translate(400.505047 144.735855)scale(0.1 -0.1)\">\r\n       <use xlink:href=\"#DejaVuSans-50\"/>\r\n       <use x=\"63.623047\" xlink:href=\"#DejaVuSans-48\"/>\r\n      </g>\r\n     </g>\r\n    </g>\r\n    <g id=\"text_24\">\r\n     <!-- Pullover -->\r\n     <g transform=\"translate(358.682609 158.41398)scale(0.1 -0.1)\">\r\n      <defs>\r\n       <path d=\"M 19.671875 64.796875 \r\nL 19.671875 37.40625 \r\nL 32.078125 37.40625 \r\nQ 38.96875 37.40625 42.71875 40.96875 \r\nQ 46.484375 44.53125 46.484375 51.125 \r\nQ 46.484375 57.671875 42.71875 61.234375 \r\nQ 38.96875 64.796875 32.078125 64.796875 \r\nz\r\nM 9.8125 72.90625 \r\nL 32.078125 72.90625 \r\nQ 44.34375 72.90625 50.609375 67.359375 \r\nQ 56.890625 61.8125 56.890625 51.125 \r\nQ 56.890625 40.328125 50.609375 34.8125 \r\nQ 44.34375 29.296875 32.078125 29.296875 \r\nL 19.671875 29.296875 \r\nL 19.671875 0 \r\nL 9.8125 0 \r\nz\r\n\" id=\"DejaVuSans-80\"/>\r\n       <path d=\"M 9.421875 75.984375 \r\nL 18.40625 75.984375 \r\nL 18.40625 0 \r\nL 9.421875 0 \r\nz\r\n\" id=\"DejaVuSans-108\"/>\r\n       <path d=\"M 2.984375 54.6875 \r\nL 12.5 54.6875 \r\nL 29.59375 8.796875 \r\nL 46.6875 54.6875 \r\nL 56.203125 54.6875 \r\nL 35.6875 0 \r\nL 23.484375 0 \r\nz\r\n\" id=\"DejaVuSans-118\"/>\r\n      </defs>\r\n      <use xlink:href=\"#DejaVuSans-80\"/>\r\n      <use x=\"58.552734\" xlink:href=\"#DejaVuSans-117\"/>\r\n      <use x=\"121.931641\" xlink:href=\"#DejaVuSans-108\"/>\r\n      <use x=\"149.714844\" xlink:href=\"#DejaVuSans-108\"/>\r\n      <use x=\"177.498047\" xlink:href=\"#DejaVuSans-111\"/>\r\n      <use x=\"238.679688\" xlink:href=\"#DejaVuSans-118\"/>\r\n      <use x=\"297.859375\" xlink:href=\"#DejaVuSans-101\"/>\r\n      <use x=\"359.382812\" xlink:href=\"#DejaVuSans-114\"/>\r\n     </g>\r\n    </g>\r\n   </g>\r\n   <g id=\"matplotlib.axis_6\">\r\n    <g id=\"ytick_13\">\r\n     <g id=\"line2d_22\">\r\n      <g>\r\n       <use style=\"stroke:#000000;stroke-width:0.8;\" x=\"318.055435\" xlink:href=\"#m943523593e\" y=\"10.999219\"/>\r\n      </g>\r\n     </g>\r\n     <g id=\"text_25\">\r\n      <!-- 0 -->\r\n      <g transform=\"translate(304.692935 14.798437)scale(0.1 -0.1)\">\r\n       <use xlink:href=\"#DejaVuSans-48\"/>\r\n      </g>\r\n     </g>\r\n    </g>\r\n    <g id=\"ytick_14\">\r\n     <g id=\"line2d_23\">\r\n      <g>\r\n       <use style=\"stroke:#000000;stroke-width:0.8;\" x=\"318.055435\" xlink:href=\"#m943523593e\" y=\"32.660709\"/>\r\n      </g>\r\n     </g>\r\n     <g id=\"text_26\">\r\n      <!-- 5 -->\r\n      <g transform=\"translate(304.692935 36.459928)scale(0.1 -0.1)\">\r\n       <use xlink:href=\"#DejaVuSans-53\"/>\r\n      </g>\r\n     </g>\r\n    </g>\r\n    <g id=\"ytick_15\">\r\n     <g id=\"line2d_24\">\r\n      <g>\r\n       <use style=\"stroke:#000000;stroke-width:0.8;\" x=\"318.055435\" xlink:href=\"#m943523593e\" y=\"54.3222\"/>\r\n      </g>\r\n     </g>\r\n     <g id=\"text_27\">\r\n      <!-- 10 -->\r\n      <g transform=\"translate(298.330435 58.121419)scale(0.1 -0.1)\">\r\n       <use xlink:href=\"#DejaVuSans-49\"/>\r\n       <use x=\"63.623047\" xlink:href=\"#DejaVuSans-48\"/>\r\n      </g>\r\n     </g>\r\n    </g>\r\n    <g id=\"ytick_16\">\r\n     <g id=\"line2d_25\">\r\n      <g>\r\n       <use style=\"stroke:#000000;stroke-width:0.8;\" x=\"318.055435\" xlink:href=\"#m943523593e\" y=\"75.983691\"/>\r\n      </g>\r\n     </g>\r\n     <g id=\"text_28\">\r\n      <!-- 15 -->\r\n      <g transform=\"translate(298.330435 79.78291)scale(0.1 -0.1)\">\r\n       <use xlink:href=\"#DejaVuSans-49\"/>\r\n       <use x=\"63.623047\" xlink:href=\"#DejaVuSans-53\"/>\r\n      </g>\r\n     </g>\r\n    </g>\r\n    <g id=\"ytick_17\">\r\n     <g id=\"line2d_26\">\r\n      <g>\r\n       <use style=\"stroke:#000000;stroke-width:0.8;\" x=\"318.055435\" xlink:href=\"#m943523593e\" y=\"97.645181\"/>\r\n      </g>\r\n     </g>\r\n     <g id=\"text_29\">\r\n      <!-- 20 -->\r\n      <g transform=\"translate(298.330435 101.4444)scale(0.1 -0.1)\">\r\n       <use xlink:href=\"#DejaVuSans-50\"/>\r\n       <use x=\"63.623047\" xlink:href=\"#DejaVuSans-48\"/>\r\n      </g>\r\n     </g>\r\n    </g>\r\n    <g id=\"ytick_18\">\r\n     <g id=\"line2d_27\">\r\n      <g>\r\n       <use style=\"stroke:#000000;stroke-width:0.8;\" x=\"318.055435\" xlink:href=\"#m943523593e\" y=\"119.306672\"/>\r\n      </g>\r\n     </g>\r\n     <g id=\"text_30\">\r\n      <!-- 25 -->\r\n      <g transform=\"translate(298.330435 123.105891)scale(0.1 -0.1)\">\r\n       <use xlink:href=\"#DejaVuSans-50\"/>\r\n       <use x=\"63.623047\" xlink:href=\"#DejaVuSans-53\"/>\r\n      </g>\r\n     </g>\r\n    </g>\r\n   </g>\r\n   <g id=\"patch_13\">\r\n    <path d=\"M 318.055435 130.137418 \r\nL 318.055435 8.83307 \r\n\" style=\"fill:none;stroke:#000000;stroke-linecap:square;stroke-linejoin:miter;stroke-width:0.8;\"/>\r\n   </g>\r\n   <g id=\"patch_14\">\r\n    <path d=\"M 439.359783 130.137418 \r\nL 439.359783 8.83307 \r\n\" style=\"fill:none;stroke:#000000;stroke-linecap:square;stroke-linejoin:miter;stroke-width:0.8;\"/>\r\n   </g>\r\n   <g id=\"patch_15\">\r\n    <path d=\"M 318.055435 130.137418 \r\nL 439.359783 130.137418 \r\n\" style=\"fill:none;stroke:#000000;stroke-linecap:square;stroke-linejoin:miter;stroke-width:0.8;\"/>\r\n   </g>\r\n   <g id=\"patch_16\">\r\n    <path d=\"M 318.055435 8.83307 \r\nL 439.359783 8.83307 \r\n\" style=\"fill:none;stroke:#000000;stroke-linecap:square;stroke-linejoin:miter;stroke-width:0.8;\"/>\r\n   </g>\r\n  </g>\r\n  <g id=\"axes_4\">\r\n   <g id=\"patch_17\">\r\n    <path d=\"M 463.620652 130.137418 \r\nL 584.925 130.137418 \r\nL 584.925 8.83307 \r\nL 463.620652 8.83307 \r\nz\r\n\" style=\"fill:#ffffff;\"/>\r\n   </g>\r\n   <g clip-path=\"url(#pf1ad4f2943)\">\r\n    <image height=\"122\" id=\"image27eb349340\" transform=\"scale(1 -1)translate(0 -122)\" width=\"122\" x=\"463.620652\" xlink:href=\"data:image/png;base64,\r\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\" y=\"-8.137418\"/>\r\n   </g>\r\n   <g id=\"matplotlib.axis_7\">\r\n    <g id=\"xtick_10\">\r\n     <g id=\"line2d_28\">\r\n      <g>\r\n       <use style=\"stroke:#000000;stroke-width:0.8;\" x=\"465.786801\" xlink:href=\"#m5030bfa666\" y=\"130.137418\"/>\r\n      </g>\r\n     </g>\r\n     <g id=\"text_31\">\r\n      <!-- 0 -->\r\n      <g transform=\"translate(462.605551 144.735855)scale(0.1 -0.1)\">\r\n       <use xlink:href=\"#DejaVuSans-48\"/>\r\n      </g>\r\n     </g>\r\n    </g>\r\n    <g id=\"xtick_11\">\r\n     <g id=\"line2d_29\">\r\n      <g>\r\n       <use style=\"stroke:#000000;stroke-width:0.8;\" x=\"509.109783\" xlink:href=\"#m5030bfa666\" y=\"130.137418\"/>\r\n      </g>\r\n     </g>\r\n     <g id=\"text_32\">\r\n      <!-- 10 -->\r\n      <g transform=\"translate(502.747283 144.735855)scale(0.1 -0.1)\">\r\n       <use xlink:href=\"#DejaVuSans-49\"/>\r\n       <use x=\"63.623047\" xlink:href=\"#DejaVuSans-48\"/>\r\n      </g>\r\n     </g>\r\n    </g>\r\n    <g id=\"xtick_12\">\r\n     <g id=\"line2d_30\">\r\n      <g>\r\n       <use style=\"stroke:#000000;stroke-width:0.8;\" x=\"552.432764\" xlink:href=\"#m5030bfa666\" y=\"130.137418\"/>\r\n      </g>\r\n     </g>\r\n     <g id=\"text_33\">\r\n      <!-- 20 -->\r\n      <g transform=\"translate(546.070264 144.735855)scale(0.1 -0.1)\">\r\n       <use xlink:href=\"#DejaVuSans-50\"/>\r\n       <use x=\"63.623047\" xlink:href=\"#DejaVuSans-48\"/>\r\n      </g>\r\n     </g>\r\n    </g>\r\n    <g id=\"text_34\">\r\n     <!-- Dress -->\r\n     <g transform=\"translate(510.19392 158.41398)scale(0.1 -0.1)\">\r\n      <defs>\r\n       <path d=\"M 19.671875 64.796875 \r\nL 19.671875 8.109375 \r\nL 31.59375 8.109375 \r\nQ 46.6875 8.109375 53.6875 14.9375 \r\nQ 60.6875 21.78125 60.6875 36.53125 \r\nQ 60.6875 51.171875 53.6875 57.984375 \r\nQ 46.6875 64.796875 31.59375 64.796875 \r\nz\r\nM 9.8125 72.90625 \r\nL 30.078125 72.90625 \r\nQ 51.265625 72.90625 61.171875 64.09375 \r\nQ 71.09375 55.28125 71.09375 36.53125 \r\nQ 71.09375 17.671875 61.125 8.828125 \r\nQ 51.171875 0 30.078125 0 \r\nL 9.8125 0 \r\nz\r\n\" id=\"DejaVuSans-68\"/>\r\n      </defs>\r\n      <use xlink:href=\"#DejaVuSans-68\"/>\r\n      <use x=\"77.001953\" xlink:href=\"#DejaVuSans-114\"/>\r\n      <use x=\"115.865234\" xlink:href=\"#DejaVuSans-101\"/>\r\n      <use x=\"177.388672\" xlink:href=\"#DejaVuSans-115\"/>\r\n      <use x=\"229.488281\" xlink:href=\"#DejaVuSans-115\"/>\r\n     </g>\r\n    </g>\r\n   </g>\r\n   <g id=\"matplotlib.axis_8\">\r\n    <g id=\"ytick_19\">\r\n     <g id=\"line2d_31\">\r\n      <g>\r\n       <use style=\"stroke:#000000;stroke-width:0.8;\" x=\"463.620652\" xlink:href=\"#m943523593e\" y=\"10.999219\"/>\r\n      </g>\r\n     </g>\r\n     <g id=\"text_35\">\r\n      <!-- 0 -->\r\n      <g transform=\"translate(450.258152 14.798437)scale(0.1 -0.1)\">\r\n       <use xlink:href=\"#DejaVuSans-48\"/>\r\n      </g>\r\n     </g>\r\n    </g>\r\n    <g id=\"ytick_20\">\r\n     <g id=\"line2d_32\">\r\n      <g>\r\n       <use style=\"stroke:#000000;stroke-width:0.8;\" x=\"463.620652\" xlink:href=\"#m943523593e\" y=\"32.660709\"/>\r\n      </g>\r\n     </g>\r\n     <g id=\"text_36\">\r\n      <!-- 5 -->\r\n      <g transform=\"translate(450.258152 36.459928)scale(0.1 -0.1)\">\r\n       <use xlink:href=\"#DejaVuSans-53\"/>\r\n      </g>\r\n     </g>\r\n    </g>\r\n    <g id=\"ytick_21\">\r\n     <g id=\"line2d_33\">\r\n      <g>\r\n       <use style=\"stroke:#000000;stroke-width:0.8;\" x=\"463.620652\" xlink:href=\"#m943523593e\" y=\"54.3222\"/>\r\n      </g>\r\n     </g>\r\n     <g id=\"text_37\">\r\n      <!-- 10 -->\r\n      <g transform=\"translate(443.895652 58.121419)scale(0.1 -0.1)\">\r\n       <use xlink:href=\"#DejaVuSans-49\"/>\r\n       <use x=\"63.623047\" xlink:href=\"#DejaVuSans-48\"/>\r\n      </g>\r\n     </g>\r\n    </g>\r\n    <g id=\"ytick_22\">\r\n     <g id=\"line2d_34\">\r\n      <g>\r\n       <use style=\"stroke:#000000;stroke-width:0.8;\" x=\"463.620652\" xlink:href=\"#m943523593e\" y=\"75.983691\"/>\r\n      </g>\r\n     </g>\r\n     <g id=\"text_38\">\r\n      <!-- 15 -->\r\n      <g transform=\"translate(443.895652 79.78291)scale(0.1 -0.1)\">\r\n       <use xlink:href=\"#DejaVuSans-49\"/>\r\n       <use x=\"63.623047\" xlink:href=\"#DejaVuSans-53\"/>\r\n      </g>\r\n     </g>\r\n    </g>\r\n    <g id=\"ytick_23\">\r\n     <g id=\"line2d_35\">\r\n      <g>\r\n       <use style=\"stroke:#000000;stroke-width:0.8;\" x=\"463.620652\" xlink:href=\"#m943523593e\" y=\"97.645181\"/>\r\n      </g>\r\n     </g>\r\n     <g id=\"text_39\">\r\n      <!-- 20 -->\r\n      <g transform=\"translate(443.895652 101.4444)scale(0.1 -0.1)\">\r\n       <use xlink:href=\"#DejaVuSans-50\"/>\r\n       <use x=\"63.623047\" xlink:href=\"#DejaVuSans-48\"/>\r\n      </g>\r\n     </g>\r\n    </g>\r\n    <g id=\"ytick_24\">\r\n     <g id=\"line2d_36\">\r\n      <g>\r\n       <use style=\"stroke:#000000;stroke-width:0.8;\" x=\"463.620652\" xlink:href=\"#m943523593e\" y=\"119.306672\"/>\r\n      </g>\r\n     </g>\r\n     <g id=\"text_40\">\r\n      <!-- 25 -->\r\n      <g transform=\"translate(443.895652 123.105891)scale(0.1 -0.1)\">\r\n       <use xlink:href=\"#DejaVuSans-50\"/>\r\n       <use x=\"63.623047\" xlink:href=\"#DejaVuSans-53\"/>\r\n      </g>\r\n     </g>\r\n    </g>\r\n   </g>\r\n   <g id=\"patch_18\">\r\n    <path d=\"M 463.620652 130.137418 \r\nL 463.620652 8.83307 \r\n\" style=\"fill:none;stroke:#000000;stroke-linecap:square;stroke-linejoin:miter;stroke-width:0.8;\"/>\r\n   </g>\r\n   <g id=\"patch_19\">\r\n    <path d=\"M 584.925 130.137418 \r\nL 584.925 8.83307 \r\n\" style=\"fill:none;stroke:#000000;stroke-linecap:square;stroke-linejoin:miter;stroke-width:0.8;\"/>\r\n   </g>\r\n   <g id=\"patch_20\">\r\n    <path d=\"M 463.620652 130.137418 \r\nL 584.925 130.137418 \r\n\" style=\"fill:none;stroke:#000000;stroke-linecap:square;stroke-linejoin:miter;stroke-width:0.8;\"/>\r\n   </g>\r\n   <g id=\"patch_21\">\r\n    <path d=\"M 463.620652 8.83307 \r\nL 584.925 8.83307 \r\n\" style=\"fill:none;stroke:#000000;stroke-linecap:square;stroke-linejoin:miter;stroke-width:0.8;\"/>\r\n   </g>\r\n  </g>\r\n  <g id=\"axes_5\">\r\n   <g id=\"patch_22\">\r\n    <path d=\"M 26.925 321.996241 \r\nL 148.229348 321.996241 \r\nL 148.229348 200.691893 \r\nL 26.925 200.691893 \r\nz\r\n\" style=\"fill:#ffffff;\"/>\r\n   </g>\r\n   <g clip-path=\"url(#p6b11f88cc6)\">\r\n    <image height=\"122\" id=\"imaged1ab26c926\" transform=\"scale(1 -1)translate(0 -122)\" width=\"122\" x=\"26.925\" xlink:href=\"data:image/png;base64,\r\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\" y=\"-199.996241\"/>\r\n   </g>\r\n   <g id=\"matplotlib.axis_9\">\r\n    <g id=\"xtick_13\">\r\n     <g id=\"line2d_37\">\r\n      <g>\r\n       <use style=\"stroke:#000000;stroke-width:0.8;\" x=\"29.091149\" xlink:href=\"#m5030bfa666\" y=\"321.996241\"/>\r\n      </g>\r\n     </g>\r\n     <g id=\"text_41\">\r\n      <!-- 0 -->\r\n      <g transform=\"translate(25.909899 336.594679)scale(0.1 -0.1)\">\r\n       <use xlink:href=\"#DejaVuSans-48\"/>\r\n      </g>\r\n     </g>\r\n    </g>\r\n    <g id=\"xtick_14\">\r\n     <g id=\"line2d_38\">\r\n      <g>\r\n       <use style=\"stroke:#000000;stroke-width:0.8;\" x=\"72.41413\" xlink:href=\"#m5030bfa666\" y=\"321.996241\"/>\r\n      </g>\r\n     </g>\r\n     <g id=\"text_42\">\r\n      <!-- 10 -->\r\n      <g transform=\"translate(66.05163 336.594679)scale(0.1 -0.1)\">\r\n       <use xlink:href=\"#DejaVuSans-49\"/>\r\n       <use x=\"63.623047\" xlink:href=\"#DejaVuSans-48\"/>\r\n      </g>\r\n     </g>\r\n    </g>\r\n    <g id=\"xtick_15\">\r\n     <g id=\"line2d_39\">\r\n      <g>\r\n       <use style=\"stroke:#000000;stroke-width:0.8;\" x=\"115.737112\" xlink:href=\"#m5030bfa666\" y=\"321.996241\"/>\r\n      </g>\r\n     </g>\r\n     <g id=\"text_43\">\r\n      <!-- 20 -->\r\n      <g transform=\"translate(109.374612 336.594679)scale(0.1 -0.1)\">\r\n       <use xlink:href=\"#DejaVuSans-50\"/>\r\n       <use x=\"63.623047\" xlink:href=\"#DejaVuSans-48\"/>\r\n      </g>\r\n     </g>\r\n    </g>\r\n    <g id=\"text_44\">\r\n     <!-- Coat -->\r\n     <g transform=\"translate(76.002174 350.272804)scale(0.1 -0.1)\">\r\n      <defs>\r\n       <path d=\"M 64.40625 67.28125 \r\nL 64.40625 56.890625 \r\nQ 59.421875 61.53125 53.78125 63.8125 \r\nQ 48.140625 66.109375 41.796875 66.109375 \r\nQ 29.296875 66.109375 22.65625 58.46875 \r\nQ 16.015625 50.828125 16.015625 36.375 \r\nQ 16.015625 21.96875 22.65625 14.328125 \r\nQ 29.296875 6.6875 41.796875 6.6875 \r\nQ 48.140625 6.6875 53.78125 8.984375 \r\nQ 59.421875 11.28125 64.40625 15.921875 \r\nL 64.40625 5.609375 \r\nQ 59.234375 2.09375 53.4375 0.328125 \r\nQ 47.65625 -1.421875 41.21875 -1.421875 \r\nQ 24.65625 -1.421875 15.125 8.703125 \r\nQ 5.609375 18.84375 5.609375 36.375 \r\nQ 5.609375 53.953125 15.125 64.078125 \r\nQ 24.65625 74.21875 41.21875 74.21875 \r\nQ 47.75 74.21875 53.53125 72.484375 \r\nQ 59.328125 70.75 64.40625 67.28125 \r\nz\r\n\" id=\"DejaVuSans-67\"/>\r\n       <path d=\"M 34.28125 27.484375 \r\nQ 23.390625 27.484375 19.1875 25 \r\nQ 14.984375 22.515625 14.984375 16.5 \r\nQ 14.984375 11.71875 18.140625 8.90625 \r\nQ 21.296875 6.109375 26.703125 6.109375 \r\nQ 34.1875 6.109375 38.703125 11.40625 \r\nQ 43.21875 16.703125 43.21875 25.484375 \r\nL 43.21875 27.484375 \r\nz\r\nM 52.203125 31.203125 \r\nL 52.203125 0 \r\nL 43.21875 0 \r\nL 43.21875 8.296875 \r\nQ 40.140625 3.328125 35.546875 0.953125 \r\nQ 30.953125 -1.421875 24.3125 -1.421875 \r\nQ 15.921875 -1.421875 10.953125 3.296875 \r\nQ 6 8.015625 6 15.921875 \r\nQ 6 25.140625 12.171875 29.828125 \r\nQ 18.359375 34.515625 30.609375 34.515625 \r\nL 43.21875 34.515625 \r\nL 43.21875 35.40625 \r\nQ 43.21875 41.609375 39.140625 45 \r\nQ 35.0625 48.390625 27.6875 48.390625 \r\nQ 23 48.390625 18.546875 47.265625 \r\nQ 14.109375 46.140625 10.015625 43.890625 \r\nL 10.015625 52.203125 \r\nQ 14.9375 54.109375 19.578125 55.046875 \r\nQ 24.21875 56 28.609375 56 \r\nQ 40.484375 56 46.34375 49.84375 \r\nQ 52.203125 43.703125 52.203125 31.203125 \r\nz\r\n\" id=\"DejaVuSans-97\"/>\r\n      </defs>\r\n      <use xlink:href=\"#DejaVuSans-67\"/>\r\n      <use x=\"69.824219\" xlink:href=\"#DejaVuSans-111\"/>\r\n      <use x=\"131.005859\" xlink:href=\"#DejaVuSans-97\"/>\r\n      <use x=\"192.285156\" xlink:href=\"#DejaVuSans-116\"/>\r\n     </g>\r\n    </g>\r\n   </g>\r\n   <g id=\"matplotlib.axis_10\">\r\n    <g id=\"ytick_25\">\r\n     <g id=\"line2d_40\">\r\n      <g>\r\n       <use style=\"stroke:#000000;stroke-width:0.8;\" x=\"26.925\" xlink:href=\"#m943523593e\" y=\"202.858042\"/>\r\n      </g>\r\n     </g>\r\n     <g id=\"text_45\">\r\n      <!-- 0 -->\r\n      <g transform=\"translate(13.5625 206.657261)scale(0.1 -0.1)\">\r\n       <use xlink:href=\"#DejaVuSans-48\"/>\r\n      </g>\r\n     </g>\r\n    </g>\r\n    <g id=\"ytick_26\">\r\n     <g id=\"line2d_41\">\r\n      <g>\r\n       <use style=\"stroke:#000000;stroke-width:0.8;\" x=\"26.925\" xlink:href=\"#m943523593e\" y=\"224.519533\"/>\r\n      </g>\r\n     </g>\r\n     <g id=\"text_46\">\r\n      <!-- 5 -->\r\n      <g transform=\"translate(13.5625 228.318752)scale(0.1 -0.1)\">\r\n       <use xlink:href=\"#DejaVuSans-53\"/>\r\n      </g>\r\n     </g>\r\n    </g>\r\n    <g id=\"ytick_27\">\r\n     <g id=\"line2d_42\">\r\n      <g>\r\n       <use style=\"stroke:#000000;stroke-width:0.8;\" x=\"26.925\" xlink:href=\"#m943523593e\" y=\"246.181024\"/>\r\n      </g>\r\n     </g>\r\n     <g id=\"text_47\">\r\n      <!-- 10 -->\r\n      <g transform=\"translate(7.2 249.980242)scale(0.1 -0.1)\">\r\n       <use xlink:href=\"#DejaVuSans-49\"/>\r\n       <use x=\"63.623047\" xlink:href=\"#DejaVuSans-48\"/>\r\n      </g>\r\n     </g>\r\n    </g>\r\n    <g id=\"ytick_28\">\r\n     <g id=\"line2d_43\">\r\n      <g>\r\n       <use style=\"stroke:#000000;stroke-width:0.8;\" x=\"26.925\" xlink:href=\"#m943523593e\" y=\"267.842514\"/>\r\n      </g>\r\n     </g>\r\n     <g id=\"text_48\">\r\n      <!-- 15 -->\r\n      <g transform=\"translate(7.2 271.641733)scale(0.1 -0.1)\">\r\n       <use xlink:href=\"#DejaVuSans-49\"/>\r\n       <use x=\"63.623047\" xlink:href=\"#DejaVuSans-53\"/>\r\n      </g>\r\n     </g>\r\n    </g>\r\n    <g id=\"ytick_29\">\r\n     <g id=\"line2d_44\">\r\n      <g>\r\n       <use style=\"stroke:#000000;stroke-width:0.8;\" x=\"26.925\" xlink:href=\"#m943523593e\" y=\"289.504005\"/>\r\n      </g>\r\n     </g>\r\n     <g id=\"text_49\">\r\n      <!-- 20 -->\r\n      <g transform=\"translate(7.2 293.303224)scale(0.1 -0.1)\">\r\n       <use xlink:href=\"#DejaVuSans-50\"/>\r\n       <use x=\"63.623047\" xlink:href=\"#DejaVuSans-48\"/>\r\n      </g>\r\n     </g>\r\n    </g>\r\n    <g id=\"ytick_30\">\r\n     <g id=\"line2d_45\">\r\n      <g>\r\n       <use style=\"stroke:#000000;stroke-width:0.8;\" x=\"26.925\" xlink:href=\"#m943523593e\" y=\"311.165496\"/>\r\n      </g>\r\n     </g>\r\n     <g id=\"text_50\">\r\n      <!-- 25 -->\r\n      <g transform=\"translate(7.2 314.964714)scale(0.1 -0.1)\">\r\n       <use xlink:href=\"#DejaVuSans-50\"/>\r\n       <use x=\"63.623047\" xlink:href=\"#DejaVuSans-53\"/>\r\n      </g>\r\n     </g>\r\n    </g>\r\n   </g>\r\n   <g id=\"patch_23\">\r\n    <path d=\"M 26.925 321.996241 \r\nL 26.925 200.691893 \r\n\" style=\"fill:none;stroke:#000000;stroke-linecap:square;stroke-linejoin:miter;stroke-width:0.8;\"/>\r\n   </g>\r\n   <g id=\"patch_24\">\r\n    <path d=\"M 148.229348 321.996241 \r\nL 148.229348 200.691893 \r\n\" style=\"fill:none;stroke:#000000;stroke-linecap:square;stroke-linejoin:miter;stroke-width:0.8;\"/>\r\n   </g>\r\n   <g id=\"patch_25\">\r\n    <path d=\"M 26.925 321.996241 \r\nL 148.229348 321.996241 \r\n\" style=\"fill:none;stroke:#000000;stroke-linecap:square;stroke-linejoin:miter;stroke-width:0.8;\"/>\r\n   </g>\r\n   <g id=\"patch_26\">\r\n    <path d=\"M 26.925 200.691893 \r\nL 148.229348 200.691893 \r\n\" style=\"fill:none;stroke:#000000;stroke-linecap:square;stroke-linejoin:miter;stroke-width:0.8;\"/>\r\n   </g>\r\n  </g>\r\n  <g id=\"axes_6\">\r\n   <g id=\"patch_27\">\r\n    <path d=\"M 172.490217 321.996241 \r\nL 293.794565 321.996241 \r\nL 293.794565 200.691893 \r\nL 172.490217 200.691893 \r\nz\r\n\" style=\"fill:#ffffff;\"/>\r\n   </g>\r\n   <g clip-path=\"url(#peccafcb354)\">\r\n    <image height=\"122\" id=\"image5bb2d27d05\" transform=\"scale(1 -1)translate(0 -122)\" width=\"122\" x=\"172.490217\" xlink:href=\"data:image/png;base64,\r\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\" y=\"-199.996241\"/>\r\n   </g>\r\n   <g id=\"matplotlib.axis_11\">\r\n    <g id=\"xtick_16\">\r\n     <g id=\"line2d_46\">\r\n      <g>\r\n       <use style=\"stroke:#000000;stroke-width:0.8;\" x=\"174.656366\" xlink:href=\"#m5030bfa666\" y=\"321.996241\"/>\r\n      </g>\r\n     </g>\r\n     <g id=\"text_51\">\r\n      <!-- 0 -->\r\n      <g transform=\"translate(171.475116 336.594679)scale(0.1 -0.1)\">\r\n       <use xlink:href=\"#DejaVuSans-48\"/>\r\n      </g>\r\n     </g>\r\n    </g>\r\n    <g id=\"xtick_17\">\r\n     <g id=\"line2d_47\">\r\n      <g>\r\n       <use style=\"stroke:#000000;stroke-width:0.8;\" x=\"217.979348\" xlink:href=\"#m5030bfa666\" y=\"321.996241\"/>\r\n      </g>\r\n     </g>\r\n     <g id=\"text_52\">\r\n      <!-- 10 -->\r\n      <g transform=\"translate(211.616848 336.594679)scale(0.1 -0.1)\">\r\n       <use xlink:href=\"#DejaVuSans-49\"/>\r\n       <use x=\"63.623047\" xlink:href=\"#DejaVuSans-48\"/>\r\n      </g>\r\n     </g>\r\n    </g>\r\n    <g id=\"xtick_18\">\r\n     <g id=\"line2d_48\">\r\n      <g>\r\n       <use style=\"stroke:#000000;stroke-width:0.8;\" x=\"261.302329\" xlink:href=\"#m5030bfa666\" y=\"321.996241\"/>\r\n      </g>\r\n     </g>\r\n     <g id=\"text_53\">\r\n      <!-- 20 -->\r\n      <g transform=\"translate(254.939829 336.594679)scale(0.1 -0.1)\">\r\n       <use xlink:href=\"#DejaVuSans-50\"/>\r\n       <use x=\"63.623047\" xlink:href=\"#DejaVuSans-48\"/>\r\n      </g>\r\n     </g>\r\n    </g>\r\n    <g id=\"text_54\">\r\n     <!-- Sandal -->\r\n     <g transform=\"translate(216.108016 350.272804)scale(0.1 -0.1)\">\r\n      <defs>\r\n       <path d=\"M 53.515625 70.515625 \r\nL 53.515625 60.890625 \r\nQ 47.90625 63.578125 42.921875 64.890625 \r\nQ 37.9375 66.21875 33.296875 66.21875 \r\nQ 25.25 66.21875 20.875 63.09375 \r\nQ 16.5 59.96875 16.5 54.203125 \r\nQ 16.5 49.359375 19.40625 46.890625 \r\nQ 22.3125 44.4375 30.421875 42.921875 \r\nL 36.375 41.703125 \r\nQ 47.40625 39.59375 52.65625 34.296875 \r\nQ 57.90625 29 57.90625 20.125 \r\nQ 57.90625 9.515625 50.796875 4.046875 \r\nQ 43.703125 -1.421875 29.984375 -1.421875 \r\nQ 24.8125 -1.421875 18.96875 -0.25 \r\nQ 13.140625 0.921875 6.890625 3.21875 \r\nL 6.890625 13.375 \r\nQ 12.890625 10.015625 18.65625 8.296875 \r\nQ 24.421875 6.59375 29.984375 6.59375 \r\nQ 38.421875 6.59375 43.015625 9.90625 \r\nQ 47.609375 13.234375 47.609375 19.390625 \r\nQ 47.609375 24.75 44.3125 27.78125 \r\nQ 41.015625 30.8125 33.5 32.328125 \r\nL 27.484375 33.5 \r\nQ 16.453125 35.6875 11.515625 40.375 \r\nQ 6.59375 45.0625 6.59375 53.421875 \r\nQ 6.59375 63.09375 13.40625 68.65625 \r\nQ 20.21875 74.21875 32.171875 74.21875 \r\nQ 37.3125 74.21875 42.625 73.28125 \r\nQ 47.953125 72.359375 53.515625 70.515625 \r\nz\r\n\" id=\"DejaVuSans-83\"/>\r\n       <path d=\"M 54.890625 33.015625 \r\nL 54.890625 0 \r\nL 45.90625 0 \r\nL 45.90625 32.71875 \r\nQ 45.90625 40.484375 42.875 44.328125 \r\nQ 39.84375 48.1875 33.796875 48.1875 \r\nQ 26.515625 48.1875 22.3125 43.546875 \r\nQ 18.109375 38.921875 18.109375 30.90625 \r\nL 18.109375 0 \r\nL 9.078125 0 \r\nL 9.078125 54.6875 \r\nL 18.109375 54.6875 \r\nL 18.109375 46.1875 \r\nQ 21.34375 51.125 25.703125 53.5625 \r\nQ 30.078125 56 35.796875 56 \r\nQ 45.21875 56 50.046875 50.171875 \r\nQ 54.890625 44.34375 54.890625 33.015625 \r\nz\r\n\" id=\"DejaVuSans-110\"/>\r\n       <path d=\"M 45.40625 46.390625 \r\nL 45.40625 75.984375 \r\nL 54.390625 75.984375 \r\nL 54.390625 0 \r\nL 45.40625 0 \r\nL 45.40625 8.203125 \r\nQ 42.578125 3.328125 38.25 0.953125 \r\nQ 33.9375 -1.421875 27.875 -1.421875 \r\nQ 17.96875 -1.421875 11.734375 6.484375 \r\nQ 5.515625 14.40625 5.515625 27.296875 \r\nQ 5.515625 40.1875 11.734375 48.09375 \r\nQ 17.96875 56 27.875 56 \r\nQ 33.9375 56 38.25 53.625 \r\nQ 42.578125 51.265625 45.40625 46.390625 \r\nz\r\nM 14.796875 27.296875 \r\nQ 14.796875 17.390625 18.875 11.75 \r\nQ 22.953125 6.109375 30.078125 6.109375 \r\nQ 37.203125 6.109375 41.296875 11.75 \r\nQ 45.40625 17.390625 45.40625 27.296875 \r\nQ 45.40625 37.203125 41.296875 42.84375 \r\nQ 37.203125 48.484375 30.078125 48.484375 \r\nQ 22.953125 48.484375 18.875 42.84375 \r\nQ 14.796875 37.203125 14.796875 27.296875 \r\nz\r\n\" id=\"DejaVuSans-100\"/>\r\n      </defs>\r\n      <use xlink:href=\"#DejaVuSans-83\"/>\r\n      <use x=\"63.476562\" xlink:href=\"#DejaVuSans-97\"/>\r\n      <use x=\"124.755859\" xlink:href=\"#DejaVuSans-110\"/>\r\n      <use x=\"188.134766\" xlink:href=\"#DejaVuSans-100\"/>\r\n      <use x=\"251.611328\" xlink:href=\"#DejaVuSans-97\"/>\r\n      <use x=\"312.890625\" xlink:href=\"#DejaVuSans-108\"/>\r\n     </g>\r\n    </g>\r\n   </g>\r\n   <g id=\"matplotlib.axis_12\">\r\n    <g id=\"ytick_31\">\r\n     <g id=\"line2d_49\">\r\n      <g>\r\n       <use style=\"stroke:#000000;stroke-width:0.8;\" x=\"172.490217\" xlink:href=\"#m943523593e\" y=\"202.858042\"/>\r\n      </g>\r\n     </g>\r\n     <g id=\"text_55\">\r\n      <!-- 0 -->\r\n      <g transform=\"translate(159.127717 206.657261)scale(0.1 -0.1)\">\r\n       <use xlink:href=\"#DejaVuSans-48\"/>\r\n      </g>\r\n     </g>\r\n    </g>\r\n    <g id=\"ytick_32\">\r\n     <g id=\"line2d_50\">\r\n      <g>\r\n       <use style=\"stroke:#000000;stroke-width:0.8;\" x=\"172.490217\" xlink:href=\"#m943523593e\" y=\"224.519533\"/>\r\n      </g>\r\n     </g>\r\n     <g id=\"text_56\">\r\n      <!-- 5 -->\r\n      <g transform=\"translate(159.127717 228.318752)scale(0.1 -0.1)\">\r\n       <use xlink:href=\"#DejaVuSans-53\"/>\r\n      </g>\r\n     </g>\r\n    </g>\r\n    <g id=\"ytick_33\">\r\n     <g id=\"line2d_51\">\r\n      <g>\r\n       <use style=\"stroke:#000000;stroke-width:0.8;\" x=\"172.490217\" xlink:href=\"#m943523593e\" y=\"246.181024\"/>\r\n      </g>\r\n     </g>\r\n     <g id=\"text_57\">\r\n      <!-- 10 -->\r\n      <g transform=\"translate(152.765217 249.980242)scale(0.1 -0.1)\">\r\n       <use xlink:href=\"#DejaVuSans-49\"/>\r\n       <use x=\"63.623047\" xlink:href=\"#DejaVuSans-48\"/>\r\n      </g>\r\n     </g>\r\n    </g>\r\n    <g id=\"ytick_34\">\r\n     <g id=\"line2d_52\">\r\n      <g>\r\n       <use style=\"stroke:#000000;stroke-width:0.8;\" x=\"172.490217\" xlink:href=\"#m943523593e\" y=\"267.842514\"/>\r\n      </g>\r\n     </g>\r\n     <g id=\"text_58\">\r\n      <!-- 15 -->\r\n      <g transform=\"translate(152.765217 271.641733)scale(0.1 -0.1)\">\r\n       <use xlink:href=\"#DejaVuSans-49\"/>\r\n       <use x=\"63.623047\" xlink:href=\"#DejaVuSans-53\"/>\r\n      </g>\r\n     </g>\r\n    </g>\r\n    <g id=\"ytick_35\">\r\n     <g id=\"line2d_53\">\r\n      <g>\r\n       <use style=\"stroke:#000000;stroke-width:0.8;\" x=\"172.490217\" xlink:href=\"#m943523593e\" y=\"289.504005\"/>\r\n      </g>\r\n     </g>\r\n     <g id=\"text_59\">\r\n      <!-- 20 -->\r\n      <g transform=\"translate(152.765217 293.303224)scale(0.1 -0.1)\">\r\n       <use xlink:href=\"#DejaVuSans-50\"/>\r\n       <use x=\"63.623047\" xlink:href=\"#DejaVuSans-48\"/>\r\n      </g>\r\n     </g>\r\n    </g>\r\n    <g id=\"ytick_36\">\r\n     <g id=\"line2d_54\">\r\n      <g>\r\n       <use style=\"stroke:#000000;stroke-width:0.8;\" x=\"172.490217\" xlink:href=\"#m943523593e\" y=\"311.165496\"/>\r\n      </g>\r\n     </g>\r\n     <g id=\"text_60\">\r\n      <!-- 25 -->\r\n      <g transform=\"translate(152.765217 314.964714)scale(0.1 -0.1)\">\r\n       <use xlink:href=\"#DejaVuSans-50\"/>\r\n       <use x=\"63.623047\" xlink:href=\"#DejaVuSans-53\"/>\r\n      </g>\r\n     </g>\r\n    </g>\r\n   </g>\r\n   <g id=\"patch_28\">\r\n    <path d=\"M 172.490217 321.996241 \r\nL 172.490217 200.691893 \r\n\" style=\"fill:none;stroke:#000000;stroke-linecap:square;stroke-linejoin:miter;stroke-width:0.8;\"/>\r\n   </g>\r\n   <g id=\"patch_29\">\r\n    <path d=\"M 293.794565 321.996241 \r\nL 293.794565 200.691893 \r\n\" style=\"fill:none;stroke:#000000;stroke-linecap:square;stroke-linejoin:miter;stroke-width:0.8;\"/>\r\n   </g>\r\n   <g id=\"patch_30\">\r\n    <path d=\"M 172.490217 321.996241 \r\nL 293.794565 321.996241 \r\n\" style=\"fill:none;stroke:#000000;stroke-linecap:square;stroke-linejoin:miter;stroke-width:0.8;\"/>\r\n   </g>\r\n   <g id=\"patch_31\">\r\n    <path d=\"M 172.490217 200.691893 \r\nL 293.794565 200.691893 \r\n\" style=\"fill:none;stroke:#000000;stroke-linecap:square;stroke-linejoin:miter;stroke-width:0.8;\"/>\r\n   </g>\r\n  </g>\r\n  <g id=\"axes_7\">\r\n   <g id=\"patch_32\">\r\n    <path d=\"M 318.055435 321.996241 \r\nL 439.359783 321.996241 \r\nL 439.359783 200.691893 \r\nL 318.055435 200.691893 \r\nz\r\n\" style=\"fill:#ffffff;\"/>\r\n   </g>\r\n   <g clip-path=\"url(#p9b0d654e2a)\">\r\n    <image height=\"122\" id=\"imagedd87b42723\" transform=\"scale(1 -1)translate(0 -122)\" width=\"122\" x=\"318.055435\" xlink:href=\"data:image/png;base64,\r\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\" y=\"-199.996241\"/>\r\n   </g>\r\n   <g id=\"matplotlib.axis_13\">\r\n    <g id=\"xtick_19\">\r\n     <g id=\"line2d_55\">\r\n      <g>\r\n       <use style=\"stroke:#000000;stroke-width:0.8;\" x=\"320.221584\" xlink:href=\"#m5030bfa666\" y=\"321.996241\"/>\r\n      </g>\r\n     </g>\r\n     <g id=\"text_61\">\r\n      <!-- 0 -->\r\n      <g transform=\"translate(317.040334 336.594679)scale(0.1 -0.1)\">\r\n       <use xlink:href=\"#DejaVuSans-48\"/>\r\n      </g>\r\n     </g>\r\n    </g>\r\n    <g id=\"xtick_20\">\r\n     <g id=\"line2d_56\">\r\n      <g>\r\n       <use style=\"stroke:#000000;stroke-width:0.8;\" x=\"363.544565\" xlink:href=\"#m5030bfa666\" y=\"321.996241\"/>\r\n      </g>\r\n     </g>\r\n     <g id=\"text_62\">\r\n      <!-- 10 -->\r\n      <g transform=\"translate(357.182065 336.594679)scale(0.1 -0.1)\">\r\n       <use xlink:href=\"#DejaVuSans-49\"/>\r\n       <use x=\"63.623047\" xlink:href=\"#DejaVuSans-48\"/>\r\n      </g>\r\n     </g>\r\n    </g>\r\n    <g id=\"xtick_21\">\r\n     <g id=\"line2d_57\">\r\n      <g>\r\n       <use style=\"stroke:#000000;stroke-width:0.8;\" x=\"406.867547\" xlink:href=\"#m5030bfa666\" y=\"321.996241\"/>\r\n      </g>\r\n     </g>\r\n     <g id=\"text_63\">\r\n      <!-- 20 -->\r\n      <g transform=\"translate(400.505047 336.594679)scale(0.1 -0.1)\">\r\n       <use xlink:href=\"#DejaVuSans-50\"/>\r\n       <use x=\"63.623047\" xlink:href=\"#DejaVuSans-48\"/>\r\n      </g>\r\n     </g>\r\n    </g>\r\n    <g id=\"text_64\">\r\n     <!-- Shirt -->\r\n     <g transform=\"translate(366.959952 350.272804)scale(0.1 -0.1)\">\r\n      <use xlink:href=\"#DejaVuSans-83\"/>\r\n      <use x=\"63.476562\" xlink:href=\"#DejaVuSans-104\"/>\r\n      <use x=\"126.855469\" xlink:href=\"#DejaVuSans-105\"/>\r\n      <use x=\"154.638672\" xlink:href=\"#DejaVuSans-114\"/>\r\n      <use x=\"195.751953\" xlink:href=\"#DejaVuSans-116\"/>\r\n     </g>\r\n    </g>\r\n   </g>\r\n   <g id=\"matplotlib.axis_14\">\r\n    <g id=\"ytick_37\">\r\n     <g id=\"line2d_58\">\r\n      <g>\r\n       <use style=\"stroke:#000000;stroke-width:0.8;\" x=\"318.055435\" xlink:href=\"#m943523593e\" y=\"202.858042\"/>\r\n      </g>\r\n     </g>\r\n     <g id=\"text_65\">\r\n      <!-- 0 -->\r\n      <g transform=\"translate(304.692935 206.657261)scale(0.1 -0.1)\">\r\n       <use xlink:href=\"#DejaVuSans-48\"/>\r\n      </g>\r\n     </g>\r\n    </g>\r\n    <g id=\"ytick_38\">\r\n     <g id=\"line2d_59\">\r\n      <g>\r\n       <use style=\"stroke:#000000;stroke-width:0.8;\" x=\"318.055435\" xlink:href=\"#m943523593e\" y=\"224.519533\"/>\r\n      </g>\r\n     </g>\r\n     <g id=\"text_66\">\r\n      <!-- 5 -->\r\n      <g transform=\"translate(304.692935 228.318752)scale(0.1 -0.1)\">\r\n       <use xlink:href=\"#DejaVuSans-53\"/>\r\n      </g>\r\n     </g>\r\n    </g>\r\n    <g id=\"ytick_39\">\r\n     <g id=\"line2d_60\">\r\n      <g>\r\n       <use style=\"stroke:#000000;stroke-width:0.8;\" x=\"318.055435\" xlink:href=\"#m943523593e\" y=\"246.181024\"/>\r\n      </g>\r\n     </g>\r\n     <g id=\"text_67\">\r\n      <!-- 10 -->\r\n      <g transform=\"translate(298.330435 249.980242)scale(0.1 -0.1)\">\r\n       <use xlink:href=\"#DejaVuSans-49\"/>\r\n       <use x=\"63.623047\" xlink:href=\"#DejaVuSans-48\"/>\r\n      </g>\r\n     </g>\r\n    </g>\r\n    <g id=\"ytick_40\">\r\n     <g id=\"line2d_61\">\r\n      <g>\r\n       <use style=\"stroke:#000000;stroke-width:0.8;\" x=\"318.055435\" xlink:href=\"#m943523593e\" y=\"267.842514\"/>\r\n      </g>\r\n     </g>\r\n     <g id=\"text_68\">\r\n      <!-- 15 -->\r\n      <g transform=\"translate(298.330435 271.641733)scale(0.1 -0.1)\">\r\n       <use xlink:href=\"#DejaVuSans-49\"/>\r\n       <use x=\"63.623047\" xlink:href=\"#DejaVuSans-53\"/>\r\n      </g>\r\n     </g>\r\n    </g>\r\n    <g id=\"ytick_41\">\r\n     <g id=\"line2d_62\">\r\n      <g>\r\n       <use style=\"stroke:#000000;stroke-width:0.8;\" x=\"318.055435\" xlink:href=\"#m943523593e\" y=\"289.504005\"/>\r\n      </g>\r\n     </g>\r\n     <g id=\"text_69\">\r\n      <!-- 20 -->\r\n      <g transform=\"translate(298.330435 293.303224)scale(0.1 -0.1)\">\r\n       <use xlink:href=\"#DejaVuSans-50\"/>\r\n       <use x=\"63.623047\" xlink:href=\"#DejaVuSans-48\"/>\r\n      </g>\r\n     </g>\r\n    </g>\r\n    <g id=\"ytick_42\">\r\n     <g id=\"line2d_63\">\r\n      <g>\r\n       <use style=\"stroke:#000000;stroke-width:0.8;\" x=\"318.055435\" xlink:href=\"#m943523593e\" y=\"311.165496\"/>\r\n      </g>\r\n     </g>\r\n     <g id=\"text_70\">\r\n      <!-- 25 -->\r\n      <g transform=\"translate(298.330435 314.964714)scale(0.1 -0.1)\">\r\n       <use xlink:href=\"#DejaVuSans-50\"/>\r\n       <use x=\"63.623047\" xlink:href=\"#DejaVuSans-53\"/>\r\n      </g>\r\n     </g>\r\n    </g>\r\n   </g>\r\n   <g id=\"patch_33\">\r\n    <path d=\"M 318.055435 321.996241 \r\nL 318.055435 200.691893 \r\n\" style=\"fill:none;stroke:#000000;stroke-linecap:square;stroke-linejoin:miter;stroke-width:0.8;\"/>\r\n   </g>\r\n   <g id=\"patch_34\">\r\n    <path d=\"M 439.359783 321.996241 \r\nL 439.359783 200.691893 \r\n\" style=\"fill:none;stroke:#000000;stroke-linecap:square;stroke-linejoin:miter;stroke-width:0.8;\"/>\r\n   </g>\r\n   <g id=\"patch_35\">\r\n    <path d=\"M 318.055435 321.996241 \r\nL 439.359783 321.996241 \r\n\" style=\"fill:none;stroke:#000000;stroke-linecap:square;stroke-linejoin:miter;stroke-width:0.8;\"/>\r\n   </g>\r\n   <g id=\"patch_36\">\r\n    <path d=\"M 318.055435 200.691893 \r\nL 439.359783 200.691893 \r\n\" style=\"fill:none;stroke:#000000;stroke-linecap:square;stroke-linejoin:miter;stroke-width:0.8;\"/>\r\n   </g>\r\n  </g>\r\n  <g id=\"axes_8\">\r\n   <g id=\"patch_37\">\r\n    <path d=\"M 463.620652 321.996241 \r\nL 584.925 321.996241 \r\nL 584.925 200.691893 \r\nL 463.620652 200.691893 \r\nz\r\n\" style=\"fill:#ffffff;\"/>\r\n   </g>\r\n   <g clip-path=\"url(#pe947e15f78)\">\r\n    <image height=\"122\" id=\"image37ce974aa0\" transform=\"scale(1 -1)translate(0 -122)\" width=\"122\" x=\"463.620652\" xlink:href=\"data:image/png;base64,\r\niVBORw0KGgoAAAANSUhEUgAAAHoAAAB6CAYAAABwWUfkAAAFHElEQVR4nO2dOy9lXxjG3+N+HRJBgrgkgkJDodAKnQgiQkSN4BNoRSO+hEarUfoGkym0FMSMxCXE/e7f/t9nrdibMCOe59c9stY62/7NnnedtdY5Mmb2YuLbk/WvL0D8HSSaBIkmQaJJkGgSJJoEiSZBokmQaBIkmgSJJkGiSZBoEiSaBIkmQaJJkGgSJJoEiSZBokmQaBIkmgSJJkGiSZBoEiSaBIkmQaJJkGgSJJqEnM8auLCw0OXc3FyXs7Ozgz5FRUUu5+fnB21wHCQ2blaW//f8+Pj46hixcfB1Hx4egj4XFxcuZzIZl3NywtuN48auDfthm+vr66DPnz9/XNYTTYJEkyDRJGQMvtqiuLg4aPTjxw/fCWpPjKQ6UlBQEPSJ1T0Ea+fLi/9mDqzHsdfCMfLy8oI+WBdxjNj147wE71tsfoG/c6yO49wF5wKx+7a7u+uynmgSJJoEiSYhU15e7opc7P/7q6urVweJvd9tampyubm52eXGxsagT01NjcuxOojzA6zJz8/PQZ/j42OXLy8vXT45OQn6nJ2dvSmbmd3c3Lgce3+L4PwgzfwHf5+Yn2Dukjiq+BZINAkSTYJEk5CDRbu9vT1o1N3d/WqbhoaGoE9FRYXLuJgQWxh4enpyObb4gT+rrKx0OTYZS1ogiV1L7LX/D07ozMJJ0f39vcuxDQu8/7e3t4nXcnp66nJskWtubs6PEbQQ3xKJJkGiScjMzs66IjE0NBQ0wvqKb+qxFpklb9THFgawVsbaYB3Emhyrt9gGF2Jir4OLQGk2XHBcvAexuo91O02bu7s7l3HzxMxsfX3djxu5XvENkWgSJJqE4OBBZ2dn0Ki3t9fl1tZWl2ObD7hBUVJS4nKsrmP9LSsrCy8Y6mnSoQKzcHMBa2esRuP1YV2MXT++J8ZxW1pagj7YBu+Tmdn+/r7LR0dHLuPBBDOzzc1Nl/VEkyDRJEg0CRJNQjAZ+yzm5+ddnpqaCtpUV1e7jJMQM7Pz83OXcSMEx4gR2/hAcLKFr4uTMzOz0tJSl3HRBU9mmpkNDg4mXsvCwoLLMzMzLu/t7QV9JiYmXNYTTYJEkyDRJKSq0UknL7FOvpeenh6Xh4eHgzbj4+Mu4wnO379/B31wUwA3AWILDkknOmMLG4eHhy7joYja2trE19na2graDAwMuIyLRGmuRU80CRJNgkST8K730Wk+HYEH8GKbAO+hvLzc5cXFRZdHR0eDPlhfDw4OEq8NNz7wQMOvX7+CPl1dXS6vrq66vLy8HPSpqqpyOXb9KysrLre1tbmM98TM7OfPny7riSZBokmQaBIkmoS/tqmRBlyYwRMbacCP55qZjYyMuIyfPOnr6wv67OzsuIwLM7jJYRZ+FLiurs7l2ImZNExOTrqMv09/f3/iGHqiSZBoEiSahE/7isj3kKYmJ9Xx7e3toM/S0tKrY46NjQU/6+jocBnrIm5GmIWf5tjY2Hj1ddOytrbmcn19/ZvH0BNNgkSTINEkfKn30R9B7NOUab62+a1MT08HP8NDfLGDBv8KPdEkSDQJEk2CRJPwpSdjab4XExdMYh+bxRMw2OejJnBpTt68h6S/u5FmoUlPNAkSTYJEk/Cla7T4OPREkyDRJEg0CRJNgkSTINEkSDQJEk2CRJMg0SRINAkSTYJEkyDRJEg0CRJNgkSTINEkSDQJEk2CRJMg0SRINAkSTYJEkyDRJEg0CRJNgkSTINEkSDQJEk2CRJMg0ST8B1+QabtB5LN2AAAAAElFTkSuQmCC\" y=\"-199.996241\"/>\r\n   </g>\r\n   <g id=\"matplotlib.axis_15\">\r\n    <g id=\"xtick_22\">\r\n     <g id=\"line2d_64\">\r\n      <g>\r\n       <use style=\"stroke:#000000;stroke-width:0.8;\" x=\"465.786801\" xlink:href=\"#m5030bfa666\" y=\"321.996241\"/>\r\n      </g>\r\n     </g>\r\n     <g id=\"text_71\">\r\n      <!-- 0 -->\r\n      <g transform=\"translate(462.605551 336.594679)scale(0.1 -0.1)\">\r\n       <use xlink:href=\"#DejaVuSans-48\"/>\r\n      </g>\r\n     </g>\r\n    </g>\r\n    <g id=\"xtick_23\">\r\n     <g id=\"line2d_65\">\r\n      <g>\r\n       <use style=\"stroke:#000000;stroke-width:0.8;\" x=\"509.109783\" xlink:href=\"#m5030bfa666\" y=\"321.996241\"/>\r\n      </g>\r\n     </g>\r\n     <g id=\"text_72\">\r\n      <!-- 10 -->\r\n      <g transform=\"translate(502.747283 336.594679)scale(0.1 -0.1)\">\r\n       <use xlink:href=\"#DejaVuSans-49\"/>\r\n       <use x=\"63.623047\" xlink:href=\"#DejaVuSans-48\"/>\r\n      </g>\r\n     </g>\r\n    </g>\r\n    <g id=\"xtick_24\">\r\n     <g id=\"line2d_66\">\r\n      <g>\r\n       <use style=\"stroke:#000000;stroke-width:0.8;\" x=\"552.432764\" xlink:href=\"#m5030bfa666\" y=\"321.996241\"/>\r\n      </g>\r\n     </g>\r\n     <g id=\"text_73\">\r\n      <!-- 20 -->\r\n      <g transform=\"translate(546.070264 336.594679)scale(0.1 -0.1)\">\r\n       <use xlink:href=\"#DejaVuSans-50\"/>\r\n       <use x=\"63.623047\" xlink:href=\"#DejaVuSans-48\"/>\r\n      </g>\r\n     </g>\r\n    </g>\r\n    <g id=\"text_74\">\r\n     <!-- Sneaker -->\r\n     <g transform=\"translate(503.943139 350.272804)scale(0.1 -0.1)\">\r\n      <defs>\r\n       <path d=\"M 9.078125 75.984375 \r\nL 18.109375 75.984375 \r\nL 18.109375 31.109375 \r\nL 44.921875 54.6875 \r\nL 56.390625 54.6875 \r\nL 27.390625 29.109375 \r\nL 57.625 0 \r\nL 45.90625 0 \r\nL 18.109375 26.703125 \r\nL 18.109375 0 \r\nL 9.078125 0 \r\nz\r\n\" id=\"DejaVuSans-107\"/>\r\n      </defs>\r\n      <use xlink:href=\"#DejaVuSans-83\"/>\r\n      <use x=\"63.476562\" xlink:href=\"#DejaVuSans-110\"/>\r\n      <use x=\"126.855469\" xlink:href=\"#DejaVuSans-101\"/>\r\n      <use x=\"188.378906\" xlink:href=\"#DejaVuSans-97\"/>\r\n      <use x=\"249.658203\" xlink:href=\"#DejaVuSans-107\"/>\r\n      <use x=\"303.943359\" xlink:href=\"#DejaVuSans-101\"/>\r\n      <use x=\"365.466797\" xlink:href=\"#DejaVuSans-114\"/>\r\n     </g>\r\n    </g>\r\n   </g>\r\n   <g id=\"matplotlib.axis_16\">\r\n    <g id=\"ytick_43\">\r\n     <g id=\"line2d_67\">\r\n      <g>\r\n       <use style=\"stroke:#000000;stroke-width:0.8;\" x=\"463.620652\" xlink:href=\"#m943523593e\" y=\"202.858042\"/>\r\n      </g>\r\n     </g>\r\n     <g id=\"text_75\">\r\n      <!-- 0 -->\r\n      <g transform=\"translate(450.258152 206.657261)scale(0.1 -0.1)\">\r\n       <use xlink:href=\"#DejaVuSans-48\"/>\r\n      </g>\r\n     </g>\r\n    </g>\r\n    <g id=\"ytick_44\">\r\n     <g id=\"line2d_68\">\r\n      <g>\r\n       <use style=\"stroke:#000000;stroke-width:0.8;\" x=\"463.620652\" xlink:href=\"#m943523593e\" y=\"224.519533\"/>\r\n      </g>\r\n     </g>\r\n     <g id=\"text_76\">\r\n      <!-- 5 -->\r\n      <g transform=\"translate(450.258152 228.318752)scale(0.1 -0.1)\">\r\n       <use xlink:href=\"#DejaVuSans-53\"/>\r\n      </g>\r\n     </g>\r\n    </g>\r\n    <g id=\"ytick_45\">\r\n     <g id=\"line2d_69\">\r\n      <g>\r\n       <use style=\"stroke:#000000;stroke-width:0.8;\" x=\"463.620652\" xlink:href=\"#m943523593e\" y=\"246.181024\"/>\r\n      </g>\r\n     </g>\r\n     <g id=\"text_77\">\r\n      <!-- 10 -->\r\n      <g transform=\"translate(443.895652 249.980242)scale(0.1 -0.1)\">\r\n       <use xlink:href=\"#DejaVuSans-49\"/>\r\n       <use x=\"63.623047\" xlink:href=\"#DejaVuSans-48\"/>\r\n      </g>\r\n     </g>\r\n    </g>\r\n    <g id=\"ytick_46\">\r\n     <g id=\"line2d_70\">\r\n      <g>\r\n       <use style=\"stroke:#000000;stroke-width:0.8;\" x=\"463.620652\" xlink:href=\"#m943523593e\" y=\"267.842514\"/>\r\n      </g>\r\n     </g>\r\n     <g id=\"text_78\">\r\n      <!-- 15 -->\r\n      <g transform=\"translate(443.895652 271.641733)scale(0.1 -0.1)\">\r\n       <use xlink:href=\"#DejaVuSans-49\"/>\r\n       <use x=\"63.623047\" xlink:href=\"#DejaVuSans-53\"/>\r\n      </g>\r\n     </g>\r\n    </g>\r\n    <g id=\"ytick_47\">\r\n     <g id=\"line2d_71\">\r\n      <g>\r\n       <use style=\"stroke:#000000;stroke-width:0.8;\" x=\"463.620652\" xlink:href=\"#m943523593e\" y=\"289.504005\"/>\r\n      </g>\r\n     </g>\r\n     <g id=\"text_79\">\r\n      <!-- 20 -->\r\n      <g transform=\"translate(443.895652 293.303224)scale(0.1 -0.1)\">\r\n       <use xlink:href=\"#DejaVuSans-50\"/>\r\n       <use x=\"63.623047\" xlink:href=\"#DejaVuSans-48\"/>\r\n      </g>\r\n     </g>\r\n    </g>\r\n    <g id=\"ytick_48\">\r\n     <g id=\"line2d_72\">\r\n      <g>\r\n       <use style=\"stroke:#000000;stroke-width:0.8;\" x=\"463.620652\" xlink:href=\"#m943523593e\" y=\"311.165496\"/>\r\n      </g>\r\n     </g>\r\n     <g id=\"text_80\">\r\n      <!-- 25 -->\r\n      <g transform=\"translate(443.895652 314.964714)scale(0.1 -0.1)\">\r\n       <use xlink:href=\"#DejaVuSans-50\"/>\r\n       <use x=\"63.623047\" xlink:href=\"#DejaVuSans-53\"/>\r\n      </g>\r\n     </g>\r\n    </g>\r\n   </g>\r\n   <g id=\"patch_38\">\r\n    <path d=\"M 463.620652 321.996241 \r\nL 463.620652 200.691893 \r\n\" style=\"fill:none;stroke:#000000;stroke-linecap:square;stroke-linejoin:miter;stroke-width:0.8;\"/>\r\n   </g>\r\n   <g id=\"patch_39\">\r\n    <path d=\"M 584.925 321.996241 \r\nL 584.925 200.691893 \r\n\" style=\"fill:none;stroke:#000000;stroke-linecap:square;stroke-linejoin:miter;stroke-width:0.8;\"/>\r\n   </g>\r\n   <g id=\"patch_40\">\r\n    <path d=\"M 463.620652 321.996241 \r\nL 584.925 321.996241 \r\n\" style=\"fill:none;stroke:#000000;stroke-linecap:square;stroke-linejoin:miter;stroke-width:0.8;\"/>\r\n   </g>\r\n   <g id=\"patch_41\">\r\n    <path d=\"M 463.620652 200.691893 \r\nL 584.925 200.691893 \r\n\" style=\"fill:none;stroke:#000000;stroke-linecap:square;stroke-linejoin:miter;stroke-width:0.8;\"/>\r\n   </g>\r\n  </g>\r\n  <g id=\"axes_9\">\r\n   <g id=\"patch_42\">\r\n    <path d=\"M 26.925 513.855065 \r\nL 148.229348 513.855065 \r\nL 148.229348 392.550717 \r\nL 26.925 392.550717 \r\nz\r\n\" style=\"fill:#ffffff;\"/>\r\n   </g>\r\n   <g clip-path=\"url(#p80bd41cc99)\">\r\n    <image height=\"122\" id=\"imagefade6e7963\" transform=\"scale(1 -1)translate(0 -122)\" width=\"122\" x=\"26.925\" xlink:href=\"data:image/png;base64,\r\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\" y=\"-391.855065\"/>\r\n   </g>\r\n   <g id=\"matplotlib.axis_17\">\r\n    <g id=\"xtick_25\">\r\n     <g id=\"line2d_73\">\r\n      <g>\r\n       <use style=\"stroke:#000000;stroke-width:0.8;\" x=\"29.091149\" xlink:href=\"#m5030bfa666\" y=\"513.855065\"/>\r\n      </g>\r\n     </g>\r\n     <g id=\"text_81\">\r\n      <!-- 0 -->\r\n      <g transform=\"translate(25.909899 528.453502)scale(0.1 -0.1)\">\r\n       <use xlink:href=\"#DejaVuSans-48\"/>\r\n      </g>\r\n     </g>\r\n    </g>\r\n    <g id=\"xtick_26\">\r\n     <g id=\"line2d_74\">\r\n      <g>\r\n       <use style=\"stroke:#000000;stroke-width:0.8;\" x=\"72.41413\" xlink:href=\"#m5030bfa666\" y=\"513.855065\"/>\r\n      </g>\r\n     </g>\r\n     <g id=\"text_82\">\r\n      <!-- 10 -->\r\n      <g transform=\"translate(66.05163 528.453502)scale(0.1 -0.1)\">\r\n       <use xlink:href=\"#DejaVuSans-49\"/>\r\n       <use x=\"63.623047\" xlink:href=\"#DejaVuSans-48\"/>\r\n      </g>\r\n     </g>\r\n    </g>\r\n    <g id=\"xtick_27\">\r\n     <g id=\"line2d_75\">\r\n      <g>\r\n       <use style=\"stroke:#000000;stroke-width:0.8;\" x=\"115.737112\" xlink:href=\"#m5030bfa666\" y=\"513.855065\"/>\r\n      </g>\r\n     </g>\r\n     <g id=\"text_83\">\r\n      <!-- 20 -->\r\n      <g transform=\"translate(109.374612 528.453502)scale(0.1 -0.1)\">\r\n       <use xlink:href=\"#DejaVuSans-50\"/>\r\n       <use x=\"63.623047\" xlink:href=\"#DejaVuSans-48\"/>\r\n      </g>\r\n     </g>\r\n    </g>\r\n    <g id=\"text_84\">\r\n     <!-- Bag -->\r\n     <g transform=\"translate(77.908424 542.131627)scale(0.1 -0.1)\">\r\n      <defs>\r\n       <path d=\"M 19.671875 34.8125 \r\nL 19.671875 8.109375 \r\nL 35.5 8.109375 \r\nQ 43.453125 8.109375 47.28125 11.40625 \r\nQ 51.125 14.703125 51.125 21.484375 \r\nQ 51.125 28.328125 47.28125 31.5625 \r\nQ 43.453125 34.8125 35.5 34.8125 \r\nz\r\nM 19.671875 64.796875 \r\nL 19.671875 42.828125 \r\nL 34.28125 42.828125 \r\nQ 41.5 42.828125 45.03125 45.53125 \r\nQ 48.578125 48.25 48.578125 53.8125 \r\nQ 48.578125 59.328125 45.03125 62.0625 \r\nQ 41.5 64.796875 34.28125 64.796875 \r\nz\r\nM 9.8125 72.90625 \r\nL 35.015625 72.90625 \r\nQ 46.296875 72.90625 52.390625 68.21875 \r\nQ 58.5 63.53125 58.5 54.890625 \r\nQ 58.5 48.1875 55.375 44.234375 \r\nQ 52.25 40.28125 46.1875 39.3125 \r\nQ 53.46875 37.75 57.5 32.78125 \r\nQ 61.53125 27.828125 61.53125 20.40625 \r\nQ 61.53125 10.640625 54.890625 5.3125 \r\nQ 48.25 0 35.984375 0 \r\nL 9.8125 0 \r\nz\r\n\" id=\"DejaVuSans-66\"/>\r\n       <path d=\"M 45.40625 27.984375 \r\nQ 45.40625 37.75 41.375 43.109375 \r\nQ 37.359375 48.484375 30.078125 48.484375 \r\nQ 22.859375 48.484375 18.828125 43.109375 \r\nQ 14.796875 37.75 14.796875 27.984375 \r\nQ 14.796875 18.265625 18.828125 12.890625 \r\nQ 22.859375 7.515625 30.078125 7.515625 \r\nQ 37.359375 7.515625 41.375 12.890625 \r\nQ 45.40625 18.265625 45.40625 27.984375 \r\nz\r\nM 54.390625 6.78125 \r\nQ 54.390625 -7.171875 48.1875 -13.984375 \r\nQ 42 -20.796875 29.203125 -20.796875 \r\nQ 24.46875 -20.796875 20.265625 -20.09375 \r\nQ 16.0625 -19.390625 12.109375 -17.921875 \r\nL 12.109375 -9.1875 \r\nQ 16.0625 -11.328125 19.921875 -12.34375 \r\nQ 23.78125 -13.375 27.78125 -13.375 \r\nQ 36.625 -13.375 41.015625 -8.765625 \r\nQ 45.40625 -4.15625 45.40625 5.171875 \r\nL 45.40625 9.625 \r\nQ 42.625 4.78125 38.28125 2.390625 \r\nQ 33.9375 0 27.875 0 \r\nQ 17.828125 0 11.671875 7.65625 \r\nQ 5.515625 15.328125 5.515625 27.984375 \r\nQ 5.515625 40.671875 11.671875 48.328125 \r\nQ 17.828125 56 27.875 56 \r\nQ 33.9375 56 38.28125 53.609375 \r\nQ 42.625 51.21875 45.40625 46.390625 \r\nL 45.40625 54.6875 \r\nL 54.390625 54.6875 \r\nz\r\n\" id=\"DejaVuSans-103\"/>\r\n      </defs>\r\n      <use xlink:href=\"#DejaVuSans-66\"/>\r\n      <use x=\"68.603516\" xlink:href=\"#DejaVuSans-97\"/>\r\n      <use x=\"129.882812\" xlink:href=\"#DejaVuSans-103\"/>\r\n     </g>\r\n    </g>\r\n   </g>\r\n   <g id=\"matplotlib.axis_18\">\r\n    <g id=\"ytick_49\">\r\n     <g id=\"line2d_76\">\r\n      <g>\r\n       <use style=\"stroke:#000000;stroke-width:0.8;\" x=\"26.925\" xlink:href=\"#m943523593e\" y=\"394.716866\"/>\r\n      </g>\r\n     </g>\r\n     <g id=\"text_85\">\r\n      <!-- 0 -->\r\n      <g transform=\"translate(13.5625 398.516085)scale(0.1 -0.1)\">\r\n       <use xlink:href=\"#DejaVuSans-48\"/>\r\n      </g>\r\n     </g>\r\n    </g>\r\n    <g id=\"ytick_50\">\r\n     <g id=\"line2d_77\">\r\n      <g>\r\n       <use style=\"stroke:#000000;stroke-width:0.8;\" x=\"26.925\" xlink:href=\"#m943523593e\" y=\"416.378356\"/>\r\n      </g>\r\n     </g>\r\n     <g id=\"text_86\">\r\n      <!-- 5 -->\r\n      <g transform=\"translate(13.5625 420.177575)scale(0.1 -0.1)\">\r\n       <use xlink:href=\"#DejaVuSans-53\"/>\r\n      </g>\r\n     </g>\r\n    </g>\r\n    <g id=\"ytick_51\">\r\n     <g id=\"line2d_78\">\r\n      <g>\r\n       <use style=\"stroke:#000000;stroke-width:0.8;\" x=\"26.925\" xlink:href=\"#m943523593e\" y=\"438.039847\"/>\r\n      </g>\r\n     </g>\r\n     <g id=\"text_87\">\r\n      <!-- 10 -->\r\n      <g transform=\"translate(7.2 441.839066)scale(0.1 -0.1)\">\r\n       <use xlink:href=\"#DejaVuSans-49\"/>\r\n       <use x=\"63.623047\" xlink:href=\"#DejaVuSans-48\"/>\r\n      </g>\r\n     </g>\r\n    </g>\r\n    <g id=\"ytick_52\">\r\n     <g id=\"line2d_79\">\r\n      <g>\r\n       <use style=\"stroke:#000000;stroke-width:0.8;\" x=\"26.925\" xlink:href=\"#m943523593e\" y=\"459.701338\"/>\r\n      </g>\r\n     </g>\r\n     <g id=\"text_88\">\r\n      <!-- 15 -->\r\n      <g transform=\"translate(7.2 463.500557)scale(0.1 -0.1)\">\r\n       <use xlink:href=\"#DejaVuSans-49\"/>\r\n       <use x=\"63.623047\" xlink:href=\"#DejaVuSans-53\"/>\r\n      </g>\r\n     </g>\r\n    </g>\r\n    <g id=\"ytick_53\">\r\n     <g id=\"line2d_80\">\r\n      <g>\r\n       <use style=\"stroke:#000000;stroke-width:0.8;\" x=\"26.925\" xlink:href=\"#m943523593e\" y=\"481.362829\"/>\r\n      </g>\r\n     </g>\r\n     <g id=\"text_89\">\r\n      <!-- 20 -->\r\n      <g transform=\"translate(7.2 485.162047)scale(0.1 -0.1)\">\r\n       <use xlink:href=\"#DejaVuSans-50\"/>\r\n       <use x=\"63.623047\" xlink:href=\"#DejaVuSans-48\"/>\r\n      </g>\r\n     </g>\r\n    </g>\r\n    <g id=\"ytick_54\">\r\n     <g id=\"line2d_81\">\r\n      <g>\r\n       <use style=\"stroke:#000000;stroke-width:0.8;\" x=\"26.925\" xlink:href=\"#m943523593e\" y=\"503.024319\"/>\r\n      </g>\r\n     </g>\r\n     <g id=\"text_90\">\r\n      <!-- 25 -->\r\n      <g transform=\"translate(7.2 506.823538)scale(0.1 -0.1)\">\r\n       <use xlink:href=\"#DejaVuSans-50\"/>\r\n       <use x=\"63.623047\" xlink:href=\"#DejaVuSans-53\"/>\r\n      </g>\r\n     </g>\r\n    </g>\r\n   </g>\r\n   <g id=\"patch_43\">\r\n    <path d=\"M 26.925 513.855065 \r\nL 26.925 392.550717 \r\n\" style=\"fill:none;stroke:#000000;stroke-linecap:square;stroke-linejoin:miter;stroke-width:0.8;\"/>\r\n   </g>\r\n   <g id=\"patch_44\">\r\n    <path d=\"M 148.229348 513.855065 \r\nL 148.229348 392.550717 \r\n\" style=\"fill:none;stroke:#000000;stroke-linecap:square;stroke-linejoin:miter;stroke-width:0.8;\"/>\r\n   </g>\r\n   <g id=\"patch_45\">\r\n    <path d=\"M 26.925 513.855065 \r\nL 148.229348 513.855065 \r\n\" style=\"fill:none;stroke:#000000;stroke-linecap:square;stroke-linejoin:miter;stroke-width:0.8;\"/>\r\n   </g>\r\n   <g id=\"patch_46\">\r\n    <path d=\"M 26.925 392.550717 \r\nL 148.229348 392.550717 \r\n\" style=\"fill:none;stroke:#000000;stroke-linecap:square;stroke-linejoin:miter;stroke-width:0.8;\"/>\r\n   </g>\r\n  </g>\r\n  <g id=\"axes_10\">\r\n   <g id=\"patch_47\">\r\n    <path d=\"M 172.490217 513.855065 \r\nL 293.794565 513.855065 \r\nL 293.794565 392.550717 \r\nL 172.490217 392.550717 \r\nz\r\n\" style=\"fill:#ffffff;\"/>\r\n   </g>\r\n   <g clip-path=\"url(#p07433e6184)\">\r\n    <image height=\"122\" id=\"image41c4a274e8\" transform=\"scale(1 -1)translate(0 -122)\" width=\"122\" x=\"172.490217\" xlink:href=\"data:image/png;base64,\r\niVBORw0KGgoAAAANSUhEUgAAAHoAAAB6CAYAAABwWUfkAAAHeUlEQVR4nO2dy0tWXRTGl/lapt3ULNOiCygGIUoYUSE0SDRBuuE4DYLmTpraIHDuqP4EZxIRgc0KTFIMCiK7YIqlot1Ns5p+61mL9xylvsz1/GbP29mey8Nur7P22vvkiMhPIWuedX/7Asj/A40OAo0OAo0OAo0OAo0OAo0OAo0OQuZvnbi6utr8tn37dqXn5ubMMbt371b61atXSi8uLpo2o6Ojy7/ANQZ7dBBodBBodBAy69Zpr3/8+LHsP3Ly5Enz2/Xr15XesWOH0lu3bjVt8Fpyc3PNMZmMDiuWlpYSr+/du3dK//yp53HGx8dNG3wOnz59Srw2BM/jxQ9fvnxRGp+BiMjdu3eVfvr0qdL3799PvBb26CDQ6CDQ6CDkSIrCg+bmZqU7OzuVxvFXRGR6elppfCf2xlYc99avX2+OwTEa2+Tk5Jg2OFbm5eVl1d658RjvPAge8/bt28Q23j1jvFBWVqb0yMiIadPW1qY0e3QQaHQQaHQQaHQQTDB29epVc1BHR4fSExMTSn/48MG0mZ+fV3rTpk1ZtYjIxo0blfYCEwy+FhYWlMZgTcQGY5ik8BIZ2AaDR+88379/V3rDhg1Zr1XEBqkYxIqIFBYWKl1QUKD0/v37TZvu7m6l2aODQKODQKODkKmtrVU/nDt3zhz0/PlzpXHMOHDggGmDYw9OCqQZF7GNiB2fcKz3kh84UYB/Y9u2babN58+flf769avSs7Ozpg0+FxxvvXvGpIp3LRi7YMIEYwMRkZ07dyrNHh0EGh0EGh0EGh2ETEVFhfrBm5XBystv374p7b3kY5C0ZcuWrFrEBjyvX782x2CwhYkZr3IUq1nwnh8/fmza7Nu3T+k9e/YojcGOd258BvjcROzM1ObNmxOPQY8wWBMRGR4eVpo9Ogg0Ogg0OggZrA7BsUjErnTAsae4uNi0wYQ+4iU2MBHgTRzghAqOT5i08P7umTNnlM7PzzdtcIzGez58+LBpg7/hBIx3P5jM8WKkpCoaTDSJiDx79kyfxxxB1iQ0Ogg0Ogg5ubm56j/4Bw8emIN27dqlNE7CexWdOLmPeCsd8D06DfiOjCsyRUQuXryodGNjo9JXrlwxbTAWwPf1ly9fmjYvXrxQurKyUumSkhLTBosRvNgF363xGG91zd69e5Vmjw4CjQ4CjQ4CjQ6CqQI9evSoOejatWtKl5aWKu1VRWCAhsGXN/mAlRJYCSJigxdMHngBHS4zxeUqg4ODpg0GQEVFRUpjQsUDgzNvwuLjx49Ke0EsJoWSJoxE7LNjjw4CjQ4CjQ5CqmWzSXiTGuXl5Upj8gD/XcRWoFZVVZljcPIeJwW8Sksc4zAZkmbZLCY7vFUXOC7ilhPe6pSGhgalveTH+/fvs16vtxz34MGDSrNHB4FGB4FGB8GM0d5kQ5otnv4EOH6JiJw/f17p48ePK+0V7WHxIo6/XuEB3jO+33rPCYst8DxegQDmDrxVFxhjYLzQ29tr2rS3tyvNHh0EGh0EGh0EGh2EVAkTnDjAQMTbvxLbYCJjJXuOpmFmZsb8lrQE1ttCI2lrCy8YS9r706uMxXN724TguTD51Nraatr09fUpzR4dBBodBBodhFTf1MCxx3up/xOk2eIJOX36tPnt1q1bSifFHCJ2TMaJG6wKFbHxgTdZguAxXryDzx/3/vT2PkfYo4NAo4NAo4Pw1757lQZvPMb3TiwAOHTokGmD76/4rppmJ4LJyUmlvQIHnFDBa0uz5ZYXL+BKma6uLqVbWlpMG9wyjD06CDQ6CDQ6CDQ6CL+lCvRP4W3zgAkFTGx4lZZDQ0NZ/663ugMDOKwc9Sovjx07pjQmULyVJxhc4soNEZsQGRsbU9q750uXLinNHh0EGh0EGh2EVZ0w8aomkypSvT2+cXzF/cW9IghMbuBY6o23uEIU4wkvMYPn8cZbTLzU1NQojatFRewKUfboINDoINDoIKzqMfp3gasscEz2xmgcg3FXASzQE7HFCBhPeOdJyguIJBdj4nu1B3t0EGh0EGh0EGh0EFZ1MJbmq+uIl2TBraNwwsJbQYHnxmoXLzGDYHDmBWOPHj1SGitDvHM3NTUp7W0ZhrBHB4FGB4FGB2FVFx6kIc33JU6dOqU0fkTb2+JyJas/Hz58qDSOt96WVQhWfHrXgue5cOGCadPT06M0e3QQaHQQaHQQaHQQ/vlgbCXcuHFD6bNnz5pjcEYI9Z07d0yburo6pXFJrLcvOH4A1asWOXLkiNL19fVK456jIvYjOOzRQaDRQaDRQVhzY7S3lRQmKi5fvpxVi4i8efNG6SdPnijtVYFOTU0pffPmTaW91R0rAStFvWQOVtWwRweBRgeBRgdhVRcerIQ0e4v39/crjSs3ROwKy3v37intbT81MDCQ5hIVOCmTZrvNNEUPpnJ02VdG/klodBBodBBodBDWXMLEqxz1qk7+i/dx0BMnTih9+/btZZ8bA6LftYdqmupYvGf26CDQ6CDQ6CCsuTGa+LBHB4FGB4FGB4FGB4FGB4FGB4FGB4FGB4FGB4FGB4FGB4FGB+EXozGQp6uYTp0AAAAASUVORK5CYII=\" y=\"-391.855065\"/>\r\n   </g>\r\n   <g id=\"matplotlib.axis_19\">\r\n    <g id=\"xtick_28\">\r\n     <g id=\"line2d_82\">\r\n      <g>\r\n       <use style=\"stroke:#000000;stroke-width:0.8;\" x=\"174.656366\" xlink:href=\"#m5030bfa666\" y=\"513.855065\"/>\r\n      </g>\r\n     </g>\r\n     <g id=\"text_91\">\r\n      <!-- 0 -->\r\n      <g transform=\"translate(171.475116 528.453502)scale(0.1 -0.1)\">\r\n       <use xlink:href=\"#DejaVuSans-48\"/>\r\n      </g>\r\n     </g>\r\n    </g>\r\n    <g id=\"xtick_29\">\r\n     <g id=\"line2d_83\">\r\n      <g>\r\n       <use style=\"stroke:#000000;stroke-width:0.8;\" x=\"217.979348\" xlink:href=\"#m5030bfa666\" y=\"513.855065\"/>\r\n      </g>\r\n     </g>\r\n     <g id=\"text_92\">\r\n      <!-- 10 -->\r\n      <g transform=\"translate(211.616848 528.453502)scale(0.1 -0.1)\">\r\n       <use xlink:href=\"#DejaVuSans-49\"/>\r\n       <use x=\"63.623047\" xlink:href=\"#DejaVuSans-48\"/>\r\n      </g>\r\n     </g>\r\n    </g>\r\n    <g id=\"xtick_30\">\r\n     <g id=\"line2d_84\">\r\n      <g>\r\n       <use style=\"stroke:#000000;stroke-width:0.8;\" x=\"261.302329\" xlink:href=\"#m5030bfa666\" y=\"513.855065\"/>\r\n      </g>\r\n     </g>\r\n     <g id=\"text_93\">\r\n      <!-- 20 -->\r\n      <g transform=\"translate(254.939829 528.453502)scale(0.1 -0.1)\">\r\n       <use xlink:href=\"#DejaVuSans-50\"/>\r\n       <use x=\"63.623047\" xlink:href=\"#DejaVuSans-48\"/>\r\n      </g>\r\n     </g>\r\n    </g>\r\n    <g id=\"text_94\">\r\n     <!-- Ankle boot -->\r\n     <g transform=\"translate(206.350204 542.131627)scale(0.1 -0.1)\">\r\n      <defs>\r\n       <path d=\"M 34.1875 63.1875 \r\nL 20.796875 26.90625 \r\nL 47.609375 26.90625 \r\nz\r\nM 28.609375 72.90625 \r\nL 39.796875 72.90625 \r\nL 67.578125 0 \r\nL 57.328125 0 \r\nL 50.6875 18.703125 \r\nL 17.828125 18.703125 \r\nL 11.1875 0 \r\nL 0.78125 0 \r\nz\r\n\" id=\"DejaVuSans-65\"/>\r\n       <path id=\"DejaVuSans-32\"/>\r\n       <path d=\"M 48.6875 27.296875 \r\nQ 48.6875 37.203125 44.609375 42.84375 \r\nQ 40.53125 48.484375 33.40625 48.484375 \r\nQ 26.265625 48.484375 22.1875 42.84375 \r\nQ 18.109375 37.203125 18.109375 27.296875 \r\nQ 18.109375 17.390625 22.1875 11.75 \r\nQ 26.265625 6.109375 33.40625 6.109375 \r\nQ 40.53125 6.109375 44.609375 11.75 \r\nQ 48.6875 17.390625 48.6875 27.296875 \r\nz\r\nM 18.109375 46.390625 \r\nQ 20.953125 51.265625 25.265625 53.625 \r\nQ 29.59375 56 35.59375 56 \r\nQ 45.5625 56 51.78125 48.09375 \r\nQ 58.015625 40.1875 58.015625 27.296875 \r\nQ 58.015625 14.40625 51.78125 6.484375 \r\nQ 45.5625 -1.421875 35.59375 -1.421875 \r\nQ 29.59375 -1.421875 25.265625 0.953125 \r\nQ 20.953125 3.328125 18.109375 8.203125 \r\nL 18.109375 0 \r\nL 9.078125 0 \r\nL 9.078125 75.984375 \r\nL 18.109375 75.984375 \r\nz\r\n\" id=\"DejaVuSans-98\"/>\r\n      </defs>\r\n      <use xlink:href=\"#DejaVuSans-65\"/>\r\n      <use x=\"68.408203\" xlink:href=\"#DejaVuSans-110\"/>\r\n      <use x=\"131.787109\" xlink:href=\"#DejaVuSans-107\"/>\r\n      <use x=\"189.697266\" xlink:href=\"#DejaVuSans-108\"/>\r\n      <use x=\"217.480469\" xlink:href=\"#DejaVuSans-101\"/>\r\n      <use x=\"279.003906\" xlink:href=\"#DejaVuSans-32\"/>\r\n      <use x=\"310.791016\" xlink:href=\"#DejaVuSans-98\"/>\r\n      <use x=\"374.267578\" xlink:href=\"#DejaVuSans-111\"/>\r\n      <use x=\"435.449219\" xlink:href=\"#DejaVuSans-111\"/>\r\n      <use x=\"496.630859\" xlink:href=\"#DejaVuSans-116\"/>\r\n     </g>\r\n    </g>\r\n   </g>\r\n   <g id=\"matplotlib.axis_20\">\r\n    <g id=\"ytick_55\">\r\n     <g id=\"line2d_85\">\r\n      <g>\r\n       <use style=\"stroke:#000000;stroke-width:0.8;\" x=\"172.490217\" xlink:href=\"#m943523593e\" y=\"394.716866\"/>\r\n      </g>\r\n     </g>\r\n     <g id=\"text_95\">\r\n      <!-- 0 -->\r\n      <g transform=\"translate(159.127717 398.516085)scale(0.1 -0.1)\">\r\n       <use xlink:href=\"#DejaVuSans-48\"/>\r\n      </g>\r\n     </g>\r\n    </g>\r\n    <g id=\"ytick_56\">\r\n     <g id=\"line2d_86\">\r\n      <g>\r\n       <use style=\"stroke:#000000;stroke-width:0.8;\" x=\"172.490217\" xlink:href=\"#m943523593e\" y=\"416.378356\"/>\r\n      </g>\r\n     </g>\r\n     <g id=\"text_96\">\r\n      <!-- 5 -->\r\n      <g transform=\"translate(159.127717 420.177575)scale(0.1 -0.1)\">\r\n       <use xlink:href=\"#DejaVuSans-53\"/>\r\n      </g>\r\n     </g>\r\n    </g>\r\n    <g id=\"ytick_57\">\r\n     <g id=\"line2d_87\">\r\n      <g>\r\n       <use style=\"stroke:#000000;stroke-width:0.8;\" x=\"172.490217\" xlink:href=\"#m943523593e\" y=\"438.039847\"/>\r\n      </g>\r\n     </g>\r\n     <g id=\"text_97\">\r\n      <!-- 10 -->\r\n      <g transform=\"translate(152.765217 441.839066)scale(0.1 -0.1)\">\r\n       <use xlink:href=\"#DejaVuSans-49\"/>\r\n       <use x=\"63.623047\" xlink:href=\"#DejaVuSans-48\"/>\r\n      </g>\r\n     </g>\r\n    </g>\r\n    <g id=\"ytick_58\">\r\n     <g id=\"line2d_88\">\r\n      <g>\r\n       <use style=\"stroke:#000000;stroke-width:0.8;\" x=\"172.490217\" xlink:href=\"#m943523593e\" y=\"459.701338\"/>\r\n      </g>\r\n     </g>\r\n     <g id=\"text_98\">\r\n      <!-- 15 -->\r\n      <g transform=\"translate(152.765217 463.500557)scale(0.1 -0.1)\">\r\n       <use xlink:href=\"#DejaVuSans-49\"/>\r\n       <use x=\"63.623047\" xlink:href=\"#DejaVuSans-53\"/>\r\n      </g>\r\n     </g>\r\n    </g>\r\n    <g id=\"ytick_59\">\r\n     <g id=\"line2d_89\">\r\n      <g>\r\n       <use style=\"stroke:#000000;stroke-width:0.8;\" x=\"172.490217\" xlink:href=\"#m943523593e\" y=\"481.362829\"/>\r\n      </g>\r\n     </g>\r\n     <g id=\"text_99\">\r\n      <!-- 20 -->\r\n      <g transform=\"translate(152.765217 485.162047)scale(0.1 -0.1)\">\r\n       <use xlink:href=\"#DejaVuSans-50\"/>\r\n       <use x=\"63.623047\" xlink:href=\"#DejaVuSans-48\"/>\r\n      </g>\r\n     </g>\r\n    </g>\r\n    <g id=\"ytick_60\">\r\n     <g id=\"line2d_90\">\r\n      <g>\r\n       <use style=\"stroke:#000000;stroke-width:0.8;\" x=\"172.490217\" xlink:href=\"#m943523593e\" y=\"503.024319\"/>\r\n      </g>\r\n     </g>\r\n     <g id=\"text_100\">\r\n      <!-- 25 -->\r\n      <g transform=\"translate(152.765217 506.823538)scale(0.1 -0.1)\">\r\n       <use xlink:href=\"#DejaVuSans-50\"/>\r\n       <use x=\"63.623047\" xlink:href=\"#DejaVuSans-53\"/>\r\n      </g>\r\n     </g>\r\n    </g>\r\n   </g>\r\n   <g id=\"patch_48\">\r\n    <path d=\"M 172.490217 513.855065 \r\nL 172.490217 392.550717 \r\n\" style=\"fill:none;stroke:#000000;stroke-linecap:square;stroke-linejoin:miter;stroke-width:0.8;\"/>\r\n   </g>\r\n   <g id=\"patch_49\">\r\n    <path d=\"M 293.794565 513.855065 \r\nL 293.794565 392.550717 \r\n\" style=\"fill:none;stroke:#000000;stroke-linecap:square;stroke-linejoin:miter;stroke-width:0.8;\"/>\r\n   </g>\r\n   <g id=\"patch_50\">\r\n    <path d=\"M 172.490217 513.855065 \r\nL 293.794565 513.855065 \r\n\" style=\"fill:none;stroke:#000000;stroke-linecap:square;stroke-linejoin:miter;stroke-width:0.8;\"/>\r\n   </g>\r\n   <g id=\"patch_51\">\r\n    <path d=\"M 172.490217 392.550717 \r\nL 293.794565 392.550717 \r\n\" style=\"fill:none;stroke:#000000;stroke-linecap:square;stroke-linejoin:miter;stroke-width:0.8;\"/>\r\n   </g>\r\n  </g>\r\n </g>\r\n <defs>\r\n  <clipPath id=\"pe7936b6a1b\">\r\n   <rect height=\"121.304348\" width=\"121.304348\" x=\"26.925\" y=\"8.83307\"/>\r\n  </clipPath>\r\n  <clipPath id=\"pd52a5944d7\">\r\n   <rect height=\"121.304348\" width=\"121.304348\" x=\"172.490217\" y=\"8.83307\"/>\r\n  </clipPath>\r\n  <clipPath id=\"pb270b9db74\">\r\n   <rect height=\"121.304348\" width=\"121.304348\" x=\"318.055435\" y=\"8.83307\"/>\r\n  </clipPath>\r\n  <clipPath id=\"pf1ad4f2943\">\r\n   <rect height=\"121.304348\" width=\"121.304348\" x=\"463.620652\" y=\"8.83307\"/>\r\n  </clipPath>\r\n  <clipPath id=\"p6b11f88cc6\">\r\n   <rect height=\"121.304348\" width=\"121.304348\" x=\"26.925\" y=\"200.691893\"/>\r\n  </clipPath>\r\n  <clipPath id=\"peccafcb354\">\r\n   <rect height=\"121.304348\" width=\"121.304348\" x=\"172.490217\" y=\"200.691893\"/>\r\n  </clipPath>\r\n  <clipPath id=\"p9b0d654e2a\">\r\n   <rect height=\"121.304348\" width=\"121.304348\" x=\"318.055435\" y=\"200.691893\"/>\r\n  </clipPath>\r\n  <clipPath id=\"pe947e15f78\">\r\n   <rect height=\"121.304348\" width=\"121.304348\" x=\"463.620652\" y=\"200.691893\"/>\r\n  </clipPath>\r\n  <clipPath id=\"p80bd41cc99\">\r\n   <rect height=\"121.304348\" width=\"121.304348\" x=\"26.925\" y=\"392.550717\"/>\r\n  </clipPath>\r\n  <clipPath id=\"p07433e6184\">\r\n   <rect height=\"121.304348\" width=\"121.304348\" x=\"172.490217\" y=\"392.550717\"/>\r\n  </clipPath>\r\n </defs>\r\n</svg>\r\n",
            "image/png": "[encoded data removed]"
          },
          "metadata": {
            "tags": [],
            "needs_background": "light"
          }
        }
      ]
    },
    {
      "cell_type": "code",
      "metadata": {
        "id": "_jSHbhqeF7f2"
      },
      "source": [
        "wandb.log({\"A1-Examples\": [wandb.Image(img, caption=cap) for cap,img in labelled_images.items()]})"
      ],
      "execution_count": null,
      "outputs": []
    },
    {
      "cell_type": "markdown",
      "metadata": {
        "id": "A9o5wgnsHGa_"
      },
      "source": [
        "#Implemention of feedforward neural network which takes images from the fashion-mnist data as input and outputs a probability distribution over the 10 classes."
      ]
    },
    {
      "cell_type": "code",
      "metadata": {
        "id": "CcTHKZYTF7f3"
      },
      "source": [
        "#Reshape 2D Matrix into 1D Vector\n",
        "train_x = np.array(train_x.reshape(len(train_x), 28 ** 2, 1))\n",
        "test_x = np.array(test_x.reshape(len(test_x), 28 ** 2, 1))\n",
        "\n",
        "#Normalizing data\n",
        "train_x = train_x/255.0\n",
        "test_x = test_x/255.0\n",
        "\n",
        "#Splitting Data\n",
        "train_x, val_x, train_y, val_y = train_test_split(train_x, train_y, train_size = 0.9, test_size = 0.1)"
      ],
      "execution_count": null,
      "outputs": []
    },
    {
      "cell_type": "code",
      "metadata": {
        "id": "ZWBIHQWZGDB6"
      },
      "source": [
        "#Activation function Def\n",
        "\n",
        "def relu(z):\n",
        "  return x * (x > 0)                                           #learnt from https://stackoverflow.com/questions/32109319/how-to-implement-the-relu-function-in-numpy\n",
        "\n",
        "def sigmoid(z):\n",
        "  return expit(z)\n",
        "\n",
        "def tanh(z):\n",
        "  return np.tanh(z)\n",
        "\n",
        "\n",
        "#Activation function derivative Def\n",
        "\n",
        "def grad_tanh(x):\n",
        "  return 1-(tanh(x) ** 2)\n",
        "\n",
        "def grad_sigmoid(x):\n",
        "  sig_x = sigmoid(x)\n",
        "  return sig_x*(1-sig_x)\n",
        "\n",
        "def grad_relu(x):\n",
        "  temp = 1. * (x > 0)                                          #learnt from https://stackoverflow.com/questions/32109319/how-to-implement-the-relu-function-in-numpy\n",
        "  return temp"
      ],
      "execution_count": null,
      "outputs": []
    },
    {
      "cell_type": "code",
      "metadata": {
        "id": "rE2TMOAkGKm8"
      },
      "source": [
        "#Type Initialization\n",
        "RANDOM = \"random\"\n",
        "XAVIER = \"xavier\"\n",
        "ZEROES = \"zeroes\"\n",
        "\n",
        "#Definitions\n",
        "\n",
        "def init_weights(type: str, layers):\n",
        "    W = {}\n",
        "    for i in range(1, len(layers)):\n",
        "      if type == RANDOM:\n",
        "        W[i] = np.random.normal(0, 0.5, size=(layers[i], layers[i-1]))\n",
        "      elif type == XAVIER:\n",
        "        W[i] = np.random.uniform(-(1/np.sqrt(layers[i])), (1/np.sqrt(layers[i])), size=(layers[i], layers[i-1]))\n",
        "      else:\n",
        "        W[i] = np.zeros((layers[i], layers[i-1]))\n",
        "    return W\n",
        "\n",
        "def init_bias(type: str, layers):\n",
        "    B = {}\n",
        "    for i in range(1, len(layers)):\n",
        "      if type == RANDOM:\n",
        "        B[i] = np.random.randn(layers[i], 1)\n",
        "      else:\n",
        "        B[i] = np.zeros((layers[i], 1))\n",
        "    return B\n",
        "\n",
        "def init_params(type: str, layers):\n",
        "  return init_weights(type, layers), init_bias(type, layers)"
      ],
      "execution_count": null,
      "outputs": []
    },
    {
      "cell_type": "code",
      "metadata": {
        "id": "sbHEFDVVGQUk"
      },
      "source": [
        "#Type Initialization\n",
        "SIGMOID = \"sigmoid\"\n",
        "TAN_H = \"tanh\"\n",
        "RELU = \"relu\"\n",
        "\n",
        "#Definitions\n",
        "\n",
        "def grad(activation: str, pre_act_vector):\n",
        "  #increase precision\n",
        "  pre_act_vector = np.array(pre_act_vector,dtype=np.longdouble)\n",
        "  if activation == TAN_H:\n",
        "    return grad_tanh(pre_act_vector)\n",
        "  elif activation == SIGMOID:\n",
        "    return grad_sigmoid(pre_act_vector)\n",
        "  elif activation == RELU:\n",
        "    return grad_relu(pre_act_vector)\n",
        "  return None\n",
        "\n",
        "def activate(activation: str, pre_act_vector):\n",
        "  #increase precision\n",
        "  pre_act_vector = np.array(pre_act_vector,dtype=np.longdouble)\n",
        "  if activation == TAN_H:\n",
        "    return tanh(pre_act_vector)\n",
        "  elif activation == SIGMOID:\n",
        "    return sigmoid(pre_act_vector)\n",
        "  elif activation == RELU:\n",
        "    return relu(pre_act_vector)\n",
        "  return None\n",
        "\n",
        "def cross_entropy_loss(label, y_hat):\n",
        "  return - np.log(y_hat[label][0])\n",
        "\n",
        "def squared_error_loss(label, y_hat):\n",
        "  Y = np.array([1 if i == label else 0 for i in range(len(y_hat))]).reshape(np.shape(y_hat))\n",
        "  loss = (Y - y_hat) ** 2\n",
        "  return np.average(loss)"
      ],
      "execution_count": null,
      "outputs": []
    },
    {
      "cell_type": "markdown",
      "metadata": {
        "id": "SG_4nwHhHO2J"
      },
      "source": [
        "#Algorithm: Forward Propagation"
      ]
    },
    {
      "cell_type": "code",
      "metadata": {
        "id": "NU_2NWriGXev"
      },
      "source": [
        "#Forward Propagation\n",
        "\n",
        "def forward_propagation(data, activation, W, B, layers):                         \n",
        "  H = {0:data}\n",
        "  A = {}\n",
        "  L = len(layers)-1\n",
        "  for k in range(1, L):\n",
        "    A[k] = np.matmul(W[k],H[k-1])+B[k]\n",
        "    H[k] = activate(SIGMOID, A[k])\n",
        "    \n",
        "  A[L] = np.matmul(W[L],H[L-1])+B[L]\n",
        "  y_hat = softmax(A[L])\n",
        "  \n",
        "  return H, A, y_hat"
      ],
      "execution_count": null,
      "outputs": []
    },
    {
      "cell_type": "markdown",
      "metadata": {
        "id": "I4Keyz3IHUw7"
      },
      "source": [
        "#Algorithm: Back Propagation"
      ]
    },
    {
      "cell_type": "code",
      "metadata": {
        "id": "brn9200vGa0n"
      },
      "source": [
        "def back_propagation(y, y_hat, A, H, W, layers, activation):\n",
        "  Y = np.array([1 if i == y else 0 for i in range(len(y_hat))]).reshape(np.shape(y_hat))\n",
        "  dW, dB = init_params(ZEROES, layers)\n",
        "  dA = init_bias(ZEROES, layers)\n",
        "  dH = init_bias(ZEROES, layers)\n",
        "  L = len(layers) - 1\n",
        "  dA[L] = -(Y - y_hat)\n",
        "  for i in range(L, 0, -1):\n",
        "    dW[i] = np.dot(dA[i], H[i - 1].T)\n",
        "    dB[i] = dA[i]\n",
        "    if i > 1:\n",
        "      dH[i - 1] = np.dot(W[i].T, dA[i])\n",
        "      dA[i - 1] = np.multiply(dH[i - 1], grad(activation, A[i - 1]))\n",
        "  return dW, dB"
      ],
      "execution_count": null,
      "outputs": []
    },
    {
      "cell_type": "markdown",
      "metadata": {
        "id": "nj9QNa7RHdHo"
      },
      "source": [
        "#Momentum Based Gradient Descent"
      ]
    },
    {
      "cell_type": "code",
      "metadata": {
        "id": "K-ZjDOpqGe-f"
      },
      "source": [
        "#Vanilla Momentum Gradient Descent\n",
        "\n",
        "def momentum(data,label,activation,epochs,layers,eta,init_type, logger_prefix = \"\"):\n",
        "\n",
        "  gamma = 0.9\n",
        "  W, B = init_params(init_type, layers)\n",
        "  v_W, v_B = init_params(ZEROES, layers)\n",
        "  dW, dB = init_params(ZEROES, layers)\n",
        "  priv_W, priv_B = init_params(ZEROES, layers)\n",
        "  L = len(layers) - 1\n",
        "  counter, ce, se = 0, 0, 0\n",
        "  loss_list = {\"CE\": [], \"SE\": [], \"ACC\":[]}\n",
        "  accuracy = 0\n",
        "  prediction_data = {\"P\":[], \"A\":[]}\n",
        "\n",
        "  for n in range(epochs):\n",
        "    if n > 0:\n",
        "      data, label = shuffle(data, label)\n",
        "    for k in range(len(data)):\n",
        "      H, A, y_hat = forward_propagation(data[k], activation, W, B, layers)\n",
        "      w, b = back_propagation(label[k],y_hat,A,H,W,layers,activation)\n",
        "      for i in range(1, L+1):\n",
        "        dW[i] += w[i]\n",
        "        dB[i] += b[i]\n",
        "\n",
        "      tem = np.argmax(y_hat, axis=0)[0]\n",
        "      prediction_data['P'].append(tem)\n",
        "      prediction_data[\"A\"].append(label[k])\n",
        "      if tem == label[k]:\n",
        "        accuracy += 1\n",
        "      counter += 1\n",
        "    #Calculate and apply Momentum  \n",
        "    for i in range(1, L+1):\n",
        "      v_W[i] = gamma * priv_W[i] + eta * dW[i]\n",
        "      v_B[i] = gamma * priv_B[i] + eta * dB[i]\n",
        "      W[i] -= v_W[i]\n",
        "      B[i] -= v_B[i]\n",
        "    priv_W = v_W\n",
        "    priv_B = v_B\n",
        "    dW, dB = init_params(ZEROES, layers)\n",
        "    ce = cross_entropy_loss(label[k], y_hat)\n",
        "    se = squared_error_loss(label[k], y_hat)\n",
        "    acc = accuracy/counter\n",
        "    loss_list[\"CE\"].append(ce)\n",
        "    loss_list[\"SE\"].append(se)\n",
        "    loss_list[\"ACC\"].append(acc)\n",
        "    # print(\"Accuracy\", acc)\n",
        "    # wandb.log({f\"{logger_prefix} Accuracy\": acc, f\"{logger_prefix} Error\": 1-(accuracy/counter), f\"{logger_prefix} Cross Entropy\": float(ce), f\"{logger_prefix} Epochs\": n})\n",
        "    \n",
        "    print(\"Epoch\", n,\"Accuracy\", accuracy/counter)\n",
        "  return W, B, prediction_data"
      ],
      "execution_count": null,
      "outputs": []
    },
    {
      "cell_type": "markdown",
      "metadata": {
        "id": "gx6JSMU-His5"
      },
      "source": [
        "#Nesterov Accelerated Gradient Descent (NAG)\n"
      ]
    },
    {
      "cell_type": "code",
      "metadata": {
        "id": "QB9Bvg2eG0F8"
      },
      "source": [
        "#Nesterov Accelerated Gradient Descent (Minibatch)\n",
        "\n",
        "def nag(data,label,activation,epochs,layers,eta,init_type,batch_size=1, logger_prefix = \"\"):\n",
        "\n",
        "  gamma = 0.9\n",
        "  W, B = init_params(init_type, layers)\n",
        "  v_W, v_B = init_params(ZEROES, layers)\n",
        "  dW, dB = init_params(ZEROES, layers)\n",
        "  priv_W, priv_B = init_params(ZEROES, layers)\n",
        "  L = len(layers) - 1\n",
        "  counter, ce, se = 0, 0, 0\n",
        "  loss_list = {\"CE\": [], \"SE\": [], \"ACC\":[]}\n",
        "  accuracy = 0\n",
        "  prediction_data = {\"P\":[], \"A\":[]}\n",
        "\n",
        "  for n in range(epochs):\n",
        "    if n > 0:\n",
        "      data, label = shuffle(data, label)\n",
        "    for b in range(0, len(data), batch_size):\n",
        "      batch_data = data[b: b + batch_size]\n",
        "      batch_label = label[b: b + batch_size]\n",
        "\n",
        "      #Look Ahead calculation\n",
        "      for i in range(1, L+1):\n",
        "        v_W[i] = gamma * priv_W[i]\n",
        "        v_B[i] = gamma * priv_B[i]\n",
        "        W[i] -= v_W[i]\n",
        "        B[i] -= v_B[i]\n",
        "\n",
        "      for k in range(len(batch_data)):\n",
        "        #Forward\n",
        "        H, A, y_hat = forward_propagation(batch_data[k], activation, W, B, layers)\n",
        "        #Backward\n",
        "        w_g, b_g = back_propagation(batch_label[k],y_hat,A,H,W,layers,activation)\n",
        "        for i in range(1, L+1):\n",
        "          dW[i] += w_g[i]\n",
        "          dB[i] += b_g[i]\n",
        "\n",
        "        #Calc Accuracy\n",
        "        tem = np.argmax(y_hat, axis=0)[0]\n",
        "        prediction_data['P'].append(tem)\n",
        "        prediction_data[\"A\"].append(label[k])\n",
        "        predictions = tem\n",
        "        if tem == batch_label[k]:\n",
        "          accuracy += 1\n",
        "        counter += 1\n",
        "\n",
        "      for i in range(1, L+1):\n",
        "        v_W[i] = gamma * priv_W[i] + eta * dW[i]\n",
        "        v_B[i] = gamma * priv_B[i] + eta * dB[i]\n",
        "        W[i] -= v_W[i]\n",
        "        B[i] -= v_B[i]\n",
        "      priv_W = v_W\n",
        "      priv_B = v_B\n",
        "      dW, dB = init_params(ZEROES, layers)\n",
        "\n",
        "      #Loss calculations\n",
        "      ce = cross_entropy_loss(batch_label[k], y_hat)\n",
        "      se = squared_error_loss(batch_label[k], y_hat)\n",
        "      acc = accuracy/counter\n",
        "      loss_list[\"CE\"].append(ce)\n",
        "      loss_list[\"SE\"].append(se)\n",
        "      loss_list[\"ACC\"].append(acc)\n",
        "\n",
        "      #Log data\n",
        "      # print(\"Accuracy\", acc)\n",
        "      # wandb.log({f\"{logger_prefix} Accuracy\": acc, f\"{logger_prefix} Error\": 1-(accuracy/counter), f\"{logger_prefix} Cross Entropy\": float(ce), f\"{logger_prefix} Epochs\": n})\n",
        "    \n",
        "    print(\"Epoch\", n,\"Accuracy\", accuracy/counter)\n",
        "  return W, B, prediction_data"
      ],
      "execution_count": null,
      "outputs": []
    },
    {
      "cell_type": "markdown",
      "metadata": {
        "id": "veqjMoP4HmBX"
      },
      "source": [
        "#Stochastic Gradient Descent (SGD)"
      ]
    },
    {
      "cell_type": "code",
      "metadata": {
        "id": "iABjX1rOHJgs"
      },
      "source": [
        "#Stochastic Gradient (Minibatch)\n",
        "\n",
        "def sgd(data,label,activation,epochs,layers,eta,init_type,batch_size=1, logger_prefix = \"\"):\n",
        "\n",
        "  W, B = init_params(init_type, layers)\n",
        "  dW, dB = init_params(ZEROES, layers)\n",
        "  L = len(layers) - 1\n",
        "  counter, ce, se = 0, 0, 0\n",
        "  loss_list = {\"CE\": [], \"SE\": [], \"ACC\":[]}\n",
        "  accuracy = 0\n",
        "  prediction_data = {\"P\":[], \"A\":[]}\n",
        "\n",
        "  for n in range(epochs):\n",
        "    if n > 0:\n",
        "      data, label = shuffle(data, label)\n",
        "    for k in range(len(data)):\n",
        "      #Forward Prop\n",
        "      H, A, y_hat = forward_propagation(data[k], activation, W, B, layers)\n",
        "      #Back Prop\n",
        "      w, b = back_propagation(label[k],y_hat,A,H,W,layers,activation)\n",
        "      for i in range(1, L+1):\n",
        "        dW[i] += w[i]\n",
        "        dB[i] += b[i]\n",
        "\n",
        "      #Accuracy calc\n",
        "      tem = np.argmax(y_hat, axis=0)[0]\n",
        "      prediction_data['P'].append(tem)\n",
        "      prediction_data[\"A\"].append(label[k])\n",
        "      if tem == label[k]:\n",
        "        accuracy += 1\n",
        "      counter += 1\n",
        "\n",
        "      #Stochastic Mini Batch\n",
        "      if counter % batch_size == 0:\n",
        "        for i in range(1, L+1):\n",
        "          W[i] = eta * dW[i]\n",
        "          B[i] = eta * dB[i]\n",
        "        dW, dB = init_params(ZEROES, layers)\n",
        "\n",
        "        #Error Calculation\n",
        "        ce = cross_entropy_loss(label[k], y_hat)\n",
        "        se = squared_error_loss(label[k], y_hat)\n",
        "        acc = accuracy/counter\n",
        "        loss_list[\"CE\"].append(ce)\n",
        "        loss_list[\"SE\"].append(se)\n",
        "        loss_list[\"ACC\"].append(acc)\n",
        "\n",
        "        #Log Data\n",
        "        # print(\"Accuracy\", acc)\n",
        "        # wandb.log({f\"{logger_prefix} Accuracy\": acc, f\"{logger_prefix} Error\": 1-(accuracy/counter), f\"{logger_prefix} Cross Entropy\": float(ce), f\"{logger_prefix} Epochs\": n})\n",
        "    \n",
        "    print(\"Epoch\", n,\"Accuracy\", accuracy/counter)\n",
        "  return W, B, prediction_data"
      ],
      "execution_count": null,
      "outputs": []
    },
    {
      "cell_type": "markdown",
      "metadata": {
        "id": "7cXV0x85HykT"
      },
      "source": [
        "#Momentum Gradient Descent (Stochastic)"
      ]
    },
    {
      "cell_type": "code",
      "metadata": {
        "id": "L5adfhykHQmi"
      },
      "source": [
        "#Stochastic Minibatch Momentum Gradient Descent\n",
        "\n",
        "def stochastic_momentum(data,label,activation,epochs,layers,eta,init_type,batch_size=1, logger_prefix = \"\"):\n",
        "\n",
        "  gamma = 0.9\n",
        "  W, B = init_params(init_type, layers)\n",
        "  v_W, v_B = init_params(ZEROES, layers)\n",
        "  dW, dB = init_params(ZEROES, layers)\n",
        "  priv_W, priv_B = init_params(ZEROES, layers)\n",
        "  L = len(layers) - 1\n",
        "  counter, ce, se = 0, 0, 0\n",
        "  loss_list = {\"CE\": [], \"SE\": [], \"ACC\":[]}\n",
        "  accuracy = 0\n",
        "  prediction_data = {\"P\":[], \"A\":[]}\n",
        "\n",
        "  for n in range(epochs):\n",
        "    if n > 0:\n",
        "      data, label = shuffle(data, label)\n",
        "    for k in range(len(data)):\n",
        "      H, A, y_hat = forward_propagation(data[k], activation, W, B, layers)\n",
        "      w, b = back_propagation(label[k],y_hat,A,H,W,layers,activation)\n",
        "      for i in range(1, L+1):\n",
        "        dW[i] += w[i]\n",
        "        dB[i] += b[i]\n",
        "\n",
        "      tem = np.argmax(y_hat, axis=0)[0]\n",
        "      prediction_data['P'].append(tem)\n",
        "      prediction_data[\"A\"].append(label[k])\n",
        "      if tem == label[k]:\n",
        "        accuracy += 1\n",
        "      counter += 1\n",
        "\n",
        "      if counter % batch_size == 0:\n",
        "        for i in range(1, L+1):\n",
        "          v_W[i] = gamma * priv_W[i] + eta * dW[i]\n",
        "          v_B[i] = gamma * priv_B[i] + eta * dB[i]\n",
        "          W[i] -= v_W[i]\n",
        "          B[i] -= v_B[i]\n",
        "        priv_W = v_W\n",
        "        priv_B = v_B\n",
        "        dW, dB = init_params(ZEROES, layers)\n",
        "        ce = cross_entropy_loss(label[k], y_hat)\n",
        "        se = squared_error_loss(label[k], y_hat)\n",
        "        acc = accuracy/counter\n",
        "        loss_list[\"CE\"].append(ce)\n",
        "        loss_list[\"SE\"].append(se)\n",
        "        loss_list[\"ACC\"].append(acc)\n",
        "        # print(\"Accuracy\", acc)\n",
        "        # wandb.log({f\"{logger_prefix} Accuracy\": acc, f\"{logger_prefix} Error\": 1-(accuracy/counter), f\"{logger_prefix} Cross Entropy\": float(ce), f\"{logger_prefix} Epochs\": n})\n",
        "    \n",
        "    print(\"Epoch\", n,\"Accuracy\", accuracy/counter)\n",
        "  return W, B, prediction_data"
      ],
      "execution_count": null,
      "outputs": []
    },
    {
      "cell_type": "markdown",
      "metadata": {
        "id": "3lV2NE5JH56w"
      },
      "source": [
        "#RMSProp"
      ]
    },
    {
      "cell_type": "code",
      "metadata": {
        "id": "TmxQmdp5Hdiu"
      },
      "source": [
        "# RMSProp\n",
        "\n",
        "def rmsprop(data, label, activation, epochs, layers, eta, init_type, batch_size=1, logger_prefix = \"\"):\n",
        "\n",
        "    beta = 0.9\n",
        "    epsilon = 1e-8\n",
        "    W, B = init_params(init_type, layers)\n",
        "    v_W, v_B = init_params(ZEROES, layers)\n",
        "    dW, dB = init_params(ZEROES, layers)\n",
        "    L = len(layers) - 1\n",
        "    counter, ce, se = 0, 0, 0\n",
        "    loss_list = {\"CE\": [], \"SE\": [], \"ACC\": []}\n",
        "    accuracy = 0\n",
        "    prediction_data = {\"P\":[], \"A\":[]}\n",
        "\n",
        "    for n in range(epochs):\n",
        "\n",
        "        if n > 0:\n",
        "          data, label = shuffle(data, label)\n",
        "\n",
        "        for b in range(0, len(data), batch_size):\n",
        "            batch_data = data[b: b + batch_size]\n",
        "            batch_label = label[b: b + batch_size]\n",
        "\n",
        "            for k in range(len(batch_data)):\n",
        "                # Forward\n",
        "                H, A, y_hat = forward_propagation(batch_data[k], activation, W, B, layers)\n",
        "                # Backward\n",
        "                w_g, b_g = back_propagation(batch_label[k], y_hat, A, H, W, layers, activation)\n",
        "                for i in range(1, L + 1):\n",
        "                    dW[i] += w_g[i]\n",
        "                    dB[i] += b_g[i]\n",
        "\n",
        "                # Calc Accuracy\n",
        "                tem = np.argmax(y_hat, axis=0)[0]\n",
        "                prediction_data['P'].append(tem)\n",
        "                prediction_data[\"A\"].append(label[k])\n",
        "                if tem == batch_label[k]:\n",
        "                    accuracy += 1\n",
        "                counter += 1\n",
        "\n",
        "            for i in range(1, L + 1):\n",
        "                v_W[i] = beta * v_W[i] + (1-beta) * (dW[i] ** 2) + epsilon\n",
        "                v_B[i] = beta * v_B[i] + (1-beta) * (dB[i] ** 2) + epsilon\n",
        "                for vect in v_W[i]:\n",
        "                  vect[vect < 0] = 1e-10\n",
        "                v_B[i][v_B[i] < 0] = 1e-10\n",
        "                W[i] -= (eta / np.sqrt(v_W[i])) * dW[i]\n",
        "                B[i] -= (eta / np.sqrt(v_B[i])) * dB[i]\n",
        "            dW, dB = init_params(ZEROES, layers)\n",
        "\n",
        "            # Loss calculations\n",
        "            ce = cross_entropy_loss(batch_label[k], y_hat)\n",
        "            se = squared_error_loss(batch_label[k], y_hat)\n",
        "            acc = accuracy / counter\n",
        "            loss_list[\"CE\"].append(ce)\n",
        "            loss_list[\"SE\"].append(se)\n",
        "            loss_list[\"ACC\"].append(acc)\n",
        "\n",
        "            # Log data\n",
        "            # print(\"Accuracy\", acc)\n",
        "            # wandb.log({f\"{logger_prefix} Accuracy\": acc, f\"{logger_prefix} Error\": 1-(accuracy/counter), f\"{logger_prefix} Cross Entropy\": float(ce), f\"{logger_prefix} Epochs\": n})\n",
        "\n",
        "        print(\"Epoch\", n, \"Accuracy\", accuracy / counter)\n",
        "    return W, B, prediction_data"
      ],
      "execution_count": null,
      "outputs": []
    },
    {
      "cell_type": "markdown",
      "metadata": {
        "id": "-SZDgSU1H9Hw"
      },
      "source": [
        "#AdaGrad"
      ]
    },
    {
      "cell_type": "code",
      "metadata": {
        "id": "r3Yp_Q8CHkBN"
      },
      "source": [
        "# AdaGrad\n",
        "\n",
        "def adagrad(data, label, activation, epochs, layers, eta, init_type, batch_size=1, logger_prefix = \"\"):\n",
        "\n",
        "    beta = 0.9\n",
        "    epsilon = 1e-8\n",
        "    W, B = init_params(init_type, layers)\n",
        "    v_W, v_B = init_params(ZEROES, layers)\n",
        "    dW, dB = init_params(ZEROES, layers)\n",
        "    L = len(layers) - 1\n",
        "    counter, ce, se = 0, 0, 0\n",
        "    loss_list = {\"CE\": [], \"SE\": [], \"ACC\": []}\n",
        "    accuracy = 0\n",
        "    prediction_data = {\"P\":[], \"A\":[]}\n",
        "\n",
        "    for n in range(epochs):\n",
        "        if n > 0:\n",
        "          data, label = shuffle(data, label)\n",
        "        for b in range(0, len(data), batch_size):\n",
        "            batch_data = data[b: b + batch_size]\n",
        "            batch_label = label[b: b + batch_size]\n",
        "\n",
        "            for k in range(len(batch_data)):\n",
        "                # Forward\n",
        "                H, A, y_hat = forward_propagation(batch_data[k], activation, W, B, layers)\n",
        "                # Backward\n",
        "                w_g, b_g = back_propagation(batch_label[k], y_hat, A, H, W, layers, activation)\n",
        "                for i in range(1, L + 1):\n",
        "                    dW[i] += w_g[i]\n",
        "                    dB[i] += b_g[i]\n",
        "\n",
        "                # Calc Accuracy\n",
        "                tem = np.argmax(y_hat, axis=0)[0]\n",
        "                prediction_data['P'].append(tem)\n",
        "                prediction_data[\"A\"].append(label[k])\n",
        "                if tem == batch_label[k]:\n",
        "                    accuracy += 1\n",
        "                counter += 1\n",
        "\n",
        "            for i in range(1, L + 1):\n",
        "                v_W[i] += (dW[i] ** 2) + epsilon\n",
        "                v_B[i] += (dB[i] ** 2) + epsilon\n",
        "                for vect in v_W[i]:\n",
        "                  vect[vect < 0] = 1e-10                      #To prevent division by zero and avoid nan error\n",
        "                v_B[i][v_B[i] < 0] = 1e-10                    #To prevent division by zero and avoid nan error\n",
        "                W[i] -= (eta / np.sqrt(v_W[i])) * dW[i]\n",
        "                B[i] -= (eta / np.sqrt(v_B[i])) * dB[i]\n",
        "            dW, dB = init_params(ZEROES, layers)\n",
        "\n",
        "            # Loss calculations\n",
        "            ce = cross_entropy_loss(batch_label[k], y_hat)\n",
        "            se = squared_error_loss(batch_label[k], y_hat)\n",
        "            acc = accuracy / counter\n",
        "            loss_list[\"CE\"].append(ce)\n",
        "            loss_list[\"SE\"].append(se)\n",
        "            loss_list[\"ACC\"].append(acc)\n",
        "\n",
        "            # Log data\n",
        "            # print(\"Accuracy\", acc)\n",
        "            # wandb.log({f\"{logger_prefix} Accuracy\": acc, f\"{logger_prefix} Error\": 1-(accuracy/counter), f\"{logger_prefix} Cross Entropy\": float(ce), f\"{logger_prefix} Epochs\": n})\n",
        "\n",
        "        print(\"Epoch\", n, \"Accuracy\", accuracy / counter)\n",
        "    return W, B, prediction_data"
      ],
      "execution_count": null,
      "outputs": []
    },
    {
      "cell_type": "markdown",
      "metadata": {
        "id": "hLahi9xcIAIL"
      },
      "source": [
        "#Adam"
      ]
    },
    {
      "cell_type": "code",
      "metadata": {
        "id": "8hdfwm9iHom_"
      },
      "source": [
        "# Adam\n",
        "\n",
        "def adam(data, label, activation, epochs, layers, eta, init_type, batch_size=1, logger_prefix = \"\"):\n",
        "\n",
        "    beta1, beta2 = 0.9, 0.999\n",
        "    epsilon = 1e-8\n",
        "    W, B = init_params(init_type, layers)\n",
        "    v_W, v_B = init_params(ZEROES, layers)\n",
        "    m_W, m_B = init_params(ZEROES, layers)\n",
        "    \n",
        "    L = len(layers) - 1\n",
        "    counter, ce, se = 0, 0, 0\n",
        "    loss_list = {\"CE\": [], \"SE\": [], \"ACC\": []}\n",
        "    accuracy = 0\n",
        "    prediction_data = {\"P\":[], \"A\":[]}\n",
        "\n",
        "    for n in range(epochs):\n",
        "\n",
        "        if n > 0:\n",
        "          data, label = shuffle(data, label)\n",
        "\n",
        "        for b in range(0, len(data), batch_size):\n",
        "            batch_data = data[b: b + batch_size]\n",
        "            batch_label = label[b: b + batch_size]\n",
        "\n",
        "            dW, dB = init_params(ZEROES, layers)\n",
        "\n",
        "            for k in range(len(batch_data)):\n",
        "                # Forward\n",
        "                H, A, y_hat = forward_propagation(batch_data[k], activation, W, B, layers)\n",
        "                # Backward\n",
        "                w_g, b_g = back_propagation(batch_label[k], y_hat, A, H, W, layers, activation)\n",
        "                for i in range(1, L + 1):\n",
        "                    dW[i] += w_g[i]\n",
        "                    dB[i] += b_g[i]\n",
        "\n",
        "                # Calc Accuracy\n",
        "                tem = np.argmax(y_hat, axis=0)[0]\n",
        "                prediction_data['P'].append(tem)\n",
        "                prediction_data[\"A\"].append(label[k])\n",
        "                if tem == batch_label[k]:\n",
        "                    accuracy += 1\n",
        "                counter += 1\n",
        "\n",
        "            for i in range(1, L + 1):\n",
        "                m_W[i] = beta1 * m_W[i] + (1-beta1) * dW[i]           #Moving Average of gradient (Cumulative history)\n",
        "                m_B[i] = beta1 * m_B[i] + (1-beta1) * dB[i]\n",
        "                v_W[i] = beta2 * v_W[i] + (1-beta2) * (dW[i] ** 2)    #Take care of learning Rate\n",
        "                v_B[i] = beta2 * v_B[i] + (1-beta2) * (dB[i] ** 2)\n",
        "\n",
        "                m_hat_W = m_W[i] / (1 - beta1)\n",
        "                m_hat_B = m_B[i] / (1 - beta1)\n",
        "\n",
        "                v_hat_W = v_W[i] / (1 - beta2)\n",
        "                v_hat_B = v_B[i] / (1 - beta2)\n",
        "\n",
        "                #make -ve values of v_hat_t = 0 for sqrt\n",
        "                for vect in v_hat_W:\n",
        "                  vect[vect < 0] = 0\n",
        "                v_hat_B[v_hat_B < 0] = 0\n",
        "\n",
        "                #Update parameters\n",
        "                W[i] -= (eta / np.sqrt(v_hat_W + epsilon)) * m_hat_W\n",
        "                B[i] -= (eta / np.sqrt(v_hat_B + epsilon)) * m_hat_B\n",
        "\n",
        "            # Loss calculations\n",
        "            ce = cross_entropy_loss(batch_label[k], y_hat)\n",
        "            se = squared_error_loss(batch_label[k], y_hat)\n",
        "            acc = accuracy / counter\n",
        "            loss_list[\"CE\"].append(ce)\n",
        "            loss_list[\"SE\"].append(se)\n",
        "            loss_list[\"ACC\"].append(acc)\n",
        "\n",
        "            # Log data\n",
        "            # print(\"Accuracy\", acc)\n",
        "            # wandb.log({f\"{logger_prefix} Accuracy\": acc, f\"{logger_prefix} Error\": 1-(accuracy/counter), f\"{logger_prefix} Cross Entropy\": float(ce), f\"{logger_prefix} Epochs\": n})\n",
        "\n",
        "        print(\"Epoch\", n, \"Accuracy\", accuracy / counter)\n",
        "    return W, B, prediction_data"
      ],
      "execution_count": null,
      "outputs": []
    },
    {
      "cell_type": "markdown",
      "metadata": {
        "id": "IfCYOkzJIEKD"
      },
      "source": [
        "#NaAdam"
      ]
    },
    {
      "cell_type": "code",
      "metadata": {
        "id": "YS82n1DYHxcy"
      },
      "source": [
        "# NaAdam\n",
        "\n",
        "def nadam(data, label, activation, epochs, layers, eta, init_type, batch_size=1, logger_prefix = \"\"):\n",
        "\n",
        "    beta1, beta2 = 0.9, 0.999\n",
        "    gamma = 0.9\n",
        "    epsilon = 1e-8\n",
        "    W, B = init_params(init_type, layers)\n",
        "    v_W, v_B = init_params(ZEROES, layers)\n",
        "    m_W, m_B = init_params(ZEROES, layers)\n",
        "    priv_W, priv_B = init_params(ZEROES, layers)\n",
        "    L = len(layers) - 1\n",
        "    counter, ce, se = 0, 0, 0\n",
        "    loss_list = {\"CE\": [], \"SE\": [], \"ACC\": []}\n",
        "    accuracy = 0\n",
        "    prediction_data = {\"P\":[], \"A\":[]}\n",
        "\n",
        "    for n in range(epochs):\n",
        "\n",
        "        if n > 0:\n",
        "          data, label = shuffle(data, label)\n",
        "\n",
        "        for b in range(0, len(data), batch_size):\n",
        "            batch_data = data[b: b + batch_size]\n",
        "            batch_label = label[b: b + batch_size]\n",
        "\n",
        "            dW, dB = init_params(ZEROES, layers)\n",
        "\n",
        "            for k in range(len(batch_data)):\n",
        "                # Forward\n",
        "                H, A, y_hat = forward_propagation(batch_data[k], activation, W, B, layers)\n",
        "                # Backward\n",
        "                w_g, b_g = back_propagation(batch_label[k], y_hat, A, H, W, layers, activation)\n",
        "                for i in range(1, L + 1):\n",
        "                    dW[i] += w_g[i]\n",
        "                    dB[i] += b_g[i]\n",
        "\n",
        "                # Calc Accuracy\n",
        "                tem = np.argmax(y_hat, axis=0)[0]\n",
        "                prediction_data['P'].append(tem)\n",
        "                prediction_data[\"A\"].append(label[k])\n",
        "                if tem == batch_label[k]:\n",
        "                    accuracy += 1\n",
        "                counter += 1\n",
        "\n",
        "            for i in range(1, L + 1):\n",
        "\n",
        "                m_W[i] = beta1 * priv_W[i] + (1-beta1) * dW[i]           #Moving Average of gradient (Cumulative history)\n",
        "                m_B[i] = beta1 * priv_B[i] + (1-beta1) * dB[i]\n",
        "                v_W[i] = beta2 * v_W[i] + (1-beta2) * (dW[i] ** 2)    #Take care of learning Rate\n",
        "                v_B[i] = beta2 * v_B[i] + (1-beta2) * (dB[i] ** 2)\n",
        "\n",
        "                m_hat_W = m_W[i] / (1 - beta1)\n",
        "                m_hat_B = m_B[i] / (1 - beta1)\n",
        "\n",
        "                v_hat_W = v_W[i] / (1 - beta2)\n",
        "                v_hat_B = v_B[i] / (1 - beta2)\n",
        "\n",
        "                #make -ve values of v_hat_t = 0 for sqrt\n",
        "                for vect in v_hat_W:\n",
        "                  vect[vect < 0] = 0\n",
        "                v_hat_B[v_hat_B < 0] = 0\n",
        "\n",
        "                #Update parameters\n",
        "                W[i] -= (eta / np.sqrt(v_hat_W + epsilon)) * m_hat_W\n",
        "                B[i] -= (eta / np.sqrt(v_hat_B + epsilon)) * m_hat_B\n",
        "\n",
        "                priv_W[i] = m_W[i]\n",
        "                priv_B[i] = m_B[i]\n",
        "\n",
        "            # Loss calculations\n",
        "            ce = cross_entropy_loss(batch_label[k], y_hat)\n",
        "            se = squared_error_loss(batch_label[k], y_hat)\n",
        "            acc = accuracy / counter\n",
        "            loss_list[\"CE\"].append(ce)\n",
        "            loss_list[\"SE\"].append(se)\n",
        "            loss_list[\"ACC\"].append(acc)\n",
        "\n",
        "            # Log data\n",
        "            # print(\"Accuracy\", acc)\n",
        "            # wandb.log({f\"{logger_prefix} Accuracy\": acc, f\"{logger_prefix} Error\": 1-(accuracy/counter), f\"{logger_prefix} Cross Entropy\": float(ce), f\"{logger_prefix} Epochs\": n})\n",
        "\n",
        "        print(\"Epoch\", n, \"Accuracy\", accuracy / counter)\n",
        "    return W, B, prediction_data"
      ],
      "execution_count": null,
      "outputs": []
    },
    {
      "cell_type": "code",
      "metadata": {
        "id": "gjr5o1GeH1ZC"
      },
      "source": [
        "SGD = \"stochastic gradient descent\"\n",
        "VMGD = \"vanilla momentum based gradient descent\"\n",
        "NAG = \"nesterov accelerated gradient descent\"\n",
        "SMGD = \"stochastic momentum based gradient descent\"\n",
        "RMSPROP = \"RMSProp\"\n",
        "ADAGRAD = \"adaptive gradient descent\"\n",
        "ADAM = \"adaptive moment estimation\"\n",
        "NADAM = \"nesterov accelerated adaptive moment estimation\""
      ],
      "execution_count": null,
      "outputs": []
    },
    {
      "cell_type": "code",
      "metadata": {
        "id": "uJR0xHVuH9R0"
      },
      "source": [
        "sweep_config = {\n",
        "    'method': 'random',\n",
        "    'metric': {\n",
        "      'name': 'accuracy',\n",
        "      'goal': 'maximize'   \n",
        "    },\n",
        "    'parameters': {\n",
        "        \"epochs\": {\n",
        "            'values': [3, 5, 10]\n",
        "        },\n",
        "        \"layers\": {\n",
        "            'values': [[784, 80, 48, 16, 10], [784, 128, 64, 10]]\n",
        "        },\n",
        "        \"learning_rate\" : {\n",
        "            'values': [1e-3, 1e-4]\n",
        "        },\n",
        "        \"optimizer\": {\n",
        "            'values': [SGD, NAG, SMGD, RMSPROP, ADAM, NADAM]\n",
        "        },\n",
        "        \"batch_size\": {\n",
        "            'values': [16,32,64]\n",
        "        },\n",
        "        \"initialisation\": {\n",
        "            'values': [RANDOM, XAVIER]\n",
        "        },\n",
        "        \"activation\": {\n",
        "            'values': [SIGMOID, TAN_H, RELU]\n",
        "        }\n",
        "    }\n",
        "}"
      ],
      "execution_count": null,
      "outputs": []
    },
    {
      "cell_type": "code",
      "metadata": {
        "id": "CVVE-PhoICxN"
      },
      "source": [
        "def train_n_test():\n",
        "  \n",
        "  default_config = {\n",
        "        \"epochs\": 3,\n",
        "        \"layers\": [784, 128, 64, 10],\n",
        "        \"learning_rate\" : 1e-4,\n",
        "        \"optimizer\": ADAM,\n",
        "        \"batch_size\": 32,\n",
        "        \"initialisation\": XAVIER,\n",
        "        \"activation\": RELU\n",
        "    }\n",
        "\n",
        "  wandb.init(config = default_config, project='Assignment 1', entity='iitm-cs6910-jan-may-2021-cs20m059-cs20m007')\n",
        "  config = wandb.config \n",
        "\n",
        "  prefix = \"Training\"\n",
        "  #Training\n",
        "  if config.optimizer == SGD:\n",
        "    W, B, _ = sgd(train_x, train_y, config.activation, config.epochs, config.layers, config.learning_rate, config.initialisation, config.batch_size, prefix)\n",
        "  elif config.optimizer == NAG:\n",
        "    W, B, _ = nag(train_x, train_y, config.activation, config.epochs, config.layers, config.learning_rate, config.initialisation, config.batch_size, prefix)\n",
        "  elif config.optimizer == SMGD:\n",
        "    W, B, _ = stochastic_momentum(train_x, train_y, config.activation, config.epochs, config.layers, config.learning_rate, config.initialisation, config.batch_size, prefix)\n",
        "  elif config.optimizer == RMSPROP:\n",
        "    W, B, _ = rmsprop(train_x, train_y, config.activation, config.epochs, config.layers, config.learning_rate, config.initialisation, config.batch_size, prefix)\n",
        "  elif config.optimizer == ADAM:\n",
        "    W, B, _ = adam(train_x, train_y, config.activation, config.epochs, config.layers, config.learning_rate, config.initialisation, config.batch_size, prefix)\n",
        "  else:\n",
        "    W, B, _ = nadam(train_x, train_y, config.activation, config.epochs, config.layers, config.learning_rate, config.initialisation, config.batch_size, prefix)\n",
        "\n",
        "\n",
        "  #Validation\n",
        "  val_error_list = []\n",
        "  validation_accuracy = 0\n",
        "  for i in range(len(val_y)):\n",
        "    H, A, y_hat = forward_propagation(test_x[i], config.activation, W, B, config.layers)\n",
        "    error_val = cross_entropy_loss(val_y[i], y_hat)\n",
        "    val_error_list.append(error_val)\n",
        "    y = y_hat.copy()\n",
        "    y = np.reshape(y, 10)\n",
        "    pred = np.argmax(y, axis=0)\n",
        "    if pred == val_y[i]:\n",
        "      validation_accuracy += 1\n",
        "    log_acc_val = float(validation_accuracy/(i+1))\n",
        "    log_error_val = float(np.average(val_error_list))\n",
        "    wandb.log({\"accuracy_val\" : log_acc_val, \"loss_val\": log_error_val})\n",
        "\n",
        "  #Testing\n",
        "  prediction_list = []\n",
        "  error_list = []\n",
        "  accuracy = 0\n",
        "  for i in range(len(test_y)):\n",
        "    H, A, y_hat = forward_propagation(test_x[i], config.activation, W, B, config.layers)\n",
        "    error_val = cross_entropy_loss(test_y[i], y_hat)\n",
        "    error_list.append(error_val)\n",
        "    y = y_hat.copy()\n",
        "    y = np.reshape(y, 10)\n",
        "    pred = np.argmax(y, axis=0)\n",
        "    prediction_list.append(pred)\n",
        "    if pred == test_y[i]:\n",
        "      accuracy += 1\n",
        "    log_acc_val = float(accuracy/(i+1))\n",
        "    log_error_val = float(np.average(error_list))\n",
        "    wandb.log({\"accuracy\" : log_acc_val, \"loss\": log_error_val})\n",
        "\n",
        "  wandb.log({f\"{prefix} Confusion Matrix\" : wandb.plot.confusion_matrix(probs=None, y_true=prediction_list, preds=test_y, class_names=classes)})\n",
        "\n",
        "  print(\"Done!\")"
      ],
      "execution_count": null,
      "outputs": []
    },
    {
      "cell_type": "code",
      "metadata": {
        "colab": {
          "base_uri": "https://localhost:8080/"
        },
        "id": "jr4JthxrIVda",
        "outputId": "894c723e-294c-4072-d786-99d395251890"
      },
      "source": [
        "# sweep_id = wandb.sweep(sweep_config, project='Assignment 1', entity='iitm-cs6910-jan-may-2021-cs20m059-cs20m007')"
      ],
      "execution_count": null,
      "outputs": [
        {
          "output_type": "stream",
          "text": [
            "\u001b[34m\u001b[1mwandb\u001b[0m: \u001b[33mWARNING\u001b[0m Calling wandb.login() after wandb.init() has no effect.\n"
          ],
          "name": "stderr"
        },
        {
          "output_type": "stream",
          "text": [
            "Create sweep with ID: a2qn390j\n",
            "Sweep URL: https://wandb.ai/iitm-cs6910-jan-may-2021-cs20m059-cs20m007/Assignment%201/sweeps/a2qn390j\n"
          ],
          "name": "stdout"
        }
      ]
    },
    {
      "cell_type": "code",
      "metadata": {
        "colab": {
          "base_uri": "https://localhost:8080/",
          "height": 1000,
          "referenced_widgets": [
            "40e957c04bb94c1a9109134c24cf6553",
            "636396432ae548949554d231a1cd4be1",
            "6c5f0cf599d0498baa2df53a44742b9b",
            "39f8b581c7e74da2ac76b0bb0da1a31d",
            "baad4420b070448ea7b2a94da39581cd",
            "de8436ec212b4819a5e47f8025c30de0",
            "91bcfa29cc4242aaae58d1fd631770b2",
            "eee5ae42838d4faa869a158db51b7007",
            "0ab443c0c2a94d1daaced539c85bc707",
            "f9f54447b47349e9a7306cc70fd7c23a",
            "a6dbfc8f3a8f45de98b0980e5609b80b",
            "9fdb8669a54c4576bc8de58c64fdd1b8",
            "213a9a2d698e4413ac3bd7cbbef86928",
            "ea89adf938604ce583ac7710ddf1f54a",
            "2260bec0aa904eda9d9ef3be8a671061",
            "a363111297aa4dd9a2ada21f478e574b",
            "d911c720c0c64ee38aba83009822091a",
            "776666a1802c4f5abdee2d617b9b032e",
            "3391137b1f0348529c3b0fdfa3e2a9c9",
            "2ba39e0a004a4cbcb081ca227d6cde96",
            "783eb4e3410748d99b3b7363fae011cb",
            "1f1ea9f6333144ffae5410f5f743a91b",
            "a6790a1210404df8a9d23bfe2b890d21",
            "e92d3d25410c4f189580a5183fc73725",
            "d685db2e07d049a9bb7981f4ced795b1",
            "310551d38cbc493db6563e0e3d9420eb",
            "311997da1a2b4501b6df0cf0c8c490c0",
            "ef517d59ced64a6c93f3959ff0fd6d11",
            "0b1e137eff9b4ec1ab20d1620c26e81d",
            "37c43d2e618c495e8c7a0ee3515cc6c1",
            "251fcfc3192f49aaa8c53835418e8ea5",
            "825313576c944a46bfbd37fcd4f81d9f"
          ]
        },
        "id": "Gd21SjGNJQ-p",
        "outputId": "da005cfc-4775-4cc5-eef6-29327d36d16f"
      },
      "source": [
        "wandb.agent(\"f5ho0lqj\", train_n_test, project='Assignment 1', entity='iitm-cs6910-jan-may-2021-cs20m059-cs20m007')"
      ],
      "execution_count": null,
      "outputs": [
        {
          "output_type": "stream",
          "text": [
            "\u001b[34m\u001b[1mwandb\u001b[0m: Agent Starting Run: t0pts4pw with config:\n",
            "\u001b[34m\u001b[1mwandb\u001b[0m: \tactivation: tanh\n",
            "\u001b[34m\u001b[1mwandb\u001b[0m: \tbatch_size: 32\n",
            "\u001b[34m\u001b[1mwandb\u001b[0m: \tepochs: 3\n",
            "\u001b[34m\u001b[1mwandb\u001b[0m: \tinitialisation: random\n",
            "\u001b[34m\u001b[1mwandb\u001b[0m: \tlayers: [784, 80, 48, 16, 10]\n",
            "\u001b[34m\u001b[1mwandb\u001b[0m: \tlearning_rate: 0.0001\n",
            "\u001b[34m\u001b[1mwandb\u001b[0m: \toptimizer: RMSProp\n",
            "\u001b[34m\u001b[1mwandb\u001b[0m: \u001b[33mWARNING\u001b[0m Ignored wandb.init() arg project when running a sweep\n",
            "\u001b[34m\u001b[1mwandb\u001b[0m: \u001b[33mWARNING\u001b[0m Ignored wandb.init() arg entity when running a sweep\n"
          ],
          "name": "stderr"
        },
        {
          "output_type": "display_data",
          "data": {
            "text/html": [
              "\n",
              "                Tracking run with wandb version 0.10.23<br/>\n",
              "                Syncing run <strong style=\"color:#cdcd00\">sparkling-sweep-40</strong> to <a href=\"https://wandb.ai\" target=\"_blank\">Weights & Biases</a> <a href=\"https://docs.wandb.com/integrations/jupyter.html\" target=\"_blank\">(Documentation)</a>.<br/>\n",
              "                Project page: <a href=\"https://wandb.ai/iitm-cs6910-jan-may-2021-cs20m059-cs20m007/Assignment%201\" target=\"_blank\">https://wandb.ai/iitm-cs6910-jan-may-2021-cs20m059-cs20m007/Assignment%201</a><br/>\n",
              "                Sweep page: <a href=\"https://wandb.ai/iitm-cs6910-jan-may-2021-cs20m059-cs20m007/Assignment%201/sweeps/f5ho0lqj\" target=\"_blank\">https://wandb.ai/iitm-cs6910-jan-may-2021-cs20m059-cs20m007/Assignment%201/sweeps/f5ho0lqj</a><br/>\n",
              "Run page: <a href=\"https://wandb.ai/iitm-cs6910-jan-may-2021-cs20m059-cs20m007/Assignment%201/runs/t0pts4pw\" target=\"_blank\">https://wandb.ai/iitm-cs6910-jan-may-2021-cs20m059-cs20m007/Assignment%201/runs/t0pts4pw</a><br/>\n",
              "                Run data is saved locally in <code>/content/wandb/run-20210327_082033-t0pts4pw</code><br/><br/>\n",
              "            "
            ],
            "text/plain": [
              "<IPython.core.display.HTML object>"
            ]
          },
          "metadata": {
            "tags": []
          }
        },
        {
          "output_type": "stream",
          "text": [
            "Epoch 0 Accuracy 0.3564074074074074\n",
            "Epoch 1 Accuracy 0.5166944444444445\n"
          ],
          "name": "stdout"
        },
        {
          "output_type": "stream",
          "text": [
            "\u001b[34m\u001b[1mwandb\u001b[0m: Network error (HTTPError), entering retry loop. See /content/wandb/run-20210327_082033-t0pts4pw/logs/debug-internal.log for full traceback.\n",
            "\u001b[34m\u001b[1mwandb\u001b[0m: Network error resolved after 0:00:07.905117, resuming normal operation.\n"
          ],
          "name": "stderr"
        },
        {
          "output_type": "stream",
          "text": [
            "Epoch 2 Accuracy 0.5946234567901234\n",
            "Done!\n"
          ],
          "name": "stdout"
        },
        {
          "output_type": "display_data",
          "data": {
            "text/html": [
              "<br/>Waiting for W&B process to finish, PID 1069<br/>Program ended successfully."
            ],
            "text/plain": [
              "<IPython.core.display.HTML object>"
            ]
          },
          "metadata": {
            "tags": []
          }
        },
        {
          "output_type": "display_data",
          "data": {
            "application/vnd.jupyter.widget-view+json": {
              "model_id": "40e957c04bb94c1a9109134c24cf6553",
              "version_minor": 0,
              "version_major": 2
            },
            "text/plain": [
              "VBox(children=(Label(value=' 0.00MB of 0.00MB uploaded (0.00MB deduped)\\r'), FloatProgress(value=0.16486946651…"
            ]
          },
          "metadata": {
            "tags": []
          }
        },
        {
          "output_type": "display_data",
          "data": {
            "text/html": [
              "Find user logs for this run at: <code>/content/wandb/run-20210327_082033-t0pts4pw/logs/debug.log</code>"
            ],
            "text/plain": [
              "<IPython.core.display.HTML object>"
            ]
          },
          "metadata": {
            "tags": []
          }
        },
        {
          "output_type": "display_data",
          "data": {
            "text/html": [
              "Find internal logs for this run at: <code>/content/wandb/run-20210327_082033-t0pts4pw/logs/debug-internal.log</code>"
            ],
            "text/plain": [
              "<IPython.core.display.HTML object>"
            ]
          },
          "metadata": {
            "tags": []
          }
        },
        {
          "output_type": "display_data",
          "data": {
            "text/html": [
              "<h3>Run summary:</h3><br/><style>\n",
              "    table.wandb td:nth-child(1) { padding: 0 10px; text-align: right }\n",
              "    </style><table class=\"wandb\">\n",
              "<tr><td>accuracy_val</td><td>0.10183</td></tr><tr><td>loss_val</td><td>2.85536</td></tr><tr><td>_runtime</td><td>854</td></tr><tr><td>_timestamp</td><td>1616834087</td></tr><tr><td>_step</td><td>16000</td></tr><tr><td>accuracy</td><td>0.7498</td></tr><tr><td>loss</td><td>1.05636</td></tr></table>"
            ],
            "text/plain": [
              "<IPython.core.display.HTML object>"
            ]
          },
          "metadata": {
            "tags": []
          }
        },
        {
          "output_type": "display_data",
          "data": {
            "text/html": [
              "<h3>Run history:</h3><br/><style>\n",
              "    table.wandb td:nth-child(1) { padding: 0 10px; text-align: right }\n",
              "    </style><table class=\"wandb\">\n",
              "<tr><td>accuracy_val</td><td>█▄▃▃▄▃▂▂▂▂▂▂▂▂▂▂▂▁▁▁▁▁▁▁▁▁▁▁▁▁▁▁▁▁▁▁▁▁▁▁</td></tr><tr><td>loss_val</td><td>▁▇█▇▇▇█████▇▇▇▇█▇███████████████████████</td></tr><tr><td>_runtime</td><td>▁▁▁▁▁▂▂▂▂▂▂▃▃▃▃▃▃▄▄▄▄▄▄▅▅▅▅▅▆▆▆▆▆▇▇▇▇███</td></tr><tr><td>_timestamp</td><td>▁▁▁▁▁▂▂▂▂▂▂▃▃▃▃▃▃▄▄▄▄▄▄▅▅▅▅▅▆▆▆▆▆▇▇▇▇███</td></tr><tr><td>_step</td><td>▁▁▁▂▂▂▂▂▂▃▃▃▃▃▄▄▄▄▄▄▅▅▅▅▅▅▆▆▆▆▆▇▇▇▇▇▇███</td></tr><tr><td>accuracy</td><td>▄█▅▂▂▂▃▃▃▅▅▅▄▃▃▂▁▁▂▃▂▂▂▂▂▂▂▂▂▂▂▂▂▂▂▂▁▁▁▂</td></tr><tr><td>loss</td><td>▁▁▄▇▇█▇▇▆▆▆▆▇▇▇███▇▇▇▇██▇▇▇█▇▇▇▇▇▇▇▇▇▇▇▇</td></tr></table><br/>"
            ],
            "text/plain": [
              "<IPython.core.display.HTML object>"
            ]
          },
          "metadata": {
            "tags": []
          }
        },
        {
          "output_type": "display_data",
          "data": {
            "text/html": [
              "Synced 5 W&B file(s), 1 media file(s), 0 artifact file(s) and 0 other file(s)"
            ],
            "text/plain": [
              "<IPython.core.display.HTML object>"
            ]
          },
          "metadata": {
            "tags": []
          }
        },
        {
          "output_type": "display_data",
          "data": {
            "text/html": [
              "\n",
              "                    <br/>Synced <strong style=\"color:#cdcd00\">sparkling-sweep-40</strong>: <a href=\"https://wandb.ai/iitm-cs6910-jan-may-2021-cs20m059-cs20m007/Assignment%201/runs/t0pts4pw\" target=\"_blank\">https://wandb.ai/iitm-cs6910-jan-may-2021-cs20m059-cs20m007/Assignment%201/runs/t0pts4pw</a><br/>\n",
              "                "
            ],
            "text/plain": [
              "<IPython.core.display.HTML object>"
            ]
          },
          "metadata": {
            "tags": []
          }
        },
        {
          "output_type": "stream",
          "text": [
            "\u001b[34m\u001b[1mwandb\u001b[0m: Agent Starting Run: gax9swv5 with config:\n",
            "\u001b[34m\u001b[1mwandb\u001b[0m: \tactivation: relu\n",
            "\u001b[34m\u001b[1mwandb\u001b[0m: \tbatch_size: 16\n",
            "\u001b[34m\u001b[1mwandb\u001b[0m: \tepochs: 5\n",
            "\u001b[34m\u001b[1mwandb\u001b[0m: \tinitialisation: xavier\n",
            "\u001b[34m\u001b[1mwandb\u001b[0m: \tlayers: [784, 128, 64, 10]\n",
            "\u001b[34m\u001b[1mwandb\u001b[0m: \tlearning_rate: 0.001\n",
            "\u001b[34m\u001b[1mwandb\u001b[0m: \toptimizer: stochastic momentum based gradient descent\n",
            "\u001b[34m\u001b[1mwandb\u001b[0m: \u001b[33mWARNING\u001b[0m Ignored wandb.init() arg project when running a sweep\n",
            "\u001b[34m\u001b[1mwandb\u001b[0m: \u001b[33mWARNING\u001b[0m Ignored wandb.init() arg entity when running a sweep\n"
          ],
          "name": "stderr"
        },
        {
          "output_type": "display_data",
          "data": {
            "text/html": [
              "\n",
              "                Tracking run with wandb version 0.10.23<br/>\n",
              "                Syncing run <strong style=\"color:#cdcd00\">vital-sweep-42</strong> to <a href=\"https://wandb.ai\" target=\"_blank\">Weights & Biases</a> <a href=\"https://docs.wandb.com/integrations/jupyter.html\" target=\"_blank\">(Documentation)</a>.<br/>\n",
              "                Project page: <a href=\"https://wandb.ai/iitm-cs6910-jan-may-2021-cs20m059-cs20m007/Assignment%201\" target=\"_blank\">https://wandb.ai/iitm-cs6910-jan-may-2021-cs20m059-cs20m007/Assignment%201</a><br/>\n",
              "                Sweep page: <a href=\"https://wandb.ai/iitm-cs6910-jan-may-2021-cs20m059-cs20m007/Assignment%201/sweeps/f5ho0lqj\" target=\"_blank\">https://wandb.ai/iitm-cs6910-jan-may-2021-cs20m059-cs20m007/Assignment%201/sweeps/f5ho0lqj</a><br/>\n",
              "Run page: <a href=\"https://wandb.ai/iitm-cs6910-jan-may-2021-cs20m059-cs20m007/Assignment%201/runs/gax9swv5\" target=\"_blank\">https://wandb.ai/iitm-cs6910-jan-may-2021-cs20m059-cs20m007/Assignment%201/runs/gax9swv5</a><br/>\n",
              "                Run data is saved locally in <code>/content/wandb/run-20210327_083453-gax9swv5</code><br/><br/>\n",
              "            "
            ],
            "text/plain": [
              "<IPython.core.display.HTML object>"
            ]
          },
          "metadata": {
            "tags": []
          }
        },
        {
          "output_type": "stream",
          "text": [
            "Epoch 0 Accuracy 0.4641111111111111\n",
            "Epoch 1 Accuracy 0.5149537037037037\n",
            "Epoch 2 Accuracy 0.5191172839506173\n",
            "Epoch 3 Accuracy 0.5128379629629629\n",
            "Epoch 4 Accuracy 0.5147148148148148\n",
            "Done!\n"
          ],
          "name": "stdout"
        },
        {
          "output_type": "display_data",
          "data": {
            "text/html": [
              "<br/>Waiting for W&B process to finish, PID 1105<br/>Program ended successfully."
            ],
            "text/plain": [
              "<IPython.core.display.HTML object>"
            ]
          },
          "metadata": {
            "tags": []
          }
        },
        {
          "output_type": "display_data",
          "data": {
            "application/vnd.jupyter.widget-view+json": {
              "model_id": "0ab443c0c2a94d1daaced539c85bc707",
              "version_minor": 0,
              "version_major": 2
            },
            "text/plain": [
              "VBox(children=(Label(value=' 0.00MB of 0.00MB uploaded (0.00MB deduped)\\r'), FloatProgress(value=0.16454262248…"
            ]
          },
          "metadata": {
            "tags": []
          }
        },
        {
          "output_type": "display_data",
          "data": {
            "text/html": [
              "Find user logs for this run at: <code>/content/wandb/run-20210327_083453-gax9swv5/logs/debug.log</code>"
            ],
            "text/plain": [
              "<IPython.core.display.HTML object>"
            ]
          },
          "metadata": {
            "tags": []
          }
        },
        {
          "output_type": "display_data",
          "data": {
            "text/html": [
              "Find internal logs for this run at: <code>/content/wandb/run-20210327_083453-gax9swv5/logs/debug-internal.log</code>"
            ],
            "text/plain": [
              "<IPython.core.display.HTML object>"
            ]
          },
          "metadata": {
            "tags": []
          }
        },
        {
          "output_type": "display_data",
          "data": {
            "text/html": [
              "<h3>Run summary:</h3><br/><style>\n",
              "    table.wandb td:nth-child(1) { padding: 0 10px; text-align: right }\n",
              "    </style><table class=\"wandb\">\n",
              "<tr><td>accuracy_val</td><td>0.103</td></tr><tr><td>loss_val</td><td>5.67472</td></tr><tr><td>_runtime</td><td>2061</td></tr><tr><td>_timestamp</td><td>1616836154</td></tr><tr><td>_step</td><td>16000</td></tr><tr><td>accuracy</td><td>0.527</td></tr><tr><td>loss</td><td>1.19195</td></tr></table>"
            ],
            "text/plain": [
              "<IPython.core.display.HTML object>"
            ]
          },
          "metadata": {
            "tags": []
          }
        },
        {
          "output_type": "display_data",
          "data": {
            "text/html": [
              "<h3>Run history:</h3><br/><style>\n",
              "    table.wandb td:nth-child(1) { padding: 0 10px; text-align: right }\n",
              "    </style><table class=\"wandb\">\n",
              "<tr><td>accuracy_val</td><td>█▃▂▂▂▂▂▁▂▂▂▁▁▂▁▁▁▁▁▁▁▁▁▁▁▁▁▁▁▁▁▁▁▁▁▁▁▁▁▁</td></tr><tr><td>loss_val</td><td>▁▆▇▆▆▇███▇▇▇▇▇▇▇▇▇▇▇▇▇▇▇▇▇▇▇▇▇▇▇▇▇▇▇▇▇▇▇</td></tr><tr><td>_runtime</td><td>▁▁▁▁▂▂▂▂▂▂▃▃▃▃▃▃▄▄▄▄▄▄▄▅▅▅▅▅▅▆▆▆▆▆▇▇▇▇██</td></tr><tr><td>_timestamp</td><td>▁▁▁▁▂▂▂▂▂▂▃▃▃▃▃▃▄▄▄▄▄▄▄▅▅▅▅▅▅▆▆▆▆▆▇▇▇▇██</td></tr><tr><td>_step</td><td>▁▁▁▂▂▂▂▂▂▃▃▃▃▃▄▄▄▄▄▄▅▅▅▅▅▅▆▆▆▆▆▇▇▇▇▇▇███</td></tr><tr><td>accuracy</td><td>▄█▆▃▃▂▁▁▂▂▂▂▂▂▂▂▂▂▃▂▃▂▃▃▃▃▃▃▃▃▃▃▃▃▃▃▃▂▂▂</td></tr><tr><td>loss</td><td>▂▁▃▇▇▇▇▇▇▆▆▇██████▇▇▇▇▇▇▇▇▇▇▇▇▇▇▇▇▇▇▇▇▇▇</td></tr></table><br/>"
            ],
            "text/plain": [
              "<IPython.core.display.HTML object>"
            ]
          },
          "metadata": {
            "tags": []
          }
        },
        {
          "output_type": "display_data",
          "data": {
            "text/html": [
              "Synced 5 W&B file(s), 1 media file(s), 0 artifact file(s) and 0 other file(s)"
            ],
            "text/plain": [
              "<IPython.core.display.HTML object>"
            ]
          },
          "metadata": {
            "tags": []
          }
        },
        {
          "output_type": "display_data",
          "data": {
            "text/html": [
              "\n",
              "                    <br/>Synced <strong style=\"color:#cdcd00\">vital-sweep-42</strong>: <a href=\"https://wandb.ai/iitm-cs6910-jan-may-2021-cs20m059-cs20m007/Assignment%201/runs/gax9swv5\" target=\"_blank\">https://wandb.ai/iitm-cs6910-jan-may-2021-cs20m059-cs20m007/Assignment%201/runs/gax9swv5</a><br/>\n",
              "                "
            ],
            "text/plain": [
              "<IPython.core.display.HTML object>"
            ]
          },
          "metadata": {
            "tags": []
          }
        },
        {
          "output_type": "stream",
          "text": [
            "\u001b[34m\u001b[1mwandb\u001b[0m: Agent Starting Run: 9ha3d826 with config:\n",
            "\u001b[34m\u001b[1mwandb\u001b[0m: \tactivation: sigmoid\n",
            "\u001b[34m\u001b[1mwandb\u001b[0m: \tbatch_size: 64\n",
            "\u001b[34m\u001b[1mwandb\u001b[0m: \tepochs: 3\n",
            "\u001b[34m\u001b[1mwandb\u001b[0m: \tinitialisation: random\n",
            "\u001b[34m\u001b[1mwandb\u001b[0m: \tlayers: [784, 80, 48, 16, 10]\n",
            "\u001b[34m\u001b[1mwandb\u001b[0m: \tlearning_rate: 0.001\n",
            "\u001b[34m\u001b[1mwandb\u001b[0m: \toptimizer: nesterov accelerated adaptive moment estimation\n",
            "\u001b[34m\u001b[1mwandb\u001b[0m: \u001b[33mWARNING\u001b[0m Ignored wandb.init() arg project when running a sweep\n",
            "\u001b[34m\u001b[1mwandb\u001b[0m: \u001b[33mWARNING\u001b[0m Ignored wandb.init() arg entity when running a sweep\n"
          ],
          "name": "stderr"
        },
        {
          "output_type": "display_data",
          "data": {
            "text/html": [
              "\n",
              "                Tracking run with wandb version 0.10.23<br/>\n",
              "                Syncing run <strong style=\"color:#cdcd00\">blooming-sweep-48</strong> to <a href=\"https://wandb.ai\" target=\"_blank\">Weights & Biases</a> <a href=\"https://docs.wandb.com/integrations/jupyter.html\" target=\"_blank\">(Documentation)</a>.<br/>\n",
              "                Project page: <a href=\"https://wandb.ai/iitm-cs6910-jan-may-2021-cs20m059-cs20m007/Assignment%201\" target=\"_blank\">https://wandb.ai/iitm-cs6910-jan-may-2021-cs20m059-cs20m007/Assignment%201</a><br/>\n",
              "                Sweep page: <a href=\"https://wandb.ai/iitm-cs6910-jan-may-2021-cs20m059-cs20m007/Assignment%201/sweeps/f5ho0lqj\" target=\"_blank\">https://wandb.ai/iitm-cs6910-jan-may-2021-cs20m059-cs20m007/Assignment%201/sweeps/f5ho0lqj</a><br/>\n",
              "Run page: <a href=\"https://wandb.ai/iitm-cs6910-jan-may-2021-cs20m059-cs20m007/Assignment%201/runs/9ha3d826\" target=\"_blank\">https://wandb.ai/iitm-cs6910-jan-may-2021-cs20m059-cs20m007/Assignment%201/runs/9ha3d826</a><br/>\n",
              "                Run data is saved locally in <code>/content/wandb/run-20210327_090920-9ha3d826</code><br/><br/>\n",
              "            "
            ],
            "text/plain": [
              "<IPython.core.display.HTML object>"
            ]
          },
          "metadata": {
            "tags": []
          }
        },
        {
          "output_type": "stream",
          "text": [
            "\u001b[34m\u001b[1mwandb\u001b[0m: Network error (HTTPError), entering retry loop. See /content/wandb/run-20210327_090920-9ha3d826/logs/debug-internal.log for full traceback.\n",
            "\u001b[34m\u001b[1mwandb\u001b[0m: Network error resolved after 0:00:08.575644, resuming normal operation.\n",
            "\u001b[34m\u001b[1mwandb\u001b[0m: Network error (HTTPError), entering retry loop. See /content/wandb/run-20210327_090920-9ha3d826/logs/debug-internal.log for full traceback.\n",
            "\u001b[34m\u001b[1mwandb\u001b[0m: Network error resolved after 0:00:08.274539, resuming normal operation.\n"
          ],
          "name": "stderr"
        },
        {
          "output_type": "stream",
          "text": [
            "Epoch 0 Accuracy 0.6794629629629629\n",
            "Epoch 1 Accuracy 0.7467314814814815\n",
            "Epoch 2 Accuracy 0.7749135802469136\n",
            "Done!\n"
          ],
          "name": "stdout"
        },
        {
          "output_type": "display_data",
          "data": {
            "text/html": [
              "<br/>Waiting for W&B process to finish, PID 1173<br/>Program ended successfully."
            ],
            "text/plain": [
              "<IPython.core.display.HTML object>"
            ]
          },
          "metadata": {
            "tags": []
          }
        },
        {
          "output_type": "display_data",
          "data": {
            "application/vnd.jupyter.widget-view+json": {
              "model_id": "d911c720c0c64ee38aba83009822091a",
              "version_minor": 0,
              "version_major": 2
            },
            "text/plain": [
              "VBox(children=(Label(value=' 0.00MB of 0.00MB uploaded (0.00MB deduped)\\r'), FloatProgress(value=0.16519761160…"
            ]
          },
          "metadata": {
            "tags": []
          }
        },
        {
          "output_type": "display_data",
          "data": {
            "text/html": [
              "Find user logs for this run at: <code>/content/wandb/run-20210327_090920-9ha3d826/logs/debug.log</code>"
            ],
            "text/plain": [
              "<IPython.core.display.HTML object>"
            ]
          },
          "metadata": {
            "tags": []
          }
        },
        {
          "output_type": "display_data",
          "data": {
            "text/html": [
              "Find internal logs for this run at: <code>/content/wandb/run-20210327_090920-9ha3d826/logs/debug-internal.log</code>"
            ],
            "text/plain": [
              "<IPython.core.display.HTML object>"
            ]
          },
          "metadata": {
            "tags": []
          }
        },
        {
          "output_type": "display_data",
          "data": {
            "text/html": [
              "<h3>Run summary:</h3><br/><style>\n",
              "    table.wandb td:nth-child(1) { padding: 0 10px; text-align: right }\n",
              "    </style><table class=\"wandb\">\n",
              "<tr><td>accuracy_val</td><td>0.09867</td></tr><tr><td>loss_val</td><td>4.2898</td></tr><tr><td>_runtime</td><td>816</td></tr><tr><td>_timestamp</td><td>1616836976</td></tr><tr><td>_step</td><td>16000</td></tr><tr><td>accuracy</td><td>0.828</td></tr><tr><td>loss</td><td>0.5375</td></tr></table>"
            ],
            "text/plain": [
              "<IPython.core.display.HTML object>"
            ]
          },
          "metadata": {
            "tags": []
          }
        },
        {
          "output_type": "display_data",
          "data": {
            "text/html": [
              "<h3>Run history:</h3><br/><style>\n",
              "    table.wandb td:nth-child(1) { padding: 0 10px; text-align: right }\n",
              "    </style><table class=\"wandb\">\n",
              "<tr><td>accuracy_val</td><td>█▃▂▃▃▂▂▂▂▁▁▁▂▂▂▂▁▁▁▁▁▁▁▁▁▁▁▁▁▁▁▁▁▁▁▁▁▁▁▁</td></tr><tr><td>loss_val</td><td>▁▅▆▆▆▇█▇▇▇▇▇▇▇▇▇▇▇██████████████████████</td></tr><tr><td>_runtime</td><td>▁▁▁▁▁▂▂▂▂▂▂▃▃▃▃▄▄▄▄▄▄▄▅▅▅▅▅▅▆▆▆▆▆▇▇▇▇███</td></tr><tr><td>_timestamp</td><td>▁▁▁▁▁▂▂▂▂▂▂▃▃▃▃▄▄▄▄▄▄▄▅▅▅▅▅▅▆▆▆▆▆▇▇▇▇███</td></tr><tr><td>_step</td><td>▁▁▁▂▂▂▂▂▂▃▃▃▃▃▄▄▄▄▄▄▅▅▅▅▅▅▆▆▆▆▆▇▇▇▇▇▇███</td></tr><tr><td>accuracy</td><td>▁▄█▅▅▄▅▅▅▅▅▅▄▃▂▂▂▂▃▂▂▂▂▁▁▁▁▁▁▁▁▁▁▂▂▁▁▁▁▁</td></tr><tr><td>loss</td><td>▂▁▁▆▅▆▅▃▃▂▂▃▅▆▇▇▇▇▆▆▇▇████████▇▇█▇▇▇████</td></tr></table><br/>"
            ],
            "text/plain": [
              "<IPython.core.display.HTML object>"
            ]
          },
          "metadata": {
            "tags": []
          }
        },
        {
          "output_type": "display_data",
          "data": {
            "text/html": [
              "Synced 5 W&B file(s), 1 media file(s), 0 artifact file(s) and 0 other file(s)"
            ],
            "text/plain": [
              "<IPython.core.display.HTML object>"
            ]
          },
          "metadata": {
            "tags": []
          }
        },
        {
          "output_type": "display_data",
          "data": {
            "text/html": [
              "\n",
              "                    <br/>Synced <strong style=\"color:#cdcd00\">blooming-sweep-48</strong>: <a href=\"https://wandb.ai/iitm-cs6910-jan-may-2021-cs20m059-cs20m007/Assignment%201/runs/9ha3d826\" target=\"_blank\">https://wandb.ai/iitm-cs6910-jan-may-2021-cs20m059-cs20m007/Assignment%201/runs/9ha3d826</a><br/>\n",
              "                "
            ],
            "text/plain": [
              "<IPython.core.display.HTML object>"
            ]
          },
          "metadata": {
            "tags": []
          }
        },
        {
          "output_type": "stream",
          "text": [
            "\u001b[34m\u001b[1mwandb\u001b[0m: Agent Starting Run: 0jpmsae2 with config:\n",
            "\u001b[34m\u001b[1mwandb\u001b[0m: \tactivation: relu\n",
            "\u001b[34m\u001b[1mwandb\u001b[0m: \tbatch_size: 64\n",
            "\u001b[34m\u001b[1mwandb\u001b[0m: \tepochs: 3\n",
            "\u001b[34m\u001b[1mwandb\u001b[0m: \tinitialisation: random\n",
            "\u001b[34m\u001b[1mwandb\u001b[0m: \tlayers: [784, 80, 48, 16, 10]\n",
            "\u001b[34m\u001b[1mwandb\u001b[0m: \tlearning_rate: 0.001\n",
            "\u001b[34m\u001b[1mwandb\u001b[0m: \toptimizer: stochastic momentum based gradient descent\n",
            "\u001b[34m\u001b[1mwandb\u001b[0m: \u001b[33mWARNING\u001b[0m Ignored wandb.init() arg project when running a sweep\n",
            "\u001b[34m\u001b[1mwandb\u001b[0m: \u001b[33mWARNING\u001b[0m Ignored wandb.init() arg entity when running a sweep\n"
          ],
          "name": "stderr"
        },
        {
          "output_type": "display_data",
          "data": {
            "text/html": [
              "\n",
              "                Tracking run with wandb version 0.10.23<br/>\n",
              "                Syncing run <strong style=\"color:#cdcd00\">pleasant-sweep-50</strong> to <a href=\"https://wandb.ai\" target=\"_blank\">Weights & Biases</a> <a href=\"https://docs.wandb.com/integrations/jupyter.html\" target=\"_blank\">(Documentation)</a>.<br/>\n",
              "                Project page: <a href=\"https://wandb.ai/iitm-cs6910-jan-may-2021-cs20m059-cs20m007/Assignment%201\" target=\"_blank\">https://wandb.ai/iitm-cs6910-jan-may-2021-cs20m059-cs20m007/Assignment%201</a><br/>\n",
              "                Sweep page: <a href=\"https://wandb.ai/iitm-cs6910-jan-may-2021-cs20m059-cs20m007/Assignment%201/sweeps/f5ho0lqj\" target=\"_blank\">https://wandb.ai/iitm-cs6910-jan-may-2021-cs20m059-cs20m007/Assignment%201/sweeps/f5ho0lqj</a><br/>\n",
              "Run page: <a href=\"https://wandb.ai/iitm-cs6910-jan-may-2021-cs20m059-cs20m007/Assignment%201/runs/0jpmsae2\" target=\"_blank\">https://wandb.ai/iitm-cs6910-jan-may-2021-cs20m059-cs20m007/Assignment%201/runs/0jpmsae2</a><br/>\n",
              "                Run data is saved locally in <code>/content/wandb/run-20210327_092303-0jpmsae2</code><br/><br/>\n",
              "            "
            ],
            "text/plain": [
              "<IPython.core.display.HTML object>"
            ]
          },
          "metadata": {
            "tags": []
          }
        },
        {
          "output_type": "stream",
          "text": [
            "\u001b[34m\u001b[1mwandb\u001b[0m: Network error (HTTPError), entering retry loop. See /content/wandb/run-20210327_092303-0jpmsae2/logs/debug-internal.log for full traceback.\n",
            "\u001b[34m\u001b[1mwandb\u001b[0m: Network error resolved after 0:00:08.443261, resuming normal operation.\n"
          ],
          "name": "stderr"
        },
        {
          "output_type": "stream",
          "text": [
            "Epoch 0 Accuracy 0.20385185185185184\n",
            "Epoch 1 Accuracy 0.21997222222222224\n",
            "Epoch 2 Accuracy 0.21012962962962964\n",
            "Done!\n"
          ],
          "name": "stdout"
        },
        {
          "output_type": "display_data",
          "data": {
            "text/html": [
              "<br/>Waiting for W&B process to finish, PID 1205<br/>Program ended successfully."
            ],
            "text/plain": [
              "<IPython.core.display.HTML object>"
            ]
          },
          "metadata": {
            "tags": []
          }
        },
        {
          "output_type": "display_data",
          "data": {
            "application/vnd.jupyter.widget-view+json": {
              "model_id": "d685db2e07d049a9bb7981f4ced795b1",
              "version_minor": 0,
              "version_major": 2
            },
            "text/plain": [
              "VBox(children=(Label(value=' 0.00MB of 0.00MB uploaded (0.00MB deduped)\\r'), FloatProgress(value=0.166, max=1.…"
            ]
          },
          "metadata": {
            "tags": []
          }
        },
        {
          "output_type": "display_data",
          "data": {
            "text/html": [
              "Find user logs for this run at: <code>/content/wandb/run-20210327_092303-0jpmsae2/logs/debug.log</code>"
            ],
            "text/plain": [
              "<IPython.core.display.HTML object>"
            ]
          },
          "metadata": {
            "tags": []
          }
        },
        {
          "output_type": "display_data",
          "data": {
            "text/html": [
              "Find internal logs for this run at: <code>/content/wandb/run-20210327_092303-0jpmsae2/logs/debug-internal.log</code>"
            ],
            "text/plain": [
              "<IPython.core.display.HTML object>"
            ]
          },
          "metadata": {
            "tags": []
          }
        },
        {
          "output_type": "display_data",
          "data": {
            "text/html": [
              "<h3>Run summary:</h3><br/><style>\n",
              "    table.wandb td:nth-child(1) { padding: 0 10px; text-align: right }\n",
              "    </style><table class=\"wandb\">\n",
              "<tr><td>accuracy_val</td><td>0.0975</td></tr><tr><td>loss_val</td><td>3.11969</td></tr><tr><td>_runtime</td><td>812</td></tr><tr><td>_timestamp</td><td>1616837795</td></tr><tr><td>_step</td><td>16000</td></tr><tr><td>accuracy</td><td>0.2183</td></tr><tr><td>loss</td><td>1.99228</td></tr></table>"
            ],
            "text/plain": [
              "<IPython.core.display.HTML object>"
            ]
          },
          "metadata": {
            "tags": []
          }
        },
        {
          "output_type": "display_data",
          "data": {
            "text/html": [
              "<h3>Run history:</h3><br/><style>\n",
              "    table.wandb td:nth-child(1) { padding: 0 10px; text-align: right }\n",
              "    </style><table class=\"wandb\">\n",
              "<tr><td>accuracy_val</td><td>█▂▂▂▁▁▁▂▂▂▂▂▂▂▂▁▂▂▂▂▂▂▂▂▂▂▂▂▂▂▂▂▂▂▂▂▂▂▂▂</td></tr><tr><td>loss_val</td><td>▁▆▄▅▆▆████▇▇▇██████████▇▇▇▇▇▇▇▇▇▇▇▇▇▇▇▇▇</td></tr><tr><td>_runtime</td><td>▁▁▁▁▂▂▂▂▂▂▃▃▃▃▃▄▄▄▄▄▄▄▅▅▅▅▅▅▆▆▆▆▆▇▇▇▇▇██</td></tr><tr><td>_timestamp</td><td>▁▁▁▁▂▂▂▂▂▂▃▃▃▃▃▄▄▄▄▄▄▄▅▅▅▅▅▅▆▆▆▆▆▇▇▇▇▇██</td></tr><tr><td>_step</td><td>▁▁▁▂▂▂▂▂▂▃▃▃▃▃▄▄▄▄▄▄▅▅▅▅▅▅▆▆▆▆▆▇▇▇▇▇▇███</td></tr><tr><td>accuracy</td><td>▆█▆▃▃▂▂▂▂▂▂▁▂▂▂▁▁▂▂▂▁▁▁▁▁▂▂▂▂▂▂▂▂▁▂▁▁▁▁▁</td></tr><tr><td>loss</td><td>▁▁▃▇▅▆▆▇▆▆▆▆▆▇▇███▇▇█████▇▇▇▇▇▇▇▇▇▇▇▇▇▇▇</td></tr></table><br/>"
            ],
            "text/plain": [
              "<IPython.core.display.HTML object>"
            ]
          },
          "metadata": {
            "tags": []
          }
        },
        {
          "output_type": "display_data",
          "data": {
            "text/html": [
              "Synced 5 W&B file(s), 1 media file(s), 0 artifact file(s) and 0 other file(s)"
            ],
            "text/plain": [
              "<IPython.core.display.HTML object>"
            ]
          },
          "metadata": {
            "tags": []
          }
        },
        {
          "output_type": "display_data",
          "data": {
            "text/html": [
              "\n",
              "                    <br/>Synced <strong style=\"color:#cdcd00\">pleasant-sweep-50</strong>: <a href=\"https://wandb.ai/iitm-cs6910-jan-may-2021-cs20m059-cs20m007/Assignment%201/runs/0jpmsae2\" target=\"_blank\">https://wandb.ai/iitm-cs6910-jan-may-2021-cs20m059-cs20m007/Assignment%201/runs/0jpmsae2</a><br/>\n",
              "                "
            ],
            "text/plain": [
              "<IPython.core.display.HTML object>"
            ]
          },
          "metadata": {
            "tags": []
          }
        },
        {
          "output_type": "stream",
          "text": [
            "\u001b[34m\u001b[1mwandb\u001b[0m: Agent Starting Run: eu8wmc14 with config:\n",
            "\u001b[34m\u001b[1mwandb\u001b[0m: \tactivation: relu\n",
            "\u001b[34m\u001b[1mwandb\u001b[0m: \tbatch_size: 16\n",
            "\u001b[34m\u001b[1mwandb\u001b[0m: \tepochs: 3\n",
            "\u001b[34m\u001b[1mwandb\u001b[0m: \tinitialisation: xavier\n",
            "\u001b[34m\u001b[1mwandb\u001b[0m: \tlayers: [784, 128, 64, 10]\n",
            "\u001b[34m\u001b[1mwandb\u001b[0m: \tlearning_rate: 0.0001\n",
            "\u001b[34m\u001b[1mwandb\u001b[0m: \toptimizer: stochastic gradient descent\n",
            "\u001b[34m\u001b[1mwandb\u001b[0m: \u001b[33mWARNING\u001b[0m Ignored wandb.init() arg project when running a sweep\n",
            "\u001b[34m\u001b[1mwandb\u001b[0m: \u001b[33mWARNING\u001b[0m Ignored wandb.init() arg entity when running a sweep\n"
          ],
          "name": "stderr"
        },
        {
          "output_type": "display_data",
          "data": {
            "text/html": [
              "\n",
              "                Tracking run with wandb version 0.10.23<br/>\n",
              "                Syncing run <strong style=\"color:#cdcd00\">giddy-sweep-51</strong> to <a href=\"https://wandb.ai\" target=\"_blank\">Weights & Biases</a> <a href=\"https://docs.wandb.com/integrations/jupyter.html\" target=\"_blank\">(Documentation)</a>.<br/>\n",
              "                Project page: <a href=\"https://wandb.ai/iitm-cs6910-jan-may-2021-cs20m059-cs20m007/Assignment%201\" target=\"_blank\">https://wandb.ai/iitm-cs6910-jan-may-2021-cs20m059-cs20m007/Assignment%201</a><br/>\n",
              "                Sweep page: <a href=\"https://wandb.ai/iitm-cs6910-jan-may-2021-cs20m059-cs20m007/Assignment%201/sweeps/f5ho0lqj\" target=\"_blank\">https://wandb.ai/iitm-cs6910-jan-may-2021-cs20m059-cs20m007/Assignment%201/sweeps/f5ho0lqj</a><br/>\n",
              "Run page: <a href=\"https://wandb.ai/iitm-cs6910-jan-may-2021-cs20m059-cs20m007/Assignment%201/runs/eu8wmc14\" target=\"_blank\">https://wandb.ai/iitm-cs6910-jan-may-2021-cs20m059-cs20m007/Assignment%201/runs/eu8wmc14</a><br/>\n",
              "                Run data is saved locally in <code>/content/wandb/run-20210327_093642-eu8wmc14</code><br/><br/>\n",
              "            "
            ],
            "text/plain": [
              "<IPython.core.display.HTML object>"
            ]
          },
          "metadata": {
            "tags": []
          }
        },
        {
          "output_type": "stream",
          "text": [
            "\u001b[34m\u001b[1mwandb\u001b[0m: Network error (HTTPError), entering retry loop. See /content/wandb/run-20210327_093642-eu8wmc14/logs/debug-internal.log for full traceback.\n",
            "\u001b[34m\u001b[1mwandb\u001b[0m: Network error resolved after 0:00:07.751530, resuming normal operation.\n",
            "\u001b[34m\u001b[1mwandb\u001b[0m: Network error (HTTPError), entering retry loop. See /content/wandb/run-20210327_093642-eu8wmc14/logs/debug-internal.log for full traceback.\n",
            "\u001b[34m\u001b[1mwandb\u001b[0m: Network error resolved after 0:00:08.661466, resuming normal operation.\n",
            "\u001b[34m\u001b[1mwandb\u001b[0m: Network error (HTTPError), entering retry loop. See /content/wandb/run-20210327_093642-eu8wmc14/logs/debug-internal.log for full traceback.\n"
          ],
          "name": "stderr"
        }
      ]
    }
  ]
}