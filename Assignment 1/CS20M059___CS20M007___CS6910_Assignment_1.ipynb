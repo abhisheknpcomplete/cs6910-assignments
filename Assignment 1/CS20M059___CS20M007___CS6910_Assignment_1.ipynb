{
  "nbformat": 4,
  "nbformat_minor": 0,
  "metadata": {
    "colab": {
      "name": "CS20M059 | CS20M007 | CS6910-Assignment-1.ipynb",
      "provenance": [],
      "collapsed_sections": []
    },
    "kernelspec": {
      "display_name": "Python 3",
      "name": "python3"
    },
    "language_info": {
      "name": "python"
    },
    "widgets": {
      "application/vnd.jupyter.widget-state+json": {
        "2ac458579ce84926a889b43145c20245": {
          "model_module": "@jupyter-widgets/controls",
          "model_name": "VBoxModel",
          "state": {
            "_view_name": "VBoxView",
            "_dom_classes": [],
            "_model_name": "VBoxModel",
            "_view_module": "@jupyter-widgets/controls",
            "_model_module_version": "1.5.0",
            "_view_count": null,
            "_view_module_version": "1.5.0",
            "box_style": "",
            "layout": "IPY_MODEL_477e294a3cfa4a25ae81211a600704af",
            "_model_module": "@jupyter-widgets/controls",
            "children": [
              "IPY_MODEL_42df36a19e8146e6b5c6ceadb61d1ca0",
              "IPY_MODEL_c05b955ed90147eb929eda66ca0492ad"
            ]
          }
        },
        "477e294a3cfa4a25ae81211a600704af": {
          "model_module": "@jupyter-widgets/base",
          "model_name": "LayoutModel",
          "state": {
            "_view_name": "LayoutView",
            "grid_template_rows": null,
            "right": null,
            "justify_content": null,
            "_view_module": "@jupyter-widgets/base",
            "overflow": null,
            "_model_module_version": "1.2.0",
            "_view_count": null,
            "flex_flow": null,
            "width": null,
            "min_width": null,
            "border": null,
            "align_items": null,
            "bottom": null,
            "_model_module": "@jupyter-widgets/base",
            "top": null,
            "grid_column": null,
            "overflow_y": null,
            "overflow_x": null,
            "grid_auto_flow": null,
            "grid_area": null,
            "grid_template_columns": null,
            "flex": null,
            "_model_name": "LayoutModel",
            "justify_items": null,
            "grid_row": null,
            "max_height": null,
            "align_content": null,
            "visibility": null,
            "align_self": null,
            "height": null,
            "min_height": null,
            "padding": null,
            "grid_auto_rows": null,
            "grid_gap": null,
            "max_width": null,
            "order": null,
            "_view_module_version": "1.2.0",
            "grid_template_areas": null,
            "object_position": null,
            "object_fit": null,
            "grid_auto_columns": null,
            "margin": null,
            "display": null,
            "left": null
          }
        },
        "42df36a19e8146e6b5c6ceadb61d1ca0": {
          "model_module": "@jupyter-widgets/controls",
          "model_name": "LabelModel",
          "state": {
            "_view_name": "LabelView",
            "style": "IPY_MODEL_00625dfe8f494e0186176ab2ead912f3",
            "_dom_classes": [],
            "description": "",
            "_model_name": "LabelModel",
            "placeholder": "​",
            "_view_module": "@jupyter-widgets/controls",
            "_model_module_version": "1.5.0",
            "value": " 0.01MB of 0.01MB uploaded (0.00MB deduped)\r",
            "_view_count": null,
            "_view_module_version": "1.5.0",
            "description_tooltip": null,
            "_model_module": "@jupyter-widgets/controls",
            "layout": "IPY_MODEL_52f48abf86034d2bad6f51ba4252cf92"
          }
        },
        "c05b955ed90147eb929eda66ca0492ad": {
          "model_module": "@jupyter-widgets/controls",
          "model_name": "FloatProgressModel",
          "state": {
            "_view_name": "ProgressView",
            "style": "IPY_MODEL_ff86f2d0e2314b69915b6e7d6f2566fb",
            "_dom_classes": [],
            "description": "",
            "_model_name": "FloatProgressModel",
            "bar_style": "",
            "max": 1,
            "_view_module": "@jupyter-widgets/controls",
            "_model_module_version": "1.5.0",
            "value": 1,
            "_view_count": null,
            "_view_module_version": "1.5.0",
            "orientation": "horizontal",
            "min": 0,
            "description_tooltip": null,
            "_model_module": "@jupyter-widgets/controls",
            "layout": "IPY_MODEL_7a8fa459255f4f67837d0ac709586fee"
          }
        },
        "00625dfe8f494e0186176ab2ead912f3": {
          "model_module": "@jupyter-widgets/controls",
          "model_name": "DescriptionStyleModel",
          "state": {
            "_view_name": "StyleView",
            "_model_name": "DescriptionStyleModel",
            "description_width": "",
            "_view_module": "@jupyter-widgets/base",
            "_model_module_version": "1.5.0",
            "_view_count": null,
            "_view_module_version": "1.2.0",
            "_model_module": "@jupyter-widgets/controls"
          }
        },
        "52f48abf86034d2bad6f51ba4252cf92": {
          "model_module": "@jupyter-widgets/base",
          "model_name": "LayoutModel",
          "state": {
            "_view_name": "LayoutView",
            "grid_template_rows": null,
            "right": null,
            "justify_content": null,
            "_view_module": "@jupyter-widgets/base",
            "overflow": null,
            "_model_module_version": "1.2.0",
            "_view_count": null,
            "flex_flow": null,
            "width": null,
            "min_width": null,
            "border": null,
            "align_items": null,
            "bottom": null,
            "_model_module": "@jupyter-widgets/base",
            "top": null,
            "grid_column": null,
            "overflow_y": null,
            "overflow_x": null,
            "grid_auto_flow": null,
            "grid_area": null,
            "grid_template_columns": null,
            "flex": null,
            "_model_name": "LayoutModel",
            "justify_items": null,
            "grid_row": null,
            "max_height": null,
            "align_content": null,
            "visibility": null,
            "align_self": null,
            "height": null,
            "min_height": null,
            "padding": null,
            "grid_auto_rows": null,
            "grid_gap": null,
            "max_width": null,
            "order": null,
            "_view_module_version": "1.2.0",
            "grid_template_areas": null,
            "object_position": null,
            "object_fit": null,
            "grid_auto_columns": null,
            "margin": null,
            "display": null,
            "left": null
          }
        },
        "ff86f2d0e2314b69915b6e7d6f2566fb": {
          "model_module": "@jupyter-widgets/controls",
          "model_name": "ProgressStyleModel",
          "state": {
            "_view_name": "StyleView",
            "_model_name": "ProgressStyleModel",
            "description_width": "",
            "_view_module": "@jupyter-widgets/base",
            "_model_module_version": "1.5.0",
            "_view_count": null,
            "_view_module_version": "1.2.0",
            "bar_color": null,
            "_model_module": "@jupyter-widgets/controls"
          }
        },
        "7a8fa459255f4f67837d0ac709586fee": {
          "model_module": "@jupyter-widgets/base",
          "model_name": "LayoutModel",
          "state": {
            "_view_name": "LayoutView",
            "grid_template_rows": null,
            "right": null,
            "justify_content": null,
            "_view_module": "@jupyter-widgets/base",
            "overflow": null,
            "_model_module_version": "1.2.0",
            "_view_count": null,
            "flex_flow": null,
            "width": null,
            "min_width": null,
            "border": null,
            "align_items": null,
            "bottom": null,
            "_model_module": "@jupyter-widgets/base",
            "top": null,
            "grid_column": null,
            "overflow_y": null,
            "overflow_x": null,
            "grid_auto_flow": null,
            "grid_area": null,
            "grid_template_columns": null,
            "flex": null,
            "_model_name": "LayoutModel",
            "justify_items": null,
            "grid_row": null,
            "max_height": null,
            "align_content": null,
            "visibility": null,
            "align_self": null,
            "height": null,
            "min_height": null,
            "padding": null,
            "grid_auto_rows": null,
            "grid_gap": null,
            "max_width": null,
            "order": null,
            "_view_module_version": "1.2.0",
            "grid_template_areas": null,
            "object_position": null,
            "object_fit": null,
            "grid_auto_columns": null,
            "margin": null,
            "display": null,
            "left": null
          }
        },
        "6d0f065d987141be9c60d586f42aa9db": {
          "model_module": "@jupyter-widgets/controls",
          "model_name": "VBoxModel",
          "state": {
            "_view_name": "VBoxView",
            "_dom_classes": [],
            "_model_name": "VBoxModel",
            "_view_module": "@jupyter-widgets/controls",
            "_model_module_version": "1.5.0",
            "_view_count": null,
            "_view_module_version": "1.5.0",
            "box_style": "",
            "layout": "IPY_MODEL_a6abcdcaacde43a59f5db980a852dff0",
            "_model_module": "@jupyter-widgets/controls",
            "children": [
              "IPY_MODEL_9e52a2d5f84d4ea29bbbc491578435cc",
              "IPY_MODEL_d3c37ab664f646bcaaf78113281cf05d"
            ]
          }
        },
        "a6abcdcaacde43a59f5db980a852dff0": {
          "model_module": "@jupyter-widgets/base",
          "model_name": "LayoutModel",
          "state": {
            "_view_name": "LayoutView",
            "grid_template_rows": null,
            "right": null,
            "justify_content": null,
            "_view_module": "@jupyter-widgets/base",
            "overflow": null,
            "_model_module_version": "1.2.0",
            "_view_count": null,
            "flex_flow": null,
            "width": null,
            "min_width": null,
            "border": null,
            "align_items": null,
            "bottom": null,
            "_model_module": "@jupyter-widgets/base",
            "top": null,
            "grid_column": null,
            "overflow_y": null,
            "overflow_x": null,
            "grid_auto_flow": null,
            "grid_area": null,
            "grid_template_columns": null,
            "flex": null,
            "_model_name": "LayoutModel",
            "justify_items": null,
            "grid_row": null,
            "max_height": null,
            "align_content": null,
            "visibility": null,
            "align_self": null,
            "height": null,
            "min_height": null,
            "padding": null,
            "grid_auto_rows": null,
            "grid_gap": null,
            "max_width": null,
            "order": null,
            "_view_module_version": "1.2.0",
            "grid_template_areas": null,
            "object_position": null,
            "object_fit": null,
            "grid_auto_columns": null,
            "margin": null,
            "display": null,
            "left": null
          }
        },
        "9e52a2d5f84d4ea29bbbc491578435cc": {
          "model_module": "@jupyter-widgets/controls",
          "model_name": "LabelModel",
          "state": {
            "_view_name": "LabelView",
            "style": "IPY_MODEL_1f16e26a0c4f4f678a1b93dfcbf0ef61",
            "_dom_classes": [],
            "description": "",
            "_model_name": "LabelModel",
            "placeholder": "​",
            "_view_module": "@jupyter-widgets/controls",
            "_model_module_version": "1.5.0",
            "value": " 0.01MB of 0.01MB uploaded (0.00MB deduped)\r",
            "_view_count": null,
            "_view_module_version": "1.5.0",
            "description_tooltip": null,
            "_model_module": "@jupyter-widgets/controls",
            "layout": "IPY_MODEL_b749f03b18ba448eaf66ca91e9f0509f"
          }
        },
        "d3c37ab664f646bcaaf78113281cf05d": {
          "model_module": "@jupyter-widgets/controls",
          "model_name": "FloatProgressModel",
          "state": {
            "_view_name": "ProgressView",
            "style": "IPY_MODEL_08dea305087d48e8aa17117f30dd58f5",
            "_dom_classes": [],
            "description": "",
            "_model_name": "FloatProgressModel",
            "bar_style": "",
            "max": 1,
            "_view_module": "@jupyter-widgets/controls",
            "_model_module_version": "1.5.0",
            "value": 1,
            "_view_count": null,
            "_view_module_version": "1.5.0",
            "orientation": "horizontal",
            "min": 0,
            "description_tooltip": null,
            "_model_module": "@jupyter-widgets/controls",
            "layout": "IPY_MODEL_0b97ea62314548fab17ee6b58e0eae28"
          }
        },
        "1f16e26a0c4f4f678a1b93dfcbf0ef61": {
          "model_module": "@jupyter-widgets/controls",
          "model_name": "DescriptionStyleModel",
          "state": {
            "_view_name": "StyleView",
            "_model_name": "DescriptionStyleModel",
            "description_width": "",
            "_view_module": "@jupyter-widgets/base",
            "_model_module_version": "1.5.0",
            "_view_count": null,
            "_view_module_version": "1.2.0",
            "_model_module": "@jupyter-widgets/controls"
          }
        },
        "b749f03b18ba448eaf66ca91e9f0509f": {
          "model_module": "@jupyter-widgets/base",
          "model_name": "LayoutModel",
          "state": {
            "_view_name": "LayoutView",
            "grid_template_rows": null,
            "right": null,
            "justify_content": null,
            "_view_module": "@jupyter-widgets/base",
            "overflow": null,
            "_model_module_version": "1.2.0",
            "_view_count": null,
            "flex_flow": null,
            "width": null,
            "min_width": null,
            "border": null,
            "align_items": null,
            "bottom": null,
            "_model_module": "@jupyter-widgets/base",
            "top": null,
            "grid_column": null,
            "overflow_y": null,
            "overflow_x": null,
            "grid_auto_flow": null,
            "grid_area": null,
            "grid_template_columns": null,
            "flex": null,
            "_model_name": "LayoutModel",
            "justify_items": null,
            "grid_row": null,
            "max_height": null,
            "align_content": null,
            "visibility": null,
            "align_self": null,
            "height": null,
            "min_height": null,
            "padding": null,
            "grid_auto_rows": null,
            "grid_gap": null,
            "max_width": null,
            "order": null,
            "_view_module_version": "1.2.0",
            "grid_template_areas": null,
            "object_position": null,
            "object_fit": null,
            "grid_auto_columns": null,
            "margin": null,
            "display": null,
            "left": null
          }
        },
        "08dea305087d48e8aa17117f30dd58f5": {
          "model_module": "@jupyter-widgets/controls",
          "model_name": "ProgressStyleModel",
          "state": {
            "_view_name": "StyleView",
            "_model_name": "ProgressStyleModel",
            "description_width": "",
            "_view_module": "@jupyter-widgets/base",
            "_model_module_version": "1.5.0",
            "_view_count": null,
            "_view_module_version": "1.2.0",
            "bar_color": null,
            "_model_module": "@jupyter-widgets/controls"
          }
        },
        "0b97ea62314548fab17ee6b58e0eae28": {
          "model_module": "@jupyter-widgets/base",
          "model_name": "LayoutModel",
          "state": {
            "_view_name": "LayoutView",
            "grid_template_rows": null,
            "right": null,
            "justify_content": null,
            "_view_module": "@jupyter-widgets/base",
            "overflow": null,
            "_model_module_version": "1.2.0",
            "_view_count": null,
            "flex_flow": null,
            "width": null,
            "min_width": null,
            "border": null,
            "align_items": null,
            "bottom": null,
            "_model_module": "@jupyter-widgets/base",
            "top": null,
            "grid_column": null,
            "overflow_y": null,
            "overflow_x": null,
            "grid_auto_flow": null,
            "grid_area": null,
            "grid_template_columns": null,
            "flex": null,
            "_model_name": "LayoutModel",
            "justify_items": null,
            "grid_row": null,
            "max_height": null,
            "align_content": null,
            "visibility": null,
            "align_self": null,
            "height": null,
            "min_height": null,
            "padding": null,
            "grid_auto_rows": null,
            "grid_gap": null,
            "max_width": null,
            "order": null,
            "_view_module_version": "1.2.0",
            "grid_template_areas": null,
            "object_position": null,
            "object_fit": null,
            "grid_auto_columns": null,
            "margin": null,
            "display": null,
            "left": null
          }
        },
        "1d438b71aecc4751be68746a9f09d443": {
          "model_module": "@jupyter-widgets/controls",
          "model_name": "VBoxModel",
          "state": {
            "_view_name": "VBoxView",
            "_dom_classes": [],
            "_model_name": "VBoxModel",
            "_view_module": "@jupyter-widgets/controls",
            "_model_module_version": "1.5.0",
            "_view_count": null,
            "_view_module_version": "1.5.0",
            "box_style": "",
            "layout": "IPY_MODEL_2272c079526b475e81ddb08b44fb1922",
            "_model_module": "@jupyter-widgets/controls",
            "children": [
              "IPY_MODEL_2709c303dee343178405110fb3047f2e",
              "IPY_MODEL_23d7e0478d3f4668aeac379cbb98158a"
            ]
          }
        },
        "2272c079526b475e81ddb08b44fb1922": {
          "model_module": "@jupyter-widgets/base",
          "model_name": "LayoutModel",
          "state": {
            "_view_name": "LayoutView",
            "grid_template_rows": null,
            "right": null,
            "justify_content": null,
            "_view_module": "@jupyter-widgets/base",
            "overflow": null,
            "_model_module_version": "1.2.0",
            "_view_count": null,
            "flex_flow": null,
            "width": null,
            "min_width": null,
            "border": null,
            "align_items": null,
            "bottom": null,
            "_model_module": "@jupyter-widgets/base",
            "top": null,
            "grid_column": null,
            "overflow_y": null,
            "overflow_x": null,
            "grid_auto_flow": null,
            "grid_area": null,
            "grid_template_columns": null,
            "flex": null,
            "_model_name": "LayoutModel",
            "justify_items": null,
            "grid_row": null,
            "max_height": null,
            "align_content": null,
            "visibility": null,
            "align_self": null,
            "height": null,
            "min_height": null,
            "padding": null,
            "grid_auto_rows": null,
            "grid_gap": null,
            "max_width": null,
            "order": null,
            "_view_module_version": "1.2.0",
            "grid_template_areas": null,
            "object_position": null,
            "object_fit": null,
            "grid_auto_columns": null,
            "margin": null,
            "display": null,
            "left": null
          }
        },
        "2709c303dee343178405110fb3047f2e": {
          "model_module": "@jupyter-widgets/controls",
          "model_name": "LabelModel",
          "state": {
            "_view_name": "LabelView",
            "style": "IPY_MODEL_edb045d37e884c959602a187376d9b16",
            "_dom_classes": [],
            "description": "",
            "_model_name": "LabelModel",
            "placeholder": "​",
            "_view_module": "@jupyter-widgets/controls",
            "_model_module_version": "1.5.0",
            "value": " 0.01MB of 0.01MB uploaded (0.00MB deduped)\r",
            "_view_count": null,
            "_view_module_version": "1.5.0",
            "description_tooltip": null,
            "_model_module": "@jupyter-widgets/controls",
            "layout": "IPY_MODEL_624cf1f7a6ed4a17b976a71eaf2804be"
          }
        },
        "23d7e0478d3f4668aeac379cbb98158a": {
          "model_module": "@jupyter-widgets/controls",
          "model_name": "FloatProgressModel",
          "state": {
            "_view_name": "ProgressView",
            "style": "IPY_MODEL_e14bb395281444899bdf8a115779abb9",
            "_dom_classes": [],
            "description": "",
            "_model_name": "FloatProgressModel",
            "bar_style": "",
            "max": 1,
            "_view_module": "@jupyter-widgets/controls",
            "_model_module_version": "1.5.0",
            "value": 1,
            "_view_count": null,
            "_view_module_version": "1.5.0",
            "orientation": "horizontal",
            "min": 0,
            "description_tooltip": null,
            "_model_module": "@jupyter-widgets/controls",
            "layout": "IPY_MODEL_ce0c9fa2b6e74d10b014c3de85c05493"
          }
        },
        "edb045d37e884c959602a187376d9b16": {
          "model_module": "@jupyter-widgets/controls",
          "model_name": "DescriptionStyleModel",
          "state": {
            "_view_name": "StyleView",
            "_model_name": "DescriptionStyleModel",
            "description_width": "",
            "_view_module": "@jupyter-widgets/base",
            "_model_module_version": "1.5.0",
            "_view_count": null,
            "_view_module_version": "1.2.0",
            "_model_module": "@jupyter-widgets/controls"
          }
        },
        "624cf1f7a6ed4a17b976a71eaf2804be": {
          "model_module": "@jupyter-widgets/base",
          "model_name": "LayoutModel",
          "state": {
            "_view_name": "LayoutView",
            "grid_template_rows": null,
            "right": null,
            "justify_content": null,
            "_view_module": "@jupyter-widgets/base",
            "overflow": null,
            "_model_module_version": "1.2.0",
            "_view_count": null,
            "flex_flow": null,
            "width": null,
            "min_width": null,
            "border": null,
            "align_items": null,
            "bottom": null,
            "_model_module": "@jupyter-widgets/base",
            "top": null,
            "grid_column": null,
            "overflow_y": null,
            "overflow_x": null,
            "grid_auto_flow": null,
            "grid_area": null,
            "grid_template_columns": null,
            "flex": null,
            "_model_name": "LayoutModel",
            "justify_items": null,
            "grid_row": null,
            "max_height": null,
            "align_content": null,
            "visibility": null,
            "align_self": null,
            "height": null,
            "min_height": null,
            "padding": null,
            "grid_auto_rows": null,
            "grid_gap": null,
            "max_width": null,
            "order": null,
            "_view_module_version": "1.2.0",
            "grid_template_areas": null,
            "object_position": null,
            "object_fit": null,
            "grid_auto_columns": null,
            "margin": null,
            "display": null,
            "left": null
          }
        },
        "e14bb395281444899bdf8a115779abb9": {
          "model_module": "@jupyter-widgets/controls",
          "model_name": "ProgressStyleModel",
          "state": {
            "_view_name": "StyleView",
            "_model_name": "ProgressStyleModel",
            "description_width": "",
            "_view_module": "@jupyter-widgets/base",
            "_model_module_version": "1.5.0",
            "_view_count": null,
            "_view_module_version": "1.2.0",
            "bar_color": null,
            "_model_module": "@jupyter-widgets/controls"
          }
        },
        "ce0c9fa2b6e74d10b014c3de85c05493": {
          "model_module": "@jupyter-widgets/base",
          "model_name": "LayoutModel",
          "state": {
            "_view_name": "LayoutView",
            "grid_template_rows": null,
            "right": null,
            "justify_content": null,
            "_view_module": "@jupyter-widgets/base",
            "overflow": null,
            "_model_module_version": "1.2.0",
            "_view_count": null,
            "flex_flow": null,
            "width": null,
            "min_width": null,
            "border": null,
            "align_items": null,
            "bottom": null,
            "_model_module": "@jupyter-widgets/base",
            "top": null,
            "grid_column": null,
            "overflow_y": null,
            "overflow_x": null,
            "grid_auto_flow": null,
            "grid_area": null,
            "grid_template_columns": null,
            "flex": null,
            "_model_name": "LayoutModel",
            "justify_items": null,
            "grid_row": null,
            "max_height": null,
            "align_content": null,
            "visibility": null,
            "align_self": null,
            "height": null,
            "min_height": null,
            "padding": null,
            "grid_auto_rows": null,
            "grid_gap": null,
            "max_width": null,
            "order": null,
            "_view_module_version": "1.2.0",
            "grid_template_areas": null,
            "object_position": null,
            "object_fit": null,
            "grid_auto_columns": null,
            "margin": null,
            "display": null,
            "left": null
          }
        },
        "37e4d0d125444d1eac0e99a9c66f3202": {
          "model_module": "@jupyter-widgets/controls",
          "model_name": "VBoxModel",
          "state": {
            "_view_name": "VBoxView",
            "_dom_classes": [],
            "_model_name": "VBoxModel",
            "_view_module": "@jupyter-widgets/controls",
            "_model_module_version": "1.5.0",
            "_view_count": null,
            "_view_module_version": "1.5.0",
            "box_style": "",
            "layout": "IPY_MODEL_5956e7e254454c4f90f7bd815c141d20",
            "_model_module": "@jupyter-widgets/controls",
            "children": [
              "IPY_MODEL_c4a9ac817ee240cea8e01287f8fa8510",
              "IPY_MODEL_0bcc91a4f6994291b8cec70762003648"
            ]
          }
        },
        "5956e7e254454c4f90f7bd815c141d20": {
          "model_module": "@jupyter-widgets/base",
          "model_name": "LayoutModel",
          "state": {
            "_view_name": "LayoutView",
            "grid_template_rows": null,
            "right": null,
            "justify_content": null,
            "_view_module": "@jupyter-widgets/base",
            "overflow": null,
            "_model_module_version": "1.2.0",
            "_view_count": null,
            "flex_flow": null,
            "width": null,
            "min_width": null,
            "border": null,
            "align_items": null,
            "bottom": null,
            "_model_module": "@jupyter-widgets/base",
            "top": null,
            "grid_column": null,
            "overflow_y": null,
            "overflow_x": null,
            "grid_auto_flow": null,
            "grid_area": null,
            "grid_template_columns": null,
            "flex": null,
            "_model_name": "LayoutModel",
            "justify_items": null,
            "grid_row": null,
            "max_height": null,
            "align_content": null,
            "visibility": null,
            "align_self": null,
            "height": null,
            "min_height": null,
            "padding": null,
            "grid_auto_rows": null,
            "grid_gap": null,
            "max_width": null,
            "order": null,
            "_view_module_version": "1.2.0",
            "grid_template_areas": null,
            "object_position": null,
            "object_fit": null,
            "grid_auto_columns": null,
            "margin": null,
            "display": null,
            "left": null
          }
        },
        "c4a9ac817ee240cea8e01287f8fa8510": {
          "model_module": "@jupyter-widgets/controls",
          "model_name": "LabelModel",
          "state": {
            "_view_name": "LabelView",
            "style": "IPY_MODEL_c53e91f1fe9f479ea5cb0cbded123285",
            "_dom_classes": [],
            "description": "",
            "_model_name": "LabelModel",
            "placeholder": "​",
            "_view_module": "@jupyter-widgets/controls",
            "_model_module_version": "1.5.0",
            "value": " 0.01MB of 0.01MB uploaded (0.00MB deduped)\r",
            "_view_count": null,
            "_view_module_version": "1.5.0",
            "description_tooltip": null,
            "_model_module": "@jupyter-widgets/controls",
            "layout": "IPY_MODEL_a0fc0288ae7345e59af7bbee6ef772d5"
          }
        },
        "0bcc91a4f6994291b8cec70762003648": {
          "model_module": "@jupyter-widgets/controls",
          "model_name": "FloatProgressModel",
          "state": {
            "_view_name": "ProgressView",
            "style": "IPY_MODEL_dbe8d885438e4a2db75850699219f30c",
            "_dom_classes": [],
            "description": "",
            "_model_name": "FloatProgressModel",
            "bar_style": "",
            "max": 1,
            "_view_module": "@jupyter-widgets/controls",
            "_model_module_version": "1.5.0",
            "value": 1,
            "_view_count": null,
            "_view_module_version": "1.5.0",
            "orientation": "horizontal",
            "min": 0,
            "description_tooltip": null,
            "_model_module": "@jupyter-widgets/controls",
            "layout": "IPY_MODEL_812388dbd74d454e8b5ec79b2a2ebfde"
          }
        },
        "c53e91f1fe9f479ea5cb0cbded123285": {
          "model_module": "@jupyter-widgets/controls",
          "model_name": "DescriptionStyleModel",
          "state": {
            "_view_name": "StyleView",
            "_model_name": "DescriptionStyleModel",
            "description_width": "",
            "_view_module": "@jupyter-widgets/base",
            "_model_module_version": "1.5.0",
            "_view_count": null,
            "_view_module_version": "1.2.0",
            "_model_module": "@jupyter-widgets/controls"
          }
        },
        "a0fc0288ae7345e59af7bbee6ef772d5": {
          "model_module": "@jupyter-widgets/base",
          "model_name": "LayoutModel",
          "state": {
            "_view_name": "LayoutView",
            "grid_template_rows": null,
            "right": null,
            "justify_content": null,
            "_view_module": "@jupyter-widgets/base",
            "overflow": null,
            "_model_module_version": "1.2.0",
            "_view_count": null,
            "flex_flow": null,
            "width": null,
            "min_width": null,
            "border": null,
            "align_items": null,
            "bottom": null,
            "_model_module": "@jupyter-widgets/base",
            "top": null,
            "grid_column": null,
            "overflow_y": null,
            "overflow_x": null,
            "grid_auto_flow": null,
            "grid_area": null,
            "grid_template_columns": null,
            "flex": null,
            "_model_name": "LayoutModel",
            "justify_items": null,
            "grid_row": null,
            "max_height": null,
            "align_content": null,
            "visibility": null,
            "align_self": null,
            "height": null,
            "min_height": null,
            "padding": null,
            "grid_auto_rows": null,
            "grid_gap": null,
            "max_width": null,
            "order": null,
            "_view_module_version": "1.2.0",
            "grid_template_areas": null,
            "object_position": null,
            "object_fit": null,
            "grid_auto_columns": null,
            "margin": null,
            "display": null,
            "left": null
          }
        },
        "dbe8d885438e4a2db75850699219f30c": {
          "model_module": "@jupyter-widgets/controls",
          "model_name": "ProgressStyleModel",
          "state": {
            "_view_name": "StyleView",
            "_model_name": "ProgressStyleModel",
            "description_width": "",
            "_view_module": "@jupyter-widgets/base",
            "_model_module_version": "1.5.0",
            "_view_count": null,
            "_view_module_version": "1.2.0",
            "bar_color": null,
            "_model_module": "@jupyter-widgets/controls"
          }
        },
        "812388dbd74d454e8b5ec79b2a2ebfde": {
          "model_module": "@jupyter-widgets/base",
          "model_name": "LayoutModel",
          "state": {
            "_view_name": "LayoutView",
            "grid_template_rows": null,
            "right": null,
            "justify_content": null,
            "_view_module": "@jupyter-widgets/base",
            "overflow": null,
            "_model_module_version": "1.2.0",
            "_view_count": null,
            "flex_flow": null,
            "width": null,
            "min_width": null,
            "border": null,
            "align_items": null,
            "bottom": null,
            "_model_module": "@jupyter-widgets/base",
            "top": null,
            "grid_column": null,
            "overflow_y": null,
            "overflow_x": null,
            "grid_auto_flow": null,
            "grid_area": null,
            "grid_template_columns": null,
            "flex": null,
            "_model_name": "LayoutModel",
            "justify_items": null,
            "grid_row": null,
            "max_height": null,
            "align_content": null,
            "visibility": null,
            "align_self": null,
            "height": null,
            "min_height": null,
            "padding": null,
            "grid_auto_rows": null,
            "grid_gap": null,
            "max_width": null,
            "order": null,
            "_view_module_version": "1.2.0",
            "grid_template_areas": null,
            "object_position": null,
            "object_fit": null,
            "grid_auto_columns": null,
            "margin": null,
            "display": null,
            "left": null
          }
        },
        "7c78427f47334d94abca644baaf5b459": {
          "model_module": "@jupyter-widgets/controls",
          "model_name": "VBoxModel",
          "state": {
            "_view_name": "VBoxView",
            "_dom_classes": [],
            "_model_name": "VBoxModel",
            "_view_module": "@jupyter-widgets/controls",
            "_model_module_version": "1.5.0",
            "_view_count": null,
            "_view_module_version": "1.5.0",
            "box_style": "",
            "layout": "IPY_MODEL_2bf20ef278dd430093714218492d4d6e",
            "_model_module": "@jupyter-widgets/controls",
            "children": [
              "IPY_MODEL_97f86cfbc5dc4f60a3f16a9f02daa095",
              "IPY_MODEL_99a5367efed14f8c88e840ff2db4e7f4"
            ]
          }
        },
        "2bf20ef278dd430093714218492d4d6e": {
          "model_module": "@jupyter-widgets/base",
          "model_name": "LayoutModel",
          "state": {
            "_view_name": "LayoutView",
            "grid_template_rows": null,
            "right": null,
            "justify_content": null,
            "_view_module": "@jupyter-widgets/base",
            "overflow": null,
            "_model_module_version": "1.2.0",
            "_view_count": null,
            "flex_flow": null,
            "width": null,
            "min_width": null,
            "border": null,
            "align_items": null,
            "bottom": null,
            "_model_module": "@jupyter-widgets/base",
            "top": null,
            "grid_column": null,
            "overflow_y": null,
            "overflow_x": null,
            "grid_auto_flow": null,
            "grid_area": null,
            "grid_template_columns": null,
            "flex": null,
            "_model_name": "LayoutModel",
            "justify_items": null,
            "grid_row": null,
            "max_height": null,
            "align_content": null,
            "visibility": null,
            "align_self": null,
            "height": null,
            "min_height": null,
            "padding": null,
            "grid_auto_rows": null,
            "grid_gap": null,
            "max_width": null,
            "order": null,
            "_view_module_version": "1.2.0",
            "grid_template_areas": null,
            "object_position": null,
            "object_fit": null,
            "grid_auto_columns": null,
            "margin": null,
            "display": null,
            "left": null
          }
        },
        "97f86cfbc5dc4f60a3f16a9f02daa095": {
          "model_module": "@jupyter-widgets/controls",
          "model_name": "LabelModel",
          "state": {
            "_view_name": "LabelView",
            "style": "IPY_MODEL_e9e32e97a2ae46a3ae50aaa1dc5defb8",
            "_dom_classes": [],
            "description": "",
            "_model_name": "LabelModel",
            "placeholder": "​",
            "_view_module": "@jupyter-widgets/controls",
            "_model_module_version": "1.5.0",
            "value": " 0.01MB of 0.01MB uploaded (0.00MB deduped)\r",
            "_view_count": null,
            "_view_module_version": "1.5.0",
            "description_tooltip": null,
            "_model_module": "@jupyter-widgets/controls",
            "layout": "IPY_MODEL_6f1a4f647e814819bc7327d0c5c4afb7"
          }
        },
        "99a5367efed14f8c88e840ff2db4e7f4": {
          "model_module": "@jupyter-widgets/controls",
          "model_name": "FloatProgressModel",
          "state": {
            "_view_name": "ProgressView",
            "style": "IPY_MODEL_ae307ff971ab4f7f886731ac46882b2a",
            "_dom_classes": [],
            "description": "",
            "_model_name": "FloatProgressModel",
            "bar_style": "",
            "max": 1,
            "_view_module": "@jupyter-widgets/controls",
            "_model_module_version": "1.5.0",
            "value": 1,
            "_view_count": null,
            "_view_module_version": "1.5.0",
            "orientation": "horizontal",
            "min": 0,
            "description_tooltip": null,
            "_model_module": "@jupyter-widgets/controls",
            "layout": "IPY_MODEL_046263ad20c14d6d81b5732bdbd9da2e"
          }
        },
        "e9e32e97a2ae46a3ae50aaa1dc5defb8": {
          "model_module": "@jupyter-widgets/controls",
          "model_name": "DescriptionStyleModel",
          "state": {
            "_view_name": "StyleView",
            "_model_name": "DescriptionStyleModel",
            "description_width": "",
            "_view_module": "@jupyter-widgets/base",
            "_model_module_version": "1.5.0",
            "_view_count": null,
            "_view_module_version": "1.2.0",
            "_model_module": "@jupyter-widgets/controls"
          }
        },
        "6f1a4f647e814819bc7327d0c5c4afb7": {
          "model_module": "@jupyter-widgets/base",
          "model_name": "LayoutModel",
          "state": {
            "_view_name": "LayoutView",
            "grid_template_rows": null,
            "right": null,
            "justify_content": null,
            "_view_module": "@jupyter-widgets/base",
            "overflow": null,
            "_model_module_version": "1.2.0",
            "_view_count": null,
            "flex_flow": null,
            "width": null,
            "min_width": null,
            "border": null,
            "align_items": null,
            "bottom": null,
            "_model_module": "@jupyter-widgets/base",
            "top": null,
            "grid_column": null,
            "overflow_y": null,
            "overflow_x": null,
            "grid_auto_flow": null,
            "grid_area": null,
            "grid_template_columns": null,
            "flex": null,
            "_model_name": "LayoutModel",
            "justify_items": null,
            "grid_row": null,
            "max_height": null,
            "align_content": null,
            "visibility": null,
            "align_self": null,
            "height": null,
            "min_height": null,
            "padding": null,
            "grid_auto_rows": null,
            "grid_gap": null,
            "max_width": null,
            "order": null,
            "_view_module_version": "1.2.0",
            "grid_template_areas": null,
            "object_position": null,
            "object_fit": null,
            "grid_auto_columns": null,
            "margin": null,
            "display": null,
            "left": null
          }
        },
        "ae307ff971ab4f7f886731ac46882b2a": {
          "model_module": "@jupyter-widgets/controls",
          "model_name": "ProgressStyleModel",
          "state": {
            "_view_name": "StyleView",
            "_model_name": "ProgressStyleModel",
            "description_width": "",
            "_view_module": "@jupyter-widgets/base",
            "_model_module_version": "1.5.0",
            "_view_count": null,
            "_view_module_version": "1.2.0",
            "bar_color": null,
            "_model_module": "@jupyter-widgets/controls"
          }
        },
        "046263ad20c14d6d81b5732bdbd9da2e": {
          "model_module": "@jupyter-widgets/base",
          "model_name": "LayoutModel",
          "state": {
            "_view_name": "LayoutView",
            "grid_template_rows": null,
            "right": null,
            "justify_content": null,
            "_view_module": "@jupyter-widgets/base",
            "overflow": null,
            "_model_module_version": "1.2.0",
            "_view_count": null,
            "flex_flow": null,
            "width": null,
            "min_width": null,
            "border": null,
            "align_items": null,
            "bottom": null,
            "_model_module": "@jupyter-widgets/base",
            "top": null,
            "grid_column": null,
            "overflow_y": null,
            "overflow_x": null,
            "grid_auto_flow": null,
            "grid_area": null,
            "grid_template_columns": null,
            "flex": null,
            "_model_name": "LayoutModel",
            "justify_items": null,
            "grid_row": null,
            "max_height": null,
            "align_content": null,
            "visibility": null,
            "align_self": null,
            "height": null,
            "min_height": null,
            "padding": null,
            "grid_auto_rows": null,
            "grid_gap": null,
            "max_width": null,
            "order": null,
            "_view_module_version": "1.2.0",
            "grid_template_areas": null,
            "object_position": null,
            "object_fit": null,
            "grid_auto_columns": null,
            "margin": null,
            "display": null,
            "left": null
          }
        }
      }
    }
  },
  "cells": [
    {
      "cell_type": "code",
      "metadata": {
        "colab": {
          "base_uri": "https://localhost:8080/",
          "height": 596
        },
        "id": "Euissg86FpZq",
        "outputId": "77621fe1-6b8a-4bd3-afc1-b9660f7d3c5e"
      },
      "source": [
        "!pip install wandb -qqq\n",
        "import wandb\n",
        "wandb.init(project='Assignment 1', entity='iitm-cs6910-jan-may-2021-cs20m059-cs20m007')"
      ],
      "execution_count": 1,
      "outputs": [
        {
          "output_type": "stream",
          "text": [
            "\u001b[34m\u001b[1mwandb\u001b[0m: Currently logged in as: \u001b[33mcs20m059\u001b[0m (use `wandb login --relogin` to force relogin)\n"
          ],
          "name": "stderr"
        },
        {
          "output_type": "display_data",
          "data": {
            "text/html": [
              "\n",
              "                Tracking run with wandb version 0.10.23<br/>\n",
              "                Syncing run <strong style=\"color:#cdcd00\">drawn-oath-7</strong> to <a href=\"https://wandb.ai\" target=\"_blank\">Weights & Biases</a> <a href=\"https://docs.wandb.com/integrations/jupyter.html\" target=\"_blank\">(Documentation)</a>.<br/>\n",
              "                Project page: <a href=\"https://wandb.ai/iitm-cs6910-jan-may-2021-cs20m059-cs20m007/Assignment%201\" target=\"_blank\">https://wandb.ai/iitm-cs6910-jan-may-2021-cs20m059-cs20m007/Assignment%201</a><br/>\n",
              "                Run page: <a href=\"https://wandb.ai/iitm-cs6910-jan-may-2021-cs20m059-cs20m007/Assignment%201/runs/3bvlqu2x\" target=\"_blank\">https://wandb.ai/iitm-cs6910-jan-may-2021-cs20m059-cs20m007/Assignment%201/runs/3bvlqu2x</a><br/>\n",
              "                Run data is saved locally in <code>/content/wandb/run-20210326_191321-3bvlqu2x</code><br/><br/>\n",
              "            "
            ],
            "text/plain": [
              "<IPython.core.display.HTML object>"
            ]
          },
          "metadata": {
            "tags": []
          }
        },
        {
          "output_type": "execute_result",
          "data": {
            "text/plain": [
              "<wandb.sdk.wandb_run.Run at 0x7f8042136a10>"
            ],
            "text/html": [
              "<h1>Run(3bvlqu2x)</h1><iframe src=\"https://wandb.ai/iitm-cs6910-jan-may-2021-cs20m059-cs20m007/Assignment%201/runs/3bvlqu2x\" style=\"border:none;width:100%;height:400px\"></iframe>"
            ]
          },
          "metadata": {
            "tags": []
          },
          "execution_count": 1
        }
      ]
    },
    {
      "cell_type": "code",
      "metadata": {
        "id": "AbwpAisDFuic"
      },
      "source": [
        "import numpy as np\n",
        "import matplotlib.pyplot as plt\n",
        "from keras.datasets import fashion_mnist\n",
        "from scipy.special import expit, softmax\n",
        "from sklearn.model_selection import train_test_split\n",
        "from sklearn.utils import shuffle"
      ],
      "execution_count": 2,
      "outputs": []
    },
    {
      "cell_type": "code",
      "metadata": {
        "id": "Ygu1i2MBF5Vn"
      },
      "source": [
        "(train_x, train_y), (test_x, test_y)= fashion_mnist.load_data()\n",
        "classes = ['T-shirt/top', 'Trouser', 'Pullover', 'Dress', 'Coat','Sandal', 'Shirt', 'Sneaker', 'Bag', 'Ankle boot']\n",
        "\n",
        "#Reshape 2D Matrix into 1D Vector\n",
        "train_x = np.array(train_x.reshape(len(train_x), 28 ** 2, 1))\n",
        "test_x = np.array(test_x.reshape(len(test_x), 28 ** 2, 1))\n",
        "\n",
        "#Normalizing data\n",
        "train_x = train_x/255.0\n",
        "test_x = test_x/255.0\n",
        "\n",
        "#Splitting Data\n",
        "train_x, val_x, train_y, val_y = train_test_split(train_x, train_y, train_size = 0.9, test_size = 0.1)"
      ],
      "execution_count": 3,
      "outputs": []
    },
    {
      "cell_type": "code",
      "metadata": {
        "id": "ZWBIHQWZGDB6"
      },
      "source": [
        "#Activation function Def\n",
        "\n",
        "def relu(z):\n",
        "  return x * (x > 0)                                           #learnt from https://stackoverflow.com/questions/32109319/how-to-implement-the-relu-function-in-numpy\n",
        "\n",
        "def sigmoid(z):\n",
        "  return expit(z)\n",
        "\n",
        "def tanh(z):\n",
        "  return np.tanh(z)\n",
        "\n",
        "\n",
        "#Activation function derivative Def\n",
        "\n",
        "def grad_tanh(x):\n",
        "  return 1-(tanh(x) ** 2)\n",
        "\n",
        "def grad_sigmoid(x):\n",
        "  sig_x = sigmoid(x)\n",
        "  return sig_x*(1-sig_x)\n",
        "\n",
        "def grad_relu(x):\n",
        "  temp = 1. * (x > 0)                                          #learnt from https://stackoverflow.com/questions/32109319/how-to-implement-the-relu-function-in-numpy\n",
        "  return temp"
      ],
      "execution_count": 4,
      "outputs": []
    },
    {
      "cell_type": "code",
      "metadata": {
        "id": "rE2TMOAkGKm8"
      },
      "source": [
        "#Type Initialization\n",
        "RANDOM = \"random\"\n",
        "XAVIER = \"xavier\"\n",
        "ZEROES = \"zeroes\"\n",
        "\n",
        "#Definitions\n",
        "\n",
        "def init_weights(type: str, layers):\n",
        "    W = {}\n",
        "    for i in range(1, len(layers)):\n",
        "      if type == RANDOM:\n",
        "        W[i] = np.random.normal(0, 0.5, size=(layers[i], layers[i-1]))\n",
        "      elif type == XAVIER:\n",
        "        W[i] = np.random.uniform(-(1/np.sqrt(layers[i])), (1/np.sqrt(layers[i])), size=(layers[i], layers[i-1]))\n",
        "      else:\n",
        "        W[i] = np.zeros((layers[i], layers[i-1]))\n",
        "    return W\n",
        "\n",
        "def init_bias(type: str, layers):\n",
        "    B = {}\n",
        "    for i in range(1, len(layers)):\n",
        "      if type == RANDOM:\n",
        "        B[i] = np.random.randn(layers[i], 1)\n",
        "      else:\n",
        "        B[i] = np.zeros((layers[i], 1))\n",
        "    return B\n",
        "\n",
        "def init_params(type: str, layers):\n",
        "  return init_weights(type, layers), init_bias(type, layers)"
      ],
      "execution_count": 5,
      "outputs": []
    },
    {
      "cell_type": "code",
      "metadata": {
        "id": "sbHEFDVVGQUk"
      },
      "source": [
        "#Type Initialization\n",
        "SIGMOID = \"sigmoid\"\n",
        "TAN_H = \"tanh\"\n",
        "RELU = \"relu\"\n",
        "\n",
        "#Definitions\n",
        "\n",
        "def grad(activation: str, pre_act_vector):\n",
        "  #increase precision\n",
        "  pre_act_vector = np.array(pre_act_vector,dtype=np.longdouble)\n",
        "  if activation == TAN_H:\n",
        "    return grad_tanh(pre_act_vector)\n",
        "  elif activation == SIGMOID:\n",
        "    return grad_sigmoid(pre_act_vector)\n",
        "  elif activation == RELU:\n",
        "    return grad_relu(pre_act_vector)\n",
        "  return None\n",
        "\n",
        "def activate(activation: str, pre_act_vector):\n",
        "  #increase precision\n",
        "  pre_act_vector = np.array(pre_act_vector,dtype=np.longdouble)\n",
        "  if activation == TAN_H:\n",
        "    return tanh(pre_act_vector)\n",
        "  elif activation == SIGMOID:\n",
        "    return sigmoid(pre_act_vector)\n",
        "  elif activation == RELU:\n",
        "    return relu(pre_act_vector)\n",
        "  return None\n",
        "\n",
        "def cross_entropy_loss(label, y_hat):\n",
        "  return - np.log(y_hat[label][0])\n",
        "\n",
        "def squared_error_loss(label, y_hat):\n",
        "  Y = np.array([1 if i == label else 0 for i in range(len(y_hat))]).reshape(np.shape(y_hat))\n",
        "  loss = (Y - y_hat) ** 2\n",
        "  return np.average(loss)"
      ],
      "execution_count": 6,
      "outputs": []
    },
    {
      "cell_type": "code",
      "metadata": {
        "id": "NU_2NWriGXev"
      },
      "source": [
        "#Forward Propagation\n",
        "\n",
        "def forward_propagation(data, activation, W, B, layers):                         \n",
        "  H = {0:data}\n",
        "  A = {}\n",
        "  L = len(layers)-1\n",
        "  for k in range(1, L):\n",
        "    A[k] = np.matmul(W[k],H[k-1])+B[k]\n",
        "    H[k] = activate(SIGMOID, A[k])\n",
        "    \n",
        "  A[L] = np.matmul(W[L],H[L-1])+B[L]\n",
        "  y_hat = softmax(A[L])\n",
        "  \n",
        "  return H, A, y_hat"
      ],
      "execution_count": 7,
      "outputs": []
    },
    {
      "cell_type": "code",
      "metadata": {
        "id": "brn9200vGa0n"
      },
      "source": [
        "def back_propagation(y, y_hat, A, H, W, layers, activation):\n",
        "  Y = np.array([1 if i == y else 0 for i in range(len(y_hat))]).reshape(np.shape(y_hat))\n",
        "  dW, dB = init_params(ZEROES, layers)\n",
        "  dA = init_bias(ZEROES, layers)\n",
        "  dH = init_bias(ZEROES, layers)\n",
        "  L = len(layers) - 1\n",
        "  dA[L] = -(Y - y_hat)\n",
        "  for i in range(L, 0, -1):\n",
        "    dW[i] = np.dot(dA[i], H[i - 1].T)\n",
        "    dB[i] = dA[i]\n",
        "    if i > 1:\n",
        "      dH[i - 1] = np.dot(W[i].T, dA[i])\n",
        "      dA[i - 1] = np.multiply(dH[i - 1], grad(activation, A[i - 1]))\n",
        "  return dW, dB"
      ],
      "execution_count": 8,
      "outputs": []
    },
    {
      "cell_type": "code",
      "metadata": {
        "id": "K-ZjDOpqGe-f"
      },
      "source": [
        "#Vanilla Momentum Gradient Descent\n",
        "\n",
        "def momentum(data,label,activation,epochs,layers,eta,init_type, logger_prefix = \"\"):\n",
        "\n",
        "  gamma = 0.9\n",
        "  W, B = init_params(init_type, layers)\n",
        "  v_W, v_B = init_params(ZEROES, layers)\n",
        "  dW, dB = init_params(ZEROES, layers)\n",
        "  priv_W, priv_B = init_params(ZEROES, layers)\n",
        "  L = len(layers) - 1\n",
        "  counter, ce, se = 0, 0, 0\n",
        "  loss_list = {\"CE\": [], \"SE\": [], \"ACC\":[]}\n",
        "  accuracy = 0\n",
        "  prediction_data = {\"P\":[], \"A\":[]}\n",
        "\n",
        "  for n in range(epochs):\n",
        "    if n > 0:\n",
        "      data, label = shuffle(data, label)\n",
        "    for k in range(len(data)):\n",
        "      H, A, y_hat = forward_propagation(data[k], activation, W, B, layers)\n",
        "      w, b = back_propagation(label[k],y_hat,A,H,W,layers,activation)\n",
        "      for i in range(1, L+1):\n",
        "        dW[i] += w[i]\n",
        "        dB[i] += b[i]\n",
        "\n",
        "      tem = np.argmax(y_hat, axis=0)[0]\n",
        "      prediction_data['P'].append(tem)\n",
        "      prediction_data[\"A\"].append(label[k])\n",
        "      if tem == label[k]:\n",
        "        accuracy += 1\n",
        "      counter += 1\n",
        "    #Calculate and apply Momentum  \n",
        "    for i in range(1, L+1):\n",
        "      v_W[i] = gamma * priv_W[i] + eta * dW[i]\n",
        "      v_B[i] = gamma * priv_B[i] + eta * dB[i]\n",
        "      W[i] -= v_W[i]\n",
        "      B[i] -= v_B[i]\n",
        "    priv_W = v_W\n",
        "    priv_B = v_B\n",
        "    dW, dB = init_params(ZEROES, layers)\n",
        "    ce = cross_entropy_loss(label[k], y_hat)\n",
        "    se = squared_error_loss(label[k], y_hat)\n",
        "    acc = accuracy/counter\n",
        "    loss_list[\"CE\"].append(ce)\n",
        "    loss_list[\"SE\"].append(se)\n",
        "    loss_list[\"ACC\"].append(acc)\n",
        "    # print(\"Accuracy\", acc)\n",
        "    # wandb.log({f\"{logger_prefix} Accuracy\": acc, f\"{logger_prefix} Error\": 1-(accuracy/counter), f\"{logger_prefix} Cross Entropy\": float(ce), f\"{logger_prefix} Epochs\": n})\n",
        "    \n",
        "    print(\"Epoch\", n,\"Accuracy\", accuracy/counter)\n",
        "  return W, B, prediction_data"
      ],
      "execution_count": 9,
      "outputs": []
    },
    {
      "cell_type": "code",
      "metadata": {
        "id": "QB9Bvg2eG0F8"
      },
      "source": [
        "#Nesterov Accelerated Gradient Descent (Minibatch)\n",
        "\n",
        "def nag(data,label,activation,epochs,layers,eta,init_type,batch_size=1, logger_prefix = \"\"):\n",
        "\n",
        "  gamma = 0.9\n",
        "  W, B = init_params(init_type, layers)\n",
        "  v_W, v_B = init_params(ZEROES, layers)\n",
        "  dW, dB = init_params(ZEROES, layers)\n",
        "  priv_W, priv_B = init_params(ZEROES, layers)\n",
        "  L = len(layers) - 1\n",
        "  counter, ce, se = 0, 0, 0\n",
        "  loss_list = {\"CE\": [], \"SE\": [], \"ACC\":[]}\n",
        "  accuracy = 0\n",
        "  prediction_data = {\"P\":[], \"A\":[]}\n",
        "\n",
        "  for n in range(epochs):\n",
        "    if n > 0:\n",
        "      data, label = shuffle(data, label)\n",
        "    for b in range(0, len(data), batch_size):\n",
        "      batch_data = data[b: b + batch_size]\n",
        "      batch_label = label[b: b + batch_size]\n",
        "\n",
        "      #Look Ahead calculation\n",
        "      for i in range(1, L+1):\n",
        "        v_W[i] = gamma * priv_W[i]\n",
        "        v_B[i] = gamma * priv_B[i]\n",
        "        W[i] -= v_W[i]\n",
        "        B[i] -= v_B[i]\n",
        "\n",
        "      for k in range(len(batch_data)):\n",
        "        #Forward\n",
        "        H, A, y_hat = forward_propagation(batch_data[k], activation, W, B, layers)\n",
        "        #Backward\n",
        "        w_g, b_g = back_propagation(batch_label[k],y_hat,A,H,W,layers,activation)\n",
        "        for i in range(1, L+1):\n",
        "          dW[i] += w_g[i]\n",
        "          dB[i] += b_g[i]\n",
        "\n",
        "        #Calc Accuracy\n",
        "        tem = np.argmax(y_hat, axis=0)[0]\n",
        "        prediction_data['P'].append(tem)\n",
        "        prediction_data[\"A\"].append(label[k])\n",
        "        predictions = tem\n",
        "        if tem == batch_label[k]:\n",
        "          accuracy += 1\n",
        "        counter += 1\n",
        "\n",
        "      for i in range(1, L+1):\n",
        "        v_W[i] = gamma * priv_W[i] + eta * dW[i]\n",
        "        v_B[i] = gamma * priv_B[i] + eta * dB[i]\n",
        "        W[i] -= v_W[i]\n",
        "        B[i] -= v_B[i]\n",
        "      priv_W = v_W\n",
        "      priv_B = v_B\n",
        "      dW, dB = init_params(ZEROES, layers)\n",
        "\n",
        "      #Loss calculations\n",
        "      ce = cross_entropy_loss(batch_label[k], y_hat)\n",
        "      se = squared_error_loss(batch_label[k], y_hat)\n",
        "      acc = accuracy/counter\n",
        "      loss_list[\"CE\"].append(ce)\n",
        "      loss_list[\"SE\"].append(se)\n",
        "      loss_list[\"ACC\"].append(acc)\n",
        "\n",
        "      #Log data\n",
        "      # print(\"Accuracy\", acc)\n",
        "      # wandb.log({f\"{logger_prefix} Accuracy\": acc, f\"{logger_prefix} Error\": 1-(accuracy/counter), f\"{logger_prefix} Cross Entropy\": float(ce), f\"{logger_prefix} Epochs\": n})\n",
        "    \n",
        "    print(\"Epoch\", n,\"Accuracy\", accuracy/counter)\n",
        "  return W, B, prediction_data"
      ],
      "execution_count": 10,
      "outputs": []
    },
    {
      "cell_type": "code",
      "metadata": {
        "id": "iABjX1rOHJgs"
      },
      "source": [
        "#Stochastic Gradient (Minibatch)\n",
        "\n",
        "def sgd(data,label,activation,epochs,layers,eta,init_type,batch_size=1, logger_prefix = \"\"):\n",
        "\n",
        "  W, B = init_params(init_type, layers)\n",
        "  dW, dB = init_params(ZEROES, layers)\n",
        "  L = len(layers) - 1\n",
        "  counter, ce, se = 0, 0, 0\n",
        "  loss_list = {\"CE\": [], \"SE\": [], \"ACC\":[]}\n",
        "  accuracy = 0\n",
        "  prediction_data = {\"P\":[], \"A\":[]}\n",
        "\n",
        "  for n in range(epochs):\n",
        "    if n > 0:\n",
        "      data, label = shuffle(data, label)\n",
        "    for k in range(len(data)):\n",
        "      #Forward Prop\n",
        "      H, A, y_hat = forward_propagation(data[k], activation, W, B, layers)\n",
        "      #Back Prop\n",
        "      w, b = back_propagation(label[k],y_hat,A,H,W,layers,activation)\n",
        "      for i in range(1, L+1):\n",
        "        dW[i] += w[i]\n",
        "        dB[i] += b[i]\n",
        "\n",
        "      #Accuracy calc\n",
        "      tem = np.argmax(y_hat, axis=0)[0]\n",
        "      prediction_data['P'].append(tem)\n",
        "      prediction_data[\"A\"].append(label[k])\n",
        "      if tem == label[k]:\n",
        "        accuracy += 1\n",
        "      counter += 1\n",
        "\n",
        "      #Stochastic Mini Batch\n",
        "      if counter % batch_size == 0:\n",
        "        for i in range(1, L+1):\n",
        "          W[i] = eta * dW[i]\n",
        "          B[i] = eta * dB[i]\n",
        "        dW, dB = init_params(ZEROES, layers)\n",
        "\n",
        "        #Error Calculation\n",
        "        ce = cross_entropy_loss(label[k], y_hat)\n",
        "        se = squared_error_loss(label[k], y_hat)\n",
        "        acc = accuracy/counter\n",
        "        loss_list[\"CE\"].append(ce)\n",
        "        loss_list[\"SE\"].append(se)\n",
        "        loss_list[\"ACC\"].append(acc)\n",
        "\n",
        "        #Log Data\n",
        "        # print(\"Accuracy\", acc)\n",
        "        # wandb.log({f\"{logger_prefix} Accuracy\": acc, f\"{logger_prefix} Error\": 1-(accuracy/counter), f\"{logger_prefix} Cross Entropy\": float(ce), f\"{logger_prefix} Epochs\": n})\n",
        "    \n",
        "    print(\"Epoch\", n,\"Accuracy\", accuracy/counter)\n",
        "  return W, B, prediction_data"
      ],
      "execution_count": 11,
      "outputs": []
    },
    {
      "cell_type": "code",
      "metadata": {
        "id": "L5adfhykHQmi"
      },
      "source": [
        "#Stochastic Minibatch Momentum Gradient Descent\n",
        "\n",
        "def stochastic_momentum(data,label,activation,epochs,layers,eta,init_type,batch_size=1, logger_prefix = \"\"):\n",
        "\n",
        "  gamma = 0.9\n",
        "  W, B = init_params(init_type, layers)\n",
        "  v_W, v_B = init_params(ZEROES, layers)\n",
        "  dW, dB = init_params(ZEROES, layers)\n",
        "  priv_W, priv_B = init_params(ZEROES, layers)\n",
        "  L = len(layers) - 1\n",
        "  counter, ce, se = 0, 0, 0\n",
        "  loss_list = {\"CE\": [], \"SE\": [], \"ACC\":[]}\n",
        "  accuracy = 0\n",
        "  prediction_data = {\"P\":[], \"A\":[]}\n",
        "\n",
        "  for n in range(epochs):\n",
        "    if n > 0:\n",
        "      data, label = shuffle(data, label)\n",
        "    for k in range(len(data)):\n",
        "      H, A, y_hat = forward_propagation(data[k], activation, W, B, layers)\n",
        "      w, b = back_propagation(label[k],y_hat,A,H,W,layers,activation)\n",
        "      for i in range(1, L+1):\n",
        "        dW[i] += w[i]\n",
        "        dB[i] += b[i]\n",
        "\n",
        "      tem = np.argmax(y_hat, axis=0)[0]\n",
        "      prediction_data['P'].append(tem)\n",
        "      prediction_data[\"A\"].append(label[k])\n",
        "      if tem == label[k]:\n",
        "        accuracy += 1\n",
        "      counter += 1\n",
        "\n",
        "      if counter % batch_size == 0:\n",
        "        for i in range(1, L+1):\n",
        "          v_W[i] = gamma * priv_W[i] + eta * dW[i]\n",
        "          v_B[i] = gamma * priv_B[i] + eta * dB[i]\n",
        "          W[i] -= v_W[i]\n",
        "          B[i] -= v_B[i]\n",
        "        priv_W = v_W\n",
        "        priv_B = v_B\n",
        "        dW, dB = init_params(ZEROES, layers)\n",
        "        ce = cross_entropy_loss(label[k], y_hat)\n",
        "        se = squared_error_loss(label[k], y_hat)\n",
        "        acc = accuracy/counter\n",
        "        loss_list[\"CE\"].append(ce)\n",
        "        loss_list[\"SE\"].append(se)\n",
        "        loss_list[\"ACC\"].append(acc)\n",
        "        # print(\"Accuracy\", acc)\n",
        "        # wandb.log({f\"{logger_prefix} Accuracy\": acc, f\"{logger_prefix} Error\": 1-(accuracy/counter), f\"{logger_prefix} Cross Entropy\": float(ce), f\"{logger_prefix} Epochs\": n})\n",
        "    \n",
        "    print(\"Epoch\", n,\"Accuracy\", accuracy/counter)\n",
        "  return W, B, prediction_data"
      ],
      "execution_count": 12,
      "outputs": []
    },
    {
      "cell_type": "code",
      "metadata": {
        "id": "TmxQmdp5Hdiu"
      },
      "source": [
        "# RMSProp\n",
        "\n",
        "def rmsprop(data, label, activation, epochs, layers, eta, init_type, batch_size=1, logger_prefix = \"\"):\n",
        "\n",
        "    beta = 0.9\n",
        "    epsilon = 1e-8\n",
        "    W, B = init_params(init_type, layers)\n",
        "    v_W, v_B = init_params(ZEROES, layers)\n",
        "    dW, dB = init_params(ZEROES, layers)\n",
        "    L = len(layers) - 1\n",
        "    counter, ce, se = 0, 0, 0\n",
        "    loss_list = {\"CE\": [], \"SE\": [], \"ACC\": []}\n",
        "    accuracy = 0\n",
        "    prediction_data = {\"P\":[], \"A\":[]}\n",
        "\n",
        "    for n in range(epochs):\n",
        "\n",
        "        if n > 0:\n",
        "          data, label = shuffle(data, label)\n",
        "\n",
        "        for b in range(0, len(data), batch_size):\n",
        "            batch_data = data[b: b + batch_size]\n",
        "            batch_label = label[b: b + batch_size]\n",
        "\n",
        "            for k in range(len(batch_data)):\n",
        "                # Forward\n",
        "                H, A, y_hat = forward_propagation(batch_data[k], activation, W, B, layers)\n",
        "                # Backward\n",
        "                w_g, b_g = back_propagation(batch_label[k], y_hat, A, H, W, layers, activation)\n",
        "                for i in range(1, L + 1):\n",
        "                    dW[i] += w_g[i]\n",
        "                    dB[i] += b_g[i]\n",
        "\n",
        "                # Calc Accuracy\n",
        "                tem = np.argmax(y_hat, axis=0)[0]\n",
        "                prediction_data['P'].append(tem)\n",
        "                prediction_data[\"A\"].append(label[k])\n",
        "                if tem == batch_label[k]:\n",
        "                    accuracy += 1\n",
        "                counter += 1\n",
        "\n",
        "            for i in range(1, L + 1):\n",
        "                v_W[i] = beta * v_W[i] + (1-beta) * (dW[i] ** 2) + epsilon\n",
        "                v_B[i] = beta * v_B[i] + (1-beta) * (dB[i] ** 2) + epsilon\n",
        "                for vect in v_W[i]:\n",
        "                  vect[vect < 0] = 1e-10\n",
        "                v_B[i][v_B[i] < 0] = 1e-10\n",
        "                W[i] -= (eta / np.sqrt(v_W[i])) * dW[i]\n",
        "                B[i] -= (eta / np.sqrt(v_B[i])) * dB[i]\n",
        "            dW, dB = init_params(ZEROES, layers)\n",
        "\n",
        "            # Loss calculations\n",
        "            ce = cross_entropy_loss(batch_label[k], y_hat)\n",
        "            se = squared_error_loss(batch_label[k], y_hat)\n",
        "            acc = accuracy / counter\n",
        "            loss_list[\"CE\"].append(ce)\n",
        "            loss_list[\"SE\"].append(se)\n",
        "            loss_list[\"ACC\"].append(acc)\n",
        "\n",
        "            # Log data\n",
        "            # print(\"Accuracy\", acc)\n",
        "            # wandb.log({f\"{logger_prefix} Accuracy\": acc, f\"{logger_prefix} Error\": 1-(accuracy/counter), f\"{logger_prefix} Cross Entropy\": float(ce), f\"{logger_prefix} Epochs\": n})\n",
        "\n",
        "        print(\"Epoch\", n, \"Accuracy\", accuracy / counter)\n",
        "    return W, B, prediction_data"
      ],
      "execution_count": 13,
      "outputs": []
    },
    {
      "cell_type": "code",
      "metadata": {
        "id": "r3Yp_Q8CHkBN"
      },
      "source": [
        "# AdaGrad\n",
        "\n",
        "def adagrad(data, label, activation, epochs, layers, eta, init_type, batch_size=1, logger_prefix = \"\"):\n",
        "\n",
        "    beta = 0.9\n",
        "    epsilon = 1e-8\n",
        "    W, B = init_params(init_type, layers)\n",
        "    v_W, v_B = init_params(ZEROES, layers)\n",
        "    dW, dB = init_params(ZEROES, layers)\n",
        "    L = len(layers) - 1\n",
        "    counter, ce, se = 0, 0, 0\n",
        "    loss_list = {\"CE\": [], \"SE\": [], \"ACC\": []}\n",
        "    accuracy = 0\n",
        "    prediction_data = {\"P\":[], \"A\":[]}\n",
        "\n",
        "    for n in range(epochs):\n",
        "        if n > 0:\n",
        "          data, label = shuffle(data, label)\n",
        "        for b in range(0, len(data), batch_size):\n",
        "            batch_data = data[b: b + batch_size]\n",
        "            batch_label = label[b: b + batch_size]\n",
        "\n",
        "            for k in range(len(batch_data)):\n",
        "                # Forward\n",
        "                H, A, y_hat = forward_propagation(batch_data[k], activation, W, B, layers)\n",
        "                # Backward\n",
        "                w_g, b_g = back_propagation(batch_label[k], y_hat, A, H, W, layers, activation)\n",
        "                for i in range(1, L + 1):\n",
        "                    dW[i] += w_g[i]\n",
        "                    dB[i] += b_g[i]\n",
        "\n",
        "                # Calc Accuracy\n",
        "                tem = np.argmax(y_hat, axis=0)[0]\n",
        "                prediction_data['P'].append(tem)\n",
        "                prediction_data[\"A\"].append(label[k])\n",
        "                if tem == batch_label[k]:\n",
        "                    accuracy += 1\n",
        "                counter += 1\n",
        "\n",
        "            for i in range(1, L + 1):\n",
        "                v_W[i] += (dW[i] ** 2) + epsilon\n",
        "                v_B[i] += (dB[i] ** 2) + epsilon\n",
        "                for vect in v_W[i]:\n",
        "                  vect[vect < 0] = 1e-10                      #To prevent division by zero and avoid nan error\n",
        "                v_B[i][v_B[i] < 0] = 1e-10                    #To prevent division by zero and avoid nan error\n",
        "                W[i] -= (eta / np.sqrt(v_W[i])) * dW[i]\n",
        "                B[i] -= (eta / np.sqrt(v_B[i])) * dB[i]\n",
        "            dW, dB = init_params(ZEROES, layers)\n",
        "\n",
        "            # Loss calculations\n",
        "            ce = cross_entropy_loss(batch_label[k], y_hat)\n",
        "            se = squared_error_loss(batch_label[k], y_hat)\n",
        "            acc = accuracy / counter\n",
        "            loss_list[\"CE\"].append(ce)\n",
        "            loss_list[\"SE\"].append(se)\n",
        "            loss_list[\"ACC\"].append(acc)\n",
        "\n",
        "            # Log data\n",
        "            # print(\"Accuracy\", acc)\n",
        "            # wandb.log({f\"{logger_prefix} Accuracy\": acc, f\"{logger_prefix} Error\": 1-(accuracy/counter), f\"{logger_prefix} Cross Entropy\": float(ce), f\"{logger_prefix} Epochs\": n})\n",
        "\n",
        "        print(\"Epoch\", n, \"Accuracy\", accuracy / counter)\n",
        "    return W, B, prediction_data"
      ],
      "execution_count": 14,
      "outputs": []
    },
    {
      "cell_type": "code",
      "metadata": {
        "id": "8hdfwm9iHom_"
      },
      "source": [
        "# Adam\n",
        "\n",
        "def adam(data, label, activation, epochs, layers, eta, init_type, batch_size=1, logger_prefix = \"\"):\n",
        "\n",
        "    beta1, beta2 = 0.9, 0.999\n",
        "    epsilon = 1e-8\n",
        "    W, B = init_params(init_type, layers)\n",
        "    v_W, v_B = init_params(ZEROES, layers)\n",
        "    m_W, m_B = init_params(ZEROES, layers)\n",
        "    \n",
        "    L = len(layers) - 1\n",
        "    counter, ce, se = 0, 0, 0\n",
        "    loss_list = {\"CE\": [], \"SE\": [], \"ACC\": []}\n",
        "    accuracy = 0\n",
        "    prediction_data = {\"P\":[], \"A\":[]}\n",
        "\n",
        "    for n in range(epochs):\n",
        "\n",
        "        if n > 0:\n",
        "          data, label = shuffle(data, label)\n",
        "\n",
        "        for b in range(0, len(data), batch_size):\n",
        "            batch_data = data[b: b + batch_size]\n",
        "            batch_label = label[b: b + batch_size]\n",
        "\n",
        "            dW, dB = init_params(ZEROES, layers)\n",
        "\n",
        "            for k in range(len(batch_data)):\n",
        "                # Forward\n",
        "                H, A, y_hat = forward_propagation(batch_data[k], activation, W, B, layers)\n",
        "                # Backward\n",
        "                w_g, b_g = back_propagation(batch_label[k], y_hat, A, H, W, layers, activation)\n",
        "                for i in range(1, L + 1):\n",
        "                    dW[i] += w_g[i]\n",
        "                    dB[i] += b_g[i]\n",
        "\n",
        "                # Calc Accuracy\n",
        "                tem = np.argmax(y_hat, axis=0)[0]\n",
        "                prediction_data['P'].append(tem)\n",
        "                prediction_data[\"A\"].append(label[k])\n",
        "                if tem == batch_label[k]:\n",
        "                    accuracy += 1\n",
        "                counter += 1\n",
        "\n",
        "            for i in range(1, L + 1):\n",
        "                m_W[i] = beta1 * m_W[i] + (1-beta1) * dW[i]           #Moving Average of gradient (Cumulative history)\n",
        "                m_B[i] = beta1 * m_B[i] + (1-beta1) * dB[i]\n",
        "                v_W[i] = beta2 * v_W[i] + (1-beta2) * (dW[i] ** 2)    #Take care of learning Rate\n",
        "                v_B[i] = beta2 * v_B[i] + (1-beta2) * (dB[i] ** 2)\n",
        "\n",
        "                m_hat_W = m_W[i] / (1 - beta1)\n",
        "                m_hat_B = m_B[i] / (1 - beta1)\n",
        "\n",
        "                v_hat_W = v_W[i] / (1 - beta2)\n",
        "                v_hat_B = v_B[i] / (1 - beta2)\n",
        "\n",
        "                #make -ve values of v_hat_t = 0 for sqrt\n",
        "                for vect in v_hat_W:\n",
        "                  vect[vect < 0] = 0\n",
        "                v_hat_B[v_hat_B < 0] = 0\n",
        "\n",
        "                #Update parameters\n",
        "                W[i] -= (eta / np.sqrt(v_hat_W + epsilon)) * m_hat_W\n",
        "                B[i] -= (eta / np.sqrt(v_hat_B + epsilon)) * m_hat_B\n",
        "\n",
        "            # Loss calculations\n",
        "            ce = cross_entropy_loss(batch_label[k], y_hat)\n",
        "            se = squared_error_loss(batch_label[k], y_hat)\n",
        "            acc = accuracy / counter\n",
        "            loss_list[\"CE\"].append(ce)\n",
        "            loss_list[\"SE\"].append(se)\n",
        "            loss_list[\"ACC\"].append(acc)\n",
        "\n",
        "            # Log data\n",
        "            # print(\"Accuracy\", acc)\n",
        "            # wandb.log({f\"{logger_prefix} Accuracy\": acc, f\"{logger_prefix} Error\": 1-(accuracy/counter), f\"{logger_prefix} Cross Entropy\": float(ce), f\"{logger_prefix} Epochs\": n})\n",
        "\n",
        "        print(\"Epoch\", n, \"Accuracy\", accuracy / counter)\n",
        "    return W, B, prediction_data"
      ],
      "execution_count": 15,
      "outputs": []
    },
    {
      "cell_type": "code",
      "metadata": {
        "id": "YS82n1DYHxcy"
      },
      "source": [
        "# NaAdam\n",
        "\n",
        "def nadam(data, label, activation, epochs, layers, eta, init_type, batch_size=1, logger_prefix = \"\"):\n",
        "\n",
        "    beta1, beta2 = 0.9, 0.999\n",
        "    gamma = 0.9\n",
        "    epsilon = 1e-8\n",
        "    W, B = init_params(init_type, layers)\n",
        "    v_W, v_B = init_params(ZEROES, layers)\n",
        "    m_W, m_B = init_params(ZEROES, layers)\n",
        "    priv_W, priv_B = init_params(ZEROES, layers)\n",
        "    L = len(layers) - 1\n",
        "    counter, ce, se = 0, 0, 0\n",
        "    loss_list = {\"CE\": [], \"SE\": [], \"ACC\": []}\n",
        "    accuracy = 0\n",
        "    prediction_data = {\"P\":[], \"A\":[]}\n",
        "\n",
        "    for n in range(epochs):\n",
        "\n",
        "        if n > 0:\n",
        "          data, label = shuffle(data, label)\n",
        "\n",
        "        for b in range(0, len(data), batch_size):\n",
        "            batch_data = data[b: b + batch_size]\n",
        "            batch_label = label[b: b + batch_size]\n",
        "\n",
        "            dW, dB = init_params(ZEROES, layers)\n",
        "\n",
        "            for k in range(len(batch_data)):\n",
        "                # Forward\n",
        "                H, A, y_hat = forward_propagation(batch_data[k], activation, W, B, layers)\n",
        "                # Backward\n",
        "                w_g, b_g = back_propagation(batch_label[k], y_hat, A, H, W, layers, activation)\n",
        "                for i in range(1, L + 1):\n",
        "                    dW[i] += w_g[i]\n",
        "                    dB[i] += b_g[i]\n",
        "\n",
        "                # Calc Accuracy\n",
        "                tem = np.argmax(y_hat, axis=0)[0]\n",
        "                prediction_data['P'].append(tem)\n",
        "                prediction_data[\"A\"].append(label[k])\n",
        "                if tem == batch_label[k]:\n",
        "                    accuracy += 1\n",
        "                counter += 1\n",
        "\n",
        "            for i in range(1, L + 1):\n",
        "\n",
        "                m_W[i] = beta1 * priv_W[i] + (1-beta1) * dW[i]           #Moving Average of gradient (Cumulative history)\n",
        "                m_B[i] = beta1 * priv_B[i] + (1-beta1) * dB[i]\n",
        "                v_W[i] = beta2 * v_W[i] + (1-beta2) * (dW[i] ** 2)    #Take care of learning Rate\n",
        "                v_B[i] = beta2 * v_B[i] + (1-beta2) * (dB[i] ** 2)\n",
        "\n",
        "                m_hat_W = m_W[i] / (1 - beta1)\n",
        "                m_hat_B = m_B[i] / (1 - beta1)\n",
        "\n",
        "                v_hat_W = v_W[i] / (1 - beta2)\n",
        "                v_hat_B = v_B[i] / (1 - beta2)\n",
        "\n",
        "                #make -ve values of v_hat_t = 0 for sqrt\n",
        "                for vect in v_hat_W:\n",
        "                  vect[vect < 0] = 0\n",
        "                v_hat_B[v_hat_B < 0] = 0\n",
        "\n",
        "                #Update parameters\n",
        "                W[i] -= (eta / np.sqrt(v_hat_W + epsilon)) * m_hat_W\n",
        "                B[i] -= (eta / np.sqrt(v_hat_B + epsilon)) * m_hat_B\n",
        "\n",
        "                priv_W[i] = m_W[i]\n",
        "                priv_B[i] = m_B[i]\n",
        "\n",
        "            # Loss calculations\n",
        "            ce = cross_entropy_loss(batch_label[k], y_hat)\n",
        "            se = squared_error_loss(batch_label[k], y_hat)\n",
        "            acc = accuracy / counter\n",
        "            loss_list[\"CE\"].append(ce)\n",
        "            loss_list[\"SE\"].append(se)\n",
        "            loss_list[\"ACC\"].append(acc)\n",
        "\n",
        "            # Log data\n",
        "            # print(\"Accuracy\", acc)\n",
        "            # wandb.log({f\"{logger_prefix} Accuracy\": acc, f\"{logger_prefix} Error\": 1-(accuracy/counter), f\"{logger_prefix} Cross Entropy\": float(ce), f\"{logger_prefix} Epochs\": n})\n",
        "\n",
        "        print(\"Epoch\", n, \"Accuracy\", accuracy / counter)\n",
        "    return W, B, prediction_data"
      ],
      "execution_count": 16,
      "outputs": []
    },
    {
      "cell_type": "code",
      "metadata": {
        "id": "gjr5o1GeH1ZC"
      },
      "source": [
        "SGD = \"stochastic gradient descent\"\n",
        "VMGD = \"vanilla momentum based gradient descent\"\n",
        "NAG = \"nesterov accelerated gradient descent\"\n",
        "SMGD = \"stochastic momentum based gradient descent\"\n",
        "RMSPROP = \"RMSProp\"\n",
        "ADAGRAD = \"adaptive gradient descent\"\n",
        "ADAM = \"adaptive moment estimation\"\n",
        "NADAM = \"nesterov accelerated adaptive moment estimation\""
      ],
      "execution_count": 17,
      "outputs": []
    },
    {
      "cell_type": "code",
      "metadata": {
        "id": "uJR0xHVuH9R0"
      },
      "source": [
        "sweep_config = {\n",
        "    'method': 'random',\n",
        "    'metric': {\n",
        "      'name': 'accuracy',\n",
        "      'goal': 'maximize'   \n",
        "    },\n",
        "    'parameters': {\n",
        "        \"epochs\": {\n",
        "            'values': [3, 5, 10]\n",
        "        },\n",
        "        \"layers\": {\n",
        "            'values': [[784, 80, 48, 16, 10], [784, 128, 64, 10]]\n",
        "        },\n",
        "        \"learning_rate\" : {\n",
        "            'values': [1e-3, 1e-4]\n",
        "        },\n",
        "        \"optimizer\": {\n",
        "            'values': [SGD, NAG, SMGD, RMSPROP, ADAM, NADAM]\n",
        "        },\n",
        "        \"batch_size\": {\n",
        "            'values': [16,32,64]\n",
        "        },\n",
        "        \"initialisation\": {\n",
        "            'values': [RANDOM, XAVIER]\n",
        "        },\n",
        "        \"activation\": {\n",
        "            'values': [SIGMOID, TAN_H, RELU]\n",
        "        }\n",
        "    }\n",
        "}"
      ],
      "execution_count": 18,
      "outputs": []
    },
    {
      "cell_type": "code",
      "metadata": {
        "id": "CVVE-PhoICxN"
      },
      "source": [
        "def train_n_test():\n",
        "  \n",
        "  default_config = {\n",
        "        \"epochs\": 3,\n",
        "        \"layers\": [784, 128, 64, 10],\n",
        "        \"learning_rate\" : 1e-4,\n",
        "        \"optimizer\": ADAM,\n",
        "        \"batch_size\": 32,\n",
        "        \"initialisation\": XAVIER,\n",
        "        \"activation\": RELU\n",
        "    }\n",
        "\n",
        "  wandb.init(config = default_config, project='Assignment 1', entity='iitm-cs6910-jan-may-2021-cs20m059-cs20m007')\n",
        "  config = wandb.config \n",
        "\n",
        "  prefix = \"Training\"\n",
        "  #Training\n",
        "  if config.optimizer == SGD:\n",
        "    W, B, _ = sgd(train_x, train_y, config.activation, config.epochs, config.layers, config.learning_rate, config.initialisation, config.batch_size, prefix)\n",
        "  elif config.optimizer == NAG:\n",
        "    W, B, _ = nag(train_x, train_y, config.activation, config.epochs, config.layers, config.learning_rate, config.initialisation, config.batch_size, prefix)\n",
        "  elif config.optimizer == SMGD:\n",
        "    W, B, _ = stochastic_momentum(train_x, train_y, config.activation, config.epochs, config.layers, config.learning_rate, config.initialisation, config.batch_size, prefix)\n",
        "  elif config.optimizer == RMSPROP:\n",
        "    W, B, _ = rmsprop(train_x, train_y, config.activation, config.epochs, config.layers, config.learning_rate, config.initialisation, config.batch_size, prefix)\n",
        "  elif config.optimizer == ADAM:\n",
        "    W, B, _ = adam(train_x, train_y, config.activation, config.epochs, config.layers, config.learning_rate, config.initialisation, config.batch_size, prefix)\n",
        "  else:\n",
        "    W, B, _ = nadam(train_x, train_y, config.activation, config.epochs, config.layers, config.learning_rate, config.initialisation, config.batch_size, prefix)\n",
        "\n",
        "\n",
        "  #Validation\n",
        "  val_error_list = []\n",
        "  validation_accuracy = 0\n",
        "  for i in range(len(val_y)):\n",
        "    H, A, y_hat = forward_propagation(test_x[i], config.activation, W, B, config.layers)\n",
        "    error_val = cross_entropy_loss(val_y[i], y_hat)\n",
        "    val_error_list.append(error_val)\n",
        "    y = y_hat.copy()\n",
        "    y = np.reshape(y, 10)\n",
        "    pred = np.argmax(y, axis=0)\n",
        "    if pred == val_y[i]:\n",
        "      validation_accuracy += 1\n",
        "    log_acc_val = float(validation_accuracy/(i+1))\n",
        "    log_error_val = float(np.average(val_error_list))\n",
        "    wandb.log({\"accuracy_val\" : log_acc_val, \"loss_val\": log_error_val})\n",
        "\n",
        "  #Testing\n",
        "  prediction_list = []\n",
        "  error_list = []\n",
        "  accuracy = 0\n",
        "  for i in range(len(test_y)):\n",
        "    H, A, y_hat = forward_propagation(test_x[i], config.activation, W, B, config.layers)\n",
        "    error_val = cross_entropy_loss(test_y[i], y_hat)\n",
        "    error_list.append(error_val)\n",
        "    y = y_hat.copy()\n",
        "    y = np.reshape(y, 10)\n",
        "    pred = np.argmax(y, axis=0)\n",
        "    prediction_list.append(pred)\n",
        "    if pred == test_y[i]:\n",
        "      accuracy += 1\n",
        "    log_acc_val = float(accuracy/(i+1))\n",
        "    log_error_val = float(np.average(error_list))\n",
        "    wandb.log({\"accuracy\" : log_acc_val, \"loss\": log_error_val})\n",
        "\n",
        "  wandb.log({f\"{prefix} Confusion Matrix\" : wandb.plot.confusion_matrix(probs=None, y_true=prediction_list, preds=test_y, class_names=classes)})\n",
        "\n",
        "  print(\"Done!\")"
      ],
      "execution_count": 19,
      "outputs": []
    },
    {
      "cell_type": "code",
      "metadata": {
        "colab": {
          "base_uri": "https://localhost:8080/"
        },
        "id": "jr4JthxrIVda",
        "outputId": "7f57b0ad-4659-492b-e7ca-e5ff41d3ead9"
      },
      "source": [
        "sweep_id = wandb.sweep(sweep_config, project='Assignment 1', entity='iitm-cs6910-jan-may-2021-cs20m059-cs20m007')"
      ],
      "execution_count": 20,
      "outputs": [
        {
          "output_type": "stream",
          "text": [
            "\u001b[34m\u001b[1mwandb\u001b[0m: \u001b[33mWARNING\u001b[0m Calling wandb.login() after wandb.init() has no effect.\n"
          ],
          "name": "stderr"
        },
        {
          "output_type": "stream",
          "text": [
            "Create sweep with ID: f5ho0lqj\n",
            "Sweep URL: https://wandb.ai/iitm-cs6910-jan-may-2021-cs20m059-cs20m007/Assignment%201/sweeps/f5ho0lqj\n"
          ],
          "name": "stdout"
        }
      ]
    },
    {
      "cell_type": "code",
      "metadata": {
        "colab": {
          "base_uri": "https://localhost:8080/",
          "height": 1000,
          "referenced_widgets": [
            "2ac458579ce84926a889b43145c20245",
            "477e294a3cfa4a25ae81211a600704af",
            "42df36a19e8146e6b5c6ceadb61d1ca0",
            "c05b955ed90147eb929eda66ca0492ad",
            "00625dfe8f494e0186176ab2ead912f3",
            "52f48abf86034d2bad6f51ba4252cf92",
            "ff86f2d0e2314b69915b6e7d6f2566fb",
            "7a8fa459255f4f67837d0ac709586fee",
            "6d0f065d987141be9c60d586f42aa9db",
            "a6abcdcaacde43a59f5db980a852dff0",
            "9e52a2d5f84d4ea29bbbc491578435cc",
            "d3c37ab664f646bcaaf78113281cf05d",
            "1f16e26a0c4f4f678a1b93dfcbf0ef61",
            "b749f03b18ba448eaf66ca91e9f0509f",
            "08dea305087d48e8aa17117f30dd58f5",
            "0b97ea62314548fab17ee6b58e0eae28",
            "1d438b71aecc4751be68746a9f09d443",
            "2272c079526b475e81ddb08b44fb1922",
            "2709c303dee343178405110fb3047f2e",
            "23d7e0478d3f4668aeac379cbb98158a",
            "edb045d37e884c959602a187376d9b16",
            "624cf1f7a6ed4a17b976a71eaf2804be",
            "e14bb395281444899bdf8a115779abb9",
            "ce0c9fa2b6e74d10b014c3de85c05493",
            "37e4d0d125444d1eac0e99a9c66f3202",
            "5956e7e254454c4f90f7bd815c141d20",
            "c4a9ac817ee240cea8e01287f8fa8510",
            "0bcc91a4f6994291b8cec70762003648",
            "c53e91f1fe9f479ea5cb0cbded123285",
            "a0fc0288ae7345e59af7bbee6ef772d5",
            "dbe8d885438e4a2db75850699219f30c",
            "812388dbd74d454e8b5ec79b2a2ebfde",
            "7c78427f47334d94abca644baaf5b459",
            "2bf20ef278dd430093714218492d4d6e",
            "97f86cfbc5dc4f60a3f16a9f02daa095",
            "99a5367efed14f8c88e840ff2db4e7f4",
            "e9e32e97a2ae46a3ae50aaa1dc5defb8",
            "6f1a4f647e814819bc7327d0c5c4afb7",
            "ae307ff971ab4f7f886731ac46882b2a",
            "046263ad20c14d6d81b5732bdbd9da2e"
          ]
        },
        "id": "Gd21SjGNJQ-p",
        "outputId": "964fe396-bd4e-4296-8127-e1ede8541676"
      },
      "source": [
        "wandb.agent(sweep_id, train_n_test, project='Assignment 1', entity='iitm-cs6910-jan-may-2021-cs20m059-cs20m007')"
      ],
      "execution_count": null,
      "outputs": [
        {
          "output_type": "stream",
          "text": [
            "\u001b[34m\u001b[1mwandb\u001b[0m: \u001b[33mWARNING\u001b[0m Calling wandb.login() after wandb.init() has no effect.\n",
            "\u001b[34m\u001b[1mwandb\u001b[0m: Agent Starting Run: wosqsofv with config:\n",
            "\u001b[34m\u001b[1mwandb\u001b[0m: \tactivation: relu\n",
            "\u001b[34m\u001b[1mwandb\u001b[0m: \tbatch_size: 16\n",
            "\u001b[34m\u001b[1mwandb\u001b[0m: \tepochs: 3\n",
            "\u001b[34m\u001b[1mwandb\u001b[0m: \tinitialisation: random\n",
            "\u001b[34m\u001b[1mwandb\u001b[0m: \tlayers: [784, 128, 64, 10]\n",
            "\u001b[34m\u001b[1mwandb\u001b[0m: \tlearning_rate: 0.0001\n",
            "\u001b[34m\u001b[1mwandb\u001b[0m: \toptimizer: adaptive moment estimation\n",
            "\u001b[34m\u001b[1mwandb\u001b[0m: \u001b[33mWARNING\u001b[0m Ignored wandb.init() arg project when running a sweep\n",
            "\u001b[34m\u001b[1mwandb\u001b[0m: \u001b[33mWARNING\u001b[0m Ignored wandb.init() arg entity when running a sweep\n"
          ],
          "name": "stderr"
        },
        {
          "output_type": "display_data",
          "data": {
            "text/html": [
              "\n",
              "                Tracking run with wandb version 0.10.23<br/>\n",
              "                Syncing run <strong style=\"color:#cdcd00\">atomic-sweep-1</strong> to <a href=\"https://wandb.ai\" target=\"_blank\">Weights & Biases</a> <a href=\"https://docs.wandb.com/integrations/jupyter.html\" target=\"_blank\">(Documentation)</a>.<br/>\n",
              "                Project page: <a href=\"https://wandb.ai/iitm-cs6910-jan-may-2021-cs20m059-cs20m007/Assignment%201\" target=\"_blank\">https://wandb.ai/iitm-cs6910-jan-may-2021-cs20m059-cs20m007/Assignment%201</a><br/>\n",
              "                Sweep page: <a href=\"https://wandb.ai/iitm-cs6910-jan-may-2021-cs20m059-cs20m007/Assignment%201/sweeps/f5ho0lqj\" target=\"_blank\">https://wandb.ai/iitm-cs6910-jan-may-2021-cs20m059-cs20m007/Assignment%201/sweeps/f5ho0lqj</a><br/>\n",
              "Run page: <a href=\"https://wandb.ai/iitm-cs6910-jan-may-2021-cs20m059-cs20m007/Assignment%201/runs/wosqsofv\" target=\"_blank\">https://wandb.ai/iitm-cs6910-jan-may-2021-cs20m059-cs20m007/Assignment%201/runs/wosqsofv</a><br/>\n",
              "                Run data is saved locally in <code>/content/wandb/run-20210326_191331-wosqsofv</code><br/><br/>\n",
              "            "
            ],
            "text/plain": [
              "<IPython.core.display.HTML object>"
            ]
          },
          "metadata": {
            "tags": []
          }
        },
        {
          "output_type": "stream",
          "text": [
            "Epoch 0 Accuracy 0.343\n",
            "Epoch 1 Accuracy 0.3837037037037037\n",
            "Epoch 2 Accuracy 0.3954567901234568\n",
            "Done!\n"
          ],
          "name": "stdout"
        },
        {
          "output_type": "display_data",
          "data": {
            "text/html": [
              "<br/>Waiting for W&B process to finish, PID 2125<br/>Program ended successfully."
            ],
            "text/plain": [
              "<IPython.core.display.HTML object>"
            ]
          },
          "metadata": {
            "tags": []
          }
        },
        {
          "output_type": "display_data",
          "data": {
            "application/vnd.jupyter.widget-view+json": {
              "model_id": "2ac458579ce84926a889b43145c20245",
              "version_minor": 0,
              "version_major": 2
            },
            "text/plain": [
              "VBox(children=(Label(value=' 0.00MB of 0.00MB uploaded (0.00MB deduped)\\r'), FloatProgress(value=0.16347777152…"
            ]
          },
          "metadata": {
            "tags": []
          }
        },
        {
          "output_type": "display_data",
          "data": {
            "text/html": [
              "Find user logs for this run at: <code>/content/wandb/run-20210326_191331-wosqsofv/logs/debug.log</code>"
            ],
            "text/plain": [
              "<IPython.core.display.HTML object>"
            ]
          },
          "metadata": {
            "tags": []
          }
        },
        {
          "output_type": "display_data",
          "data": {
            "text/html": [
              "Find internal logs for this run at: <code>/content/wandb/run-20210326_191331-wosqsofv/logs/debug-internal.log</code>"
            ],
            "text/plain": [
              "<IPython.core.display.HTML object>"
            ]
          },
          "metadata": {
            "tags": []
          }
        },
        {
          "output_type": "display_data",
          "data": {
            "text/html": [
              "<h3>Run summary:</h3><br/><style>\n",
              "    table.wandb td:nth-child(1) { padding: 0 10px; text-align: right }\n",
              "    </style><table class=\"wandb\">\n",
              "<tr><td>accuracy_val</td><td>0.09883</td></tr><tr><td>loss_val</td><td>2.71477</td></tr><tr><td>_runtime</td><td>1119</td></tr><tr><td>_timestamp</td><td>1616787130</td></tr><tr><td>_step</td><td>16000</td></tr><tr><td>accuracy</td><td>0.4395</td></tr><tr><td>loss</td><td>1.66485</td></tr></table>"
            ],
            "text/plain": [
              "<IPython.core.display.HTML object>"
            ]
          },
          "metadata": {
            "tags": []
          }
        },
        {
          "output_type": "display_data",
          "data": {
            "text/html": [
              "<h3>Run history:</h3><br/><style>\n",
              "    table.wandb td:nth-child(1) { padding: 0 10px; text-align: right }\n",
              "    </style><table class=\"wandb\">\n",
              "<tr><td>accuracy_val</td><td>▁▅▆▇█▇████▇▇▇▇▇▇▇▇▇▇▇▇▇▇▇▇▇▇▇▇▇▇▇▇▇▇▇▇▇▇</td></tr><tr><td>loss_val</td><td>█▄▃▂▁▁▁▁▂▁▂▂▂▂▂▂▂▂▂▂▂▂▂▂▂▂▂▂▂▂▂▂▂▂▂▂▂▂▂▂</td></tr><tr><td>_runtime</td><td>▁▁▁▁▁▂▂▂▂▂▂▃▃▃▃▃▄▄▄▄▄▄▄▅▅▅▅▅▆▆▆▆▆▇▇▇▇███</td></tr><tr><td>_timestamp</td><td>▁▁▁▁▁▂▂▂▂▂▂▃▃▃▃▃▄▄▄▄▄▄▄▅▅▅▅▅▆▆▆▆▆▇▇▇▇███</td></tr><tr><td>_step</td><td>▁▁▁▂▂▂▂▂▂▃▃▃▃▃▄▄▄▄▄▄▅▅▅▅▅▅▆▆▆▆▆▇▇▇▇▇▇███</td></tr><tr><td>accuracy</td><td>▃█▃▁▃▂▂▂▃▃▃▃▄▄▄▄▄▄▅▄▄▄▄▄▄▄▄▄▅▄▅▄▄▄▅▅▅▅▅▅</td></tr><tr><td>loss</td><td>▃▁▆█▆███▆▆▅▅▅▅▅▅▅▅▄▄▄▄▄▄▄▄▅▄▄▄▄▄▄▄▄▃▄▄▄▄</td></tr></table><br/>"
            ],
            "text/plain": [
              "<IPython.core.display.HTML object>"
            ]
          },
          "metadata": {
            "tags": []
          }
        },
        {
          "output_type": "display_data",
          "data": {
            "text/html": [
              "Synced 5 W&B file(s), 1 media file(s), 0 artifact file(s) and 0 other file(s)"
            ],
            "text/plain": [
              "<IPython.core.display.HTML object>"
            ]
          },
          "metadata": {
            "tags": []
          }
        },
        {
          "output_type": "display_data",
          "data": {
            "text/html": [
              "\n",
              "                    <br/>Synced <strong style=\"color:#cdcd00\">atomic-sweep-1</strong>: <a href=\"https://wandb.ai/iitm-cs6910-jan-may-2021-cs20m059-cs20m007/Assignment%201/runs/wosqsofv\" target=\"_blank\">https://wandb.ai/iitm-cs6910-jan-may-2021-cs20m059-cs20m007/Assignment%201/runs/wosqsofv</a><br/>\n",
              "                "
            ],
            "text/plain": [
              "<IPython.core.display.HTML object>"
            ]
          },
          "metadata": {
            "tags": []
          }
        },
        {
          "output_type": "stream",
          "text": [
            "\u001b[34m\u001b[1mwandb\u001b[0m: Agent Starting Run: pyy8svqb with config:\n",
            "\u001b[34m\u001b[1mwandb\u001b[0m: \tactivation: sigmoid\n",
            "\u001b[34m\u001b[1mwandb\u001b[0m: \tbatch_size: 32\n",
            "\u001b[34m\u001b[1mwandb\u001b[0m: \tepochs: 5\n",
            "\u001b[34m\u001b[1mwandb\u001b[0m: \tinitialisation: random\n",
            "\u001b[34m\u001b[1mwandb\u001b[0m: \tlayers: [784, 128, 64, 10]\n",
            "\u001b[34m\u001b[1mwandb\u001b[0m: \tlearning_rate: 0.001\n",
            "\u001b[34m\u001b[1mwandb\u001b[0m: \toptimizer: RMSProp\n",
            "\u001b[34m\u001b[1mwandb\u001b[0m: \u001b[33mWARNING\u001b[0m Ignored wandb.init() arg project when running a sweep\n",
            "\u001b[34m\u001b[1mwandb\u001b[0m: \u001b[33mWARNING\u001b[0m Ignored wandb.init() arg entity when running a sweep\n"
          ],
          "name": "stderr"
        },
        {
          "output_type": "display_data",
          "data": {
            "text/html": [
              "\n",
              "                Tracking run with wandb version 0.10.23<br/>\n",
              "                Syncing run <strong style=\"color:#cdcd00\">generous-sweep-2</strong> to <a href=\"https://wandb.ai\" target=\"_blank\">Weights & Biases</a> <a href=\"https://docs.wandb.com/integrations/jupyter.html\" target=\"_blank\">(Documentation)</a>.<br/>\n",
              "                Project page: <a href=\"https://wandb.ai/iitm-cs6910-jan-may-2021-cs20m059-cs20m007/Assignment%201\" target=\"_blank\">https://wandb.ai/iitm-cs6910-jan-may-2021-cs20m059-cs20m007/Assignment%201</a><br/>\n",
              "                Sweep page: <a href=\"https://wandb.ai/iitm-cs6910-jan-may-2021-cs20m059-cs20m007/Assignment%201/sweeps/f5ho0lqj\" target=\"_blank\">https://wandb.ai/iitm-cs6910-jan-may-2021-cs20m059-cs20m007/Assignment%201/sweeps/f5ho0lqj</a><br/>\n",
              "Run page: <a href=\"https://wandb.ai/iitm-cs6910-jan-may-2021-cs20m059-cs20m007/Assignment%201/runs/pyy8svqb\" target=\"_blank\">https://wandb.ai/iitm-cs6910-jan-may-2021-cs20m059-cs20m007/Assignment%201/runs/pyy8svqb</a><br/>\n",
              "                Run data is saved locally in <code>/content/wandb/run-20210326_193216-pyy8svqb</code><br/><br/>\n",
              "            "
            ],
            "text/plain": [
              "<IPython.core.display.HTML object>"
            ]
          },
          "metadata": {
            "tags": []
          }
        },
        {
          "output_type": "stream",
          "text": [
            "Epoch 0 Accuracy 0.7955185185185185\n",
            "Epoch 1 Accuracy 0.8255277777777777\n",
            "Epoch 2 Accuracy 0.8403641975308642\n",
            "Epoch 3 Accuracy 0.8494490740740741\n",
            "Epoch 4 Accuracy 0.8562333333333333\n",
            "Done!\n"
          ],
          "name": "stdout"
        },
        {
          "output_type": "display_data",
          "data": {
            "text/html": [
              "<br/>Waiting for W&B process to finish, PID 2229<br/>Program ended successfully."
            ],
            "text/plain": [
              "<IPython.core.display.HTML object>"
            ]
          },
          "metadata": {
            "tags": []
          }
        },
        {
          "output_type": "display_data",
          "data": {
            "application/vnd.jupyter.widget-view+json": {
              "model_id": "6d0f065d987141be9c60d586f42aa9db",
              "version_minor": 0,
              "version_major": 2
            },
            "text/plain": [
              "VBox(children=(Label(value=' 0.00MB of 0.00MB uploaded (0.00MB deduped)\\r'), FloatProgress(value=1.0, max=1.0)…"
            ]
          },
          "metadata": {
            "tags": []
          }
        },
        {
          "output_type": "display_data",
          "data": {
            "text/html": [
              "Find user logs for this run at: <code>/content/wandb/run-20210326_193216-pyy8svqb/logs/debug.log</code>"
            ],
            "text/plain": [
              "<IPython.core.display.HTML object>"
            ]
          },
          "metadata": {
            "tags": []
          }
        },
        {
          "output_type": "display_data",
          "data": {
            "text/html": [
              "Find internal logs for this run at: <code>/content/wandb/run-20210326_193216-pyy8svqb/logs/debug-internal.log</code>"
            ],
            "text/plain": [
              "<IPython.core.display.HTML object>"
            ]
          },
          "metadata": {
            "tags": []
          }
        },
        {
          "output_type": "display_data",
          "data": {
            "text/html": [
              "<h3>Run summary:</h3><br/><style>\n",
              "    table.wandb td:nth-child(1) { padding: 0 10px; text-align: right }\n",
              "    </style><table class=\"wandb\">\n",
              "<tr><td>accuracy_val</td><td>0.095</td></tr><tr><td>loss_val</td><td>8.74782</td></tr><tr><td>_runtime</td><td>1765</td></tr><tr><td>_timestamp</td><td>1616788901</td></tr><tr><td>_step</td><td>16000</td></tr><tr><td>accuracy</td><td>0.8666</td></tr><tr><td>loss</td><td>0.37765</td></tr></table>"
            ],
            "text/plain": [
              "<IPython.core.display.HTML object>"
            ]
          },
          "metadata": {
            "tags": []
          }
        },
        {
          "output_type": "display_data",
          "data": {
            "text/html": [
              "<h3>Run history:</h3><br/><style>\n",
              "    table.wandb td:nth-child(1) { padding: 0 10px; text-align: right }\n",
              "    </style><table class=\"wandb\">\n",
              "<tr><td>accuracy_val</td><td>▃▁▃▅████▇▇▇▆▆▆▆▆▆▆▆▆▆▆▆▆▆▆▆▆▅▅▆▆▆▆▅▅▅▅▅▅</td></tr><tr><td>loss_val</td><td>▄█▆▃▁▁▂▂▂▂▂▃▃▃▃▄▄▃▄▄▃▃▃▃▃▃▃▃▃▃▃▃▃▃▃▃▃▃▃▃</td></tr><tr><td>_runtime</td><td>▁▁▁▁▁▂▂▂▂▂▂▃▃▃▃▃▃▄▄▄▄▄▄▅▅▅▅▅▆▆▆▆▆▇▇▇▇███</td></tr><tr><td>_timestamp</td><td>▁▁▁▁▁▂▂▂▂▂▂▃▃▃▃▃▃▄▄▄▄▄▄▅▅▅▅▅▆▆▆▆▆▇▇▇▇███</td></tr><tr><td>_step</td><td>▁▁▁▂▂▂▂▂▂▃▃▃▃▃▄▄▄▄▄▄▅▅▅▅▅▅▆▆▆▆▆▇▇▇▇▇▇███</td></tr><tr><td>accuracy</td><td>██▅▂▂▃▂▅▄▆▅▅▃▂▁▂▁▂▃▃▂▂▁▁▁▂▁▁▁▁▂▂▂▂▂▁▁▁▁▁</td></tr><tr><td>loss</td><td>▂▁▃██▅▅▃▃▁▂▃▅▆▇▇▇▇▆▆▇▇███▇█▇▇▇▆▆▆▆▆▆▆▆▆▆</td></tr></table><br/>"
            ],
            "text/plain": [
              "<IPython.core.display.HTML object>"
            ]
          },
          "metadata": {
            "tags": []
          }
        },
        {
          "output_type": "display_data",
          "data": {
            "text/html": [
              "Synced 5 W&B file(s), 1 media file(s), 0 artifact file(s) and 0 other file(s)"
            ],
            "text/plain": [
              "<IPython.core.display.HTML object>"
            ]
          },
          "metadata": {
            "tags": []
          }
        },
        {
          "output_type": "display_data",
          "data": {
            "text/html": [
              "\n",
              "                    <br/>Synced <strong style=\"color:#cdcd00\">generous-sweep-2</strong>: <a href=\"https://wandb.ai/iitm-cs6910-jan-may-2021-cs20m059-cs20m007/Assignment%201/runs/pyy8svqb\" target=\"_blank\">https://wandb.ai/iitm-cs6910-jan-may-2021-cs20m059-cs20m007/Assignment%201/runs/pyy8svqb</a><br/>\n",
              "                "
            ],
            "text/plain": [
              "<IPython.core.display.HTML object>"
            ]
          },
          "metadata": {
            "tags": []
          }
        },
        {
          "output_type": "stream",
          "text": [
            "\u001b[34m\u001b[1mwandb\u001b[0m: Agent Starting Run: vw6osyry with config:\n",
            "\u001b[34m\u001b[1mwandb\u001b[0m: \tactivation: sigmoid\n",
            "\u001b[34m\u001b[1mwandb\u001b[0m: \tbatch_size: 32\n",
            "\u001b[34m\u001b[1mwandb\u001b[0m: \tepochs: 3\n",
            "\u001b[34m\u001b[1mwandb\u001b[0m: \tinitialisation: random\n",
            "\u001b[34m\u001b[1mwandb\u001b[0m: \tlayers: [784, 80, 48, 16, 10]\n",
            "\u001b[34m\u001b[1mwandb\u001b[0m: \tlearning_rate: 0.001\n",
            "\u001b[34m\u001b[1mwandb\u001b[0m: \toptimizer: RMSProp\n",
            "\u001b[34m\u001b[1mwandb\u001b[0m: \u001b[33mWARNING\u001b[0m Ignored wandb.init() arg project when running a sweep\n",
            "\u001b[34m\u001b[1mwandb\u001b[0m: \u001b[33mWARNING\u001b[0m Ignored wandb.init() arg entity when running a sweep\n"
          ],
          "name": "stderr"
        },
        {
          "output_type": "display_data",
          "data": {
            "text/html": [
              "\n",
              "                Tracking run with wandb version 0.10.23<br/>\n",
              "                Syncing run <strong style=\"color:#cdcd00\">twilight-sweep-3</strong> to <a href=\"https://wandb.ai\" target=\"_blank\">Weights & Biases</a> <a href=\"https://docs.wandb.com/integrations/jupyter.html\" target=\"_blank\">(Documentation)</a>.<br/>\n",
              "                Project page: <a href=\"https://wandb.ai/iitm-cs6910-jan-may-2021-cs20m059-cs20m007/Assignment%201\" target=\"_blank\">https://wandb.ai/iitm-cs6910-jan-may-2021-cs20m059-cs20m007/Assignment%201</a><br/>\n",
              "                Sweep page: <a href=\"https://wandb.ai/iitm-cs6910-jan-may-2021-cs20m059-cs20m007/Assignment%201/sweeps/f5ho0lqj\" target=\"_blank\">https://wandb.ai/iitm-cs6910-jan-may-2021-cs20m059-cs20m007/Assignment%201/sweeps/f5ho0lqj</a><br/>\n",
              "Run page: <a href=\"https://wandb.ai/iitm-cs6910-jan-may-2021-cs20m059-cs20m007/Assignment%201/runs/vw6osyry\" target=\"_blank\">https://wandb.ai/iitm-cs6910-jan-may-2021-cs20m059-cs20m007/Assignment%201/runs/vw6osyry</a><br/>\n",
              "                Run data is saved locally in <code>/content/wandb/run-20210326_200150-vw6osyry</code><br/><br/>\n",
              "            "
            ],
            "text/plain": [
              "<IPython.core.display.HTML object>"
            ]
          },
          "metadata": {
            "tags": []
          }
        },
        {
          "output_type": "stream",
          "text": [
            "Epoch 0 Accuracy 0.7514444444444445\n",
            "Epoch 1 Accuracy 0.7959259259259259\n",
            "Epoch 2 Accuracy 0.8166666666666667\n",
            "Done!\n"
          ],
          "name": "stdout"
        },
        {
          "output_type": "display_data",
          "data": {
            "text/html": [
              "<br/>Waiting for W&B process to finish, PID 2367<br/>Program ended successfully."
            ],
            "text/plain": [
              "<IPython.core.display.HTML object>"
            ]
          },
          "metadata": {
            "tags": []
          }
        },
        {
          "output_type": "display_data",
          "data": {
            "application/vnd.jupyter.widget-view+json": {
              "model_id": "1d438b71aecc4751be68746a9f09d443",
              "version_minor": 0,
              "version_major": 2
            },
            "text/plain": [
              "VBox(children=(Label(value=' 0.00MB of 0.00MB uploaded (0.00MB deduped)\\r'), FloatProgress(value=0.16529160739…"
            ]
          },
          "metadata": {
            "tags": []
          }
        },
        {
          "output_type": "display_data",
          "data": {
            "text/html": [
              "Find user logs for this run at: <code>/content/wandb/run-20210326_200150-vw6osyry/logs/debug.log</code>"
            ],
            "text/plain": [
              "<IPython.core.display.HTML object>"
            ]
          },
          "metadata": {
            "tags": []
          }
        },
        {
          "output_type": "display_data",
          "data": {
            "text/html": [
              "Find internal logs for this run at: <code>/content/wandb/run-20210326_200150-vw6osyry/logs/debug-internal.log</code>"
            ],
            "text/plain": [
              "<IPython.core.display.HTML object>"
            ]
          },
          "metadata": {
            "tags": []
          }
        },
        {
          "output_type": "display_data",
          "data": {
            "text/html": [
              "<h3>Run summary:</h3><br/><style>\n",
              "    table.wandb td:nth-child(1) { padding: 0 10px; text-align: right }\n",
              "    </style><table class=\"wandb\">\n",
              "<tr><td>accuracy_val</td><td>0.09467</td></tr><tr><td>loss_val</td><td>6.40378</td></tr><tr><td>_runtime</td><td>724</td></tr><tr><td>_timestamp</td><td>1616789634</td></tr><tr><td>_step</td><td>16000</td></tr><tr><td>accuracy</td><td>0.8503</td></tr><tr><td>loss</td><td>0.42461</td></tr></table>"
            ],
            "text/plain": [
              "<IPython.core.display.HTML object>"
            ]
          },
          "metadata": {
            "tags": []
          }
        },
        {
          "output_type": "display_data",
          "data": {
            "text/html": [
              "<h3>Run history:</h3><br/><style>\n",
              "    table.wandb td:nth-child(1) { padding: 0 10px; text-align: right }\n",
              "    </style><table class=\"wandb\">\n",
              "<tr><td>accuracy_val</td><td>▁▁▂▅▇▇██▇▇▇▇▇▆▆▆▆▆▆▆▆▆▆▆▆▆▆▆▆▆▆▆▆▆▆▆▆▆▆▆</td></tr><tr><td>loss_val</td><td>▆█▇▃▁▁▂▁▂▂▃▃▃▃▃▃▄▄▄▄▄▄▄▄▃▃▄▃▄▄▄▃▄▄▄▄▄▄▄▄</td></tr><tr><td>_runtime</td><td>▁▁▁▁▁▂▂▂▂▂▂▃▃▃▃▃▃▄▄▄▄▄▄▅▅▅▅▅▆▆▆▆▆▆▇▇▇███</td></tr><tr><td>_timestamp</td><td>▁▁▁▁▁▂▂▂▂▂▂▃▃▃▃▃▃▄▄▄▄▄▄▅▅▅▅▅▆▆▆▆▆▆▇▇▇███</td></tr><tr><td>_step</td><td>▁▁▁▂▂▂▂▂▂▃▃▃▃▃▄▄▄▄▄▄▅▅▅▅▅▅▆▆▆▆▆▇▇▇▇▇▇███</td></tr><tr><td>accuracy</td><td>█▇▇▄▄▃▃▃▃▃▃▃▂▂▂▂▁▂▂▂▂▂▂▂▁▁▁▁▁▁▁▁▁▁▁▁▁▁▁▁</td></tr><tr><td>loss</td><td>▁▁▂▆▆▆▆▅▆▅▆▆▇▇█▇██▇▇▇███████████████████</td></tr></table><br/>"
            ],
            "text/plain": [
              "<IPython.core.display.HTML object>"
            ]
          },
          "metadata": {
            "tags": []
          }
        },
        {
          "output_type": "display_data",
          "data": {
            "text/html": [
              "Synced 5 W&B file(s), 1 media file(s), 0 artifact file(s) and 0 other file(s)"
            ],
            "text/plain": [
              "<IPython.core.display.HTML object>"
            ]
          },
          "metadata": {
            "tags": []
          }
        },
        {
          "output_type": "display_data",
          "data": {
            "text/html": [
              "\n",
              "                    <br/>Synced <strong style=\"color:#cdcd00\">twilight-sweep-3</strong>: <a href=\"https://wandb.ai/iitm-cs6910-jan-may-2021-cs20m059-cs20m007/Assignment%201/runs/vw6osyry\" target=\"_blank\">https://wandb.ai/iitm-cs6910-jan-may-2021-cs20m059-cs20m007/Assignment%201/runs/vw6osyry</a><br/>\n",
              "                "
            ],
            "text/plain": [
              "<IPython.core.display.HTML object>"
            ]
          },
          "metadata": {
            "tags": []
          }
        },
        {
          "output_type": "stream",
          "text": [
            "\u001b[34m\u001b[1mwandb\u001b[0m: Agent Starting Run: md5eqk7z with config:\n",
            "\u001b[34m\u001b[1mwandb\u001b[0m: \tactivation: tanh\n",
            "\u001b[34m\u001b[1mwandb\u001b[0m: \tbatch_size: 64\n",
            "\u001b[34m\u001b[1mwandb\u001b[0m: \tepochs: 3\n",
            "\u001b[34m\u001b[1mwandb\u001b[0m: \tinitialisation: random\n",
            "\u001b[34m\u001b[1mwandb\u001b[0m: \tlayers: [784, 80, 48, 16, 10]\n",
            "\u001b[34m\u001b[1mwandb\u001b[0m: \tlearning_rate: 0.001\n",
            "\u001b[34m\u001b[1mwandb\u001b[0m: \toptimizer: stochastic momentum based gradient descent\n",
            "\u001b[34m\u001b[1mwandb\u001b[0m: \u001b[33mWARNING\u001b[0m Ignored wandb.init() arg project when running a sweep\n",
            "\u001b[34m\u001b[1mwandb\u001b[0m: \u001b[33mWARNING\u001b[0m Ignored wandb.init() arg entity when running a sweep\n"
          ],
          "name": "stderr"
        },
        {
          "output_type": "display_data",
          "data": {
            "text/html": [
              "\n",
              "                Tracking run with wandb version 0.10.23<br/>\n",
              "                Syncing run <strong style=\"color:#cdcd00\">young-sweep-4</strong> to <a href=\"https://wandb.ai\" target=\"_blank\">Weights & Biases</a> <a href=\"https://docs.wandb.com/integrations/jupyter.html\" target=\"_blank\">(Documentation)</a>.<br/>\n",
              "                Project page: <a href=\"https://wandb.ai/iitm-cs6910-jan-may-2021-cs20m059-cs20m007/Assignment%201\" target=\"_blank\">https://wandb.ai/iitm-cs6910-jan-may-2021-cs20m059-cs20m007/Assignment%201</a><br/>\n",
              "                Sweep page: <a href=\"https://wandb.ai/iitm-cs6910-jan-may-2021-cs20m059-cs20m007/Assignment%201/sweeps/f5ho0lqj\" target=\"_blank\">https://wandb.ai/iitm-cs6910-jan-may-2021-cs20m059-cs20m007/Assignment%201/sweeps/f5ho0lqj</a><br/>\n",
              "Run page: <a href=\"https://wandb.ai/iitm-cs6910-jan-may-2021-cs20m059-cs20m007/Assignment%201/runs/md5eqk7z\" target=\"_blank\">https://wandb.ai/iitm-cs6910-jan-may-2021-cs20m059-cs20m007/Assignment%201/runs/md5eqk7z</a><br/>\n",
              "                Run data is saved locally in <code>/content/wandb/run-20210326_201401-md5eqk7z</code><br/><br/>\n",
              "            "
            ],
            "text/plain": [
              "<IPython.core.display.HTML object>"
            ]
          },
          "metadata": {
            "tags": []
          }
        },
        {
          "output_type": "stream",
          "text": [
            "Epoch 0 Accuracy 0.6642962962962963\n",
            "Epoch 1 Accuracy 0.6602222222222223\n",
            "Epoch 2 Accuracy 0.6301481481481481\n",
            "Done!\n"
          ],
          "name": "stdout"
        },
        {
          "output_type": "display_data",
          "data": {
            "text/html": [
              "<br/>Waiting for W&B process to finish, PID 2476<br/>Program ended successfully."
            ],
            "text/plain": [
              "<IPython.core.display.HTML object>"
            ]
          },
          "metadata": {
            "tags": []
          }
        },
        {
          "output_type": "display_data",
          "data": {
            "application/vnd.jupyter.widget-view+json": {
              "model_id": "37e4d0d125444d1eac0e99a9c66f3202",
              "version_minor": 0,
              "version_major": 2
            },
            "text/plain": [
              "VBox(children=(Label(value=' 0.00MB of 0.00MB uploaded (0.00MB deduped)\\r'), FloatProgress(value=0.16529160739…"
            ]
          },
          "metadata": {
            "tags": []
          }
        },
        {
          "output_type": "display_data",
          "data": {
            "text/html": [
              "Find user logs for this run at: <code>/content/wandb/run-20210326_201401-md5eqk7z/logs/debug.log</code>"
            ],
            "text/plain": [
              "<IPython.core.display.HTML object>"
            ]
          },
          "metadata": {
            "tags": []
          }
        },
        {
          "output_type": "display_data",
          "data": {
            "text/html": [
              "Find internal logs for this run at: <code>/content/wandb/run-20210326_201401-md5eqk7z/logs/debug-internal.log</code>"
            ],
            "text/plain": [
              "<IPython.core.display.HTML object>"
            ]
          },
          "metadata": {
            "tags": []
          }
        },
        {
          "output_type": "display_data",
          "data": {
            "text/html": [
              "<h3>Run summary:</h3><br/><style>\n",
              "    table.wandb td:nth-child(1) { padding: 0 10px; text-align: right }\n",
              "    </style><table class=\"wandb\">\n",
              "<tr><td>accuracy_val</td><td>0.1</td></tr><tr><td>loss_val</td><td>5.20671</td></tr><tr><td>_runtime</td><td>712</td></tr><tr><td>_timestamp</td><td>1616790353</td></tr><tr><td>_step</td><td>16000</td></tr><tr><td>accuracy</td><td>0.4004</td></tr><tr><td>loss</td><td>1.66777</td></tr></table>"
            ],
            "text/plain": [
              "<IPython.core.display.HTML object>"
            ]
          },
          "metadata": {
            "tags": []
          }
        },
        {
          "output_type": "display_data",
          "data": {
            "text/html": [
              "<h3>Run history:</h3><br/><style>\n",
              "    table.wandb td:nth-child(1) { padding: 0 10px; text-align: right }\n",
              "    </style><table class=\"wandb\">\n",
              "<tr><td>accuracy_val</td><td>▁▃▄▆▇▇███▇▇▇▇▇▇▇▇▇▇▇▇▇▇▇▇█▇▇▇▇▇▇▇▇▇▇▇▇▇▇</td></tr><tr><td>loss_val</td><td>█▆▄▂▁▁▁▁▂▁▂▂▂▂▂▂▂▂▂▂▂▂▂▂▂▂▂▂▂▂▂▂▂▂▂▂▂▂▂▂</td></tr><tr><td>_runtime</td><td>▁▁▁▁▁▂▂▂▂▂▃▃▃▃▃▃▄▄▄▄▄▄▅▅▅▅▅▅▆▆▆▆▆▇▇▇▇███</td></tr><tr><td>_timestamp</td><td>▁▁▁▁▁▂▂▂▂▂▃▃▃▃▃▃▄▄▄▄▄▄▅▅▅▅▅▅▆▆▆▆▆▇▇▇▇███</td></tr><tr><td>_step</td><td>▁▁▁▂▂▂▂▂▂▃▃▃▃▃▄▄▄▄▄▄▅▅▅▅▅▅▆▆▆▆▆▇▇▇▇▇▇███</td></tr><tr><td>accuracy</td><td>▄█▄▂▂▁▁▁▂▂▂▂▂▁▁▁▁▁▁▁▁▁▁▁▁▁▁▁▂▂▂▂▂▂▂▂▂▂▂▂</td></tr><tr><td>loss</td><td>▅▁▄▆▆▆▆▆▆▆▆▆▇▇██████████▇▇▇▇▇▇▇▇▇▇▇▇▇▇▇▇</td></tr></table><br/>"
            ],
            "text/plain": [
              "<IPython.core.display.HTML object>"
            ]
          },
          "metadata": {
            "tags": []
          }
        },
        {
          "output_type": "display_data",
          "data": {
            "text/html": [
              "Synced 5 W&B file(s), 1 media file(s), 0 artifact file(s) and 0 other file(s)"
            ],
            "text/plain": [
              "<IPython.core.display.HTML object>"
            ]
          },
          "metadata": {
            "tags": []
          }
        },
        {
          "output_type": "display_data",
          "data": {
            "text/html": [
              "\n",
              "                    <br/>Synced <strong style=\"color:#cdcd00\">young-sweep-4</strong>: <a href=\"https://wandb.ai/iitm-cs6910-jan-may-2021-cs20m059-cs20m007/Assignment%201/runs/md5eqk7z\" target=\"_blank\">https://wandb.ai/iitm-cs6910-jan-may-2021-cs20m059-cs20m007/Assignment%201/runs/md5eqk7z</a><br/>\n",
              "                "
            ],
            "text/plain": [
              "<IPython.core.display.HTML object>"
            ]
          },
          "metadata": {
            "tags": []
          }
        },
        {
          "output_type": "stream",
          "text": [
            "\u001b[34m\u001b[1mwandb\u001b[0m: Agent Starting Run: vakvgbfi with config:\n",
            "\u001b[34m\u001b[1mwandb\u001b[0m: \tactivation: tanh\n",
            "\u001b[34m\u001b[1mwandb\u001b[0m: \tbatch_size: 64\n",
            "\u001b[34m\u001b[1mwandb\u001b[0m: \tepochs: 5\n",
            "\u001b[34m\u001b[1mwandb\u001b[0m: \tinitialisation: xavier\n",
            "\u001b[34m\u001b[1mwandb\u001b[0m: \tlayers: [784, 80, 48, 16, 10]\n",
            "\u001b[34m\u001b[1mwandb\u001b[0m: \tlearning_rate: 0.001\n",
            "\u001b[34m\u001b[1mwandb\u001b[0m: \toptimizer: nesterov accelerated adaptive moment estimation\n",
            "\u001b[34m\u001b[1mwandb\u001b[0m: \u001b[33mWARNING\u001b[0m Ignored wandb.init() arg project when running a sweep\n",
            "\u001b[34m\u001b[1mwandb\u001b[0m: \u001b[33mWARNING\u001b[0m Ignored wandb.init() arg entity when running a sweep\n"
          ],
          "name": "stderr"
        },
        {
          "output_type": "display_data",
          "data": {
            "text/html": [
              "\n",
              "                Tracking run with wandb version 0.10.23<br/>\n",
              "                Syncing run <strong style=\"color:#cdcd00\">wild-sweep-5</strong> to <a href=\"https://wandb.ai\" target=\"_blank\">Weights & Biases</a> <a href=\"https://docs.wandb.com/integrations/jupyter.html\" target=\"_blank\">(Documentation)</a>.<br/>\n",
              "                Project page: <a href=\"https://wandb.ai/iitm-cs6910-jan-may-2021-cs20m059-cs20m007/Assignment%201\" target=\"_blank\">https://wandb.ai/iitm-cs6910-jan-may-2021-cs20m059-cs20m007/Assignment%201</a><br/>\n",
              "                Sweep page: <a href=\"https://wandb.ai/iitm-cs6910-jan-may-2021-cs20m059-cs20m007/Assignment%201/sweeps/f5ho0lqj\" target=\"_blank\">https://wandb.ai/iitm-cs6910-jan-may-2021-cs20m059-cs20m007/Assignment%201/sweeps/f5ho0lqj</a><br/>\n",
              "Run page: <a href=\"https://wandb.ai/iitm-cs6910-jan-may-2021-cs20m059-cs20m007/Assignment%201/runs/vakvgbfi\" target=\"_blank\">https://wandb.ai/iitm-cs6910-jan-may-2021-cs20m059-cs20m007/Assignment%201/runs/vakvgbfi</a><br/>\n",
              "                Run data is saved locally in <code>/content/wandb/run-20210326_202559-vakvgbfi</code><br/><br/>\n",
              "            "
            ],
            "text/plain": [
              "<IPython.core.display.HTML object>"
            ]
          },
          "metadata": {
            "tags": []
          }
        },
        {
          "output_type": "stream",
          "text": [
            "Epoch 0 Accuracy 0.4700925925925926\n",
            "Epoch 1 Accuracy 0.5485277777777777\n",
            "Epoch 2 Accuracy 0.5994074074074074\n",
            "Epoch 3 Accuracy 0.6376666666666667\n",
            "Epoch 4 Accuracy 0.6671333333333334\n",
            "Done!\n"
          ],
          "name": "stdout"
        },
        {
          "output_type": "display_data",
          "data": {
            "text/html": [
              "<br/>Waiting for W&B process to finish, PID 2618<br/>Program ended successfully."
            ],
            "text/plain": [
              "<IPython.core.display.HTML object>"
            ]
          },
          "metadata": {
            "tags": []
          }
        },
        {
          "output_type": "display_data",
          "data": {
            "application/vnd.jupyter.widget-view+json": {
              "model_id": "7c78427f47334d94abca644baaf5b459",
              "version_minor": 0,
              "version_major": 2
            },
            "text/plain": [
              "VBox(children=(Label(value=' 0.00MB of 0.00MB uploaded (0.00MB deduped)\\r'), FloatProgress(value=1.0, max=1.0)…"
            ]
          },
          "metadata": {
            "tags": []
          }
        },
        {
          "output_type": "display_data",
          "data": {
            "text/html": [
              "Find user logs for this run at: <code>/content/wandb/run-20210326_202559-vakvgbfi/logs/debug.log</code>"
            ],
            "text/plain": [
              "<IPython.core.display.HTML object>"
            ]
          },
          "metadata": {
            "tags": []
          }
        },
        {
          "output_type": "display_data",
          "data": {
            "text/html": [
              "Find internal logs for this run at: <code>/content/wandb/run-20210326_202559-vakvgbfi/logs/debug-internal.log</code>"
            ],
            "text/plain": [
              "<IPython.core.display.HTML object>"
            ]
          },
          "metadata": {
            "tags": []
          }
        },
        {
          "output_type": "display_data",
          "data": {
            "text/html": [
              "<h3>Run summary:</h3><br/><style>\n",
              "    table.wandb td:nth-child(1) { padding: 0 10px; text-align: right }\n",
              "    </style><table class=\"wandb\">\n",
              "<tr><td>accuracy_val</td><td>0.09633</td></tr><tr><td>loss_val</td><td>4.6366</td></tr><tr><td>_runtime</td><td>1161</td></tr><tr><td>_timestamp</td><td>1616791520</td></tr><tr><td>_step</td><td>16000</td></tr><tr><td>accuracy</td><td>0.7882</td></tr><tr><td>loss</td><td>0.65411</td></tr></table>"
            ],
            "text/plain": [
              "<IPython.core.display.HTML object>"
            ]
          },
          "metadata": {
            "tags": []
          }
        },
        {
          "output_type": "display_data",
          "data": {
            "text/html": [
              "<h3>Run history:</h3><br/><style>\n",
              "    table.wandb td:nth-child(1) { padding: 0 10px; text-align: right }\n",
              "    </style><table class=\"wandb\">\n",
              "<tr><td>accuracy_val</td><td>▃▁▃▆▇███▇█▇▇▇▇▇▇▇▇▇▇▇▇▇▇▇▇▇▇▆▇▇▇▇▇▆▆▆▆▆▆</td></tr><tr><td>loss_val</td><td>█▆▆▃▁▁▁▂▂▁▂▂▂▃▃▃▃▃▃▃▃▃▃▃▃▃▃▃▃▃▃▃▃▃▃▃▃▃▃▃</td></tr><tr><td>_runtime</td><td>▁▁▁▁▁▂▂▂▂▂▂▃▃▃▃▃▄▄▄▄▄▄▄▅▅▅▅▅▆▆▆▆▆▇▇▇▇███</td></tr><tr><td>_timestamp</td><td>▁▁▁▁▁▂▂▂▂▂▂▃▃▃▃▃▄▄▄▄▄▄▄▅▅▅▅▅▆▆▆▆▆▇▇▇▇███</td></tr><tr><td>_step</td><td>▁▁▁▂▂▂▂▂▂▃▃▃▃▃▄▄▄▄▄▄▅▅▅▅▅▅▆▆▆▆▆▇▇▇▇▇▇███</td></tr><tr><td>accuracy</td><td>▁▆█▄▅▃▃▄▅▆█▇▆▅▅▄▃▄▅▅▅▅▅▅▅▅▄▅▅▄▄▄▄▄▄▄▄▄▃▄</td></tr><tr><td>loss</td><td>▁▃▄█▇█▇▆▆▅▅▅▆▇▇▇▇▇▇▇▇▇▇▇▇▇▇▇▇▇▇▇▇▆▆▇▇▆▇▆</td></tr></table><br/>"
            ],
            "text/plain": [
              "<IPython.core.display.HTML object>"
            ]
          },
          "metadata": {
            "tags": []
          }
        },
        {
          "output_type": "display_data",
          "data": {
            "text/html": [
              "Synced 5 W&B file(s), 1 media file(s), 0 artifact file(s) and 0 other file(s)"
            ],
            "text/plain": [
              "<IPython.core.display.HTML object>"
            ]
          },
          "metadata": {
            "tags": []
          }
        },
        {
          "output_type": "display_data",
          "data": {
            "text/html": [
              "\n",
              "                    <br/>Synced <strong style=\"color:#cdcd00\">wild-sweep-5</strong>: <a href=\"https://wandb.ai/iitm-cs6910-jan-may-2021-cs20m059-cs20m007/Assignment%201/runs/vakvgbfi\" target=\"_blank\">https://wandb.ai/iitm-cs6910-jan-may-2021-cs20m059-cs20m007/Assignment%201/runs/vakvgbfi</a><br/>\n",
              "                "
            ],
            "text/plain": [
              "<IPython.core.display.HTML object>"
            ]
          },
          "metadata": {
            "tags": []
          }
        },
        {
          "output_type": "stream",
          "text": [
            "\u001b[34m\u001b[1mwandb\u001b[0m: Agent Starting Run: 6isu4g4s with config:\n",
            "\u001b[34m\u001b[1mwandb\u001b[0m: \tactivation: relu\n",
            "\u001b[34m\u001b[1mwandb\u001b[0m: \tbatch_size: 16\n",
            "\u001b[34m\u001b[1mwandb\u001b[0m: \tepochs: 10\n",
            "\u001b[34m\u001b[1mwandb\u001b[0m: \tinitialisation: random\n",
            "\u001b[34m\u001b[1mwandb\u001b[0m: \tlayers: [784, 128, 64, 10]\n",
            "\u001b[34m\u001b[1mwandb\u001b[0m: \tlearning_rate: 0.0001\n",
            "\u001b[34m\u001b[1mwandb\u001b[0m: \toptimizer: nesterov accelerated adaptive moment estimation\n",
            "\u001b[34m\u001b[1mwandb\u001b[0m: \u001b[33mWARNING\u001b[0m Ignored wandb.init() arg project when running a sweep\n",
            "\u001b[34m\u001b[1mwandb\u001b[0m: \u001b[33mWARNING\u001b[0m Ignored wandb.init() arg entity when running a sweep\n"
          ],
          "name": "stderr"
        },
        {
          "output_type": "display_data",
          "data": {
            "text/html": [
              "\n",
              "                Tracking run with wandb version 0.10.23<br/>\n",
              "                Syncing run <strong style=\"color:#cdcd00\">vibrant-sweep-6</strong> to <a href=\"https://wandb.ai\" target=\"_blank\">Weights & Biases</a> <a href=\"https://docs.wandb.com/integrations/jupyter.html\" target=\"_blank\">(Documentation)</a>.<br/>\n",
              "                Project page: <a href=\"https://wandb.ai/iitm-cs6910-jan-may-2021-cs20m059-cs20m007/Assignment%201\" target=\"_blank\">https://wandb.ai/iitm-cs6910-jan-may-2021-cs20m059-cs20m007/Assignment%201</a><br/>\n",
              "                Sweep page: <a href=\"https://wandb.ai/iitm-cs6910-jan-may-2021-cs20m059-cs20m007/Assignment%201/sweeps/f5ho0lqj\" target=\"_blank\">https://wandb.ai/iitm-cs6910-jan-may-2021-cs20m059-cs20m007/Assignment%201/sweeps/f5ho0lqj</a><br/>\n",
              "Run page: <a href=\"https://wandb.ai/iitm-cs6910-jan-may-2021-cs20m059-cs20m007/Assignment%201/runs/6isu4g4s\" target=\"_blank\">https://wandb.ai/iitm-cs6910-jan-may-2021-cs20m059-cs20m007/Assignment%201/runs/6isu4g4s</a><br/>\n",
              "                Run data is saved locally in <code>/content/wandb/run-20210326_204527-6isu4g4s</code><br/><br/>\n",
              "            "
            ],
            "text/plain": [
              "<IPython.core.display.HTML object>"
            ]
          },
          "metadata": {
            "tags": []
          }
        },
        {
          "output_type": "stream",
          "text": [
            "Epoch 0 Accuracy 0.26264814814814813\n",
            "Epoch 1 Accuracy 0.34899074074074077\n",
            "Epoch 2 Accuracy 0.39172222222222225\n",
            "Epoch 3 Accuracy 0.4101064814814815\n",
            "Epoch 4 Accuracy 0.4144333333333333\n",
            "Epoch 5 Accuracy 0.4179938271604938\n",
            "Epoch 6 Accuracy 0.4204708994708995\n",
            "Epoch 7 Accuracy 0.42308564814814814\n"
          ],
          "name": "stdout"
        }
      ]
    },
    {
      "cell_type": "code",
      "metadata": {
        "id": "k9RGg9Ev9uJr"
      },
      "source": [
        ""
      ],
      "execution_count": null,
      "outputs": []
    }
  ]
}