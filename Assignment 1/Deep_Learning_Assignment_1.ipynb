{
  "nbformat": 4,
  "nbformat_minor": 0,
  "metadata": {
    "colab": {
      "name": "Deep Learning Assignment 1.ipynb",
      "provenance": [],
      "collapsed_sections": []
    },
    "kernelspec": {
      "name": "python3",
      "display_name": "Python 3"
    }
  },
  "cells": [
    {
      "cell_type": "markdown",
      "metadata": {
        "id": "YxHVLSy7QyJc"
      },
      "source": [
        "#CS6910: Deep Learning - Assignment 1: Fashion MNIST dataset"
      ]
    },
    {
      "cell_type": "markdown",
      "metadata": {
        "id": "bRJ6WEr-TInP"
      },
      "source": [
        "Shibobrota Das (CS20M059) | Abhishek Kumar (CS20M007)"
      ]
    },
    {
      "cell_type": "code",
      "metadata": {
        "id": "uZ-G4QAVPGb0",
        "colab": {
          "base_uri": "https://localhost:8080/"
        },
        "outputId": "9e7d1731-8c85-4e47-f042-bf616c36eb6d"
      },
      "source": [
        "!pip install wandb -qqq"
      ],
      "execution_count": 4,
      "outputs": [
        {
          "output_type": "stream",
          "text": [
            "\u001b[K     |████████████████████████████████| 2.0MB 7.8MB/s \n",
            "\u001b[K     |████████████████████████████████| 133kB 42.5MB/s \n",
            "\u001b[K     |████████████████████████████████| 163kB 43.3MB/s \n",
            "\u001b[K     |████████████████████████████████| 102kB 9.7MB/s \n",
            "\u001b[K     |████████████████████████████████| 71kB 7.6MB/s \n",
            "\u001b[?25h  Building wheel for pathtools (setup.py) ... \u001b[?25l\u001b[?25hdone\n",
            "  Building wheel for subprocess32 (setup.py) ... \u001b[?25l\u001b[?25hdone\n"
          ],
          "name": "stdout"
        }
      ]
    },
    {
      "cell_type": "code",
      "metadata": {
        "id": "7eGYoCgyPSpy"
      },
      "source": [
        "# import wandb\n",
        "import numpy as np\n",
        "from keras.datasets import fashion_mnist\n",
        "import matplotlib.pyplot as plt\n",
        "from scipy.special import expit\n",
        "import warnings\n",
        "warnings.filterwarnings(\"ignore\", category=np.VisibleDeprecationWarning)"
      ],
      "execution_count": 25,
      "outputs": []
    },
    {
      "cell_type": "code",
      "metadata": {
        "colab": {
          "base_uri": "https://localhost:8080/",
          "height": 101
        },
        "id": "W7zteEKWPqYw",
        "outputId": "87586c0d-2e39-4926-a61c-999c6c88ef94"
      },
      "source": [
        "wandb.login()"
      ],
      "execution_count": null,
      "outputs": [
        {
          "output_type": "display_data",
          "data": {
            "application/javascript": [
              "\n",
              "        window._wandbApiKey = new Promise((resolve, reject) => {\n",
              "            function loadScript(url) {\n",
              "            return new Promise(function(resolve, reject) {\n",
              "                let newScript = document.createElement(\"script\");\n",
              "                newScript.onerror = reject;\n",
              "                newScript.onload = resolve;\n",
              "                document.body.appendChild(newScript);\n",
              "                newScript.src = url;\n",
              "            });\n",
              "            }\n",
              "            loadScript(\"https://cdn.jsdelivr.net/npm/postmate/build/postmate.min.js\").then(() => {\n",
              "            const iframe = document.createElement('iframe')\n",
              "            iframe.style.cssText = \"width:0;height:0;border:none\"\n",
              "            document.body.appendChild(iframe)\n",
              "            const handshake = new Postmate({\n",
              "                container: iframe,\n",
              "                url: 'https://wandb.ai/authorize'\n",
              "            });\n",
              "            const timeout = setTimeout(() => reject(\"Couldn't auto authenticate\"), 5000)\n",
              "            handshake.then(function(child) {\n",
              "                child.on('authorize', data => {\n",
              "                    clearTimeout(timeout)\n",
              "                    resolve(data)\n",
              "                });\n",
              "            });\n",
              "            })\n",
              "        });\n",
              "    "
            ],
            "text/plain": [
              "<IPython.core.display.Javascript object>"
            ]
          },
          "metadata": {
            "tags": []
          }
        },
        {
          "output_type": "stream",
          "text": [
            "\u001b[34m\u001b[1mwandb\u001b[0m: You can find your API key in your browser here: https://wandb.ai/authorize\n"
          ],
          "name": "stderr"
        },
        {
          "output_type": "stream",
          "text": [
            "wandb: Paste an API key from your profile and hit enter: ··········\n"
          ],
          "name": "stdout"
        },
        {
          "output_type": "stream",
          "text": [
            "\u001b[34m\u001b[1mwandb\u001b[0m: Appending key for api.wandb.ai to your netrc file: /root/.netrc\n"
          ],
          "name": "stderr"
        },
        {
          "output_type": "execute_result",
          "data": {
            "text/plain": [
              "True"
            ]
          },
          "metadata": {
            "tags": []
          },
          "execution_count": 4
        }
      ]
    },
    {
      "cell_type": "code",
      "metadata": {
        "id": "gwhG09XFVDmc"
      },
      "source": [
        "wandb.init(project=\"Assignment-1\")"
      ],
      "execution_count": null,
      "outputs": []
    },
    {
      "cell_type": "markdown",
      "metadata": {
        "id": "3vrp7xyeUMcH"
      },
      "source": [
        "# #Solution 1"
      ]
    },
    {
      "cell_type": "markdown",
      "metadata": {
        "id": "kVnJXqbwStwi"
      },
      "source": [
        "**Load Dataset from fashion_mnist and log one sample from each set**"
      ]
    },
    {
      "cell_type": "code",
      "metadata": {
        "id": "L0jrSIMiQI-L",
        "colab": {
          "base_uri": "https://localhost:8080/"
        },
        "outputId": "a966221b-4f0c-45ec-a415-70e7f3c18a92"
      },
      "source": [
        "(train_x, train_y), (test_x, test_y)= fashion_mnist.load_data()\n",
        "classes = ['T-shirt/top', 'Trouser', 'Pullover', 'Dress', 'Coat','Sandal', 'Shirt', 'Sneaker', 'Bag', 'Ankle boot']"
      ],
      "execution_count": 6,
      "outputs": [
        {
          "output_type": "stream",
          "text": [
            "Downloading data from https://storage.googleapis.com/tensorflow/tf-keras-datasets/train-labels-idx1-ubyte.gz\n",
            "32768/29515 [=================================] - 0s 0us/step\n",
            "Downloading data from https://storage.googleapis.com/tensorflow/tf-keras-datasets/train-images-idx3-ubyte.gz\n",
            "26427392/26421880 [==============================] - 0s 0us/step\n",
            "Downloading data from https://storage.googleapis.com/tensorflow/tf-keras-datasets/t10k-labels-idx1-ubyte.gz\n",
            "8192/5148 [===============================================] - 0s 0us/step\n",
            "Downloading data from https://storage.googleapis.com/tensorflow/tf-keras-datasets/t10k-images-idx3-ubyte.gz\n",
            "4423680/4422102 [==============================] - 0s 0us/step\n"
          ],
          "name": "stdout"
        }
      ]
    },
    {
      "cell_type": "code",
      "metadata": {
        "colab": {
          "base_uri": "https://localhost:8080/",
          "height": 569
        },
        "id": "j6gPOWGaXq5I",
        "outputId": "71ed2634-9c3f-42a4-bee2-5d32991054ec"
      },
      "source": [
        "class_values, unique_indices = np.unique(train_y, return_index=True)\n",
        "plt.figure(figsize=(10,10))\n",
        "labelled_images = {}\n",
        "for d in range(10):\n",
        "  plt.subplot(3, 4, d+1)\n",
        "  plt.imshow(train_x[unique_indices[d]], cmap=plt.get_cmap('gray'))\n",
        "  plt.xlabel(classes[class_values[d]])\n",
        "  labelled_images[classes[class_values[d]]] = train_x[unique_indices[d]]\n",
        "plt.show()"
      ],
      "execution_count": 62,
      "outputs": [
        {
          "output_type": "display_data",
          "data": {
            "image/png": "[encoded data removed]",
            "text/plain": [
              "<Figure size 720x720 with 10 Axes>"
            ]
          },
          "metadata": {
            "tags": [],
            "needs_background": "light"
          }
        }
      ]
    },
    {
      "cell_type": "code",
      "metadata": {
        "id": "ZW9wrAbZaeuE"
      },
      "source": [
        "wandb.log({\"A1-Examples\": [wandb.Image(img, caption=cap) for cap,img in labelled_images.items()]})"
      ],
      "execution_count": null,
      "outputs": []
    },
    {
      "cell_type": "markdown",
      "metadata": {
        "id": "XbJdCDsLeTU5"
      },
      "source": [
        "#Solution 2"
      ]
    },
    {
      "cell_type": "markdown",
      "metadata": {
        "id": "68-1wZZKeWD3"
      },
      "source": [
        "**Implemention of feedforward neural network which takes images from the fashion-mnist data as input and outputs a probability distribution over the 10 classes.**"
      ]
    },
    {
      "cell_type": "code",
      "metadata": {
        "id": "RAzN3hgedKex"
      },
      "source": [
        "#Reshape 2D Matrix into 1D Vector\n",
        "train_x = train_x.reshape(len(train_x), 28 ** 2)\n",
        "test_x = test_x.reshape(len(test_x), 28 ** 2)\n",
        "\n",
        "#Normalizing data\n",
        "train_x = train_x/255.0\n",
        "test_x = test_x/255.0\n",
        "\n",
        "#Splitting Data\n",
        "val_x = train_x[-6000:]\n",
        "train_x = train_x[:54000]\n",
        "val_y = train_y[-6000:]\n",
        "train_y = train_y[:54000]"
      ],
      "execution_count": 7,
      "outputs": []
    },
    {
      "cell_type": "code",
      "metadata": {
        "id": "8K7wkXKogM1r"
      },
      "source": [
        "#Activation function Def\n",
        "\n",
        "def relu(z):\n",
        "  temp = x * (x > 0)  #learnt from https://stackoverflow.com/questions/32109319/how-to-implement-the-relu-function-in-numpy\n",
        "  return temp\n",
        "\n",
        "def sigmoid(z):\n",
        "  return expit(z)\n",
        "\n",
        "def tanh(z):\n",
        "  numerator = np.exp(z)-np.exp(-z)\n",
        "  denominator = np.exp(z)+np.exp(-z)\n",
        "  return numerator/denominator"
      ],
      "execution_count": 8,
      "outputs": []
    },
    {
      "cell_type": "code",
      "metadata": {
        "id": "slM4o7XUaqPJ"
      },
      "source": [
        "#Output Function\n",
        "\n",
        "def softmax(z):\n",
        "  exps = np.exp(z)\n",
        "  sum_exps = np.sum(exps)\n",
        "  return exps / sum_exps\n",
        "\n",
        "def softmax_stb(z):\n",
        "  x=np.array(z,dtype=np.longdouble)\n",
        "  z = x - max(x)\n",
        "  exps = np.exp(z)\n",
        "  sum_exps = np.sum(exps)\n",
        "  return exps / sum_exps"
      ],
      "execution_count": 9,
      "outputs": []
    },
    {
      "cell_type": "code",
      "metadata": {
        "id": "PNT7w5DPmCKZ"
      },
      "source": [
        "#Activation function derivative Def\n",
        "\n",
        "def grad_tanh(x):\n",
        "  return 1-(tanh(x) ** 2)\n",
        "\n",
        "def grad_sigmoid(x):\n",
        "  sig_x = sigmoid(x)\n",
        "  return sig_x*(1-sig_x)\n",
        "\n",
        "def grad_relu(x):\n",
        "  temp = return 1. * (x > 0) #learnt from https://stackoverflow.com/questions/32109319/how-to-implement-the-relu-function-in-numpy\n",
        "  return temp"
      ],
      "execution_count": 10,
      "outputs": []
    },
    {
      "cell_type": "code",
      "metadata": {
        "id": "cmSvN8T-rpeV"
      },
      "source": [
        "#Type Initialization\n",
        "RANDOM = \"random\"\n",
        "XAVIER = \"xavier\"\n",
        "ZEROES = \"zeroes\"\n",
        "\n",
        "#Definitions\n",
        "\n",
        "def init_weights(type: str, layers):\n",
        "    W = list()\n",
        "    for i in range(len(layers)-1):\n",
        "      if type == RANDOM:\n",
        "          W.append(np.random.normal(size=(layers[i+1], layers[i])))\n",
        "      elif type == XAVIER:\n",
        "          W.append(np.random.normal(0, np.sqrt(1/layers[i+1]), size=(layers[i+1], layers[i])))\n",
        "      else:\n",
        "          W.append(np.zeros((layers[i+1], layers[i])))\n",
        "    return W\n",
        "\n",
        "def init_bias(type: str, layers):\n",
        "    B = list()\n",
        "    for i in range(len(layers)-1):\n",
        "      if type == RANDOM:\n",
        "        B.append(np.random.normal(size=(layers[i+1])))\n",
        "      else:\n",
        "        B.append(np.zeros(int(layers[i+1])))\n",
        "    return B"
      ],
      "execution_count": 11,
      "outputs": []
    },
    {
      "cell_type": "code",
      "metadata": {
        "id": "A0BzkJZnymmA"
      },
      "source": [
        "def init_params(type: str, layers):\n",
        "  return init_weights(type, layers), init_bias(type, layers)"
      ],
      "execution_count": 12,
      "outputs": []
    },
    {
      "cell_type": "code",
      "metadata": {
        "id": "IiuYaeKqy7IT"
      },
      "source": [
        "#Type Initialization\n",
        "SIGMOID = \"sigmoid\"\n",
        "TAN_H = \"tanh\"\n",
        "RELU = \"relu\"\n",
        "\n",
        "#Definitions\n",
        "\n",
        "def grad(activation: str, pre_act_vector):\n",
        "  #increase precision\n",
        "  pre_act_vector = np.array(pre_act_vector,dtype=np.longdouble)\n",
        "  if activation == TAN_H:\n",
        "    return grad_tanh(pre_act_vector)\n",
        "  elif activation == SIGMOID:\n",
        "    return grad_sigmoid(pre_act_vector)\n",
        "  elif activation == RELU:\n",
        "    return grad_relu(pre_act_vector)\n",
        "  return None\n",
        "\n",
        "def activate(activation: str, pre_act_vector):\n",
        "  #increase precision\n",
        "  pre_act_vector = np.array(pre_act_vector,dtype=np.longdouble)\n",
        "  if activation == TAN_H:\n",
        "    return tanh(pre_act_vector)\n",
        "  elif activation == SIGMOID:\n",
        "    return sigmoid(pre_act_vector)\n",
        "  elif activation == RELU:\n",
        "    return relu(pre_act_vector)\n",
        "  return None"
      ],
      "execution_count": 13,
      "outputs": []
    },
    {
      "cell_type": "markdown",
      "metadata": {
        "id": "1-rNlWZzij64"
      },
      "source": [
        "**Algorithm: Forward Propagation**"
      ]
    },
    {
      "cell_type": "code",
      "metadata": {
        "id": "qBAR1OTZ29Jg"
      },
      "source": [
        "#Forward Propagation\n",
        "\n",
        "def forward_propagation(activation, W, B, H_0):\n",
        "  L = len(B)\n",
        "  A = list()\n",
        "  H = [H_0]\n",
        "  for k in range(L-1):\n",
        "    t = np.matmul(W[k],  H[k])\n",
        "    if len(np.shape(t)) == 2:\n",
        "      t = t.flat\n",
        "    A.append(np.add(B[k], t))\n",
        "    H.append(activate(activation, A[k]))\n",
        "  kt = np.add(B[L-1], np.matmul(W[L-1],H[L-1]))\n",
        "  if len(np.shape(kt)) == 2:\n",
        "    kt = kt.flat\n",
        "  A.append(kt)\n",
        "  H.append(softmax_stb(A[L-1]))\n",
        "  return A, H"
      ],
      "execution_count": 14,
      "outputs": []
    },
    {
      "cell_type": "markdown",
      "metadata": {
        "id": "2_viY_pB81u5"
      },
      "source": [
        "Testing Forward Propagation\n",
        "\n"
      ]
    },
    {
      "cell_type": "code",
      "metadata": {
        "id": "47hG0oP9NlgL"
      },
      "source": [
        "# #Initialize the layer info - number of neurons per layer\n",
        "# layers = [len(train_x[0])] + [500] * 2 + [10]\n",
        "\n",
        "# #Initialize network the parameters\n",
        "# W, B = init_params(XAVIER, layers)\n",
        "\n",
        "# #Forward prop\n",
        "# A, H = forward_propagation(SIGMOID, W, B, train_x[0])"
      ],
      "execution_count": 50,
      "outputs": []
    },
    {
      "cell_type": "markdown",
      "metadata": {
        "id": "tenfD3RJ9aMV"
      },
      "source": [
        "#Solution 3"
      ]
    },
    {
      "cell_type": "markdown",
      "metadata": {
        "id": "dTzOsaFp9dRj"
      },
      "source": [
        "Implementation of backpropagation algorithm with support for the following optimisation functions:\n",
        "\n",
        "- sgd\n",
        "- momentum based gradient descent\n",
        "- nesterov accelerated gradient descent\n",
        "- rmsprop\n",
        "- adam\n",
        "- nadam"
      ]
    },
    {
      "cell_type": "markdown",
      "metadata": {
        "id": "DPr40I0GixNG"
      },
      "source": [
        "**Algorithm: Back Propagation**"
      ]
    },
    {
      "cell_type": "code",
      "metadata": {
        "id": "65fxDNPd-cly"
      },
      "source": [
        "#Back Propagation\n",
        "\n",
        "def back_propogation(activation, label, H, A, W):\n",
        "  L = len(H) - 1\n",
        "  grad_W = [None] * L\n",
        "  grad_B = [None] * L\n",
        "  grad_H = [None] * L\n",
        "  grad_A = [None] * L\n",
        "  one_hot_y = np.zeros(len(H[L]))\n",
        "  one_hot_y[label] = 1\n",
        "  grad_A[L-1] = -(one_hot_y - H[L])\n",
        "  for k in range(L-1, -1, -1):\n",
        "      grad_W[k] = np.matmul(np.mat(grad_A[k]).T,np.mat(H[k]))\n",
        "      grad_B[k] = grad_A[k]\n",
        "      if k > 0:\n",
        "        grad_H[k-1] = np.matmul(W[k].T, grad_A[k])\n",
        "        grad_A[k-1] = np.multiply(grad_H[k-1],grad(activation,A[k-1]))\n",
        "        if len(np.shape(grad_A[k-1])) == 2:\n",
        "          grad_A[k-1] = grad_A[k-1].flat\n",
        "  return grad_B, grad_W"
      ],
      "execution_count": 15,
      "outputs": []
    },
    {
      "cell_type": "code",
      "metadata": {
        "id": "BCu5Hor1t9Oa"
      },
      "source": [
        "# #Back prop\n",
        "# dB, dw = back_propogation(SIGMOID, 1, H, A, W)"
      ],
      "execution_count": null,
      "outputs": []
    },
    {
      "cell_type": "markdown",
      "metadata": {
        "id": "INlYm-ZgAyct"
      },
      "source": [
        "**Algorithm: Stochastic Gradient Descent(SGD)**"
      ]
    },
    {
      "cell_type": "code",
      "metadata": {
        "id": "M9cIFJdi-1PX"
      },
      "source": [
        "#SGD\n",
        "\n",
        "def stochastic_gradient_descent(activation, eta, epochs, init_type, layers, train_data, train_labels, batch_size = 1):\n",
        "    W, B = init_params(init_type, layers)\n",
        "    num_images_seen = 0\n",
        "    for epoch in range(epochs):\n",
        "      for i in range(len(train_data)):\n",
        "        #Forward prop\n",
        "        A, H = forward_propagation(activation, W, B, train_data[i])\n",
        "        #Back prop\n",
        "        dB, dW = back_propogation(activation, train_labels[i], H, A, W)\n",
        "        num_images_seen += 1\n",
        "        if num_images_seen % batch_size == 0:\n",
        "          #Parameter Update\n",
        "          for offset in range(len(W)):\n",
        "            W[offset] = np.subtract(W[offset], np.multiply(eta, dW[offset]))\n",
        "            B[offset] = np.subtract(B[offset], np.multiply(eta, dB[offset]))       \n",
        "    return W, B"
      ],
      "execution_count": 16,
      "outputs": []
    },
    {
      "cell_type": "code",
      "metadata": {
        "id": "zSCpgJVwF6Y7"
      },
      "source": [
        "# #SGD exec\n",
        "\n",
        "# eta = 0.001\n",
        "# layers = [len(train_x[0])] + [16] * 1 + [10]\n",
        "# epochs = 1\n",
        "# W, B = stochastic_gradient_descent(SIGMOID, eta, epochs, XAVIER, layers, train_x, train_y, 16)"
      ],
      "execution_count": null,
      "outputs": []
    },
    {
      "cell_type": "markdown",
      "metadata": {
        "id": "NrqBqJN6q9le"
      },
      "source": [
        "**Algorithm: Momentum based gradient descent**"
      ]
    },
    {
      "cell_type": "code",
      "metadata": {
        "id": "ZGOWOvpgGDKK"
      },
      "source": [
        "#Momentum based Gradient Descent\n",
        "\n",
        "def momentum_based_gradient_descent(activation, eta, epochs, init_type, layers, train_data, train_labels, batch_size = 1, gamma = 0.9):\n",
        "    W, B = init_params(init_type, layers)\n",
        "    num_images_seen = 0\n",
        "    update_W, update_B = init_params(ZEROES, layers)\n",
        "    for epoch in range(epochs):\n",
        "      for i in range(len(train_data)):\n",
        "        #Forward prop\n",
        "        A, H = forward_propagation(activation, W, B, train_data[i])\n",
        "        #Back prop\n",
        "        dB, dW = back_propogation(activation, train_labels[i], H, A, W)\n",
        "        #Calculate momentum\n",
        "        for offset in range(len(dW)):\n",
        "          update_W[offset] = np.add(np.multiply(gamma, update_W[offset]), np.multiply(eta, dW[offset]))\n",
        "          update_B[offset] = np.add(np.multiply(gamma, update_B[offset]), np.multiply(eta, dB[offset]))\n",
        "        #Counter for mini-batch update \n",
        "        num_images_seen += 1\n",
        "        if num_images_seen % batch_size == 0:\n",
        "          #Parameter Update\n",
        "          for offset in range(len(W)):\n",
        "            W[offset] = np.subtract(W[offset], update_W[offset])\n",
        "            B[offset] = np.subtract(B[offset], update_B[offset])       \n",
        "    return W, B"
      ],
      "execution_count": 17,
      "outputs": []
    },
    {
      "cell_type": "code",
      "metadata": {
        "id": "_KiQKDQXyMo9"
      },
      "source": [
        "# #Momentum based GD exec\n",
        "\n",
        "# eta = 0.001\n",
        "# layers = [len(train_x[0])] + [16] * 1 + [10]\n",
        "# epochs = 1\n",
        "# batch_size = 16\n",
        "# W, B = momentum_based_gradient_descent(SIGMOID, eta, epochs, XAVIER, layers, train_x, train_y, batch_size)"
      ],
      "execution_count": 18,
      "outputs": []
    },
    {
      "cell_type": "markdown",
      "metadata": {
        "id": "5anVl3tS0JF_"
      },
      "source": [
        "**Algorithm: Nesterov Accelerated Gradient Descent**"
      ]
    },
    {
      "cell_type": "code",
      "metadata": {
        "id": "sCIAqxnA0IaZ"
      },
      "source": [
        "#NAG definition\n",
        "\n",
        "def nesterov_accelerated_gradient_descent(activation, eta, epochs, init_type, layers, train_data, train_labels, batch_size = 1, gamma = 0.9):\n",
        "    W, B = init_params(init_type, layers)\n",
        "    num_images_seen = 0\n",
        "    update_W, update_B = init_params(ZEROES, layers)\n",
        "    lookahead_W, lookahead_B = init_params(ZEROES, layers)\n",
        "    for epoch in range(epochs):\n",
        "      for i in range(len(train_data)):\n",
        "        #Partial Update\n",
        "        for offset in range(len(W)):\n",
        "          lookahead_W[offset] = np.subtract(W[offset], np.multiply(gamma, update_W[offset]))\n",
        "          lookahead_B[offset] = np.subtract(B[offset], np.multiply(gamma, update_B[offset]))\n",
        "        #Forward prop\n",
        "        A, H = forward_propagation(activation, lookahead_W, lookahead_B, train_data[i])\n",
        "        #Back prop\n",
        "        dB, dW = back_propogation(activation, train_labels[i], H, A, lookahead_W)\n",
        "        #Calculate momentum\n",
        "        for offset in range(len(dW)):\n",
        "          update_W[offset] = np.add(np.multiply(gamma, update_W[offset]), np.multiply(eta, dW[offset]))\n",
        "          update_B[offset] = np.add(np.multiply(gamma, update_B[offset]), np.multiply(eta, dB[offset]))\n",
        "        #Counter for mini-batch update \n",
        "        num_images_seen += 1\n",
        "        if num_images_seen % batch_size == 0:\n",
        "          #Parameter Update\n",
        "          for offset in range(len(W)):\n",
        "            W[offset] = np.subtract(W[offset], update_W[offset])\n",
        "            B[offset] = np.subtract(B[offset], update_B[offset])    \n",
        "    return W, B"
      ],
      "execution_count": 19,
      "outputs": []
    },
    {
      "cell_type": "code",
      "metadata": {
        "id": "r9t6E05-68nb"
      },
      "source": [
        "# #NAG exec\n",
        "\n",
        "# eta = 0.001\n",
        "# layers = [len(train_x[0])] + [16] * 1 + [10]\n",
        "# epochs = 1\n",
        "# batch_size = 16\n",
        "# W, B = nesterov_accelerated_gradient_descent(SIGMOID, eta, epochs, XAVIER, layers, train_x, train_y, batch_size)"
      ],
      "execution_count": 20,
      "outputs": []
    },
    {
      "cell_type": "markdown",
      "metadata": {
        "id": "WbvDiIze7nqJ"
      },
      "source": [
        "**Algorithm: RMSProp**"
      ]
    },
    {
      "cell_type": "code",
      "metadata": {
        "id": "L4gO36fq7gNT"
      },
      "source": [
        "#RMSProp definition\n",
        "\n",
        "def rms_prop(activation, eta, epochs, init_type, layers, train_data, train_labels, batch_size = 1, beta = 0.9, epsilon = 1e-10):\n",
        "    W, B = init_params(init_type, layers)\n",
        "    num_images_seen = 0\n",
        "    v_W, v_B = init_params(ZEROES, layers)\n",
        "    for epoch in range(epochs):\n",
        "      for i in range(len(train_data)):\n",
        "        #Forward prop\n",
        "        A, H = forward_propagation(activation, W, B, train_data[i])\n",
        "        #Back prop\n",
        "        dB, dW = back_propogation(activation, train_labels[i], H, A, W)\n",
        "        #Accumulate Updates\n",
        "        for offset in range(len(dW)):\n",
        "          v_W[offset] = v_W[offset] + dW[offset] #np.add()\n",
        "          v_B[offset] = v_B[offset] + dB[offset] #np.add()\n",
        "        #Counter for mini-batch update \n",
        "        num_images_seen += 1\n",
        "        if num_images_seen % batch_size == 0:\n",
        "          #calculate v\n",
        "          v_W = [beta*v_tW + np.multiply((1-beta), (np.power(grad_W, 2))) for v_tW, grad_W in zip(v_W, dW)]\n",
        "          v_B = [beta*v_tB + np.multiply((1-beta), (np.power(grad_B, 2))) for v_tB, grad_B in zip(v_B, dB)]\n",
        "          # #Parameter Update\n",
        "          v_W = [np.add(epsilon, el) for el in v_W]\n",
        "          v_B = [np.add(epsilon, el) for el in v_B]\n",
        "          for mat in v_W:\n",
        "            for vect in mat:\n",
        "              vect[vect < 0.] = 1e-40\n",
        "          for vect in v_B:\n",
        "            vect[vect < 0.] = 1e-40\n",
        "          v_W = [eta/np.sqrt(el) for el in v_W]\n",
        "          v_B = [eta/np.sqrt(el) for el in v_B]\n",
        "          W = np.subtract(W, v_W)\n",
        "          B = np.subtract(B, v_B)\n",
        "          v_W, v_B = init_params(ZEROES, layers)      \n",
        "    return W, B"
      ],
      "execution_count": 21,
      "outputs": []
    },
    {
      "cell_type": "code",
      "metadata": {
        "id": "r2NjeIGrAuvB"
      },
      "source": [
        "# #RMSProp exec\n",
        "\n",
        "# eta = 0.001\n",
        "# layers = [len(train_x[0])] + [8] * 1 + [10]\n",
        "# epochs = 1\n",
        "# batch_size = 16\n",
        "# W, B = rms_prop(SIGMOID, eta, epochs, XAVIER, layers, val_x, val_y, batch_size)"
      ],
      "execution_count": null,
      "outputs": []
    },
    {
      "cell_type": "markdown",
      "metadata": {
        "id": "-wQGecnQiCX5"
      },
      "source": [
        "#Solution 4"
      ]
    },
    {
      "cell_type": "markdown",
      "metadata": {
        "id": "ru-fEpk-iEuY"
      },
      "source": [
        "Using the sweep functionality provided by wandb to find the best values for the hyperparameters listed below. We will use the standard train/test split of fashion_mnist (use (X_train, y_train), (X_test, y_test) = fashion_mnist.load_data()).  Keeping 10% of the training data aside as validation data for this hyperparameter search.\n",
        "\n",
        "- number of epochs: 2, 5, 10\n",
        "- number of hidden layers:  3, 5, 7\n",
        "- size of every hidden layer:  16, 32, 64, 128\n",
        "- learning rate: 1e-3, 1e-4 \n",
        "- optimizer:  sgd, momentum, nesterov, rmsprop\n",
        "- batch size: 16, 32, 64, 128\n",
        "- weight initialisation: random, Xavier\n",
        "- activation functions: sigmoid, tanh, ReLU\n"
      ]
    },
    {
      "cell_type": "code",
      "metadata": {
        "id": "PgCI6TPUeleA"
      },
      "source": [
        "SGD = 'sgd'\n",
        "MOMENTUM = 'momentum'\n",
        "NAG = 'nesterov'\n",
        "RMSPROP = 'rmsprop'\n",
        "\n",
        "sweep_config = {\n",
        "    'method': 'random',\n",
        "    'metric': {\n",
        "      'name': 'accuracy',\n",
        "      'goal': 'maximize'   \n",
        "    },\n",
        "    'parameters': {\n",
        "        'epochs': {\n",
        "            'values': [2, 5]\n",
        "        },\n",
        "        'layers':{\n",
        "            'values': [3, 5, 7]\n",
        "        },\n",
        "        'each_hidden_layer_size' :{\n",
        "            'values': [16, 32, 64, 128]\n",
        "        },\n",
        "        'learning_rate':{\n",
        "            'values': [0.001,0.0001]\n",
        "        },\n",
        "        'learning_algo':{\n",
        "            'values': [SGD, MOMENTUM, NAG, RMSPROP]\n",
        "        },\n",
        "        'batch_size': {\n",
        "            'values': [16,32,64,128]\n",
        "        },\n",
        "        'init_weights_n_bias':{\n",
        "            'values': [RANDOM, XAVIER]\n",
        "        },\n",
        "        'activation':{\n",
        "            'values': [SIGMOID, TAN_H, RELU]\n",
        "        }\n",
        "    }\n",
        "}"
      ],
      "execution_count": 22,
      "outputs": []
    },
    {
      "cell_type": "code",
      "metadata": {
        "id": "pVkUoUUmSVgy"
      },
      "source": [
        "#Default params\n",
        "\n",
        "default = {\n",
        "        'epochs':3,\n",
        "        'layers':4,\n",
        "        'each_hidden_layer_size':128,\n",
        "        'learning_rate':0.0001,\n",
        "        'learning_rate':0.001,\n",
        "        'learning_algo':NAG,\n",
        "        'batch_size':16,\n",
        "        'init_weights_n_bias':XAVIER,\n",
        "        'activation':RANDOM\n",
        "    }"
      ],
      "execution_count": 23,
      "outputs": []
    },
    {
      "cell_type": "code",
      "metadata": {
        "id": "FDxjXZzAj-XE"
      },
      "source": [
        "# Hyperparameters search\n",
        "\n",
        "def train_n_test():\n",
        "    \n",
        "    # wandb.init(config=config_defaults)\n",
        "\n",
        "    # config = wandb.config\n",
        "    config = default\n",
        "\n",
        "    #Initialize values\n",
        "\n",
        "    epochs = config[\"epochs\"]\n",
        "\n",
        "    layers = [len(train_x[0])] + [config['each_hidden_layer_size']] * (config['layers'] - 1) + [10]\n",
        "\n",
        "    eta = config['learning_rate']\n",
        "\n",
        "    learning_algo = config['learning_algo']\n",
        "\n",
        "    batch_size = config['batch_size']\n",
        "\n",
        "    init_weights_n_bias = config['init_weights_n_bias']\n",
        "\n",
        "    activation = config['activation']\n",
        "\n",
        "    W, B = init_params(init_weights_n_bias, layers)\n",
        "\n",
        "    if learning_algo == SGD:\n",
        "        W, B = stochastic_gradient_descent(activation, eta, epochs, init_weights_n_bias, layers, train_x, train_y, batch_size)\n",
        "\n",
        "    elif learning_algo == MOMENTUM:\n",
        "        W, B = momentum_based_gradient_descent(activation, eta, epochs, init_weights_n_bias, layers, train_x, train_y, batch_size)\n",
        "\n",
        "    elif learning_algo == NAG:\n",
        "        W, B = nesterov_accelerated_gradient_descent(activation, eta, epochs, init_weights_n_bias, layers, train_x, train_y, batch_size)\n",
        "\n",
        "    else:\n",
        "        W, B = rms_prop(activation, eta, epochs, init_weights_n_bias, layers, val_x, val_y, batch_size)    \n",
        "\n",
        "    data_set = [(val_x, val_y), (test_x, test_y)]\n",
        "\n",
        "    for data_x, data_y in data_set:\n",
        "        #initialize counters\n",
        "        count=0\n",
        "        err = 0.0\n",
        "        prediction_list = list()\n",
        "\n",
        "        #Calculate details\n",
        "        for i in range(len(data_x)):\n",
        "            #Forward prop\n",
        "            A, H = forward_propagation(activation, W, B, data_x[i])\n",
        "            y_hat = H[len(H)-1]\n",
        "\n",
        "            prediction = np.argmax(y_hat)\n",
        "            prediction_list.append(prediction)\n",
        "\n",
        "            if prediction == data_y[i]:\n",
        "                count += 1\n",
        "\n",
        "            actual = y_hat[data_y[i]]\n",
        "            if not actual:\n",
        "                err += -np.log(actual)\n",
        "        \n",
        "        accuracy = count/(1+i)\n",
        "        print('Accuracy:', accuracy)\n",
        "\n",
        "        error = err/(1+i)\n",
        "        print('Error:', error)"
      ],
      "execution_count": 24,
      "outputs": []
    },
    {
      "cell_type": "code",
      "metadata": {
        "id": "iYoAUwn6RPJG"
      },
      "source": [
        "train_n_test()"
      ],
      "execution_count": null,
      "outputs": []
    }
  ]
}